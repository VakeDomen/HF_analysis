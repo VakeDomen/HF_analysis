{
 "cells": [
  {
   "cell_type": "code",
   "execution_count": 1,
   "metadata": {},
   "outputs": [],
   "source": [
    "import json"
   ]
  },
  {
   "cell_type": "code",
   "execution_count": 2,
   "metadata": {},
   "outputs": [],
   "source": [
    "model_data_handle = open(\"data/models2.json\")\n",
    "model_data = json.load(model_data_handle)"
   ]
  },
  {
   "cell_type": "code",
   "execution_count": 3,
   "metadata": {},
   "outputs": [
    {
     "name": "stderr",
     "output_type": "stream",
     "text": [
      "/home/vake/.local/lib/python3.10/site-packages/tqdm/auto.py:21: TqdmWarning: IProgress not found. Please update jupyter and ipywidgets. See https://ipywidgets.readthedocs.io/en/stable/user_install.html\n",
      "  from .autonotebook import tqdm as notebook_tqdm\n"
     ]
    }
   ],
   "source": [
    "from huggingface_hub import HfApi\n",
    "api = HfApi()   \n"
   ]
  },
  {
   "cell_type": "code",
   "execution_count": 4,
   "metadata": {},
   "outputs": [],
   "source": [
    "repo = api.repo_info(model_data[0][-1])"
   ]
  },
  {
   "cell_type": "code",
   "execution_count": 5,
   "metadata": {},
   "outputs": [
    {
     "name": "stdout",
     "output_type": "stream",
     "text": [
      "ModelInfo(id='davidkim205/Rhea-72b-v0.5',\n",
      "          author='davidkim205',\n",
      "          sha='bc3806efb23d2713e6630a748d9747fd76b27169',\n",
      "          created_at=datetime.datetime(2024, 3, 22, 14, 8, 40, tzinfo=datetime.timezone.utc),\n",
      "          last_modified=datetime.datetime(2024, 4, 8, 5, 23, 20, tzinfo=datetime.timezone.utc),\n",
      "          private=False,\n",
      "          gated=False,\n",
      "          disabled=False,\n",
      "          downloads=2820,\n",
      "          likes=48,\n",
      "          library_name='transformers',\n",
      "          tags=['transformers',\n",
      "                'safetensors',\n",
      "                'llama',\n",
      "                'text-generation',\n",
      "                'en',\n",
      "                'license:apache-2.0',\n",
      "                'model-index',\n",
      "                'autotrain_compatible',\n",
      "                'endpoints_compatible',\n",
      "                'has_space',\n",
      "                'text-generation-inference',\n",
      "                'region:us'],\n",
      "          pipeline_tag='text-generation',\n",
      "          mask_token=None,\n",
      "          card_data={'language': ['en'], 'license': 'apache-2.0', 'library_name': 'transformers', 'tags': None, 'base_model': None, 'datasets': None, 'metrics': None, 'eval_results': [EvalResult(task_type='text-generation', dataset_type='ai2_arc', dataset_name='AI2 Reasoning Challenge (25-Shot)', metric_type='acc_norm', metric_value=79.78, task_name='Text Generation', dataset_config='ARC-Challenge', dataset_split='test', dataset_revision=None, dataset_args={'num_few_shot': 25}, metric_name='normalized accuracy', metric_config=None, metric_args=None, verified=False, verify_token=None, source_name='Open LLM Leaderboard', source_url='https://huggingface.co/spaces/HuggingFaceH4/open_llm_leaderboard?query=davidkim205/Rhea-72b-v0.5'), EvalResult(task_type='text-generation', dataset_type='hellaswag', dataset_name='HellaSwag (10-Shot)', metric_type='acc_norm', metric_value=91.15, task_name='Text Generation', dataset_config=None, dataset_split='validation', dataset_revision=None, dataset_args={'num_few_shot': 10}, metric_name='normalized accuracy', metric_config=None, metric_args=None, verified=False, verify_token=None, source_name='Open LLM Leaderboard', source_url='https://huggingface.co/spaces/HuggingFaceH4/open_llm_leaderboard?query=davidkim205/Rhea-72b-v0.5'), EvalResult(task_type='text-generation', dataset_type='cais/mmlu', dataset_name='MMLU (5-Shot)', metric_type='acc', metric_value=77.95, task_name='Text Generation', dataset_config='all', dataset_split='test', dataset_revision=None, dataset_args={'num_few_shot': 5}, metric_name='accuracy', metric_config=None, metric_args=None, verified=False, verify_token=None, source_name='Open LLM Leaderboard', source_url='https://huggingface.co/spaces/HuggingFaceH4/open_llm_leaderboard?query=davidkim205/Rhea-72b-v0.5'), EvalResult(task_type='text-generation', dataset_type='truthful_qa', dataset_name='TruthfulQA (0-shot)', metric_type='mc2', metric_value=74.5, task_name='Text Generation', dataset_config='multiple_choice', dataset_split='validation', dataset_revision=None, dataset_args={'num_few_shot': 0}, metric_name=None, metric_config=None, metric_args=None, verified=False, verify_token=None, source_name='Open LLM Leaderboard', source_url='https://huggingface.co/spaces/HuggingFaceH4/open_llm_leaderboard?query=davidkim205/Rhea-72b-v0.5'), EvalResult(task_type='text-generation', dataset_type='winogrande', dataset_name='Winogrande (5-shot)', metric_type='acc', metric_value=87.85, task_name='Text Generation', dataset_config='winogrande_xl', dataset_split='validation', dataset_revision=None, dataset_args={'num_few_shot': 5}, metric_name='accuracy', metric_config=None, metric_args=None, verified=False, verify_token=None, source_name='Open LLM Leaderboard', source_url='https://huggingface.co/spaces/HuggingFaceH4/open_llm_leaderboard?query=davidkim205/Rhea-72b-v0.5'), EvalResult(task_type='text-generation', dataset_type='gsm8k', dataset_name='GSM8k (5-shot)', metric_type='acc', metric_value=76.12, task_name='Text Generation', dataset_config='main', dataset_split='test', dataset_revision=None, dataset_args={'num_few_shot': 5}, metric_name='accuracy', metric_config=None, metric_args=None, verified=False, verify_token=None, source_name='Open LLM Leaderboard', source_url='https://huggingface.co/spaces/HuggingFaceH4/open_llm_leaderboard?query=davidkim205/Rhea-72b-v0.5')], 'model_name': 'Rhea-72b-v0.5'},\n",
      "          widget_data=[{'text': 'My name is Julien and I like to'},\n",
      "                       {'text': 'My name is Thomas and my main'},\n",
      "                       {'text': 'My name is Mariama, my favorite'},\n",
      "                       {'text': 'My name is Clara and I am'},\n",
      "                       {'text': 'My name is Lewis and I like to'},\n",
      "                       {'text': 'My name is Merve and my favorite'},\n",
      "                       {'text': 'My name is Teven and I am'},\n",
      "                       {'text': 'Once upon a time,'}],\n",
      "          model_index=[{'name': 'Rhea-72b-v0.5',\n",
      "                        'results': [{'task': {'type': 'text-generation',\n",
      "                                              'name': 'Text Generation'},\n",
      "                                     'dataset': {'name': 'AI2 Reasoning '\n",
      "                                                         'Challenge (25-Shot)',\n",
      "                                                 'type': 'ai2_arc',\n",
      "                                                 'config': 'ARC-Challenge',\n",
      "                                                 'split': 'test',\n",
      "                                                 'args': {'num_few_shot': 25}},\n",
      "                                     'metrics': [{'type': 'acc_norm',\n",
      "                                                  'value': 79.78,\n",
      "                                                  'name': 'normalized accuracy',\n",
      "                                                  'verified': False}],\n",
      "                                     'source': {'url': 'https://huggingface.co/spaces/HuggingFaceH4/open_llm_leaderboard?query=davidkim205/Rhea-72b-v0.5',\n",
      "                                                'name': 'Open LLM '\n",
      "                                                        'Leaderboard'}},\n",
      "                                    {'task': {'type': 'text-generation',\n",
      "                                              'name': 'Text Generation'},\n",
      "                                     'dataset': {'name': 'HellaSwag (10-Shot)',\n",
      "                                                 'type': 'hellaswag',\n",
      "                                                 'split': 'validation',\n",
      "                                                 'args': {'num_few_shot': 10}},\n",
      "                                     'metrics': [{'type': 'acc_norm',\n",
      "                                                  'value': 91.15,\n",
      "                                                  'name': 'normalized accuracy',\n",
      "                                                  'verified': False}],\n",
      "                                     'source': {'url': 'https://huggingface.co/spaces/HuggingFaceH4/open_llm_leaderboard?query=davidkim205/Rhea-72b-v0.5',\n",
      "                                                'name': 'Open LLM '\n",
      "                                                        'Leaderboard'}},\n",
      "                                    {'task': {'type': 'text-generation',\n",
      "                                              'name': 'Text Generation'},\n",
      "                                     'dataset': {'name': 'MMLU (5-Shot)',\n",
      "                                                 'type': 'cais/mmlu',\n",
      "                                                 'config': 'all',\n",
      "                                                 'split': 'test',\n",
      "                                                 'args': {'num_few_shot': 5}},\n",
      "                                     'metrics': [{'type': 'acc',\n",
      "                                                  'value': 77.95,\n",
      "                                                  'name': 'accuracy',\n",
      "                                                  'verified': False}],\n",
      "                                     'source': {'url': 'https://huggingface.co/spaces/HuggingFaceH4/open_llm_leaderboard?query=davidkim205/Rhea-72b-v0.5',\n",
      "                                                'name': 'Open LLM '\n",
      "                                                        'Leaderboard'}},\n",
      "                                    {'task': {'type': 'text-generation',\n",
      "                                              'name': 'Text Generation'},\n",
      "                                     'dataset': {'name': 'TruthfulQA (0-shot)',\n",
      "                                                 'type': 'truthful_qa',\n",
      "                                                 'config': 'multiple_choice',\n",
      "                                                 'split': 'validation',\n",
      "                                                 'args': {'num_few_shot': 0}},\n",
      "                                     'metrics': [{'type': 'mc2',\n",
      "                                                  'value': 74.5,\n",
      "                                                  'verified': False}],\n",
      "                                     'source': {'url': 'https://huggingface.co/spaces/HuggingFaceH4/open_llm_leaderboard?query=davidkim205/Rhea-72b-v0.5',\n",
      "                                                'name': 'Open LLM '\n",
      "                                                        'Leaderboard'}},\n",
      "                                    {'task': {'type': 'text-generation',\n",
      "                                              'name': 'Text Generation'},\n",
      "                                     'dataset': {'name': 'Winogrande (5-shot)',\n",
      "                                                 'type': 'winogrande',\n",
      "                                                 'config': 'winogrande_xl',\n",
      "                                                 'split': 'validation',\n",
      "                                                 'args': {'num_few_shot': 5}},\n",
      "                                     'metrics': [{'type': 'acc',\n",
      "                                                  'value': 87.85,\n",
      "                                                  'name': 'accuracy',\n",
      "                                                  'verified': False}],\n",
      "                                     'source': {'url': 'https://huggingface.co/spaces/HuggingFaceH4/open_llm_leaderboard?query=davidkim205/Rhea-72b-v0.5',\n",
      "                                                'name': 'Open LLM '\n",
      "                                                        'Leaderboard'}},\n",
      "                                    {'task': {'type': 'text-generation',\n",
      "                                              'name': 'Text Generation'},\n",
      "                                     'dataset': {'name': 'GSM8k (5-shot)',\n",
      "                                                 'type': 'gsm8k',\n",
      "                                                 'config': 'main',\n",
      "                                                 'split': 'test',\n",
      "                                                 'args': {'num_few_shot': 5}},\n",
      "                                     'metrics': [{'type': 'acc',\n",
      "                                                  'value': 76.12,\n",
      "                                                  'name': 'accuracy',\n",
      "                                                  'verified': False}],\n",
      "                                     'source': {'url': 'https://huggingface.co/spaces/HuggingFaceH4/open_llm_leaderboard?query=davidkim205/Rhea-72b-v0.5',\n",
      "                                                'name': 'Open LLM '\n",
      "                                                        'Leaderboard'}}]}],\n",
      "          config={'architectures': ['LlamaForCausalLM'],\n",
      "                  'model_type': 'llama',\n",
      "                  'tokenizer_config': {'bos_token': '<|endoftext|>',\n",
      "                                       'eos_token': '<|endoftext|>',\n",
      "                                       'unk_token': '<|endoftext|>'}},\n",
      "          transformers_info=TransformersInfo(auto_model='AutoModelForCausalLM',\n",
      "                                             custom_class=None,\n",
      "                                             pipeline_tag='text-generation',\n",
      "                                             processor='AutoTokenizer'),\n",
      "          siblings=[RepoSibling(rfilename='.gitattributes',\n",
      "                                size=None,\n",
      "                                blob_id=None,\n",
      "                                lfs=None),\n",
      "                    RepoSibling(rfilename='README.md',\n",
      "                                size=None,\n",
      "                                blob_id=None,\n",
      "                                lfs=None),\n",
      "                    RepoSibling(rfilename='config.json',\n",
      "                                size=None,\n",
      "                                blob_id=None,\n",
      "                                lfs=None),\n",
      "                    RepoSibling(rfilename='generation_config.json',\n",
      "                                size=None,\n",
      "                                blob_id=None,\n",
      "                                lfs=None),\n",
      "                    RepoSibling(rfilename='merges.txt',\n",
      "                                size=None,\n",
      "                                blob_id=None,\n",
      "                                lfs=None),\n",
      "                    RepoSibling(rfilename='model-00001-of-00030.safetensors',\n",
      "                                size=None,\n",
      "                                blob_id=None,\n",
      "                                lfs=None),\n",
      "                    RepoSibling(rfilename='model-00002-of-00030.safetensors',\n",
      "                                size=None,\n",
      "                                blob_id=None,\n",
      "                                lfs=None),\n",
      "                    RepoSibling(rfilename='model-00003-of-00030.safetensors',\n",
      "                                size=None,\n",
      "                                blob_id=None,\n",
      "                                lfs=None),\n",
      "                    RepoSibling(rfilename='model-00004-of-00030.safetensors',\n",
      "                                size=None,\n",
      "                                blob_id=None,\n",
      "                                lfs=None),\n",
      "                    RepoSibling(rfilename='model-00005-of-00030.safetensors',\n",
      "                                size=None,\n",
      "                                blob_id=None,\n",
      "                                lfs=None),\n",
      "                    RepoSibling(rfilename='model-00006-of-00030.safetensors',\n",
      "                                size=None,\n",
      "                                blob_id=None,\n",
      "                                lfs=None),\n",
      "                    RepoSibling(rfilename='model-00007-of-00030.safetensors',\n",
      "                                size=None,\n",
      "                                blob_id=None,\n",
      "                                lfs=None),\n",
      "                    RepoSibling(rfilename='model-00008-of-00030.safetensors',\n",
      "                                size=None,\n",
      "                                blob_id=None,\n",
      "                                lfs=None),\n",
      "                    RepoSibling(rfilename='model-00009-of-00030.safetensors',\n",
      "                                size=None,\n",
      "                                blob_id=None,\n",
      "                                lfs=None),\n",
      "                    RepoSibling(rfilename='model-00010-of-00030.safetensors',\n",
      "                                size=None,\n",
      "                                blob_id=None,\n",
      "                                lfs=None),\n",
      "                    RepoSibling(rfilename='model-00011-of-00030.safetensors',\n",
      "                                size=None,\n",
      "                                blob_id=None,\n",
      "                                lfs=None),\n",
      "                    RepoSibling(rfilename='model-00012-of-00030.safetensors',\n",
      "                                size=None,\n",
      "                                blob_id=None,\n",
      "                                lfs=None),\n",
      "                    RepoSibling(rfilename='model-00013-of-00030.safetensors',\n",
      "                                size=None,\n",
      "                                blob_id=None,\n",
      "                                lfs=None),\n",
      "                    RepoSibling(rfilename='model-00014-of-00030.safetensors',\n",
      "                                size=None,\n",
      "                                blob_id=None,\n",
      "                                lfs=None),\n",
      "                    RepoSibling(rfilename='model-00015-of-00030.safetensors',\n",
      "                                size=None,\n",
      "                                blob_id=None,\n",
      "                                lfs=None),\n",
      "                    RepoSibling(rfilename='model-00016-of-00030.safetensors',\n",
      "                                size=None,\n",
      "                                blob_id=None,\n",
      "                                lfs=None),\n",
      "                    RepoSibling(rfilename='model-00017-of-00030.safetensors',\n",
      "                                size=None,\n",
      "                                blob_id=None,\n",
      "                                lfs=None),\n",
      "                    RepoSibling(rfilename='model-00018-of-00030.safetensors',\n",
      "                                size=None,\n",
      "                                blob_id=None,\n",
      "                                lfs=None),\n",
      "                    RepoSibling(rfilename='model-00019-of-00030.safetensors',\n",
      "                                size=None,\n",
      "                                blob_id=None,\n",
      "                                lfs=None),\n",
      "                    RepoSibling(rfilename='model-00020-of-00030.safetensors',\n",
      "                                size=None,\n",
      "                                blob_id=None,\n",
      "                                lfs=None),\n",
      "                    RepoSibling(rfilename='model-00021-of-00030.safetensors',\n",
      "                                size=None,\n",
      "                                blob_id=None,\n",
      "                                lfs=None),\n",
      "                    RepoSibling(rfilename='model-00022-of-00030.safetensors',\n",
      "                                size=None,\n",
      "                                blob_id=None,\n",
      "                                lfs=None),\n",
      "                    RepoSibling(rfilename='model-00023-of-00030.safetensors',\n",
      "                                size=None,\n",
      "                                blob_id=None,\n",
      "                                lfs=None),\n",
      "                    RepoSibling(rfilename='model-00024-of-00030.safetensors',\n",
      "                                size=None,\n",
      "                                blob_id=None,\n",
      "                                lfs=None),\n",
      "                    RepoSibling(rfilename='model-00025-of-00030.safetensors',\n",
      "                                size=None,\n",
      "                                blob_id=None,\n",
      "                                lfs=None),\n",
      "                    RepoSibling(rfilename='model-00026-of-00030.safetensors',\n",
      "                                size=None,\n",
      "                                blob_id=None,\n",
      "                                lfs=None),\n",
      "                    RepoSibling(rfilename='model-00027-of-00030.safetensors',\n",
      "                                size=None,\n",
      "                                blob_id=None,\n",
      "                                lfs=None),\n",
      "                    RepoSibling(rfilename='model-00028-of-00030.safetensors',\n",
      "                                size=None,\n",
      "                                blob_id=None,\n",
      "                                lfs=None),\n",
      "                    RepoSibling(rfilename='model-00029-of-00030.safetensors',\n",
      "                                size=None,\n",
      "                                blob_id=None,\n",
      "                                lfs=None),\n",
      "                    RepoSibling(rfilename='model-00030-of-00030.safetensors',\n",
      "                                size=None,\n",
      "                                blob_id=None,\n",
      "                                lfs=None),\n",
      "                    RepoSibling(rfilename='model.safetensors.index.json',\n",
      "                                size=None,\n",
      "                                blob_id=None,\n",
      "                                lfs=None),\n",
      "                    RepoSibling(rfilename='special_tokens_map.json',\n",
      "                                size=None,\n",
      "                                blob_id=None,\n",
      "                                lfs=None),\n",
      "                    RepoSibling(rfilename='tokenizer.json',\n",
      "                                size=None,\n",
      "                                blob_id=None,\n",
      "                                lfs=None),\n",
      "                    RepoSibling(rfilename='tokenizer_config.json',\n",
      "                                size=None,\n",
      "                                blob_id=None,\n",
      "                                lfs=None),\n",
      "                    RepoSibling(rfilename='vocab.json',\n",
      "                                size=None,\n",
      "                                blob_id=None,\n",
      "                                lfs=None)],\n",
      "          spaces=['bekirmfr/Rhea'],\n",
      "          safetensors=SafeTensorsInfo(parameters={'BF16': 72288575488},\n",
      "                                      total=72288575488))\n"
     ]
    }
   ],
   "source": [
    "import pprint\n",
    "pprint.pp(repo)"
   ]
  },
  {
   "cell_type": "markdown",
   "metadata": {},
   "source": [
    " - author\n",
    " - created_at\n",
    " - last_modified\n",
    " - downloads\n",
    " - library_name\n",
    " - tags\n",
    " - card_data.language\n",
    " - card_data.datasets\n",
    " - card_data.base_model"
   ]
  },
  {
   "cell_type": "code",
   "execution_count": 7,
   "metadata": {},
   "outputs": [
    {
     "data": {
      "text/plain": [
       "5907"
      ]
     },
     "execution_count": 7,
     "metadata": {},
     "output_type": "execute_result"
    }
   ],
   "source": [
    "import pandas as pd\n",
    "from tqdm import tqdm\n",
    "import time"
   ]
  },
  {
   "cell_type": "code",
   "execution_count": 17,
   "metadata": {},
   "outputs": [
    {
     "name": "stderr",
     "output_type": "stream",
     "text": [
      "4it [00:00,  4.94it/s]"
     ]
    },
    {
     "name": "stdout",
     "output_type": "stream",
     "text": [
      "Failed to fetch: ['🔶', '<a target=\"_blank\" href=\"https://huggingface.co/davidkim205/Rhea-72b-v0.4\" style=\"color: var(--link-text-color); text-decoration: underline;text-decoration-style: dotted;\">davidkim205/Rhea-72b-v0.4</a>  <a target=\"_blank\" href=\"https://huggingface.co/datasets/open-llm-leaderboard/details_davidkim205__Rhea-72b-v0.4\" style=\"color: var(--link-text-color); text-decoration: underline;text-decoration-style: dotted;\">📑</a>', 81.09, 78.5, 90.75, 78.01, 73.91, 86.74, 78.62, 'fine-tuned on domain-specific datasets', 'LlamaForCausalLM', 'Original', 'float16', False, 'apache-2.0', 72.29, 0, False, '5502123c46485914a580d6794eeb5fb3554b46aa', False, False, 'davidkim205/Rhea-72b-v0.4']\n"
     ]
    },
    {
     "name": "stderr",
     "output_type": "stream",
     "text": [
      "8it [00:02,  3.14it/s]"
     ]
    },
    {
     "name": "stdout",
     "output_type": "stream",
     "text": [
      "Failed to fetch: ['🔶', '<a target=\"_blank\" href=\"https://huggingface.co/davidkim205/Rhea-72b-v0.2\" style=\"color: var(--link-text-color); text-decoration: underline;text-decoration-style: dotted;\">davidkim205/Rhea-72b-v0.2</a>  <a target=\"_blank\" href=\"https://huggingface.co/datasets/open-llm-leaderboard/details_davidkim205__Rhea-72b-v0.2\" style=\"color: var(--link-text-color); text-decoration: underline;text-decoration-style: dotted;\">📑</a>', 80.95, 77.56, 90.84, 77.98, 74.5, 86.35, 78.47, 'fine-tuned on domain-specific datasets', 'LlamaForCausalLM', 'Original', 'float16', False, 'apache-2.0', 72.29, 0, False, 'c51bcf1a3dc3c5e512e805f52d5e15384d798ba7', False, False, 'davidkim205/Rhea-72b-v0.2']\n"
     ]
    },
    {
     "name": "stderr",
     "output_type": "stream",
     "text": [
      "10it [00:02,  3.19it/s]"
     ]
    },
    {
     "name": "stdout",
     "output_type": "stream",
     "text": [
      "Failed to fetch: ['🔶', '<a target=\"_blank\" href=\"https://huggingface.co/davidkim205/Rhea-72b-v0.3\" style=\"color: var(--link-text-color); text-decoration: underline;text-decoration-style: dotted;\">davidkim205/Rhea-72b-v0.3</a>  <a target=\"_blank\" href=\"https://huggingface.co/datasets/open-llm-leaderboard/details_davidkim205__Rhea-72b-v0.3\" style=\"color: var(--link-text-color); text-decoration: underline;text-decoration-style: dotted;\">📑</a>', 80.85, 76.79, 89.98, 77.47, 75.93, 85.08, 79.83, 'fine-tuned on domain-specific datasets', 'LlamaForCausalLM', 'Original', 'float16', False, 'apache-2.0', 72.29, 0, False, '7db39c93177958d94ebc3b719f8bfc75826b345e', False, False, 'davidkim205/Rhea-72b-v0.3']\n"
     ]
    },
    {
     "name": "stderr",
     "output_type": "stream",
     "text": [
      "19it [00:05,  4.10it/s]"
     ]
    },
    {
     "name": "stdout",
     "output_type": "stream",
     "text": [
      "Failed to fetch: ['🔶', '<a target=\"_blank\" href=\"https://huggingface.co/HanNayeoniee/LHK_DPO_v1\" style=\"color: var(--link-text-color); text-decoration: underline;text-decoration-style: dotted;\">HanNayeoniee/LHK_DPO_v1</a>  <a target=\"_blank\" href=\"https://huggingface.co/datasets/open-llm-leaderboard/details_HanNayeoniee__LHK_DPO_v1\" style=\"color: var(--link-text-color); text-decoration: underline;text-decoration-style: dotted;\">📑</a>', 77.62, 74.74, 89.3, 64.9, 79.89, 88.32, 68.54, 'fine-tuned on domain-specific datasets', 'MixtralForCausalLM', 'Original', 'bfloat16', False, 'mit', 12.88, 0, False, '4e2c0a8fb1a1654312a573e85fec79832bfa489c', False, False, 'HanNayeoniee/LHK_DPO_v1']\n"
     ]
    },
    {
     "name": "stderr",
     "output_type": "stream",
     "text": [
      "21it [00:05,  4.26it/s]"
     ]
    },
    {
     "name": "stdout",
     "output_type": "stream",
     "text": [
      "Failed to fetch: ['🔶', '<a target=\"_blank\" href=\"https://huggingface.co/saltlux/luxia-21.4b-alignment-v0.2\" style=\"color: var(--link-text-color); text-decoration: underline;text-decoration-style: dotted;\">saltlux/luxia-21.4b-alignment-v0.2</a>  <a target=\"_blank\" href=\"https://huggingface.co/datasets/open-llm-leaderboard/details_saltlux__luxia-21.4b-alignment-v0.2\" style=\"color: var(--link-text-color); text-decoration: underline;text-decoration-style: dotted;\">📑</a>', 77.51, 76.71, 91.61, 68.27, 79.8, 87.06, 61.64, 'fine-tuned on domain-specific datasets', 'LlamaForCausalLM', 'Original', 'bfloat16', False, 'apache-2.0', 21.42, 0, False, '59243de958296a4516f72ebfb1b597188dd59229', False, False, 'saltlux/luxia-21.4b-alignment-v0.2']\n"
     ]
    },
    {
     "name": "stderr",
     "output_type": "stream",
     "text": [
      "27it [00:06,  4.43it/s]"
     ]
    },
    {
     "name": "stdout",
     "output_type": "stream",
     "text": [
      "Failed to fetch: ['🔶', '<a target=\"_blank\" href=\"https://huggingface.co/saltlux/luxia-21.4b-alignment-v0.1\" style=\"color: var(--link-text-color); text-decoration: underline;text-decoration-style: dotted;\">saltlux/luxia-21.4b-alignment-v0.1</a>  <a target=\"_blank\" href=\"https://huggingface.co/datasets/open-llm-leaderboard/details_saltlux__luxia-21.4b-alignment-v0.1\" style=\"color: var(--link-text-color); text-decoration: underline;text-decoration-style: dotted;\">📑</a>', 77.32, 76.79, 91.79, 68.18, 76.7, 87.53, 62.93, 'fine-tuned on domain-specific datasets', 'LlamaForCausalLM', 'Original', 'bfloat16', False, 'apache-2.0', 21.42, 0, False, '88a47c498102132f5262581803fe1ed9252a16bc', False, False, 'saltlux/luxia-21.4b-alignment-v0.1']\n"
     ]
    },
    {
     "name": "stderr",
     "output_type": "stream",
     "text": [
      "32it [00:08,  3.02it/s]Invalid model-index. Not loading eval results into CardData.\n",
      "34it [00:08,  3.67it/s]"
     ]
    },
    {
     "name": "stdout",
     "output_type": "stream",
     "text": [
      "Failed to fetch: ['🔶', '<a target=\"_blank\" href=\"https://huggingface.co/jefferylovely/MoeLovely-13B\" style=\"color: var(--link-text-color); text-decoration: underline;text-decoration-style: dotted;\">jefferylovely/MoeLovely-13B</a>  <a target=\"_blank\" href=\"https://huggingface.co/datasets/open-llm-leaderboard/details_jefferylovely__MoeLovely-13B\" style=\"color: var(--link-text-color); text-decoration: underline;text-decoration-style: dotted;\">📑</a>', 77.25, 73.72, 89.49, 64.78, 78.74, 87.61, 69.14, 'fine-tuned on domain-specific datasets', 'MixtralForCausalLM', 'Original', 'float16', False, 'cc-by-nc-nd-4.0', 12.88, 0, False, 'ac4f0ad8a665eb6b54c286810a9b4551b0bcdc25', False, True, 'jefferylovely/MoeLovely-13B']\n"
     ]
    },
    {
     "name": "stderr",
     "output_type": "stream",
     "text": [
      "35it [00:09,  3.88it/s]"
     ]
    },
    {
     "name": "stdout",
     "output_type": "stream",
     "text": [
      "Failed to fetch: ['🔶', '<a target=\"_blank\" href=\"https://huggingface.co/saltlux/luxia-21.4b-alignment-v0.4\" style=\"color: var(--link-text-color); text-decoration: underline;text-decoration-style: dotted;\">saltlux/luxia-21.4b-alignment-v0.4</a>  <a target=\"_blank\" href=\"https://huggingface.co/datasets/open-llm-leaderboard/details_saltlux__luxia-21.4b-alignment-v0.4\" style=\"color: var(--link-text-color); text-decoration: underline;text-decoration-style: dotted;\">📑</a>', 77.23, 76.88, 91.83, 68.06, 76.72, 87.21, 62.7, 'fine-tuned on domain-specific datasets', 'LlamaForCausalLM', 'Original', 'bfloat16', False, 'apache-2.0', 21.42, 0, False, '4c4342a9c3e8e793a0969b74222d887d53cb294e', False, False, 'saltlux/luxia-21.4b-alignment-v0.4']\n"
     ]
    },
    {
     "name": "stderr",
     "output_type": "stream",
     "text": [
      "38it [00:09,  4.16it/s]"
     ]
    },
    {
     "name": "stdout",
     "output_type": "stream",
     "text": [
      "Failed to fetch: ['🔶', '<a target=\"_blank\" href=\"https://huggingface.co/senseable/Wilbur-30B\" style=\"color: var(--link-text-color); text-decoration: underline;text-decoration-style: dotted;\">senseable/Wilbur-30B</a>  <a target=\"_blank\" href=\"https://huggingface.co/datasets/open-llm-leaderboard/details_senseable__Wilbur-30B\" style=\"color: var(--link-text-color); text-decoration: underline;text-decoration-style: dotted;\">📑</a>', 77.18, 74.06, 86.68, 76.7, 69.96, 83.43, 72.25, 'fine-tuned on domain-specific datasets', 'LlamaForCausalLM', 'Original', 'float16', False, 'apache-2.0', 34.39, 0, False, 'eab679f95e078efb71fbaa7b1aa0be05bb4e46ca', False, False, 'senseable/Wilbur-30B']\n"
     ]
    },
    {
     "name": "stderr",
     "output_type": "stream",
     "text": [
      "60it [00:15,  3.55it/s]"
     ]
    },
    {
     "name": "stdout",
     "output_type": "stream",
     "text": [
      "Failed to fetch: ['🔶', '<a target=\"_blank\" href=\"https://huggingface.co/JaeyeonKang/CCK_Asura_v1.1.0\" style=\"color: var(--link-text-color); text-decoration: underline;text-decoration-style: dotted;\">JaeyeonKang/CCK_Asura_v1.1.0</a>  <a target=\"_blank\" href=\"https://huggingface.co/datasets/open-llm-leaderboard/details_JaeyeonKang__CCK_Asura_v1.1.0\" style=\"color: var(--link-text-color); text-decoration: underline;text-decoration-style: dotted;\">📑</a>', 76.75, 73.21, 88.55, 75.43, 69.55, 85.32, 68.46, 'fine-tuned on domain-specific datasets', 'LlamaForCausalLM', 'Original', 'float16', False, 'cc-by-nc-4.0', 68.98, 0, False, 'baf3e2cc3a8d18098199b3cee4bdf79f00935be1', False, False, 'JaeyeonKang/CCK_Asura_v1.1.0']\n"
     ]
    },
    {
     "name": "stderr",
     "output_type": "stream",
     "text": [
      "62it [00:16,  4.11it/s]"
     ]
    },
    {
     "name": "stdout",
     "output_type": "stream",
     "text": [
      "Failed to fetch: ['🔶', '<a target=\"_blank\" href=\"https://huggingface.co/bardsai/jaskier-7b-dpo-v7.1\" style=\"color: var(--link-text-color); text-decoration: underline;text-decoration-style: dotted;\">bardsai/jaskier-7b-dpo-v7.1</a>  <a target=\"_blank\" href=\"https://huggingface.co/datasets/open-llm-leaderboard/details_bardsai__jaskier-7b-dpo-v7.1\" style=\"color: var(--link-text-color); text-decoration: underline;text-decoration-style: dotted;\">📑</a>', 76.74, 73.38, 89.28, 64.37, 78.28, 85.24, 69.9, 'fine-tuned on domain-specific datasets', 'MistralForCausalLM', 'Original', 'float16', False, 'apache-2.0', 7.24, 0, False, '305544e9edd98253540141e91653d308e9b135cc', False, False, 'bardsai/jaskier-7b-dpo-v7.1']\n"
     ]
    },
    {
     "name": "stderr",
     "output_type": "stream",
     "text": [
      "67it [00:17,  3.19it/s]Invalid model-index. Not loading eval results into CardData.\n",
      "87it [00:22,  4.44it/s]"
     ]
    },
    {
     "name": "stdout",
     "output_type": "stream",
     "text": [
      "Failed to fetch: ['🟩', '<a target=\"_blank\" href=\"https://huggingface.co/NExtNewChattingAI/Mutliverse_model_official\" style=\"color: var(--link-text-color); text-decoration: underline;text-decoration-style: dotted;\">NExtNewChattingAI/Mutliverse_model_official</a>  <a target=\"_blank\" href=\"https://huggingface.co/datasets/open-llm-leaderboard/details_NExtNewChattingAI__Mutliverse_model_official\" style=\"color: var(--link-text-color); text-decoration: underline;text-decoration-style: dotted;\">📑</a>', 76.64, 72.87, 89.13, 64.42, 77.93, 85.08, 70.43, 'continuously pretrained', 'MistralForCausalLM', 'Original', 'bfloat16', False, 'cc-by-nc-4.0', 7.24, 0, False, '4b8f0409e2844641fe9bd6d45385f4e71e0ee940', False, False, 'NExtNewChattingAI/Mutliverse_model_official']\n"
     ]
    },
    {
     "name": "stderr",
     "output_type": "stream",
     "text": [
      "202it [00:50,  4.55it/s]"
     ]
    },
    {
     "name": "stdout",
     "output_type": "stream",
     "text": [
      "Failed to fetch: ['💬', '<a target=\"_blank\" href=\"https://huggingface.co/bardsai/jaskier-7b-dpo-v4.3\" style=\"color: var(--link-text-color); text-decoration: underline;text-decoration-style: dotted;\">bardsai/jaskier-7b-dpo-v4.3</a>  <a target=\"_blank\" href=\"https://huggingface.co/datasets/open-llm-leaderboard/details_bardsai__jaskier-7b-dpo-v4.3\" style=\"color: var(--link-text-color); text-decoration: underline;text-decoration-style: dotted;\">📑</a>', 76.35, 72.61, 89.09, 64.29, 78.27, 84.77, 69.07, 'chat models (RLHF, DPO, IFT, ...)', 'MistralForCausalLM', 'Original', 'float16', False, 'cc-by-4.0', 7.24, 0, False, 'dc22b7692b8d54575545f1614029ebc898c9a6e7', False, False, 'bardsai/jaskier-7b-dpo-v4.3']\n"
     ]
    },
    {
     "name": "stderr",
     "output_type": "stream",
     "text": [
      "208it [00:51,  4.57it/s]"
     ]
    },
    {
     "name": "stdout",
     "output_type": "stream",
     "text": [
      "Failed to fetch: ['💬', '<a target=\"_blank\" href=\"https://huggingface.co/ammarali32/MultiVerse_LASER\" style=\"color: var(--link-text-color); text-decoration: underline;text-decoration-style: dotted;\">ammarali32/MultiVerse_LASER</a>  <a target=\"_blank\" href=\"https://huggingface.co/datasets/open-llm-leaderboard/details_ammarali32__MultiVerse_LASER\" style=\"color: var(--link-text-color); text-decoration: underline;text-decoration-style: dotted;\">📑</a>', 76.33, 72.53, 88.81, 64.52, 77.7, 84.93, 69.52, 'chat models (RLHF, DPO, IFT, ...)', 'MistralForCausalLM', 'Original', 'float16', False, '?', 7.24, 0, False, '7385d3aa94cebfb10f983bc905fea3e83c4a4e3c', False, False, 'ammarali32/MultiVerse_LASER']\n"
     ]
    },
    {
     "name": "stderr",
     "output_type": "stream",
     "text": [
      "222it [00:54,  4.57it/s]"
     ]
    },
    {
     "name": "stdout",
     "output_type": "stream",
     "text": [
      "Failed to fetch: ['🔶', '<a target=\"_blank\" href=\"https://huggingface.co/jefferylovely/Merkaba-Maven-0.1\" style=\"color: var(--link-text-color); text-decoration: underline;text-decoration-style: dotted;\">jefferylovely/Merkaba-Maven-0.1</a>  <a target=\"_blank\" href=\"https://huggingface.co/datasets/open-llm-leaderboard/details_jefferylovely__Merkaba-Maven-0.1\" style=\"color: var(--link-text-color); text-decoration: underline;text-decoration-style: dotted;\">📑</a>', 76.28, 72.87, 89.2, 64.45, 77.45, 84.93, 68.76, 'fine-tuned on domain-specific datasets', 'MistralForCausalLM', 'Original', 'bfloat16', False, 'cc-by-nc-nd-4.0', 7.24, 0, False, '13377de9ab6ccde2b8bf4fec28f271d4e07a93bc', False, False, 'jefferylovely/Merkaba-Maven-0.1']\n"
     ]
    },
    {
     "name": "stderr",
     "output_type": "stream",
     "text": [
      "244it [01:00,  3.64it/s]"
     ]
    },
    {
     "name": "stdout",
     "output_type": "stream",
     "text": [
      "Failed to fetch: ['🔶', '<a target=\"_blank\" href=\"https://huggingface.co/cloudyu/Yi-34Bx3-MoE-90B\" style=\"color: var(--link-text-color); text-decoration: underline;text-decoration-style: dotted;\">cloudyu/Yi-34Bx3-MoE-90B</a>  <a target=\"_blank\" href=\"https://huggingface.co/datasets/open-llm-leaderboard/details_cloudyu__Yi-34Bx3-MoE-90B\" style=\"color: var(--link-text-color); text-decoration: underline;text-decoration-style: dotted;\">📑</a>', 76.18, 70.9, 85.33, 77.41, 66.31, 84.29, 72.86, 'fine-tuned on domain-specific datasets', 'MixtralForCausalLM', 'Original', 'bfloat16', False, '?', 87.24, 0, False, 'b4b717be590394a4e70853cb444bd0964526c500', False, True, 'cloudyu/Yi-34Bx3-MoE-90B']\n"
     ]
    },
    {
     "name": "stderr",
     "output_type": "stream",
     "text": [
      "258it [01:04,  4.30it/s]"
     ]
    },
    {
     "name": "stdout",
     "output_type": "stream",
     "text": [
      "Failed to fetch: ['💬', '<a target=\"_blank\" href=\"https://huggingface.co/moreh/MoMo-70B-lora-1.8.5-DPO\" style=\"color: var(--link-text-color); text-decoration: underline;text-decoration-style: dotted;\">moreh/MoMo-70B-lora-1.8.5-DPO</a>  <a target=\"_blank\" href=\"https://huggingface.co/datasets/open-llm-leaderboard/details_moreh__MoMo-70B-lora-1.8.5-DPO\" style=\"color: var(--link-text-color); text-decoration: underline;text-decoration-style: dotted;\">📑</a>', 76.14, 69.54, 85.6, 77.49, 65.79, 84.14, 74.3, 'chat models (RLHF, DPO, IFT, ...)', 'LlamaForCausalLM', 'Original', 'bfloat16', False, '?', 72.29, 0, False, '7a0aadea285a82d50c96b0988b12cc3c6267249a', False, False, 'moreh/MoMo-70B-lora-1.8.5-DPO']\n"
     ]
    },
    {
     "name": "stderr",
     "output_type": "stream",
     "text": [
      "263it [01:05,  4.10it/s]"
     ]
    },
    {
     "name": "stdout",
     "output_type": "stream",
     "text": [
      "Failed to fetch: ['💬', '<a target=\"_blank\" href=\"https://huggingface.co/bardsai/jaskier-7b-dpo-v3.3\" style=\"color: var(--link-text-color); text-decoration: underline;text-decoration-style: dotted;\">bardsai/jaskier-7b-dpo-v3.3</a>  <a target=\"_blank\" href=\"https://huggingface.co/datasets/open-llm-leaderboard/details_bardsai__jaskier-7b-dpo-v3.3\" style=\"color: var(--link-text-color); text-decoration: underline;text-decoration-style: dotted;\">📑</a>', 76.12, 72.27, 88.89, 64.34, 79, 84.37, 67.85, 'chat models (RLHF, DPO, IFT, ...)', 'MistralForCausalLM', 'Original', 'float16', False, 'cc-by-4.0', 7.24, 0, False, 'e1460ba3fe5adcad670796528d9a163e13099c6d', False, False, 'bardsai/jaskier-7b-dpo-v3.3']\n"
     ]
    },
    {
     "name": "stderr",
     "output_type": "stream",
     "text": [
      "300it [01:14,  4.70it/s]"
     ]
    },
    {
     "name": "stdout",
     "output_type": "stream",
     "text": [
      "Failed to fetch: ['🤝', '<a target=\"_blank\" href=\"https://huggingface.co/louisbrulenaudet/Maxine-7B-0401-ties\" style=\"color: var(--link-text-color); text-decoration: underline;text-decoration-style: dotted;\">louisbrulenaudet/Maxine-7B-0401-ties</a>  <a target=\"_blank\" href=\"https://huggingface.co/datasets/open-llm-leaderboard/details_louisbrulenaudet__Maxine-7B-0401-ties\" style=\"color: var(--link-text-color); text-decoration: underline;text-decoration-style: dotted;\">📑</a>', 75.96, 71.76, 88.84, 64.35, 74.51, 83.27, 73.01, 'base merges and moerges', 'MistralForCausalLM', 'Original', 'bfloat16', False, 'apache-2.0', 7.24, 0, False, 'f317d8b1807e65236b62f4b98e4b460754a6c82e', False, False, 'louisbrulenaudet/Maxine-7B-0401-ties']\n"
     ]
    },
    {
     "name": "stderr",
     "output_type": "stream",
     "text": [
      "301it [01:14,  4.66it/s]"
     ]
    },
    {
     "name": "stdout",
     "output_type": "stream",
     "text": [
      "Failed to fetch: ['💬', '<a target=\"_blank\" href=\"https://huggingface.co/bardsai/jaskier-7b-dpo-v4.1\" style=\"color: var(--link-text-color); text-decoration: underline;text-decoration-style: dotted;\">bardsai/jaskier-7b-dpo-v4.1</a>  <a target=\"_blank\" href=\"https://huggingface.co/datasets/open-llm-leaderboard/details_bardsai__jaskier-7b-dpo-v4.1\" style=\"color: var(--link-text-color); text-decoration: underline;text-decoration-style: dotted;\">📑</a>', 75.95, 72.95, 89.07, 64.75, 75.92, 84.69, 68.31, 'chat models (RLHF, DPO, IFT, ...)', 'MistralForCausalLM', 'Original', 'float16', False, 'cc-by-4.0', 7.24, 0, False, 'ee2a4761bb0030ef340120b30f6f52ae78f74e71', False, False, 'bardsai/jaskier-7b-dpo-v4.1']\n"
     ]
    },
    {
     "name": "stderr",
     "output_type": "stream",
     "text": [
      "304it [01:14,  4.36it/s]"
     ]
    },
    {
     "name": "stdout",
     "output_type": "stream",
     "text": [
      "Failed to fetch: ['💬', '<a target=\"_blank\" href=\"https://huggingface.co/zhengr/MixTAO-7Bx2-MoE-Instruct-v6.0\" style=\"color: var(--link-text-color); text-decoration: underline;text-decoration-style: dotted;\">zhengr/MixTAO-7Bx2-MoE-Instruct-v6.0</a>  <a target=\"_blank\" href=\"https://huggingface.co/datasets/open-llm-leaderboard/details_zhengr__MixTAO-7Bx2-MoE-Instruct-v6.0\" style=\"color: var(--link-text-color); text-decoration: underline;text-decoration-style: dotted;\">📑</a>', 75.94, 73.38, 89.02, 64.61, 70.45, 89.27, 68.92, 'chat models (RLHF, DPO, IFT, ...)', 'MixtralForCausalLM', 'Original', 'bfloat16', False, 'apache-2.0', 12.88, 0, False, '29ceaff6300241003171ae2219ae1bfa77128b54', False, True, 'zhengr/MixTAO-7Bx2-MoE-Instruct-v6.0']\n"
     ]
    },
    {
     "name": "stderr",
     "output_type": "stream",
     "text": [
      "310it [01:16,  4.60it/s]"
     ]
    },
    {
     "name": "stdout",
     "output_type": "stream",
     "text": [
      "Failed to fetch: ['🔶', '<a target=\"_blank\" href=\"https://huggingface.co/saltlux/luxia-21.4b-alignment-v0.3\" style=\"color: var(--link-text-color); text-decoration: underline;text-decoration-style: dotted;\">saltlux/luxia-21.4b-alignment-v0.3</a>  <a target=\"_blank\" href=\"https://huggingface.co/datasets/open-llm-leaderboard/details_saltlux__luxia-21.4b-alignment-v0.3\" style=\"color: var(--link-text-color); text-decoration: underline;text-decoration-style: dotted;\">📑</a>', 75.91, 76.28, 91.53, 68.1, 69.44, 87.37, 62.77, 'fine-tuned on domain-specific datasets', 'LlamaForCausalLM', 'Original', 'bfloat16', False, 'apache-2.0', 21.42, 0, False, '89d77a1219490fc423615f3ca28c1888bb4845a5', False, False, 'saltlux/luxia-21.4b-alignment-v0.3']\n"
     ]
    },
    {
     "name": "stderr",
     "output_type": "stream",
     "text": [
      "327it [01:21,  4.08it/s]"
     ]
    },
    {
     "name": "stdout",
     "output_type": "stream",
     "text": [
      "Failed to fetch: ['🔶', '<a target=\"_blank\" href=\"https://huggingface.co/SF-Foundation/TextSum-v0.1\" style=\"color: var(--link-text-color); text-decoration: underline;text-decoration-style: dotted;\">SF-Foundation/TextSum-v0.1</a>  <a target=\"_blank\" href=\"https://huggingface.co/datasets/open-llm-leaderboard/details_SF-Foundation__TextSum-v0.1\" style=\"color: var(--link-text-color); text-decoration: underline;text-decoration-style: dotted;\">📑</a>', 75.84, 72.78, 89.44, 64.37, 77.26, 84.85, 66.34, 'fine-tuned on domain-specific datasets', '?', 'Adapter', 'bfloat16', False, 'cc-by-nc-4.0', 0, 0, False, '6cad111a218f29f42eb8887a359ec648423db7f4', False, False, 'SF-Foundation/TextSum-v0.1']\n",
      "Failed to fetch: ['🔶', '<a target=\"_blank\" href=\"https://huggingface.co/SF-Foundation/TextBase-v0.1\" style=\"color: var(--link-text-color); text-decoration: underline;text-decoration-style: dotted;\">SF-Foundation/TextBase-v0.1</a>  <a target=\"_blank\" href=\"https://huggingface.co/datasets/open-llm-leaderboard/details_SF-Foundation__TextBase-v0.1\" style=\"color: var(--link-text-color); text-decoration: underline;text-decoration-style: dotted;\">📑</a>', 75.84, 72.78, 89.44, 64.37, 77.26, 84.85, 66.34, 'fine-tuned on domain-specific datasets', '?', 'Adapter', 'bfloat16', False, 'cc-by-nc-4.0', 0, 0, False, '6cad111a218f29f42eb8887a359ec648423db7f4', False, False, 'SF-Foundation/TextBase-v0.1']\n"
     ]
    },
    {
     "name": "stderr",
     "output_type": "stream",
     "text": [
      "338it [01:23,  4.58it/s]"
     ]
    },
    {
     "name": "stdout",
     "output_type": "stream",
     "text": [
      "Failed to fetch: ['🔶', '<a target=\"_blank\" href=\"https://huggingface.co/zhengr/MixTAO-7Bx2-MoE-Instruct-v4.0\" style=\"color: var(--link-text-color); text-decoration: underline;text-decoration-style: dotted;\">zhengr/MixTAO-7Bx2-MoE-Instruct-v4.0</a>  <a target=\"_blank\" href=\"https://huggingface.co/datasets/open-llm-leaderboard/details_zhengr__MixTAO-7Bx2-MoE-Instruct-v4.0\" style=\"color: var(--link-text-color); text-decoration: underline;text-decoration-style: dotted;\">📑</a>', 75.76, 73.04, 88.79, 64.67, 68.15, 90.92, 68.99, 'fine-tuned on domain-specific datasets', 'MixtralForCausalLM', 'Original', 'bfloat16', False, 'apache-2.0', 12.88, 0, False, '8b848fc487ec7d7d7b181400c960147af4e12b52', False, True, 'zhengr/MixTAO-7Bx2-MoE-Instruct-v4.0']\n"
     ]
    },
    {
     "name": "stderr",
     "output_type": "stream",
     "text": [
      "347it [01:25,  3.73it/s]"
     ]
    },
    {
     "name": "stdout",
     "output_type": "stream",
     "text": [
      "Failed to fetch: ['🔶', '<a target=\"_blank\" href=\"https://huggingface.co/jefferylovely/SuperThetaMaven\" style=\"color: var(--link-text-color); text-decoration: underline;text-decoration-style: dotted;\">jefferylovely/SuperThetaMaven</a>  <a target=\"_blank\" href=\"https://huggingface.co/datasets/open-llm-leaderboard/details_jefferylovely__SuperThetaMaven\" style=\"color: var(--link-text-color); text-decoration: underline;text-decoration-style: dotted;\">📑</a>', 75.71, 73.63, 89, 64.82, 71.77, 84.93, 70.13, 'fine-tuned on domain-specific datasets', 'MistralForCausalLM', 'Original', 'bfloat16', False, 'cc-by-nc-nd-4.0', 7.24, 0, False, '1344e7cb96b5c037c7bf00ed67311b582b56327f', False, False, 'jefferylovely/SuperThetaMaven']\n"
     ]
    },
    {
     "name": "stderr",
     "output_type": "stream",
     "text": [
      "376it [01:32,  3.38it/s]Invalid model-index. Not loading eval results into CardData.\n",
      "388it [01:35,  4.64it/s]"
     ]
    },
    {
     "name": "stdout",
     "output_type": "stream",
     "text": [
      "Failed to fetch: ['🔶', '<a target=\"_blank\" href=\"https://huggingface.co/fblgit/UNA-34Beagles-32K-v1\" style=\"color: var(--link-text-color); text-decoration: underline;text-decoration-style: dotted;\">fblgit/UNA-34Beagles-32K-v1</a>  <a target=\"_blank\" href=\"https://huggingface.co/datasets/open-llm-leaderboard/details_fblgit__UNA-34Beagles-32K-v1\" style=\"color: var(--link-text-color); text-decoration: underline;text-decoration-style: dotted;\">📑</a>', 75.41, 73.55, 85.93, 76.45, 73.55, 82.95, 60.05, 'fine-tuned on domain-specific datasets', 'LlamaForCausalLM', 'Original', 'bfloat16', False, 'other', 34.39, 1, True, 'e02a631564990af3d9c8b0232f979af11cd8b6f6', False, False, 'fblgit/UNA-34Beagles-32K-v1']\n"
     ]
    },
    {
     "name": "stderr",
     "output_type": "stream",
     "text": [
      "443it [01:48,  3.91it/s]"
     ]
    },
    {
     "name": "stdout",
     "output_type": "stream",
     "text": [
      "Failed to fetch: ['🔶', '<a target=\"_blank\" href=\"https://huggingface.co/zhengr/MixTAO-7Bx2-MoE-Instruct-v2.0\" style=\"color: var(--link-text-color); text-decoration: underline;text-decoration-style: dotted;\">zhengr/MixTAO-7Bx2-MoE-Instruct-v2.0</a>  <a target=\"_blank\" href=\"https://huggingface.co/datasets/open-llm-leaderboard/details_zhengr__MixTAO-7Bx2-MoE-Instruct-v2.0\" style=\"color: var(--link-text-color); text-decoration: underline;text-decoration-style: dotted;\">📑</a>', 75.2, 73.38, 88.81, 64.65, 69.76, 83.82, 70.81, 'fine-tuned on domain-specific datasets', 'MixtralForCausalLM', 'Original', 'bfloat16', False, 'apache-2.0', 12.88, 0, False, 'd558d93b7f8bd8c5ca01f1d272f4a42f52b8d9ae', False, True, 'zhengr/MixTAO-7Bx2-MoE-Instruct-v2.0']\n"
     ]
    },
    {
     "name": "stderr",
     "output_type": "stream",
     "text": [
      "455it [01:51,  4.21it/s]"
     ]
    },
    {
     "name": "stdout",
     "output_type": "stream",
     "text": [
      "Failed to fetch: ['🔶', '<a target=\"_blank\" href=\"https://huggingface.co/CultriX/Wernicke-7B-v1\" style=\"color: var(--link-text-color); text-decoration: underline;text-decoration-style: dotted;\">CultriX/Wernicke-7B-v1</a>  <a target=\"_blank\" href=\"https://huggingface.co/datasets/open-llm-leaderboard/details_CultriX__Wernicke-7B-v1\" style=\"color: var(--link-text-color); text-decoration: underline;text-decoration-style: dotted;\">📑</a>', 75.15, 73.21, 88.48, 64.95, 70.95, 83.74, 69.6, 'fine-tuned on domain-specific datasets', 'MistralForCausalLM', 'Original', 'float16', False, 'apache-2.0', 7.24, 0, False, '752573009b7d0518958d4b98b3154678af7c2bde', False, False, 'CultriX/Wernicke-7B-v1']\n"
     ]
    },
    {
     "name": "stderr",
     "output_type": "stream",
     "text": [
      "458it [01:52,  4.49it/s]"
     ]
    },
    {
     "name": "stdout",
     "output_type": "stream",
     "text": [
      "Failed to fetch: ['🤝', '<a target=\"_blank\" href=\"https://huggingface.co/jambroz/sixtyoneeighty-FNCARL-7B-slerp\" style=\"color: var(--link-text-color); text-decoration: underline;text-decoration-style: dotted;\">jambroz/sixtyoneeighty-FNCARL-7B-slerp</a>  <a target=\"_blank\" href=\"https://huggingface.co/datasets/open-llm-leaderboard/details_jambroz__sixtyoneeighty-FNCARL-7B-slerp\" style=\"color: var(--link-text-color); text-decoration: underline;text-decoration-style: dotted;\">📑</a>', 75.14, 71.59, 87.78, 65.27, 71.52, 83.19, 71.49, 'base merges and moerges', 'MistralForCausalLM', 'Original', 'bfloat16', False, 'apache-2.0', 7.24, 0, False, '8030132398d72adcb005802cf7800d253c7ab32e', False, False, 'jambroz/sixtyoneeighty-FNCARL-7B-slerp']\n"
     ]
    },
    {
     "name": "stderr",
     "output_type": "stream",
     "text": [
      "465it [01:54,  4.54it/s]Invalid model-index. Not loading eval results into CardData.\n",
      "472it [01:56,  3.03it/s]"
     ]
    },
    {
     "name": "stdout",
     "output_type": "stream",
     "text": [
      "Failed to fetch: ['🔶', '<a target=\"_blank\" href=\"https://huggingface.co/xDAN2099/xDAN-L2-moe-2x-v1\" style=\"color: var(--link-text-color); text-decoration: underline;text-decoration-style: dotted;\">xDAN2099/xDAN-L2-moe-2x-v1</a>  <a target=\"_blank\" href=\"https://huggingface.co/datasets/open-llm-leaderboard/details_xDAN2099__xDAN-L2-moe-2x-v1\" style=\"color: var(--link-text-color); text-decoration: underline;text-decoration-style: dotted;\">📑</a>', 75.1, 68.52, 86.31, 76.76, 61.77, 84.29, 72.93, 'fine-tuned on domain-specific datasets', 'MixtralForCausalLM', 'Original', 'bfloat16', False, '?', 60.81, 0, False, '0a137b01142b62fccfcbc81176d40f4b86405958', False, True, 'xDAN2099/xDAN-L2-moe-2x-v1']\n"
     ]
    },
    {
     "name": "stderr",
     "output_type": "stream",
     "text": [
      "475it [01:56,  3.09it/s]"
     ]
    },
    {
     "name": "stdout",
     "output_type": "stream",
     "text": [
      "Failed to fetch: ['💬', '<a target=\"_blank\" href=\"https://huggingface.co/zhengr/MixTAO-7Bx2-MoE-Instruct-v5.0\" style=\"color: var(--link-text-color); text-decoration: underline;text-decoration-style: dotted;\">zhengr/MixTAO-7Bx2-MoE-Instruct-v5.0</a>  <a target=\"_blank\" href=\"https://huggingface.co/datasets/open-llm-leaderboard/details_zhengr__MixTAO-7Bx2-MoE-Instruct-v5.0\" style=\"color: var(--link-text-color); text-decoration: underline;text-decoration-style: dotted;\">📑</a>', 75.08, 73.63, 88.93, 64.65, 69.83, 83.98, 69.45, 'chat models (RLHF, DPO, IFT, ...)', 'MixtralForCausalLM', 'Original', 'bfloat16', False, 'apache-2.0', 12.88, 0, False, 'e2c043dadae748feedea411e1ce2548d1b91aa80', False, True, 'zhengr/MixTAO-7Bx2-MoE-Instruct-v5.0']\n"
     ]
    },
    {
     "name": "stderr",
     "output_type": "stream",
     "text": [
      "480it [01:58,  4.34it/s]"
     ]
    },
    {
     "name": "stdout",
     "output_type": "stream",
     "text": [
      "Failed to fetch: ['🔶', '<a target=\"_blank\" href=\"https://huggingface.co/FelixChao/Cygnus-7B\" style=\"color: var(--link-text-color); text-decoration: underline;text-decoration-style: dotted;\">FelixChao/Cygnus-7B</a>  <a target=\"_blank\" href=\"https://huggingface.co/datasets/open-llm-leaderboard/details_FelixChao__Cygnus-7B\" style=\"color: var(--link-text-color); text-decoration: underline;text-decoration-style: dotted;\">📑</a>', 75.04, 70.9, 87.82, 63.81, 72.61, 81.93, 73.16, 'fine-tuned on domain-specific datasets', 'MistralForCausalLM', 'Original', 'bfloat16', False, 'apache-2.0', 7.24, 0, False, '12e91d9302ecdd09d37d13da79b5761727b20eb8', False, False, 'FelixChao/Cygnus-7B']\n"
     ]
    },
    {
     "name": "stderr",
     "output_type": "stream",
     "text": [
      "488it [02:00,  3.64it/s]"
     ]
    },
    {
     "name": "stdout",
     "output_type": "stream",
     "text": [
      "Failed to fetch: ['🔶', '<a target=\"_blank\" href=\"https://huggingface.co/zhengr/MixTAO-7Bx2-MoE-Instruct-v1.0\" style=\"color: var(--link-text-color); text-decoration: underline;text-decoration-style: dotted;\">zhengr/MixTAO-7Bx2-MoE-Instruct-v1.0</a>  <a target=\"_blank\" href=\"https://huggingface.co/datasets/open-llm-leaderboard/details_zhengr__MixTAO-7Bx2-MoE-Instruct-v1.0\" style=\"color: var(--link-text-color); text-decoration: underline;text-decoration-style: dotted;\">📑</a>', 74.99, 74.06, 88.25, 64.25, 69.61, 84.29, 69.45, 'fine-tuned on domain-specific datasets', 'MixtralForCausalLM', 'Original', 'bfloat16', False, '?', 12.88, 0, False, '02e3cacbd9a9518289f6101fbcca8f7a875c1dfc', False, True, 'zhengr/MixTAO-7Bx2-MoE-Instruct-v1.0']\n"
     ]
    },
    {
     "name": "stderr",
     "output_type": "stream",
     "text": [
      "510it [02:06,  3.86it/s]"
     ]
    },
    {
     "name": "stdout",
     "output_type": "stream",
     "text": [
      "Failed to fetch: ['💬', '<a target=\"_blank\" href=\"https://huggingface.co/DreadPoor/complect-7B-slerp\" style=\"color: var(--link-text-color); text-decoration: underline;text-decoration-style: dotted;\">DreadPoor/complect-7B-slerp</a>  <a target=\"_blank\" href=\"https://huggingface.co/datasets/open-llm-leaderboard/details_DreadPoor__complect-7B-slerp\" style=\"color: var(--link-text-color); text-decoration: underline;text-decoration-style: dotted;\">📑</a>', 74.91, 72.27, 88.19, 64.89, 71.14, 84.53, 68.46, 'chat models (RLHF, DPO, IFT, ...)', 'MistralForCausalLM', 'Original', 'bfloat16', False, 'apache-2.0', 7.24, 0, False, '8ade5b4a439b511ccb00d89d51b5c273f90b3449', False, False, 'DreadPoor/complect-7B-slerp']\n"
     ]
    },
    {
     "name": "stderr",
     "output_type": "stream",
     "text": [
      "519it [02:09,  3.85it/s]"
     ]
    },
    {
     "name": "stdout",
     "output_type": "stream",
     "text": [
      "Failed to fetch: ['🔶', '<a target=\"_blank\" href=\"https://huggingface.co/NeuralNovel/Pigris-7b-v0.3\" style=\"color: var(--link-text-color); text-decoration: underline;text-decoration-style: dotted;\">NeuralNovel/Pigris-7b-v0.3</a>  <a target=\"_blank\" href=\"https://huggingface.co/datasets/open-llm-leaderboard/details_NeuralNovel__Pigris-7b-v0.3\" style=\"color: var(--link-text-color); text-decoration: underline;text-decoration-style: dotted;\">📑</a>', 74.88, 71.5, 88.15, 64.53, 71.21, 84.14, 69.75, 'fine-tuned on domain-specific datasets', '?', 'Adapter', 'float16', False, 'apache-2.0', 7, 0, False, '0553c5ef30d6f85ef021ebb013f108fc87230f64', False, False, 'NeuralNovel/Pigris-7b-v0.3']\n",
      "Failed to fetch: ['🔶', '<a target=\"_blank\" href=\"https://huggingface.co/AA051612/A0126\" style=\"color: var(--link-text-color); text-decoration: underline;text-decoration-style: dotted;\">AA051612/A0126</a>  <a target=\"_blank\" href=\"https://huggingface.co/datasets/open-llm-leaderboard/details_AA051612__A0126\" style=\"color: var(--link-text-color); text-decoration: underline;text-decoration-style: dotted;\">📑</a>', 74.87, 70.39, 85.87, 84.03, 61.53, 81.53, 65.88, 'fine-tuned on domain-specific datasets', 'LlamaForCausalLM', 'Original', 'bfloat16', False, 'gpl', 34.39, 0, False, 'c0c062b6fe4202b7aa5510bfda390da2e8b393ef', False, False, 'AA051612/A0126']\n"
     ]
    },
    {
     "name": "stderr",
     "output_type": "stream",
     "text": [
      "526it [02:10,  4.53it/s]"
     ]
    },
    {
     "name": "stdout",
     "output_type": "stream",
     "text": [
      "Failed to fetch: ['🔶', '<a target=\"_blank\" href=\"https://huggingface.co/CultriX/MergeTrix-7B-v2\" style=\"color: var(--link-text-color); text-decoration: underline;text-decoration-style: dotted;\">CultriX/MergeTrix-7B-v2</a>  <a target=\"_blank\" href=\"https://huggingface.co/datasets/open-llm-leaderboard/details_CultriX__MergeTrix-7B-v2\" style=\"color: var(--link-text-color); text-decoration: underline;text-decoration-style: dotted;\">📑</a>', 74.85, 72.7, 88.48, 64.89, 67.17, 86.74, 69.14, 'fine-tuned on domain-specific datasets', 'MistralForCausalLM', 'Original', 'float16', False, 'apache-2.0', 7.24, 0, False, 'fabb95cdb3ed48cc58ab6fdc2b460640022665f7', False, False, 'CultriX/MergeTrix-7B-v2']\n"
     ]
    },
    {
     "name": "stderr",
     "output_type": "stream",
     "text": [
      "536it [02:13,  4.23it/s]"
     ]
    },
    {
     "name": "stdout",
     "output_type": "stream",
     "text": [
      "Failed to fetch: ['💬', '<a target=\"_blank\" href=\"https://huggingface.co/DreadPoor/connate-7B-slerp\" style=\"color: var(--link-text-color); text-decoration: underline;text-decoration-style: dotted;\">DreadPoor/connate-7B-slerp</a>  <a target=\"_blank\" href=\"https://huggingface.co/datasets/open-llm-leaderboard/details_DreadPoor__connate-7B-slerp\" style=\"color: var(--link-text-color); text-decoration: underline;text-decoration-style: dotted;\">📑</a>', 74.8, 72.1, 88.37, 64.96, 71.16, 84.61, 67.63, 'chat models (RLHF, DPO, IFT, ...)', 'MistralForCausalLM', 'Original', 'bfloat16', False, 'apache-2.0', 7.24, 0, False, '3c9699e0096679a7a23749d59a561c9bdc4a8ff1', False, False, 'DreadPoor/connate-7B-slerp']\n"
     ]
    },
    {
     "name": "stderr",
     "output_type": "stream",
     "text": [
      "544it [02:15,  4.28it/s]"
     ]
    },
    {
     "name": "stdout",
     "output_type": "stream",
     "text": [
      "Failed to fetch: ['🤝', '<a target=\"_blank\" href=\"https://huggingface.co/ChaoticNeutrals/Eris_PrimeV4-Vision-7B\" style=\"color: var(--link-text-color); text-decoration: underline;text-decoration-style: dotted;\">ChaoticNeutrals/Eris_PrimeV4-Vision-7B</a>  <a target=\"_blank\" href=\"https://huggingface.co/datasets/open-llm-leaderboard/details_ChaoticNeutrals__Eris_PrimeV4-Vision-7B\" style=\"color: var(--link-text-color); text-decoration: underline;text-decoration-style: dotted;\">📑</a>', 74.79, 72.78, 88.47, 65.13, 71.43, 83.82, 67.1, 'base merges and moerges', 'MistralForCausalLM', 'Original', 'bfloat16', False, 'other', 7.24, 0, False, 'fec915be390bd7304e0cddcf0aff216edd4ac87e', False, False, 'ChaoticNeutrals/Eris_PrimeV4-Vision-7B']\n"
     ]
    },
    {
     "name": "stderr",
     "output_type": "stream",
     "text": [
      "552it [02:16,  4.49it/s]"
     ]
    },
    {
     "name": "stdout",
     "output_type": "stream",
     "text": [
      "Failed to fetch: ['🔶', '<a target=\"_blank\" href=\"https://huggingface.co/GreenNode/GreenNodeLM-v3olet-7B\" style=\"color: var(--link-text-color); text-decoration: underline;text-decoration-style: dotted;\">GreenNode/GreenNodeLM-v3olet-7B</a>  <a target=\"_blank\" href=\"https://huggingface.co/datasets/open-llm-leaderboard/details_GreenNode__GreenNodeLM-v3olet-7B\" style=\"color: var(--link-text-color); text-decoration: underline;text-decoration-style: dotted;\">📑</a> has been flagged! <a target=\"_blank\" href=\"https://huggingface.co/spaces/HuggingFaceH4/open_llm_leaderboard/discussions/474\" style=\"color: var(--link-text-color); text-decoration: underline;text-decoration-style: dotted;\">See discussion #474</a>', 74.75, 72.27, 88.25, 65.27, 69.52, 82.48, 70.74, 'fine-tuned on domain-specific datasets', 'Unknown', 'Original', 'float16', False, '?', 7, 0, False, '94b36a4573657d7815f55b917b204e6b73f7a634', True, False, 'GreenNode/GreenNodeLM-v3olet-7B']\n"
     ]
    },
    {
     "name": "stderr",
     "output_type": "stream",
     "text": [
      "574it [02:23,  3.90it/s]Invalid model-index. Not loading eval results into CardData.\n",
      "587it [02:26,  4.37it/s]"
     ]
    },
    {
     "name": "stdout",
     "output_type": "stream",
     "text": [
      "Failed to fetch: ['🔶', '<a target=\"_blank\" href=\"https://huggingface.co/AA051610/O0128\" style=\"color: var(--link-text-color); text-decoration: underline;text-decoration-style: dotted;\">AA051610/O0128</a>  <a target=\"_blank\" href=\"https://huggingface.co/datasets/open-llm-leaderboard/details_AA051610__O0128\" style=\"color: var(--link-text-color); text-decoration: underline;text-decoration-style: dotted;\">📑</a>', 74.61, 67.92, 85.34, 83.59, 60.13, 82.24, 68.46, 'fine-tuned on domain-specific datasets', 'LlamaForCausalLM', 'Original', 'bfloat16', False, 'gpl', 0, 0, False, 'd5cc987f61f58763eb2d02a06ddd103992d9a3dc', False, False, 'AA051610/O0128']\n"
     ]
    },
    {
     "name": "stderr",
     "output_type": "stream",
     "text": [
      "595it [02:28,  4.62it/s]"
     ]
    },
    {
     "name": "stdout",
     "output_type": "stream",
     "text": [
      "Failed to fetch: ['💬', '<a target=\"_blank\" href=\"https://huggingface.co/DreadPoor/iWillChangeTheNameLater\" style=\"color: var(--link-text-color); text-decoration: underline;text-decoration-style: dotted;\">DreadPoor/iWillChangeTheNameLater</a>  <a target=\"_blank\" href=\"https://huggingface.co/datasets/open-llm-leaderboard/details_DreadPoor__iWillChangeTheNameLater\" style=\"color: var(--link-text-color); text-decoration: underline;text-decoration-style: dotted;\">📑</a>', 74.56, 72.01, 88.23, 64.97, 69.41, 84.21, 68.54, 'chat models (RLHF, DPO, IFT, ...)', 'MistralForCausalLM', 'Original', 'bfloat16', False, 'apache-2.0', 7.24, 0, False, 'f997d63d5fdcf5aa69ec7ceedfc2a5c2572a14ef', False, False, 'DreadPoor/iWillChangeTheNameLater']\n"
     ]
    },
    {
     "name": "stderr",
     "output_type": "stream",
     "text": [
      "596it [02:28,  4.62it/s]"
     ]
    },
    {
     "name": "stdout",
     "output_type": "stream",
     "text": [
      "Failed to fetch: ['🔶', '<a target=\"_blank\" href=\"https://huggingface.co/jefferylovely/ThetaMaven5\" style=\"color: var(--link-text-color); text-decoration: underline;text-decoration-style: dotted;\">jefferylovely/ThetaMaven5</a>  <a target=\"_blank\" href=\"https://huggingface.co/datasets/open-llm-leaderboard/details_jefferylovely__ThetaMaven5\" style=\"color: var(--link-text-color); text-decoration: underline;text-decoration-style: dotted;\">📑</a>', 74.56, 72.01, 88.38, 64.77, 69.67, 82.64, 69.9, 'fine-tuned on domain-specific datasets', 'MistralForCausalLM', 'Original', 'float16', False, 'cc-by-nc-nd-4.0', 7.24, 0, False, 'a344b7d30e8d4afc55b1326f5fb71ca03a76b7a5', False, False, 'jefferylovely/ThetaMaven5']\n"
     ]
    },
    {
     "name": "stderr",
     "output_type": "stream",
     "text": [
      "608it [02:31,  4.35it/s]"
     ]
    },
    {
     "name": "stdout",
     "output_type": "stream",
     "text": [
      "Failed to fetch: ['💬', '<a target=\"_blank\" href=\"https://huggingface.co/logicker/SkkuDataScienceGlobal-10.7b\" style=\"color: var(--link-text-color); text-decoration: underline;text-decoration-style: dotted;\">logicker/SkkuDataScienceGlobal-10.7b</a>  <a target=\"_blank\" href=\"https://huggingface.co/datasets/open-llm-leaderboard/details_logicker__SkkuDataScienceGlobal-10.7b\" style=\"color: var(--link-text-color); text-decoration: underline;text-decoration-style: dotted;\">📑</a>', 74.5, 71.25, 88.41, 66.31, 71.92, 83.35, 65.73, 'chat models (RLHF, DPO, IFT, ...)', 'Unknown', 'Original', 'float16', False, '?', 10.73, 0, False, '4f5e40b38099084b86fb18b294e4e61e7d20cc7c', False, False, 'logicker/SkkuDataScienceGlobal-10.7b']\n"
     ]
    },
    {
     "name": "stderr",
     "output_type": "stream",
     "text": [
      "648it [02:41,  4.05it/s]"
     ]
    },
    {
     "name": "stdout",
     "output_type": "stream",
     "text": [
      "Failed to fetch: ['💬', '<a target=\"_blank\" href=\"https://huggingface.co/DreadPoor/Kindred-7B-slerp\" style=\"color: var(--link-text-color); text-decoration: underline;text-decoration-style: dotted;\">DreadPoor/Kindred-7B-slerp</a>  <a target=\"_blank\" href=\"https://huggingface.co/datasets/open-llm-leaderboard/details_DreadPoor__Kindred-7B-slerp\" style=\"color: var(--link-text-color); text-decoration: underline;text-decoration-style: dotted;\">📑</a>', 74.29, 71.76, 87.78, 64.76, 68.12, 83.11, 70.2, 'chat models (RLHF, DPO, IFT, ...)', 'MistralForCausalLM', 'Original', 'bfloat16', False, 'apache-2.0', 7.24, 0, False, '64da0f7bb5f6d772b7d682c99b5c510cb8681ff0', False, False, 'DreadPoor/Kindred-7B-slerp']\n"
     ]
    },
    {
     "name": "stderr",
     "output_type": "stream",
     "text": [
      "660it [02:44,  4.60it/s]"
     ]
    },
    {
     "name": "stdout",
     "output_type": "stream",
     "text": [
      "Failed to fetch: ['🔶', '<a target=\"_blank\" href=\"https://huggingface.co/Weyaxi/SauerkrautLM-UNA-SOLAR-Instruct-test\" style=\"color: var(--link-text-color); text-decoration: underline;text-decoration-style: dotted;\">Weyaxi/SauerkrautLM-UNA-SOLAR-Instruct-test</a>  <a target=\"_blank\" href=\"https://huggingface.co/datasets/open-llm-leaderboard/details_Weyaxi__SauerkrautLM-UNA-SOLAR-Instruct-test\" style=\"color: var(--link-text-color); text-decoration: underline;text-decoration-style: dotted;\">📑</a>', 74.26, 70.9, 88.3, 66.15, 71.8, 83.74, 64.67, 'fine-tuned on domain-specific datasets', 'Unknown', 'Original', 'bfloat16', False, '?', 10.73, 0, False, 'ae0cab05b071dcde2e89e80ab511fa1bc0f53f1c', False, False, 'Weyaxi/SauerkrautLM-UNA-SOLAR-Instruct-test']\n"
     ]
    },
    {
     "name": "stderr",
     "output_type": "stream",
     "text": [
      "663it [02:44,  4.58it/s]"
     ]
    },
    {
     "name": "stdout",
     "output_type": "stream",
     "text": [
      "Failed to fetch: ['🔶', '<a target=\"_blank\" href=\"https://huggingface.co/AA051610/testtest\" style=\"color: var(--link-text-color); text-decoration: underline;text-decoration-style: dotted;\">AA051610/testtest</a>  <a target=\"_blank\" href=\"https://huggingface.co/datasets/open-llm-leaderboard/details_AA051610__testtest\" style=\"color: var(--link-text-color); text-decoration: underline;text-decoration-style: dotted;\">📑</a>', 74.24, 70.82, 84.88, 76.66, 69.9, 82.08, 61.11, 'fine-tuned on domain-specific datasets', 'Unknown', 'Original', 'bfloat16', False, '?', 34.39, 0, False, 'e9be60931d3abdf3b08a55f13e4c7586918b2be8', False, False, 'AA051610/testtest']\n"
     ]
    },
    {
     "name": "stderr",
     "output_type": "stream",
     "text": [
      "681it [02:49,  4.35it/s]"
     ]
    },
    {
     "name": "stdout",
     "output_type": "stream",
     "text": [
      "Failed to fetch: ['💬', '<a target=\"_blank\" href=\"https://huggingface.co/GreenNode/GreenNodeLM-7B-v4leo\" style=\"color: var(--link-text-color); text-decoration: underline;text-decoration-style: dotted;\">GreenNode/GreenNodeLM-7B-v4leo</a>  <a target=\"_blank\" href=\"https://huggingface.co/datasets/open-llm-leaderboard/details_GreenNode__GreenNodeLM-7B-v4leo\" style=\"color: var(--link-text-color); text-decoration: underline;text-decoration-style: dotted;\">📑</a> has been flagged! <a target=\"_blank\" href=\"https://huggingface.co/spaces/HuggingFaceH4/open_llm_leaderboard/discussions/474\" style=\"color: var(--link-text-color); text-decoration: underline;text-decoration-style: dotted;\">See discussion #474</a>', 74.18, 71.25, 88.24, 65.01, 69.65, 82.32, 68.61, 'chat models (RLHF, DPO, IFT, ...)', 'Unknown', 'Original', 'float16', False, '?', 7.24, 0, False, '9286f6fac1df497203e110070322c93dab33fdd2', True, False, 'GreenNode/GreenNodeLM-7B-v4leo']\n"
     ]
    },
    {
     "name": "stderr",
     "output_type": "stream",
     "text": [
      "715it [02:58,  4.38it/s]"
     ]
    },
    {
     "name": "stdout",
     "output_type": "stream",
     "text": [
      "Failed to fetch: ['🔶', '<a target=\"_blank\" href=\"https://huggingface.co/arlineka/CatNyanster-34b\" style=\"color: var(--link-text-color); text-decoration: underline;text-decoration-style: dotted;\">arlineka/CatNyanster-34b</a>  <a target=\"_blank\" href=\"https://huggingface.co/datasets/open-llm-leaderboard/details_arlineka__CatNyanster-34b\" style=\"color: var(--link-text-color); text-decoration: underline;text-decoration-style: dotted;\">📑</a>', 74.03, 68.26, 85.69, 78.18, 56.63, 84.29, 71.11, 'fine-tuned on domain-specific datasets', 'LlamaForCausalLM', 'Original', 'bfloat16', False, 'cc-by-nc-4.0', 34.39, 0, False, '96309889e5b06d9e6f183b85a727a0f5631583e0', False, False, 'arlineka/CatNyanster-34b']\n"
     ]
    },
    {
     "name": "stderr",
     "output_type": "stream",
     "text": [
      "722it [02:59,  4.52it/s]"
     ]
    },
    {
     "name": "stdout",
     "output_type": "stream",
     "text": [
      "Failed to fetch: ['💬', '<a target=\"_blank\" href=\"https://huggingface.co/DreadPoor/WhyAreWeStillHere-7B-slerp\" style=\"color: var(--link-text-color); text-decoration: underline;text-decoration-style: dotted;\">DreadPoor/WhyAreWeStillHere-7B-slerp</a>  <a target=\"_blank\" href=\"https://huggingface.co/datasets/open-llm-leaderboard/details_DreadPoor__WhyAreWeStillHere-7B-slerp\" style=\"color: var(--link-text-color); text-decoration: underline;text-decoration-style: dotted;\">📑</a>', 73.96, 71.67, 88.25, 64.92, 68.12, 85.48, 65.35, 'chat models (RLHF, DPO, IFT, ...)', 'MistralForCausalLM', 'Original', 'bfloat16', False, 'apache-2.0', 7.24, 0, False, 'e973ef8cbbd0728edfe25b3999abc24a5b50e81d', False, False, 'DreadPoor/WhyAreWeStillHere-7B-slerp']\n"
     ]
    },
    {
     "name": "stderr",
     "output_type": "stream",
     "text": [
      "724it [03:00,  4.54it/s]"
     ]
    },
    {
     "name": "stdout",
     "output_type": "stream",
     "text": [
      "Failed to fetch: ['🔶', '<a target=\"_blank\" href=\"https://huggingface.co/AA051610/C0325-L\" style=\"color: var(--link-text-color); text-decoration: underline;text-decoration-style: dotted;\">AA051610/C0325-L</a>  <a target=\"_blank\" href=\"https://huggingface.co/datasets/open-llm-leaderboard/details_AA051610__C0325-L\" style=\"color: var(--link-text-color); text-decoration: underline;text-decoration-style: dotted;\">📑</a>', 73.96, 67.58, 87.43, 74.72, 58.66, 80.82, 74.53, 'fine-tuned on domain-specific datasets', 'CohereForCausalLM', 'Original', 'bfloat16', False, 'gpl', 34.98, 0, False, '130e9c0ef3ca571a17a07d18ac00d655f7880245', False, False, 'AA051610/C0325-L']\n"
     ]
    },
    {
     "name": "stderr",
     "output_type": "stream",
     "text": [
      "726it [03:00,  4.59it/s]"
     ]
    },
    {
     "name": "stdout",
     "output_type": "stream",
     "text": [
      "Failed to fetch: ['🔶', '<a target=\"_blank\" href=\"https://huggingface.co/zhengr/MixTAO-7Bx2-MoE-DPO\" style=\"color: var(--link-text-color); text-decoration: underline;text-decoration-style: dotted;\">zhengr/MixTAO-7Bx2-MoE-DPO</a>  <a target=\"_blank\" href=\"https://huggingface.co/datasets/open-llm-leaderboard/details_zhengr__MixTAO-7Bx2-MoE-DPO\" style=\"color: var(--link-text-color); text-decoration: underline;text-decoration-style: dotted;\">📑</a>', 73.94, 70.9, 87.12, 64.72, 69.34, 81.22, 70.36, 'fine-tuned on domain-specific datasets', 'MixtralForCausalLM', 'Original', 'float16', False, '?', 12.88, 0, False, '911149cad645ccb189cb403c16bbed98df18dfd6', False, True, 'zhengr/MixTAO-7Bx2-MoE-DPO']\n"
     ]
    },
    {
     "name": "stderr",
     "output_type": "stream",
     "text": [
      "740it [03:04,  4.21it/s]"
     ]
    },
    {
     "name": "stdout",
     "output_type": "stream",
     "text": [
      "Failed to fetch: ['💬', '<a target=\"_blank\" href=\"https://huggingface.co/yunconglong/10.7Bx2_DPO_200\" style=\"color: var(--link-text-color); text-decoration: underline;text-decoration-style: dotted;\">yunconglong/10.7Bx2_DPO_200</a>  <a target=\"_blank\" href=\"https://huggingface.co/datasets/open-llm-leaderboard/details_yunconglong__10.7Bx2_DPO_200\" style=\"color: var(--link-text-color); text-decoration: underline;text-decoration-style: dotted;\">📑</a>', 73.83, 70.22, 88.23, 66.25, 75.38, 81.93, 60.96, 'chat models (RLHF, DPO, IFT, ...)', 'MixtralForCausalLM', 'Original', 'bfloat16', False, 'mit', 19.19, 0, False, 'e6e9534becf65017d359db8704e6bcc9caf3ff60', False, False, 'yunconglong/10.7Bx2_DPO_200']\n"
     ]
    },
    {
     "name": "stderr",
     "output_type": "stream",
     "text": [
      "757it [03:08,  3.79it/s]"
     ]
    },
    {
     "name": "stdout",
     "output_type": "stream",
     "text": [
      "Failed to fetch: ['🤝', '<a target=\"_blank\" href=\"https://huggingface.co/louisbrulenaudet/Pearl-34B-dare\" style=\"color: var(--link-text-color); text-decoration: underline;text-decoration-style: dotted;\">louisbrulenaudet/Pearl-34B-dare</a>  <a target=\"_blank\" href=\"https://huggingface.co/datasets/open-llm-leaderboard/details_louisbrulenaudet__Pearl-34B-dare\" style=\"color: var(--link-text-color); text-decoration: underline;text-decoration-style: dotted;\">📑</a>', 73.71, 68.43, 83.61, 76.4, 68.5, 81.77, 63.53, 'base merges and moerges', 'LlamaForCausalLM', 'Original', 'bfloat16', False, 'apache-2.0', 34.39, 0, False, '8c37fc9bad0de353a597b133a1570b556211c01b', False, False, 'louisbrulenaudet/Pearl-34B-dare']\n"
     ]
    },
    {
     "name": "stderr",
     "output_type": "stream",
     "text": [
      "764it [03:10,  3.54it/s]"
     ]
    },
    {
     "name": "stdout",
     "output_type": "stream",
     "text": [
      "Failed to fetch: ['🔶', '<a target=\"_blank\" href=\"https://huggingface.co/AiMavenAi/MavenWest\" style=\"color: var(--link-text-color); text-decoration: underline;text-decoration-style: dotted;\">AiMavenAi/MavenWest</a>  <a target=\"_blank\" href=\"https://huggingface.co/datasets/open-llm-leaderboard/details_AiMavenAi__MavenWest\" style=\"color: var(--link-text-color); text-decoration: underline;text-decoration-style: dotted;\">📑</a>', 73.68, 71.59, 88.44, 64.63, 65.29, 83.27, 68.84, 'fine-tuned on domain-specific datasets', 'MistralForCausalLM', 'Original', 'bfloat16', False, 'cc-by-nc-nd-4.0', 7.24, 0, False, '91075cfad3fe5a4bf08475e2b45fd9399a8ad368', False, False, 'AiMavenAi/MavenWest']\n"
     ]
    },
    {
     "name": "stderr",
     "output_type": "stream",
     "text": [
      "772it [03:12,  4.70it/s]"
     ]
    },
    {
     "name": "stdout",
     "output_type": "stream",
     "text": [
      "Failed to fetch: ['🔶', '<a target=\"_blank\" href=\"https://huggingface.co/AA051612/A0125\" style=\"color: var(--link-text-color); text-decoration: underline;text-decoration-style: dotted;\">AA051612/A0125</a>  <a target=\"_blank\" href=\"https://huggingface.co/datasets/open-llm-leaderboard/details_AA051612__A0125\" style=\"color: var(--link-text-color); text-decoration: underline;text-decoration-style: dotted;\">📑</a>', 73.63, 69.71, 85, 86.64, 60.27, 80.51, 59.67, 'fine-tuned on domain-specific datasets', 'LlamaForCausalLM', 'Original', 'bfloat16', False, 'gpl', 34.39, 0, False, '194a9c07a60f6064fe77adb0daf378d0ded7ac43', False, False, 'AA051612/A0125']\n"
     ]
    },
    {
     "name": "stderr",
     "output_type": "stream",
     "text": [
      "781it [03:15,  4.18it/s]"
     ]
    },
    {
     "name": "stdout",
     "output_type": "stream",
     "text": [
      "Failed to fetch: ['💬', '<a target=\"_blank\" href=\"https://huggingface.co/CultriX/MistralTrix-SLERP\" style=\"color: var(--link-text-color); text-decoration: underline;text-decoration-style: dotted;\">CultriX/MistralTrix-SLERP</a>  <a target=\"_blank\" href=\"https://huggingface.co/datasets/open-llm-leaderboard/details_CultriX__MistralTrix-SLERP\" style=\"color: var(--link-text-color); text-decoration: underline;text-decoration-style: dotted;\">📑</a>', 73.58, 70.82, 87.54, 64.98, 65.35, 81.69, 71.11, 'chat models (RLHF, DPO, IFT, ...)', 'MistralForCausalLM', 'Original', 'bfloat16', False, '?', 7.24, 0, False, 'ebc368fef4f5f6d3bef7d7839e58afd1c4dd3bfc', False, False, 'CultriX/MistralTrix-SLERP']\n"
     ]
    },
    {
     "name": "stderr",
     "output_type": "stream",
     "text": [
      "791it [03:17,  4.51it/s]"
     ]
    },
    {
     "name": "stdout",
     "output_type": "stream",
     "text": [
      "Failed to fetch: ['🔶', '<a target=\"_blank\" href=\"https://huggingface.co/AA051610/A0127\" style=\"color: var(--link-text-color); text-decoration: underline;text-decoration-style: dotted;\">AA051610/A0127</a>  <a target=\"_blank\" href=\"https://huggingface.co/datasets/open-llm-leaderboard/details_AA051610__A0127\" style=\"color: var(--link-text-color); text-decoration: underline;text-decoration-style: dotted;\">📑</a>', 73.49, 68.6, 84.51, 84.9, 58.38, 79.87, 64.67, 'fine-tuned on domain-specific datasets', 'LlamaForCausalLM', 'Original', 'bfloat16', False, 'gpl', 34.39, 0, False, '68ea5286e3925a8dce3d791ab35dd978c1245ec7', False, False, 'AA051610/A0127']\n"
     ]
    },
    {
     "name": "stderr",
     "output_type": "stream",
     "text": [
      "796it [03:18,  4.61it/s]"
     ]
    },
    {
     "name": "stdout",
     "output_type": "stream",
     "text": [
      "Failed to fetch: ['🤝', '<a target=\"_blank\" href=\"https://huggingface.co/louisbrulenaudet/Pearl-7B-0210-dare\" style=\"color: var(--link-text-color); text-decoration: underline;text-decoration-style: dotted;\">louisbrulenaudet/Pearl-7B-0210-dare</a>  <a target=\"_blank\" href=\"https://huggingface.co/datasets/open-llm-leaderboard/details_louisbrulenaudet__Pearl-7B-0210-dare\" style=\"color: var(--link-text-color); text-decoration: underline;text-decoration-style: dotted;\">📑</a>', 73.46, 70.9, 88.8, 61.69, 71.46, 84.53, 63.38, 'base merges and moerges', 'MistralForCausalLM', 'Original', 'float16', False, '?', 7.24, 0, False, 'b29298bbe30bba7c6aef25ef21cb9f4d470a10e2', False, False, 'louisbrulenaudet/Pearl-7B-0210-dare']\n"
     ]
    },
    {
     "name": "stderr",
     "output_type": "stream",
     "text": [
      "826it [03:26,  4.25it/s]"
     ]
    },
    {
     "name": "stdout",
     "output_type": "stream",
     "text": [
      "Failed to fetch: ['🟢', '<a target=\"_blank\" href=\"https://huggingface.co/cloudyu/Mixtral_7Bx6_MoE_35B\" style=\"color: var(--link-text-color); text-decoration: underline;text-decoration-style: dotted;\">cloudyu/Mixtral_7Bx6_MoE_35B</a>  <a target=\"_blank\" href=\"https://huggingface.co/datasets/open-llm-leaderboard/details_cloudyu__Mixtral_7Bx6_MoE_35B\" style=\"color: var(--link-text-color); text-decoration: underline;text-decoration-style: dotted;\">📑</a>', 73.32, 70.14, 86.77, 64.74, 65.79, 81.06, 71.42, 'pretrained', 'MixtralForCausalLM', 'Original', 'bfloat16', False, '?', 35.43, 0, False, 'e1b7ae70975e235240f8a6b998eab635f37eb342', False, True, 'cloudyu/Mixtral_7Bx6_MoE_35B']\n"
     ]
    },
    {
     "name": "stderr",
     "output_type": "stream",
     "text": [
      "830it [03:27,  4.48it/s]"
     ]
    },
    {
     "name": "stdout",
     "output_type": "stream",
     "text": [
      "Failed to fetch: ['🔶', '<a target=\"_blank\" href=\"https://huggingface.co/cloudyu/Mixtral_7Bx6_MoE_35B\" style=\"color: var(--link-text-color); text-decoration: underline;text-decoration-style: dotted;\">cloudyu/Mixtral_7Bx6_MoE_35B</a>  <a target=\"_blank\" href=\"https://huggingface.co/datasets/open-llm-leaderboard/details_cloudyu__Mixtral_7Bx6_MoE_35B\" style=\"color: var(--link-text-color); text-decoration: underline;text-decoration-style: dotted;\">📑</a>', 73.31, 69.97, 86.82, 64.91, 65.77, 81.14, 71.27, 'fine-tuned on domain-specific datasets', 'MixtralForCausalLM', 'Original', 'float16', False, '?', 35.43, 0, False, 'e1b7ae70975e235240f8a6b998eab635f37eb342', False, True, 'cloudyu/Mixtral_7Bx6_MoE_35B']\n"
     ]
    },
    {
     "name": "stderr",
     "output_type": "stream",
     "text": [
      "834it [03:28,  4.55it/s]"
     ]
    },
    {
     "name": "stdout",
     "output_type": "stream",
     "text": [
      "Failed to fetch: ['💬', '<a target=\"_blank\" href=\"https://huggingface.co/GreenNode/GreenNodeLM-7B-v2leo\" style=\"color: var(--link-text-color); text-decoration: underline;text-decoration-style: dotted;\">GreenNode/GreenNodeLM-7B-v2leo</a>  <a target=\"_blank\" href=\"https://huggingface.co/datasets/open-llm-leaderboard/details_GreenNode__GreenNodeLM-7B-v2leo\" style=\"color: var(--link-text-color); text-decoration: underline;text-decoration-style: dotted;\">📑</a> has been flagged! <a target=\"_blank\" href=\"https://huggingface.co/spaces/HuggingFaceH4/open_llm_leaderboard/discussions/474\" style=\"color: var(--link-text-color); text-decoration: underline;text-decoration-style: dotted;\">See discussion #474</a>', 73.29, 69.8, 88.02, 65, 67.83, 82, 67.1, 'chat models (RLHF, DPO, IFT, ...)', 'Unknown', 'Original', 'float16', False, '?', 7.24, 0, False, 'e5a0955eb36568aa850cd73debbe9815a9d1e60a', True, False, 'GreenNode/GreenNodeLM-7B-v2leo']\n"
     ]
    },
    {
     "name": "stderr",
     "output_type": "stream",
     "text": [
      "845it [03:31,  3.70it/s]"
     ]
    },
    {
     "name": "stdout",
     "output_type": "stream",
     "text": [
      "Failed to fetch: ['🤝', '<a target=\"_blank\" href=\"https://huggingface.co/ZoidBB/MultiKory-0.1-4x11b-pre1\" style=\"color: var(--link-text-color); text-decoration: underline;text-decoration-style: dotted;\">ZoidBB/MultiKory-0.1-4x11b-pre1</a>  <a target=\"_blank\" href=\"https://huggingface.co/datasets/open-llm-leaderboard/details_ZoidBB__MultiKory-0.1-4x11b-pre1\" style=\"color: var(--link-text-color); text-decoration: underline;text-decoration-style: dotted;\">📑</a>', 73.23, 72.87, 87.9, 64.6, 67.67, 85.4, 60.96, 'base merges and moerges', 'MixtralForCausalLM', 'Original', 'float16', False, 'apache-2.0', 36.1, 0, False, '894dacf37534e90519b4f29ce618922e19adf934', False, False, 'ZoidBB/MultiKory-0.1-4x11b-pre1']\n"
     ]
    },
    {
     "name": "stderr",
     "output_type": "stream",
     "text": [
      "852it [03:33,  3.66it/s]"
     ]
    },
    {
     "name": "stdout",
     "output_type": "stream",
     "text": [
      "Failed to fetch: ['💬', '<a target=\"_blank\" href=\"https://huggingface.co/DreadPoor/Sphinx-7B-Model_Stock\" style=\"color: var(--link-text-color); text-decoration: underline;text-decoration-style: dotted;\">DreadPoor/Sphinx-7B-Model_Stock</a>  <a target=\"_blank\" href=\"https://huggingface.co/datasets/open-llm-leaderboard/details_DreadPoor__Sphinx-7B-Model_Stock\" style=\"color: var(--link-text-color); text-decoration: underline;text-decoration-style: dotted;\">📑</a>', 73.2, 70.9, 87.2, 64.8, 65.12, 83.03, 68.16, 'chat models (RLHF, DPO, IFT, ...)', 'MistralForCausalLM', 'Original', 'bfloat16', False, 'apache-2.0', 7.24, 0, False, '379ed74d2b2867f1c2d5f041917dca8c93944781', False, False, 'DreadPoor/Sphinx-7B-Model_Stock']\n"
     ]
    },
    {
     "name": "stderr",
     "output_type": "stream",
     "text": [
      "857it [03:35,  2.94it/s]"
     ]
    },
    {
     "name": "stdout",
     "output_type": "stream",
     "text": [
      "Failed to fetch: ['💬', '<a target=\"_blank\" href=\"https://huggingface.co/CultriX/MistralTrixTest\" style=\"color: var(--link-text-color); text-decoration: underline;text-decoration-style: dotted;\">CultriX/MistralTrixTest</a>  <a target=\"_blank\" href=\"https://huggingface.co/datasets/open-llm-leaderboard/details_CultriX__MistralTrixTest\" style=\"color: var(--link-text-color); text-decoration: underline;text-decoration-style: dotted;\">📑</a>', 73.17, 72.53, 88.4, 65.22, 70.77, 81.37, 60.73, 'chat models (RLHF, DPO, IFT, ...)', '?', 'Original', 'bfloat16', False, '?', 8.99, 0, False, '4e6a6b8022ce4b3b71b332c3389067613bd7f850', False, False, 'CultriX/MistralTrixTest']\n"
     ]
    },
    {
     "name": "stderr",
     "output_type": "stream",
     "text": [
      "862it [03:36,  4.10it/s]"
     ]
    },
    {
     "name": "stdout",
     "output_type": "stream",
     "text": [
      "Failed to fetch: ['🔶', '<a target=\"_blank\" href=\"https://huggingface.co/AA051615/A0204\" style=\"color: var(--link-text-color); text-decoration: underline;text-decoration-style: dotted;\">AA051615/A0204</a>  <a target=\"_blank\" href=\"https://huggingface.co/datasets/open-llm-leaderboard/details_AA051615__A0204\" style=\"color: var(--link-text-color); text-decoration: underline;text-decoration-style: dotted;\">📑</a>', 73.14, 70.31, 84.42, 86.86, 57.94, 80.82, 58.53, 'fine-tuned on domain-specific datasets', 'LlamaForCausalLM', 'Original', 'bfloat16', False, 'gpl', 34.39, 0, False, '5f2395801bf236bb5d6a0b5ca48122b261f7a2cf', False, False, 'AA051615/A0204']\n"
     ]
    },
    {
     "name": "stderr",
     "output_type": "stream",
     "text": [
      "878it [03:40,  3.71it/s]"
     ]
    },
    {
     "name": "stdout",
     "output_type": "stream",
     "text": [
      "Failed to fetch: ['💬', '<a target=\"_blank\" href=\"https://huggingface.co/argilla/notux-8x7b-v1-epoch-2\" style=\"color: var(--link-text-color); text-decoration: underline;text-decoration-style: dotted;\">argilla/notux-8x7b-v1-epoch-2</a>  <a target=\"_blank\" href=\"https://huggingface.co/datasets/open-llm-leaderboard/details_argilla__notux-8x7b-v1-epoch-2\" style=\"color: var(--link-text-color); text-decoration: underline;text-decoration-style: dotted;\">📑</a>', 73.05, 70.65, 87.8, 71.43, 65.97, 82.08, 60.35, 'chat models (RLHF, DPO, IFT, ...)', 'Unknown', 'Original', 'bfloat16', False, '?', 0, 0, False, 'bd3924498c3ae041334be5018cd912b6537a633c', False, False, 'argilla/notux-8x7b-v1-epoch-2']\n"
     ]
    },
    {
     "name": "stderr",
     "output_type": "stream",
     "text": [
      "882it [03:41,  3.80it/s]"
     ]
    },
    {
     "name": "stdout",
     "output_type": "stream",
     "text": [
      "Failed to fetch: ['🔶', '<a target=\"_blank\" href=\"https://huggingface.co/shadowml/Marcoro14-7B-ties\" style=\"color: var(--link-text-color); text-decoration: underline;text-decoration-style: dotted;\">shadowml/Marcoro14-7B-ties</a>  <a target=\"_blank\" href=\"https://huggingface.co/datasets/open-llm-leaderboard/details_shadowml__Marcoro14-7B-ties\" style=\"color: var(--link-text-color); text-decoration: underline;text-decoration-style: dotted;\">📑</a>', 73.01, 69.8, 87.13, 65.11, 63.54, 81.61, 70.89, 'fine-tuned on domain-specific datasets', 'Unknown', 'Original', 'bfloat16', False, '?', 7.24, 0, False, '060737a4e7e8619b8d7c1180a6cc5b1a7c1d87fa', False, False, 'shadowml/Marcoro14-7B-ties']\n"
     ]
    },
    {
     "name": "stderr",
     "output_type": "stream",
     "text": [
      "887it [03:42,  3.64it/s]"
     ]
    },
    {
     "name": "stdout",
     "output_type": "stream",
     "text": [
      "Failed to fetch: ['💬', '<a target=\"_blank\" href=\"https://huggingface.co/DreadPoor/RoyalNoroichi-7B-slerp\" style=\"color: var(--link-text-color); text-decoration: underline;text-decoration-style: dotted;\">DreadPoor/RoyalNoroichi-7B-slerp</a>  <a target=\"_blank\" href=\"https://huggingface.co/datasets/open-llm-leaderboard/details_DreadPoor__RoyalNoroichi-7B-slerp\" style=\"color: var(--link-text-color); text-decoration: underline;text-decoration-style: dotted;\">📑</a>', 72.98, 70.48, 87.38, 64.78, 66.28, 82.24, 66.72, 'chat models (RLHF, DPO, IFT, ...)', 'MistralForCausalLM', 'Original', 'bfloat16', False, '?', 7.24, 0, False, 'ff742ddb9b730e68dd0d3c875ee207b2335d9046', False, False, 'DreadPoor/RoyalNoroichi-7B-slerp']\n"
     ]
    },
    {
     "name": "stderr",
     "output_type": "stream",
     "text": [
      "889it [03:42,  4.05it/s]"
     ]
    },
    {
     "name": "stdout",
     "output_type": "stream",
     "text": [
      "Failed to fetch: ['🔶', '<a target=\"_blank\" href=\"https://huggingface.co/Sao10K/Test-Instruct-Solar-v1\" style=\"color: var(--link-text-color); text-decoration: underline;text-decoration-style: dotted;\">Sao10K/Test-Instruct-Solar-v1</a>  <a target=\"_blank\" href=\"https://huggingface.co/datasets/open-llm-leaderboard/details_Sao10K__Test-Instruct-Solar-v1\" style=\"color: var(--link-text-color); text-decoration: underline;text-decoration-style: dotted;\">📑</a>', 72.97, 70.39, 87.76, 66.33, 62.64, 83.9, 66.79, 'fine-tuned on domain-specific datasets', 'LlamaForCausalLM', 'Original', 'float16', False, 'cc-by-nc-4.0', 0, 0, False, 'ff1f0d2ad57618ad9bcf526d74d8304605ffd567', False, False, 'Sao10K/Test-Instruct-Solar-v1']\n"
     ]
    },
    {
     "name": "stderr",
     "output_type": "stream",
     "text": [
      "890it [03:43,  4.05it/s]"
     ]
    },
    {
     "name": "stdout",
     "output_type": "stream",
     "text": [
      "Failed to fetch: ['🔶', '<a target=\"_blank\" href=\"https://huggingface.co/AA051611/whattest\" style=\"color: var(--link-text-color); text-decoration: underline;text-decoration-style: dotted;\">AA051611/whattest</a>  <a target=\"_blank\" href=\"https://huggingface.co/datasets/open-llm-leaderboard/details_AA051611__whattest\" style=\"color: var(--link-text-color); text-decoration: underline;text-decoration-style: dotted;\">📑</a>', 72.96, 66.81, 84.43, 76.59, 58.04, 82.48, 69.45, 'fine-tuned on domain-specific datasets', 'LlamaForCausalLM', 'Original', 'bfloat16', False, '?', 0, 0, False, '598102a9a810986c05b9aa216507be57d93de4fc', False, False, 'AA051611/whattest']\n"
     ]
    },
    {
     "name": "stderr",
     "output_type": "stream",
     "text": [
      "891it [03:43,  4.27it/s]"
     ]
    },
    {
     "name": "stdout",
     "output_type": "stream",
     "text": [
      "Failed to fetch: ['💬', '<a target=\"_blank\" href=\"https://huggingface.co/DreadPoor/Cognate-7B-slerp\" style=\"color: var(--link-text-color); text-decoration: underline;text-decoration-style: dotted;\">DreadPoor/Cognate-7B-slerp</a>  <a target=\"_blank\" href=\"https://huggingface.co/datasets/open-llm-leaderboard/details_DreadPoor__Cognate-7B-slerp\" style=\"color: var(--link-text-color); text-decoration: underline;text-decoration-style: dotted;\">📑</a>', 72.96, 70.48, 87.33, 64.85, 65.16, 82.56, 67.4, 'chat models (RLHF, DPO, IFT, ...)', 'MistralForCausalLM', 'Original', 'bfloat16', False, '?', 7.24, 0, False, 'd2134aefee7d7bf22694991867bf2ba9ac992396', False, False, 'DreadPoor/Cognate-7B-slerp']\n"
     ]
    },
    {
     "name": "stderr",
     "output_type": "stream",
     "text": [
      "912it [03:48,  3.50it/s]"
     ]
    },
    {
     "name": "stdout",
     "output_type": "stream",
     "text": [
      "Failed to fetch: ['🔶', '<a target=\"_blank\" href=\"https://huggingface.co/AA051611/O0201\" style=\"color: var(--link-text-color); text-decoration: underline;text-decoration-style: dotted;\">AA051611/O0201</a>  <a target=\"_blank\" href=\"https://huggingface.co/datasets/open-llm-leaderboard/details_AA051611__O0201\" style=\"color: var(--link-text-color); text-decoration: underline;text-decoration-style: dotted;\">📑</a>', 72.81, 67.83, 84.49, 89.35, 58.63, 79.79, 56.79, 'fine-tuned on domain-specific datasets', 'LlamaForCausalLM', 'Original', 'bfloat16', False, 'gpl', 0, 0, False, 'a198e7afd29087237d6346114e75482deaf99fe4', False, False, 'AA051611/O0201']\n"
     ]
    },
    {
     "name": "stderr",
     "output_type": "stream",
     "text": [
      "916it [03:49,  4.32it/s]"
     ]
    },
    {
     "name": "stdout",
     "output_type": "stream",
     "text": [
      "Failed to fetch: ['🤝', '<a target=\"_blank\" href=\"https://huggingface.co/Ppoyaa/Lumina\" style=\"color: var(--link-text-color); text-decoration: underline;text-decoration-style: dotted;\">Ppoyaa/Lumina</a>  <a target=\"_blank\" href=\"https://huggingface.co/datasets/open-llm-leaderboard/details_Ppoyaa__Lumina\" style=\"color: var(--link-text-color); text-decoration: underline;text-decoration-style: dotted;\">📑</a>', 72.81, 69.71, 87.35, 64.5, 68.24, 81.77, 65.28, 'base merges and moerges', 'MixtralForCausalLM', 'Original', 'bfloat16', False, 'apache-2.0', 12.88, 0, False, '05f54333fc3a9a69f6a95744d411332cc63d175e', False, False, 'Ppoyaa/Lumina']\n"
     ]
    },
    {
     "name": "stderr",
     "output_type": "stream",
     "text": [
      "924it [03:51,  4.22it/s]"
     ]
    },
    {
     "name": "stdout",
     "output_type": "stream",
     "text": [
      "Failed to fetch: ['🔶', '<a target=\"_blank\" href=\"https://huggingface.co/AA051612/A0124\" style=\"color: var(--link-text-color); text-decoration: underline;text-decoration-style: dotted;\">AA051612/A0124</a>  <a target=\"_blank\" href=\"https://huggingface.co/datasets/open-llm-leaderboard/details_AA051612__A0124\" style=\"color: var(--link-text-color); text-decoration: underline;text-decoration-style: dotted;\">📑</a>', 72.79, 67.83, 84.71, 83.7, 56.52, 80.74, 63.23, 'fine-tuned on domain-specific datasets', 'LlamaForCausalLM', 'Original', 'bfloat16', False, 'gpl', 34.39, 0, False, '1ff7135939ad6f5e4931703cf251134fa87b3432', False, False, 'AA051612/A0124']\n"
     ]
    },
    {
     "name": "stderr",
     "output_type": "stream",
     "text": [
      "928it [03:52,  3.98it/s]Invalid model-index. Not loading eval results into CardData.\n",
      "935it [03:54,  4.58it/s]"
     ]
    },
    {
     "name": "stdout",
     "output_type": "stream",
     "text": [
      "Failed to fetch: ['🤝', '<a target=\"_blank\" href=\"https://huggingface.co/Inv/Konstanta-Gamma-V2-9B\" style=\"color: var(--link-text-color); text-decoration: underline;text-decoration-style: dotted;\">Inv/Konstanta-Gamma-V2-9B</a>  <a target=\"_blank\" href=\"https://huggingface.co/datasets/open-llm-leaderboard/details_Inv__Konstanta-Gamma-V2-9B\" style=\"color: var(--link-text-color); text-decoration: underline;text-decoration-style: dotted;\">📑</a>', 72.72, 69.88, 86.84, 64.22, 68.85, 82.87, 63.68, 'base merges and moerges', 'MistralForCausalLM', 'Original', 'bfloat16', False, 'apache-2.0', 8.99, 0, False, '7af8365a3e990f2811231d9c521acf22a11381a9', False, False, 'Inv/Konstanta-Gamma-V2-9B']\n"
     ]
    },
    {
     "name": "stderr",
     "output_type": "stream",
     "text": [
      "947it [03:57,  4.00it/s]"
     ]
    },
    {
     "name": "stdout",
     "output_type": "stream",
     "text": [
      "Failed to fetch: ['💬', '<a target=\"_blank\" href=\"https://huggingface.co/DreadPoor/ComplectMaid-7B-slerp\" style=\"color: var(--link-text-color); text-decoration: underline;text-decoration-style: dotted;\">DreadPoor/ComplectMaid-7B-slerp</a>  <a target=\"_blank\" href=\"https://huggingface.co/datasets/open-llm-leaderboard/details_DreadPoor__ComplectMaid-7B-slerp\" style=\"color: var(--link-text-color); text-decoration: underline;text-decoration-style: dotted;\">📑</a>', 72.63, 69.97, 87.34, 64.62, 65.88, 82.08, 65.88, 'chat models (RLHF, DPO, IFT, ...)', 'MistralForCausalLM', 'Original', 'bfloat16', False, 'apache-2.0', 7.24, 0, False, 'ea7732f9ee3dbd7ef7c3dee9600eabab04837b4b', False, False, 'DreadPoor/ComplectMaid-7B-slerp']\n"
     ]
    },
    {
     "name": "stderr",
     "output_type": "stream",
     "text": [
      "963it [04:01,  4.41it/s]"
     ]
    },
    {
     "name": "stdout",
     "output_type": "stream",
     "text": [
      "Failed to fetch: ['💬', '<a target=\"_blank\" href=\"https://huggingface.co/DreadPoor/EveryNight-7B-slerp\" style=\"color: var(--link-text-color); text-decoration: underline;text-decoration-style: dotted;\">DreadPoor/EveryNight-7B-slerp</a>  <a target=\"_blank\" href=\"https://huggingface.co/datasets/open-llm-leaderboard/details_DreadPoor__EveryNight-7B-slerp\" style=\"color: var(--link-text-color); text-decoration: underline;text-decoration-style: dotted;\">📑</a>', 72.54, 70.05, 87.7, 64.88, 66.07, 82.87, 63.68, 'chat models (RLHF, DPO, IFT, ...)', 'MistralForCausalLM', 'Original', 'bfloat16', False, 'apache-2.0', 7.24, 0, False, 'd9a0f3fc9f72dfe8f5a97084f512d6ace39f9b9f', False, False, 'DreadPoor/EveryNight-7B-slerp']\n"
     ]
    },
    {
     "name": "stderr",
     "output_type": "stream",
     "text": [
      "964it [04:01,  4.48it/s]"
     ]
    },
    {
     "name": "stdout",
     "output_type": "stream",
     "text": [
      "Failed to fetch: ['🔶', '<a target=\"_blank\" href=\"https://huggingface.co/AIDC-ai-business/Marcoroni-7B-v3\" style=\"color: var(--link-text-color); text-decoration: underline;text-decoration-style: dotted;\">AIDC-ai-business/Marcoroni-7B-v3</a>  <a target=\"_blank\" href=\"https://huggingface.co/datasets/open-llm-leaderboard/details_AIDC-ai-business__Marcoroni-7B-v3\" style=\"color: var(--link-text-color); text-decoration: underline;text-decoration-style: dotted;\">📑</a>', 72.53, 69.45, 86.78, 65, 60.4, 81.45, 72.1, 'fine-tuned on domain-specific datasets', 'Unknown', 'Original', 'float16', False, '?', 7, 0, False, '6ec546141522aef9b42d1a014f1a539fcc485c45', False, False, 'AIDC-ai-business/Marcoroni-7B-v3']\n"
     ]
    },
    {
     "name": "stderr",
     "output_type": "stream",
     "text": [
      "979it [04:04,  4.50it/s]"
     ]
    },
    {
     "name": "stdout",
     "output_type": "stream",
     "text": [
      "Failed to fetch: ['🔶', '<a target=\"_blank\" href=\"https://huggingface.co/perlthoughts/Marcoroni-8x7B-v3-MoE\" style=\"color: var(--link-text-color); text-decoration: underline;text-decoration-style: dotted;\">perlthoughts/Marcoroni-8x7B-v3-MoE</a>  <a target=\"_blank\" href=\"https://huggingface.co/datasets/open-llm-leaderboard/details_perlthoughts__Marcoroni-8x7B-v3-MoE\" style=\"color: var(--link-text-color); text-decoration: underline;text-decoration-style: dotted;\">📑</a> has been flagged! <a target=\"_blank\" href=\"https://huggingface.co/spaces/HuggingFaceH4/open_llm_leaderboard/discussions/510\" style=\"color: var(--link-text-color); text-decoration: underline;text-decoration-style: dotted;\">See discussion #510</a>', 72.45, 69.37, 86.78, 65.01, 60.4, 81.45, 71.72, 'fine-tuned on domain-specific datasets', 'MixtralForCausalLM', 'Original', 'float16', False, 'apache-2.0', 46.7, 0, False, '901a733d1c01035bcbe69afd25dd9b4f982cb216', True, True, 'perlthoughts/Marcoroni-8x7B-v3-MoE']\n"
     ]
    },
    {
     "name": "stderr",
     "output_type": "stream",
     "text": [
      "980it [04:05,  3.49it/s]"
     ]
    },
    {
     "name": "stdout",
     "output_type": "stream",
     "text": [
      "Failed to fetch: ['🔶', '<a target=\"_blank\" href=\"https://huggingface.co/fhai50032/RPLakeCoder-TxC\" style=\"color: var(--link-text-color); text-decoration: underline;text-decoration-style: dotted;\">fhai50032/RPLakeCoder-TxC</a>  <a target=\"_blank\" href=\"https://huggingface.co/datasets/open-llm-leaderboard/details_fhai50032__RPLakeCoder-TxC\" style=\"color: var(--link-text-color); text-decoration: underline;text-decoration-style: dotted;\">📑</a>', 72.45, 70.39, 87.36, 64.48, 64.37, 83.11, 64.97, 'fine-tuned on domain-specific datasets', '?', 'Adapter', 'bfloat16', False, 'apache-2.0', 0, 0, False, 'f4e336066a1410547ebcf603f09c15071e646d8f', False, False, 'fhai50032/RPLakeCoder-TxC']\n"
     ]
    },
    {
     "name": "stderr",
     "output_type": "stream",
     "text": [
      "984it [04:06,  4.70it/s]"
     ]
    },
    {
     "name": "stdout",
     "output_type": "stream",
     "text": [
      "Failed to fetch: ['🔶', '<a target=\"_blank\" href=\"https://huggingface.co/fhai50032/RPLakeCoder-TxC\" style=\"color: var(--link-text-color); text-decoration: underline;text-decoration-style: dotted;\">fhai50032/RPLakeCoder-TxC</a>  <a target=\"_blank\" href=\"https://huggingface.co/datasets/open-llm-leaderboard/details_fhai50032__RPLakeCoder-TxC\" style=\"color: var(--link-text-color); text-decoration: underline;text-decoration-style: dotted;\">📑</a>', 72.43, 70.39, 87.35, 64.5, 64.34, 83.43, 64.59, 'fine-tuned on domain-specific datasets', '?', 'Adapter', 'float16', False, 'apache-2.0', 0, 0, False, 'f4e336066a1410547ebcf603f09c15071e646d8f', False, False, 'fhai50032/RPLakeCoder-TxC']\n"
     ]
    },
    {
     "name": "stderr",
     "output_type": "stream",
     "text": [
      "991it [04:07,  4.51it/s]"
     ]
    },
    {
     "name": "stdout",
     "output_type": "stream",
     "text": [
      "Failed to fetch: ['💬', '<a target=\"_blank\" href=\"https://huggingface.co/DreadPoor/IamSoTired-7B-slerp\" style=\"color: var(--link-text-color); text-decoration: underline;text-decoration-style: dotted;\">DreadPoor/IamSoTired-7B-slerp</a>  <a target=\"_blank\" href=\"https://huggingface.co/datasets/open-llm-leaderboard/details_DreadPoor__IamSoTired-7B-slerp\" style=\"color: var(--link-text-color); text-decoration: underline;text-decoration-style: dotted;\">📑</a>', 72.37, 69.88, 87.15, 64.85, 63.75, 82.4, 66.19, 'chat models (RLHF, DPO, IFT, ...)', 'MistralForCausalLM', 'Original', 'bfloat16', False, 'apache-2.0', 7.24, 0, False, 'a389a96d4bf973529d47564b0fe44685422e23cd', False, False, 'DreadPoor/IamSoTired-7B-slerp']\n"
     ]
    },
    {
     "name": "stderr",
     "output_type": "stream",
     "text": [
      "1030it [04:18,  4.28it/s]"
     ]
    },
    {
     "name": "stdout",
     "output_type": "stream",
     "text": [
      "Failed to fetch: ['🔶', '<a target=\"_blank\" href=\"https://huggingface.co/AA051612/A0123\" style=\"color: var(--link-text-color); text-decoration: underline;text-decoration-style: dotted;\">AA051612/A0123</a>  <a target=\"_blank\" href=\"https://huggingface.co/datasets/open-llm-leaderboard/details_AA051612__A0123\" style=\"color: var(--link-text-color); text-decoration: underline;text-decoration-style: dotted;\">📑</a>', 72.19, 67.66, 84.87, 78.45, 58.42, 80.35, 63.38, 'fine-tuned on domain-specific datasets', 'LlamaForCausalLM', 'Original', 'bfloat16', False, 'gpl', 34.39, 0, False, '61f74b991f1a2ae4dd7ca294051ce19bed90cc56', False, False, 'AA051612/A0123']\n"
     ]
    },
    {
     "name": "stderr",
     "output_type": "stream",
     "text": [
      "1040it [04:20,  3.74it/s]"
     ]
    },
    {
     "name": "stdout",
     "output_type": "stream",
     "text": [
      "Failed to fetch: ['🔶', '<a target=\"_blank\" href=\"https://huggingface.co/AA051610/A0120\" style=\"color: var(--link-text-color); text-decoration: underline;text-decoration-style: dotted;\">AA051610/A0120</a>  <a target=\"_blank\" href=\"https://huggingface.co/datasets/open-llm-leaderboard/details_AA051610__A0120\" style=\"color: var(--link-text-color); text-decoration: underline;text-decoration-style: dotted;\">📑</a>', 72.11, 67.06, 85.15, 74.49, 57.48, 81.37, 67.1, 'fine-tuned on domain-specific datasets', 'LlamaForCausalLM', 'Original', 'bfloat16', False, 'gpl', 34.39, 0, False, '5416fc460666cec3cd10c4798f58765e03e67b42', False, False, 'AA051610/A0120']\n"
     ]
    },
    {
     "name": "stderr",
     "output_type": "stream",
     "text": [
      "1045it [04:21,  4.45it/s]"
     ]
    },
    {
     "name": "stdout",
     "output_type": "stream",
     "text": [
      "Failed to fetch: ['🔶', '<a target=\"_blank\" href=\"https://huggingface.co/AA051615/A0221\" style=\"color: var(--link-text-color); text-decoration: underline;text-decoration-style: dotted;\">AA051615/A0221</a>  <a target=\"_blank\" href=\"https://huggingface.co/datasets/open-llm-leaderboard/details_AA051615__A0221\" style=\"color: var(--link-text-color); text-decoration: underline;text-decoration-style: dotted;\">📑</a>', 72.07, 68.52, 85.13, 84.48, 55.13, 81.29, 57.85, 'fine-tuned on domain-specific datasets', 'LlamaForCausalLM', 'Original', 'bfloat16', False, 'gpl', 34.39, 0, False, '5faa6fd16b30b975ec7d18dea9203c186511d910', False, False, 'AA051615/A0221']\n"
     ]
    },
    {
     "name": "stderr",
     "output_type": "stream",
     "text": [
      "1048it [04:22,  3.96it/s]"
     ]
    },
    {
     "name": "stdout",
     "output_type": "stream",
     "text": [
      "Failed to fetch: ['💬', '<a target=\"_blank\" href=\"https://huggingface.co/DreadPoor/ToppyLake-7B-slerp\" style=\"color: var(--link-text-color); text-decoration: underline;text-decoration-style: dotted;\">DreadPoor/ToppyLake-7B-slerp</a>  <a target=\"_blank\" href=\"https://huggingface.co/datasets/open-llm-leaderboard/details_DreadPoor__ToppyLake-7B-slerp\" style=\"color: var(--link-text-color); text-decoration: underline;text-decoration-style: dotted;\">📑</a>', 72.05, 69.2, 86.98, 64.85, 62.54, 82.79, 65.96, 'chat models (RLHF, DPO, IFT, ...)', 'MistralForCausalLM', 'Original', 'bfloat16', False, '?', 7.24, 0, False, '6d083dd5e571749ad0c574897abf473600142b16', False, False, 'DreadPoor/ToppyLake-7B-slerp']\n"
     ]
    },
    {
     "name": "stderr",
     "output_type": "stream",
     "text": [
      "1069it [04:27,  4.35it/s]"
     ]
    },
    {
     "name": "stdout",
     "output_type": "stream",
     "text": [
      "Failed to fetch: ['🟢', '<a target=\"_blank\" href=\"https://huggingface.co/databricks/dbrx-base\" style=\"color: var(--link-text-color); text-decoration: underline;text-decoration-style: dotted;\">databricks/dbrx-base</a>  <a target=\"_blank\" href=\"https://huggingface.co/datasets/open-llm-leaderboard/details_databricks__dbrx-base\" style=\"color: var(--link-text-color); text-decoration: underline;text-decoration-style: dotted;\">📑</a>', 71.9, 66.04, 89, 74.7, 55.07, 78.06, 68.54, 'pretrained', 'Unknown', 'Original', 'bfloat16', False, 'other', 131.6, 529, True, '8c2724d4715132a4a6f3e520cd2b6c6189848c11', False, True, 'databricks/dbrx-base']\n"
     ]
    },
    {
     "name": "stderr",
     "output_type": "stream",
     "text": [
      "1071it [04:27,  4.40it/s]"
     ]
    },
    {
     "name": "stdout",
     "output_type": "stream",
     "text": [
      "Failed to fetch: ['🔶', '<a target=\"_blank\" href=\"https://huggingface.co/AA051611/A0110\" style=\"color: var(--link-text-color); text-decoration: underline;text-decoration-style: dotted;\">AA051611/A0110</a>  <a target=\"_blank\" href=\"https://huggingface.co/datasets/open-llm-leaderboard/details_AA051611__A0110\" style=\"color: var(--link-text-color); text-decoration: underline;text-decoration-style: dotted;\">📑</a>', 71.89, 66.38, 84.73, 74.48, 58.6, 82.32, 64.82, 'fine-tuned on domain-specific datasets', 'LlamaForCausalLM', 'Original', 'bfloat16', False, '?', 34.39, 0, False, '1a15b9aa4acf1327164672edd16ee966b8bc3691', False, False, 'AA051611/A0110']\n"
     ]
    },
    {
     "name": "stderr",
     "output_type": "stream",
     "text": [
      "1085it [04:31,  4.65it/s]"
     ]
    },
    {
     "name": "stdout",
     "output_type": "stream",
     "text": [
      "Failed to fetch: ['🔶', '<a target=\"_blank\" href=\"https://huggingface.co/AA051611/A0109\" style=\"color: var(--link-text-color); text-decoration: underline;text-decoration-style: dotted;\">AA051611/A0109</a>  <a target=\"_blank\" href=\"https://huggingface.co/datasets/open-llm-leaderboard/details_AA051611__A0109\" style=\"color: var(--link-text-color); text-decoration: underline;text-decoration-style: dotted;\">📑</a>', 71.83, 66.55, 84.7, 74.44, 58.75, 82.16, 64.37, 'fine-tuned on domain-specific datasets', 'LlamaForCausalLM', 'Original', 'bfloat16', False, '?', 34.39, 0, False, '2a9cd40c67e0b17d94a0eedafd3d116245613709', False, False, 'AA051611/A0109']\n"
     ]
    },
    {
     "name": "stderr",
     "output_type": "stream",
     "text": [
      "1089it [04:32,  4.07it/s]"
     ]
    },
    {
     "name": "stdout",
     "output_type": "stream",
     "text": [
      "Failed to fetch: ['🔶', '<a target=\"_blank\" href=\"https://huggingface.co/AA051615/A0308-G\" style=\"color: var(--link-text-color); text-decoration: underline;text-decoration-style: dotted;\">AA051615/A0308-G</a>  <a target=\"_blank\" href=\"https://huggingface.co/datasets/open-llm-leaderboard/details_AA051615__A0308-G\" style=\"color: var(--link-text-color); text-decoration: underline;text-decoration-style: dotted;\">📑</a>', 71.81, 68.34, 83.64, 84.07, 54.02, 80.43, 60.35, 'fine-tuned on domain-specific datasets', 'LlamaForCausalLM', 'Original', 'bfloat16', False, 'gpl', 34.39, 0, False, 'c33065e209686b67f3374fffcb11ee7b90aa7983', False, False, 'AA051615/A0308-G']\n"
     ]
    },
    {
     "name": "stderr",
     "output_type": "stream",
     "text": [
      "1090it [04:33,  4.20it/s]"
     ]
    },
    {
     "name": "stdout",
     "output_type": "stream",
     "text": [
      "Failed to fetch: ['🔶', '<a target=\"_blank\" href=\"https://huggingface.co/AA051610/C0318-G\" style=\"color: var(--link-text-color); text-decoration: underline;text-decoration-style: dotted;\">AA051610/C0318-G</a>  <a target=\"_blank\" href=\"https://huggingface.co/datasets/open-llm-leaderboard/details_AA051610__C0318-G\" style=\"color: var(--link-text-color); text-decoration: underline;text-decoration-style: dotted;\">📑</a>', 71.81, 64.51, 83.88, 74.16, 58.61, 79.32, 70.36, 'fine-tuned on domain-specific datasets', 'CohereForCausalLM', 'Original', 'bfloat16', False, 'gpl', 34.98, 0, False, '1fbff466a94c2cc6ed7ec7e21b478f9528caab89', False, False, 'AA051610/C0318-G']\n"
     ]
    },
    {
     "name": "stderr",
     "output_type": "stream",
     "text": [
      "1098it [04:34,  4.54it/s]"
     ]
    },
    {
     "name": "stdout",
     "output_type": "stream",
     "text": [
      "Failed to fetch: ['💬', '<a target=\"_blank\" href=\"https://huggingface.co/DreadPoor/Eros_n_Psyche-7B-Model_Stock\" style=\"color: var(--link-text-color); text-decoration: underline;text-decoration-style: dotted;\">DreadPoor/Eros_n_Psyche-7B-Model_Stock</a>  <a target=\"_blank\" href=\"https://huggingface.co/datasets/open-llm-leaderboard/details_DreadPoor__Eros_n_Psyche-7B-Model_Stock\" style=\"color: var(--link-text-color); text-decoration: underline;text-decoration-style: dotted;\">📑</a>', 71.76, 69.2, 86.25, 65.15, 62.9, 80.58, 66.49, 'chat models (RLHF, DPO, IFT, ...)', 'MistralForCausalLM', 'Original', 'bfloat16', False, 'apache-2.0', 7.24, 0, False, 'f104bb8f4feec304e0f66cb70139412124bacfcf', False, False, 'DreadPoor/Eros_n_Psyche-7B-Model_Stock']\n"
     ]
    },
    {
     "name": "stderr",
     "output_type": "stream",
     "text": [
      "1120it [04:40,  3.81it/s]"
     ]
    },
    {
     "name": "stdout",
     "output_type": "stream",
     "text": [
      "Failed to fetch: ['🤝', '<a target=\"_blank\" href=\"https://huggingface.co/Inv/Konstanta-V3-AlphaFlavour-7B\" style=\"color: var(--link-text-color); text-decoration: underline;text-decoration-style: dotted;\">Inv/Konstanta-V3-AlphaFlavour-7B</a>  <a target=\"_blank\" href=\"https://huggingface.co/datasets/open-llm-leaderboard/details_Inv__Konstanta-V3-AlphaFlavour-7B\" style=\"color: var(--link-text-color); text-decoration: underline;text-decoration-style: dotted;\">📑</a>', 71.64, 68.86, 86.85, 61.17, 71.94, 81.53, 59.51, 'base merges and moerges', 'MistralForCausalLM', 'Original', 'bfloat16', False, 'apache-2.0', 7.24, 0, False, '06f48a60db61e3855fcb4be17ab1c8ade40d6fee', False, False, 'Inv/Konstanta-V3-AlphaFlavour-7B']\n"
     ]
    },
    {
     "name": "stderr",
     "output_type": "stream",
     "text": [
      "1123it [04:41,  4.26it/s]"
     ]
    },
    {
     "name": "stdout",
     "output_type": "stream",
     "text": [
      "Failed to fetch: ['🔶', '<a target=\"_blank\" href=\"https://huggingface.co/AA051612/B0121\" style=\"color: var(--link-text-color); text-decoration: underline;text-decoration-style: dotted;\">AA051612/B0121</a>  <a target=\"_blank\" href=\"https://huggingface.co/datasets/open-llm-leaderboard/details_AA051612__B0121\" style=\"color: var(--link-text-color); text-decoration: underline;text-decoration-style: dotted;\">📑</a>', 71.61, 68.34, 85.3, 85.63, 58.63, 80.19, 51.55, 'fine-tuned on domain-specific datasets', 'LlamaForCausalLM', 'Original', 'bfloat16', False, 'gpl', 34.39, 0, False, '7be68dd360bea0171316ccc646261532599f14dc', False, False, 'AA051612/B0121']\n"
     ]
    },
    {
     "name": "stderr",
     "output_type": "stream",
     "text": [
      "1141it [04:45,  3.86it/s]"
     ]
    },
    {
     "name": "stdout",
     "output_type": "stream",
     "text": [
      "Failed to fetch: ['🔶', '<a target=\"_blank\" href=\"https://huggingface.co/AA051610/A0106\" style=\"color: var(--link-text-color); text-decoration: underline;text-decoration-style: dotted;\">AA051610/A0106</a>  <a target=\"_blank\" href=\"https://huggingface.co/datasets/open-llm-leaderboard/details_AA051610__A0106\" style=\"color: var(--link-text-color); text-decoration: underline;text-decoration-style: dotted;\">📑</a>', 71.53, 66.38, 85.05, 74, 57.88, 82.87, 63, 'fine-tuned on domain-specific datasets', 'Unknown', 'Original', 'bfloat16', False, '?', 34.39, 0, False, '215cbefbc69d22c28181651b5b964c329ca09f59', False, False, 'AA051610/A0106']\n"
     ]
    },
    {
     "name": "stderr",
     "output_type": "stream",
     "text": [
      "1150it [04:47,  3.89it/s]"
     ]
    },
    {
     "name": "stdout",
     "output_type": "stream",
     "text": [
      "Failed to fetch: ['🔶', '<a target=\"_blank\" href=\"https://huggingface.co/AA051610/A0106\" style=\"color: var(--link-text-color); text-decoration: underline;text-decoration-style: dotted;\">AA051610/A0106</a>  <a target=\"_blank\" href=\"https://huggingface.co/datasets/open-llm-leaderboard/details_AA051610__A0106\" style=\"color: var(--link-text-color); text-decoration: underline;text-decoration-style: dotted;\">📑</a>', 71.44, 66.47, 85.05, 74.03, 57.82, 82.72, 62.55, 'fine-tuned on domain-specific datasets', 'Unknown', 'Original', 'float16', False, '?', 34.39, 0, False, '215cbefbc69d22c28181651b5b964c329ca09f59', False, False, 'AA051610/A0106']\n"
     ]
    },
    {
     "name": "stderr",
     "output_type": "stream",
     "text": [
      "1152it [04:48,  3.64it/s]"
     ]
    },
    {
     "name": "stdout",
     "output_type": "stream",
     "text": [
      "Failed to fetch: ['🔶', '<a target=\"_blank\" href=\"https://huggingface.co/AA051615/L0223\" style=\"color: var(--link-text-color); text-decoration: underline;text-decoration-style: dotted;\">AA051615/L0223</a>  <a target=\"_blank\" href=\"https://huggingface.co/datasets/open-llm-leaderboard/details_AA051615__L0223\" style=\"color: var(--link-text-color); text-decoration: underline;text-decoration-style: dotted;\">📑</a>', 71.42, 67.92, 82.99, 82.59, 53.59, 79.79, 61.64, 'fine-tuned on domain-specific datasets', '?', 'Adapter', 'bfloat16', False, 'gpl', 0, 0, False, 'e2819a059ca4f349f9034f2e2096c2d2208875c6', False, False, 'AA051615/L0223']\n"
     ]
    },
    {
     "name": "stderr",
     "output_type": "stream",
     "text": [
      "1165it [04:51,  4.36it/s]"
     ]
    },
    {
     "name": "stdout",
     "output_type": "stream",
     "text": [
      "Failed to fetch: ['🔶', '<a target=\"_blank\" href=\"https://huggingface.co/AA051611/A0113\" style=\"color: var(--link-text-color); text-decoration: underline;text-decoration-style: dotted;\">AA051611/A0113</a>  <a target=\"_blank\" href=\"https://huggingface.co/datasets/open-llm-leaderboard/details_AA051611__A0113\" style=\"color: var(--link-text-color); text-decoration: underline;text-decoration-style: dotted;\">📑</a>', 71.36, 66.38, 84.86, 74.39, 59.65, 82, 60.88, 'fine-tuned on domain-specific datasets', 'LlamaForCausalLM', 'Original', 'bfloat16', False, '?', 34.39, 0, False, '6e36ad0a41135265185038d1d88062d9fb11e8d5', False, False, 'AA051611/A0113']\n"
     ]
    },
    {
     "name": "stderr",
     "output_type": "stream",
     "text": [
      "1167it [04:52,  4.51it/s]"
     ]
    },
    {
     "name": "stdout",
     "output_type": "stream",
     "text": [
      "Failed to fetch: ['🔶', '<a target=\"_blank\" href=\"https://huggingface.co/AA051610/A0121\" style=\"color: var(--link-text-color); text-decoration: underline;text-decoration-style: dotted;\">AA051610/A0121</a>  <a target=\"_blank\" href=\"https://huggingface.co/datasets/open-llm-leaderboard/details_AA051610__A0121\" style=\"color: var(--link-text-color); text-decoration: underline;text-decoration-style: dotted;\">📑</a>', 71.36, 67.15, 85.45, 74.93, 59.61, 80.43, 60.58, 'fine-tuned on domain-specific datasets', 'LlamaForCausalLM', 'Original', 'bfloat16', False, 'gpl', 34.39, 0, False, '2471023d6261084e06eabb6a43b3cf06d4b189d6', False, False, 'AA051610/A0121']\n"
     ]
    },
    {
     "name": "stderr",
     "output_type": "stream",
     "text": [
      "1171it [04:53,  4.01it/s]"
     ]
    },
    {
     "name": "stdout",
     "output_type": "stream",
     "text": [
      "Failed to fetch: ['🔶', '<a target=\"_blank\" href=\"https://huggingface.co/Walmart-the-bag/Solar-10.7B-Cato\" style=\"color: var(--link-text-color); text-decoration: underline;text-decoration-style: dotted;\">Walmart-the-bag/Solar-10.7B-Cato</a>  <a target=\"_blank\" href=\"https://huggingface.co/datasets/open-llm-leaderboard/details_Walmart-the-bag__Solar-10.7B-Cato\" style=\"color: var(--link-text-color); text-decoration: underline;text-decoration-style: dotted;\">📑</a> has been flagged! <a target=\"_blank\" href=\"https://huggingface.co/spaces/HuggingFaceH4/open_llm_leaderboard/discussions/510\" style=\"color: var(--link-text-color); text-decoration: underline;text-decoration-style: dotted;\">See discussion #510</a>', 71.35, 68.69, 86.16, 65.76, 61.68, 81.22, 64.59, 'fine-tuned on domain-specific datasets', 'LlamaForCausalLM', 'Original', 'float16', False, '?', 10.73, 0, False, '16b230f4e663902787254ecb1781c255b7dcc6ea', True, False, 'Walmart-the-bag/Solar-10.7B-Cato']\n"
     ]
    },
    {
     "name": "stderr",
     "output_type": "stream",
     "text": [
      "1173it [04:53,  3.58it/s]"
     ]
    },
    {
     "name": "stdout",
     "output_type": "stream",
     "text": [
      "Failed to fetch: ['🔶', '<a target=\"_blank\" href=\"https://huggingface.co/JaeyeonKang/CCK-v1.3.0-DPO\" style=\"color: var(--link-text-color); text-decoration: underline;text-decoration-style: dotted;\">JaeyeonKang/CCK-v1.3.0-DPO</a>  <a target=\"_blank\" href=\"https://huggingface.co/datasets/open-llm-leaderboard/details_JaeyeonKang__CCK-v1.3.0-DPO\" style=\"color: var(--link-text-color); text-decoration: underline;text-decoration-style: dotted;\">📑</a>', 71.34, 67.49, 86.48, 66.57, 67.81, 84.21, 55.5, 'fine-tuned on domain-specific datasets', 'LlamaForCausalLM', 'Original', 'float16', False, 'cc-by-nc-4.0', 10.86, 0, False, '86818a7076320a0d25d0374b0b6ea096bf4d3404', False, False, 'JaeyeonKang/CCK-v1.3.0-DPO']\n"
     ]
    },
    {
     "name": "stderr",
     "output_type": "stream",
     "text": [
      "1185it [04:56,  4.50it/s]"
     ]
    },
    {
     "name": "stdout",
     "output_type": "stream",
     "text": [
      "Failed to fetch: ['🤝', '<a target=\"_blank\" href=\"https://huggingface.co/Inv/Konstanta-V3-BetaFlavour-7B\" style=\"color: var(--link-text-color); text-decoration: underline;text-decoration-style: dotted;\">Inv/Konstanta-V3-BetaFlavour-7B</a>  <a target=\"_blank\" href=\"https://huggingface.co/datasets/open-llm-leaderboard/details_Inv__Konstanta-V3-BetaFlavour-7B\" style=\"color: var(--link-text-color); text-decoration: underline;text-decoration-style: dotted;\">📑</a>', 71.25, 68.17, 86.88, 61.39, 72.92, 81.29, 56.86, 'base merges and moerges', 'MistralForCausalLM', 'Original', 'bfloat16', False, 'apache-2.0', 7.24, 0, False, '606d81883116273cfc08a027cc454804e755c5d6', False, False, 'Inv/Konstanta-V3-BetaFlavour-7B']\n"
     ]
    },
    {
     "name": "stderr",
     "output_type": "stream",
     "text": [
      "1187it [04:57,  3.75it/s]"
     ]
    },
    {
     "name": "stdout",
     "output_type": "stream",
     "text": [
      "Failed to fetch: ['🔶', '<a target=\"_blank\" href=\"https://huggingface.co/NeuralNovel/Pigris-7b-v0.4\" style=\"color: var(--link-text-color); text-decoration: underline;text-decoration-style: dotted;\">NeuralNovel/Pigris-7b-v0.4</a>  <a target=\"_blank\" href=\"https://huggingface.co/datasets/open-llm-leaderboard/details_NeuralNovel__Pigris-7b-v0.4\" style=\"color: var(--link-text-color); text-decoration: underline;text-decoration-style: dotted;\">📑</a>', 71.23, 66.72, 86.7, 64.78, 55.8, 84.21, 69.14, 'fine-tuned on domain-specific datasets', '?', 'Adapter', 'float16', False, 'apache-2.0', 7, 0, False, '3449a23360a0b8e5ccc014a667a95cd2563f9e08', False, False, 'NeuralNovel/Pigris-7b-v0.4']\n"
     ]
    },
    {
     "name": "stderr",
     "output_type": "stream",
     "text": [
      "1191it [04:58,  4.34it/s]"
     ]
    },
    {
     "name": "stdout",
     "output_type": "stream",
     "text": [
      "Failed to fetch: ['🔶', '<a target=\"_blank\" href=\"https://huggingface.co/Intel/neural-chat-7b-v3-3-Slerp\" style=\"color: var(--link-text-color); text-decoration: underline;text-decoration-style: dotted;\">Intel/neural-chat-7b-v3-3-Slerp</a>  <a target=\"_blank\" href=\"https://huggingface.co/datasets/open-llm-leaderboard/details_Intel__neural-chat-7b-v3-3-Slerp\" style=\"color: var(--link-text-color); text-decoration: underline;text-decoration-style: dotted;\">📑</a>', 71.19, 66.64, 85.43, 62.19, 63.2, 79.72, 69.98, 'fine-tuned on domain-specific datasets', 'MistralForCausalLM', 'Original', 'float16', False, 'apache-2.0', 7, 0, False, 'cbd4f663365e40d50ed9834016bf840971b35db5', False, False, 'Intel/neural-chat-7b-v3-3-Slerp']\n"
     ]
    },
    {
     "name": "stderr",
     "output_type": "stream",
     "text": [
      "1194it [04:58,  4.64it/s]"
     ]
    },
    {
     "name": "stdout",
     "output_type": "stream",
     "text": [
      "Failed to fetch: ['🔶', '<a target=\"_blank\" href=\"https://huggingface.co/AA051611/V0201\" style=\"color: var(--link-text-color); text-decoration: underline;text-decoration-style: dotted;\">AA051611/V0201</a>  <a target=\"_blank\" href=\"https://huggingface.co/datasets/open-llm-leaderboard/details_AA051611__V0201\" style=\"color: var(--link-text-color); text-decoration: underline;text-decoration-style: dotted;\">📑</a>', 71.18, 67.24, 83.3, 88.78, 53.76, 80.51, 53.53, 'fine-tuned on domain-specific datasets', 'LlamaForCausalLM', 'Original', 'bfloat16', False, 'gpl', 0, 0, False, 'd49bbca7c6d24e025a2e1175b29ad9fb955e0680', False, False, 'AA051611/V0201']\n"
     ]
    },
    {
     "name": "stderr",
     "output_type": "stream",
     "text": [
      "1197it [04:59,  4.58it/s]"
     ]
    },
    {
     "name": "stdout",
     "output_type": "stream",
     "text": [
      "Failed to fetch: ['🔶', '<a target=\"_blank\" href=\"https://huggingface.co/Jingyu6/MergeTest-7B-slerp\" style=\"color: var(--link-text-color); text-decoration: underline;text-decoration-style: dotted;\">Jingyu6/MergeTest-7B-slerp</a>  <a target=\"_blank\" href=\"https://huggingface.co/datasets/open-llm-leaderboard/details_Jingyu6__MergeTest-7B-slerp\" style=\"color: var(--link-text-color); text-decoration: underline;text-decoration-style: dotted;\">📑</a>', 71.17, 67.75, 86.15, 63.94, 59.8, 79.64, 69.75, 'fine-tuned on domain-specific datasets', 'MistralForCausalLM', 'Original', 'bfloat16', False, '?', 7.24, 0, False, '0c089098a27b01d577747f3071531a1a9c9d627c', False, False, 'Jingyu6/MergeTest-7B-slerp']\n"
     ]
    },
    {
     "name": "stderr",
     "output_type": "stream",
     "text": [
      "1202it [05:00,  3.98it/s]"
     ]
    },
    {
     "name": "stdout",
     "output_type": "stream",
     "text": [
      "Failed to fetch: ['🤝', '<a target=\"_blank\" href=\"https://huggingface.co/Eric111/Mathral\" style=\"color: var(--link-text-color); text-decoration: underline;text-decoration-style: dotted;\">Eric111/Mathral</a>  <a target=\"_blank\" href=\"https://huggingface.co/datasets/open-llm-leaderboard/details_Eric111__Mathral\" style=\"color: var(--link-text-color); text-decoration: underline;text-decoration-style: dotted;\">📑</a>', 71.13, 66.3, 86.17, 63.27, 58.79, 79.56, 72.71, 'base merges and moerges', 'MistralForCausalLM', 'Original', 'bfloat16', False, 'apache-2.0', 7.24, 0, False, '6c982afd0745eef8105bad500cbb96c4bf676944', False, False, 'Eric111/Mathral']\n"
     ]
    },
    {
     "name": "stderr",
     "output_type": "stream",
     "text": [
      "1203it [05:01,  4.14it/s]"
     ]
    },
    {
     "name": "stdout",
     "output_type": "stream",
     "text": [
      "Failed to fetch: ['🔶', '<a target=\"_blank\" href=\"https://huggingface.co/AA051615/A0304\" style=\"color: var(--link-text-color); text-decoration: underline;text-decoration-style: dotted;\">AA051615/A0304</a>  <a target=\"_blank\" href=\"https://huggingface.co/datasets/open-llm-leaderboard/details_AA051615__A0304\" style=\"color: var(--link-text-color); text-decoration: underline;text-decoration-style: dotted;\">📑</a>', 71.13, 67.58, 82.78, 84.5, 53.35, 78.53, 60.05, 'fine-tuned on domain-specific datasets', 'LlamaForCausalLM', 'Original', 'bfloat16', False, 'gpl', 34.39, 0, False, '48e7b56ee7e9454fed4d6729aad88cbe9c1e8a3d', False, False, 'AA051615/A0304']\n"
     ]
    },
    {
     "name": "stderr",
     "output_type": "stream",
     "text": [
      "1219it [05:04,  4.84it/s]"
     ]
    },
    {
     "name": "stdout",
     "output_type": "stream",
     "text": [
      "Failed to fetch: ['🟢', '<a target=\"_blank\" href=\"https://huggingface.co/Abhinav7/NeuralPipe-7B-slerp\" style=\"color: var(--link-text-color); text-decoration: underline;text-decoration-style: dotted;\">Abhinav7/NeuralPipe-7B-slerp</a>  <a target=\"_blank\" href=\"https://huggingface.co/datasets/open-llm-leaderboard/details_Abhinav7__NeuralPipe-7B-slerp\" style=\"color: var(--link-text-color); text-decoration: underline;text-decoration-style: dotted;\">📑</a>', 71.08, 67.41, 86.12, 64.07, 59.82, 79.79, 69.29, 'pretrained', 'MistralForCausalLM', 'Original', 'bfloat16', True, 'apache-2.0', 7.24, 3, True, '62eb03a76c4c607afc8524cf725c48fbb6a1827a', False, False, 'Abhinav7/NeuralPipe-7B-slerp']\n",
      "Failed to fetch: ['🔶', '<a target=\"_blank\" href=\"https://huggingface.co/zhengr/NeuralPipe-7B-slerp\" style=\"color: var(--link-text-color); text-decoration: underline;text-decoration-style: dotted;\">zhengr/NeuralPipe-7B-slerp</a>  <a target=\"_blank\" href=\"https://huggingface.co/datasets/open-llm-leaderboard/details_zhengr__NeuralPipe-7B-slerp\" style=\"color: var(--link-text-color); text-decoration: underline;text-decoration-style: dotted;\">📑</a>', 71.08, 67.41, 86.12, 64.07, 59.82, 79.79, 69.29, 'fine-tuned on domain-specific datasets', 'MistralForCausalLM', 'Original', 'bfloat16', False, '?', 7.24, 0, False, '6a6405b269c94043658c342d3e124aa3ba75d621', False, False, 'zhengr/NeuralPipe-7B-slerp']\n"
     ]
    },
    {
     "name": "stderr",
     "output_type": "stream",
     "text": [
      "1228it [05:07,  3.86it/s]"
     ]
    },
    {
     "name": "stdout",
     "output_type": "stream",
     "text": [
      "Failed to fetch: ['🔶', '<a target=\"_blank\" href=\"https://huggingface.co/AA051615/L0225\" style=\"color: var(--link-text-color); text-decoration: underline;text-decoration-style: dotted;\">AA051615/L0225</a>  <a target=\"_blank\" href=\"https://huggingface.co/datasets/open-llm-leaderboard/details_AA051615__L0225\" style=\"color: var(--link-text-color); text-decoration: underline;text-decoration-style: dotted;\">📑</a>', 71.04, 68.17, 82.73, 83.04, 54.19, 78.61, 59.51, 'fine-tuned on domain-specific datasets', '?', 'Adapter', 'bfloat16', False, 'gpl', 0, 0, False, 'a9a394bdfa0ba89c60a6af94c0760dc92777c9b3', False, False, 'AA051615/L0225']\n"
     ]
    },
    {
     "name": "stderr",
     "output_type": "stream",
     "text": [
      "1237it [05:09,  4.28it/s]"
     ]
    },
    {
     "name": "stdout",
     "output_type": "stream",
     "text": [
      "Failed to fetch: ['💬', '<a target=\"_blank\" href=\"https://huggingface.co/DreadPoor/WestuccineBagel-7B-slerp\" style=\"color: var(--link-text-color); text-decoration: underline;text-decoration-style: dotted;\">DreadPoor/WestuccineBagel-7B-slerp</a>  <a target=\"_blank\" href=\"https://huggingface.co/datasets/open-llm-leaderboard/details_DreadPoor__WestuccineBagel-7B-slerp\" style=\"color: var(--link-text-color); text-decoration: underline;text-decoration-style: dotted;\">📑</a>', 71.01, 69.37, 86.53, 64.8, 67.06, 82.56, 55.72, 'chat models (RLHF, DPO, IFT, ...)', 'MistralForCausalLM', 'Original', 'bfloat16', False, 'apache-2.0', 7.24, 0, False, 'f9f52bdbe8c668ccab4fe8d737b1005bbed14f34', False, False, 'DreadPoor/WestuccineBagel-7B-slerp']\n"
     ]
    },
    {
     "name": "stderr",
     "output_type": "stream",
     "text": [
      "1245it [05:11,  3.57it/s]"
     ]
    },
    {
     "name": "stdout",
     "output_type": "stream",
     "text": [
      "Failed to fetch: ['🔶', '<a target=\"_blank\" href=\"https://huggingface.co/AIDC-ai-business/Marcoroni-7B-v2\" style=\"color: var(--link-text-color); text-decoration: underline;text-decoration-style: dotted;\">AIDC-ai-business/Marcoroni-7B-v2</a>  <a target=\"_blank\" href=\"https://huggingface.co/datasets/open-llm-leaderboard/details_AIDC-ai-business__Marcoroni-7B-v2\" style=\"color: var(--link-text-color); text-decoration: underline;text-decoration-style: dotted;\">📑</a>', 70.92, 68.26, 86.27, 63.39, 61.96, 80.11, 65.5, 'fine-tuned on domain-specific datasets', 'Unknown', 'Original', 'bfloat16', False, '?', 7, 0, False, '3929ff947202a530d89a2287e19873141a0136c5', False, False, 'AIDC-ai-business/Marcoroni-7B-v2']\n"
     ]
    },
    {
     "name": "stderr",
     "output_type": "stream",
     "text": [
      "1254it [05:14,  3.22it/s]"
     ]
    },
    {
     "name": "stdout",
     "output_type": "stream",
     "text": [
      "Failed to fetch: ['💬', '<a target=\"_blank\" href=\"https://huggingface.co/yunconglong/7Bx4_DPO_700\" style=\"color: var(--link-text-color); text-decoration: underline;text-decoration-style: dotted;\">yunconglong/7Bx4_DPO_700</a>  <a target=\"_blank\" href=\"https://huggingface.co/datasets/open-llm-leaderboard/details_yunconglong__7Bx4_DPO_700\" style=\"color: var(--link-text-color); text-decoration: underline;text-decoration-style: dotted;\">📑</a>', 70.85, 64.68, 86.12, 62.23, 68.99, 79.72, 63.38, 'chat models (RLHF, DPO, IFT, ...)', 'MixtralForCausalLM', 'Original', 'bfloat16', False, 'mit', 24.15, 0, False, '51460af315b0fa3ba2a04716879afa7acfaa65f5', False, False, 'yunconglong/7Bx4_DPO_700']\n"
     ]
    },
    {
     "name": "stderr",
     "output_type": "stream",
     "text": [
      "1271it [05:18,  3.53it/s]"
     ]
    },
    {
     "name": "stdout",
     "output_type": "stream",
     "text": [
      "Failed to fetch: ['🔶', '<a target=\"_blank\" href=\"https://huggingface.co/JaeyeonKang/CCK_Gony_v3.2\" style=\"color: var(--link-text-color); text-decoration: underline;text-decoration-style: dotted;\">JaeyeonKang/CCK_Gony_v3.2</a>  <a target=\"_blank\" href=\"https://huggingface.co/datasets/open-llm-leaderboard/details_JaeyeonKang__CCK_Gony_v3.2\" style=\"color: var(--link-text-color); text-decoration: underline;text-decoration-style: dotted;\">📑</a>', 70.65, 69.45, 86.91, 70.68, 58.81, 80.98, 57.09, 'fine-tuned on domain-specific datasets', 'MixtralForCausalLM', 'Original', 'float16', False, 'cc-by-nc-4.0', 46.7, 0, False, '5fd0b772372a0d908279db56c5bec064e842e029', False, False, 'JaeyeonKang/CCK_Gony_v3.2']\n"
     ]
    },
    {
     "name": "stderr",
     "output_type": "stream",
     "text": [
      "1281it [05:21,  4.28it/s]"
     ]
    },
    {
     "name": "stdout",
     "output_type": "stream",
     "text": [
      "Failed to fetch: ['🤝', '<a target=\"_blank\" href=\"https://huggingface.co/sethuiyer/Eida_10.7B\" style=\"color: var(--link-text-color); text-decoration: underline;text-decoration-style: dotted;\">sethuiyer/Eida_10.7B</a>  <a target=\"_blank\" href=\"https://huggingface.co/datasets/open-llm-leaderboard/details_sethuiyer__Eida_10.7B\" style=\"color: var(--link-text-color); text-decoration: underline;text-decoration-style: dotted;\">📑</a>', 70.54, 70.9, 87.36, 64.3, 71.33, 81.22, 48.14, 'base merges and moerges', 'MistralForCausalLM', 'Original', 'bfloat16', False, 'apache-2.0', 10.73, 0, False, '9cc692ef0d0821ef113ad175141632d2efad4b33', False, False, 'sethuiyer/Eida_10.7B']\n"
     ]
    },
    {
     "name": "stderr",
     "output_type": "stream",
     "text": [
      "1284it [05:22,  3.46it/s]"
     ]
    },
    {
     "name": "stdout",
     "output_type": "stream",
     "text": [
      "Failed to fetch: ['🤝', '<a target=\"_blank\" href=\"https://huggingface.co/giraffe176/Open_Hermes_Maid_Sam_Mistral_dtv0.1\" style=\"color: var(--link-text-color); text-decoration: underline;text-decoration-style: dotted;\">giraffe176/Open_Hermes_Maid_Sam_Mistral_dtv0.1</a>  <a target=\"_blank\" href=\"https://huggingface.co/datasets/open-llm-leaderboard/details_giraffe176__Open_Hermes_Maid_Sam_Mistral_dtv0.1\" style=\"color: var(--link-text-color); text-decoration: underline;text-decoration-style: dotted;\">📑</a>', 70.53, 67.75, 86.39, 64.6, 57.97, 81.14, 65.35, 'base merges and moerges', 'MistralForCausalLM', 'Original', 'bfloat16', False, 'cc-by-nc-4.0', 7.24, 0, False, 'a141139153dc0804e288e951fb7e777783872946', False, False, 'giraffe176/Open_Hermes_Maid_Sam_Mistral_dtv0.1']\n"
     ]
    },
    {
     "name": "stderr",
     "output_type": "stream",
     "text": [
      "1285it [05:22,  3.72it/s]"
     ]
    },
    {
     "name": "stdout",
     "output_type": "stream",
     "text": [
      "Failed to fetch: ['🤝', '<a target=\"_blank\" href=\"https://huggingface.co/giraffe176/Open_Maid_Samantha_Hermes_Orca_dare_ties\" style=\"color: var(--link-text-color); text-decoration: underline;text-decoration-style: dotted;\">giraffe176/Open_Maid_Samantha_Hermes_Orca_dare_ties</a>  <a target=\"_blank\" href=\"https://huggingface.co/datasets/open-llm-leaderboard/details_giraffe176__Open_Maid_Samantha_Hermes_Orca_dare_ties\" style=\"color: var(--link-text-color); text-decoration: underline;text-decoration-style: dotted;\">📑</a>', 70.53, 67.75, 86.39, 64.6, 57.97, 81.14, 65.35, 'base merges and moerges', 'MistralForCausalLM', 'Original', 'bfloat16', False, 'cc-by-nc-4.0', 7.24, 0, False, 'f124dfbc767e7ece3fe5f209a0768e69d8024290', False, False, 'giraffe176/Open_Maid_Samantha_Hermes_Orca_dare_ties']\n"
     ]
    },
    {
     "name": "stderr",
     "output_type": "stream",
     "text": [
      "1293it [05:24,  4.11it/s]"
     ]
    },
    {
     "name": "stdout",
     "output_type": "stream",
     "text": [
      "Failed to fetch: ['🟢', '<a target=\"_blank\" href=\"https://huggingface.co/freeCS-dot-org/ThetaWave-7B-v0.1\" style=\"color: var(--link-text-color); text-decoration: underline;text-decoration-style: dotted;\">freeCS-dot-org/ThetaWave-7B-v0.1</a>  <a target=\"_blank\" href=\"https://huggingface.co/datasets/open-llm-leaderboard/details_freeCS-dot-org__ThetaWave-7B-v0.1\" style=\"color: var(--link-text-color); text-decoration: underline;text-decoration-style: dotted;\">📑</a>', 70.49, 68.09, 86.33, 62.11, 71.68, 79.08, 55.65, 'pretrained', 'MistralForCausalLM', 'Original', 'float16', False, 'apache-2.0', 7.24, 0, False, 'f73322bf5c95ba61e9e72efdf930ec67055ecf57', False, False, 'freeCS-dot-org/ThetaWave-7B-v0.1']\n"
     ]
    },
    {
     "name": "stderr",
     "output_type": "stream",
     "text": [
      "1294it [05:24,  3.32it/s]"
     ]
    },
    {
     "name": "stdout",
     "output_type": "stream",
     "text": [
      "Failed to fetch: ['💬', '<a target=\"_blank\" href=\"https://huggingface.co/DreadPoor/JustToSuffer-7B-slerp\" style=\"color: var(--link-text-color); text-decoration: underline;text-decoration-style: dotted;\">DreadPoor/JustToSuffer-7B-slerp</a>  <a target=\"_blank\" href=\"https://huggingface.co/datasets/open-llm-leaderboard/details_DreadPoor__JustToSuffer-7B-slerp\" style=\"color: var(--link-text-color); text-decoration: underline;text-decoration-style: dotted;\">📑</a>', 70.48, 68.94, 86.79, 64.66, 62.69, 80.03, 59.74, 'chat models (RLHF, DPO, IFT, ...)', 'MistralForCausalLM', 'Original', 'bfloat16', False, 'apache-2.0', 7.24, 0, False, '9253d79afb8ee7441804448f6542878a6e05f098', False, False, 'DreadPoor/JustToSuffer-7B-slerp']\n"
     ]
    },
    {
     "name": "stderr",
     "output_type": "stream",
     "text": [
      "1299it [05:26,  3.12it/s]"
     ]
    },
    {
     "name": "stdout",
     "output_type": "stream",
     "text": [
      "Failed to fetch: ['🤝', '<a target=\"_blank\" href=\"https://huggingface.co/Inv/Konstanta-Gamma-10.9B\" style=\"color: var(--link-text-color); text-decoration: underline;text-decoration-style: dotted;\">Inv/Konstanta-Gamma-10.9B</a>  <a target=\"_blank\" href=\"https://huggingface.co/datasets/open-llm-leaderboard/details_Inv__Konstanta-Gamma-10.9B\" style=\"color: var(--link-text-color); text-decoration: underline;text-decoration-style: dotted;\">📑</a>', 70.44, 68.26, 87.38, 64.5, 64.18, 80.98, 57.32, 'base merges and moerges', 'MistralForCausalLM', 'Original', 'float16', False, 'apache-2.0', 10.95, 0, False, 'f9457027c05107889a948a6f3b99ba428e859d48', False, False, 'Inv/Konstanta-Gamma-10.9B']\n"
     ]
    },
    {
     "name": "stderr",
     "output_type": "stream",
     "text": [
      "1302it [05:27,  3.97it/s]"
     ]
    },
    {
     "name": "stdout",
     "output_type": "stream",
     "text": [
      "Failed to fetch: ['💬', '<a target=\"_blank\" href=\"https://huggingface.co/DreadPoor/NewtoccineLake-slerp-7B\" style=\"color: var(--link-text-color); text-decoration: underline;text-decoration-style: dotted;\">DreadPoor/NewtoccineLake-slerp-7B</a>  <a target=\"_blank\" href=\"https://huggingface.co/datasets/open-llm-leaderboard/details_DreadPoor__NewtoccineLake-slerp-7B\" style=\"color: var(--link-text-color); text-decoration: underline;text-decoration-style: dotted;\">📑</a>', 70.43, 68.69, 85.98, 64.62, 59.95, 81.53, 61.79, 'chat models (RLHF, DPO, IFT, ...)', 'MistralForCausalLM', 'Original', 'bfloat16', False, 'apache-2.0', 7, 0, False, 'de29875ebd6471c5776813f1f1caa0231df0d699', False, False, 'DreadPoor/NewtoccineLake-slerp-7B']\n"
     ]
    },
    {
     "name": "stderr",
     "output_type": "stream",
     "text": [
      "1304it [05:27,  4.28it/s]"
     ]
    },
    {
     "name": "stdout",
     "output_type": "stream",
     "text": [
      "Failed to fetch: ['💬', '<a target=\"_blank\" href=\"https://huggingface.co/DreadPoor/BagelLake-7B-slerp\" style=\"color: var(--link-text-color); text-decoration: underline;text-decoration-style: dotted;\">DreadPoor/BagelLake-7B-slerp</a>  <a target=\"_blank\" href=\"https://huggingface.co/datasets/open-llm-leaderboard/details_DreadPoor__BagelLake-7B-slerp\" style=\"color: var(--link-text-color); text-decoration: underline;text-decoration-style: dotted;\">📑</a>', 70.41, 68.26, 85.07, 64.3, 63.76, 83.66, 57.39, 'chat models (RLHF, DPO, IFT, ...)', 'MistralForCausalLM', 'Original', 'bfloat16', False, 'apache-2.0', 7.24, 0, False, '24a9ebb9bb40e2a9fff9097845980b4dbb53f330', False, False, 'DreadPoor/BagelLake-7B-slerp']\n"
     ]
    },
    {
     "name": "stderr",
     "output_type": "stream",
     "text": [
      "1308it [05:28,  3.54it/s]"
     ]
    },
    {
     "name": "stdout",
     "output_type": "stream",
     "text": [
      "Failed to fetch: ['💬', '<a target=\"_blank\" href=\"https://huggingface.co/openagi-project/OpenAGI-7B-v0.2\" style=\"color: var(--link-text-color); text-decoration: underline;text-decoration-style: dotted;\">openagi-project/OpenAGI-7B-v0.2</a>  <a target=\"_blank\" href=\"https://huggingface.co/datasets/open-llm-leaderboard/details_openagi-project__OpenAGI-7B-v0.2\" style=\"color: var(--link-text-color); text-decoration: underline;text-decoration-style: dotted;\">📑</a>', 70.37, 68.52, 86.03, 63.02, 72.04, 79.16, 53.45, 'chat models (RLHF, DPO, IFT, ...)', 'MistralForCausalLM', 'Original', 'float16', False, 'apache-2.0', 7.24, 0, False, 'eb1146479e3912ab02461654d93a907c5b90a059', False, False, 'openagi-project/OpenAGI-7B-v0.2']\n"
     ]
    },
    {
     "name": "stderr",
     "output_type": "stream",
     "text": [
      "1314it [05:30,  4.13it/s]"
     ]
    },
    {
     "name": "stdout",
     "output_type": "stream",
     "text": [
      "Failed to fetch: ['🔶', '<a target=\"_blank\" href=\"https://huggingface.co/openagi-project/OpenAGI-7B-v0.1-test-ada\" style=\"color: var(--link-text-color); text-decoration: underline;text-decoration-style: dotted;\">openagi-project/OpenAGI-7B-v0.1-test-ada</a>  <a target=\"_blank\" href=\"https://huggingface.co/datasets/open-llm-leaderboard/details_openagi-project__OpenAGI-7B-v0.1-test-ada\" style=\"color: var(--link-text-color); text-decoration: underline;text-decoration-style: dotted;\">📑</a>', 70.34, 66.72, 86.13, 63.53, 69.55, 79.48, 56.63, 'fine-tuned on domain-specific datasets', 'MistralForCausalLM', 'Original', 'float16', False, 'unknown', 7.24, 0, False, '635f0d8e3bc9fe0c5fb3954614cef0a324d0bfc8', False, False, 'openagi-project/OpenAGI-7B-v0.1-test-ada']\n"
     ]
    },
    {
     "name": "stderr",
     "output_type": "stream",
     "text": [
      "1320it [05:32,  3.72it/s]"
     ]
    },
    {
     "name": "stdout",
     "output_type": "stream",
     "text": [
      "Failed to fetch: ['🔶', '<a target=\"_blank\" href=\"https://huggingface.co/one-man-army/una-neural-chat-v3-3-P1-OMA\" style=\"color: var(--link-text-color); text-decoration: underline;text-decoration-style: dotted;\">one-man-army/una-neural-chat-v3-3-P1-OMA</a>  <a target=\"_blank\" href=\"https://huggingface.co/datasets/open-llm-leaderboard/details_one-man-army__una-neural-chat-v3-3-P1-OMA\" style=\"color: var(--link-text-color); text-decoration: underline;text-decoration-style: dotted;\">📑</a>', 70.32, 66.81, 85.92, 63.37, 64.35, 79.64, 61.87, 'fine-tuned on domain-specific datasets', 'MistralForCausalLM', 'Original', 'bfloat16', False, 'apache-2.0', 0, 1, True, '014600373086ea46c7cdc4754c984a804b28a070', False, False, 'one-man-army/una-neural-chat-v3-3-P1-OMA']\n"
     ]
    },
    {
     "name": "stderr",
     "output_type": "stream",
     "text": [
      "1322it [05:32,  3.92it/s]"
     ]
    },
    {
     "name": "stdout",
     "output_type": "stream",
     "text": [
      "Failed to fetch: ['🔶', '<a target=\"_blank\" href=\"https://huggingface.co/RaduGabriel/MUZD\" style=\"color: var(--link-text-color); text-decoration: underline;text-decoration-style: dotted;\">RaduGabriel/MUZD</a>  <a target=\"_blank\" href=\"https://huggingface.co/datasets/open-llm-leaderboard/details_RaduGabriel__MUZD\" style=\"color: var(--link-text-color); text-decoration: underline;text-decoration-style: dotted;\">📑</a>', 70.32, 66.81, 86.54, 62.87, 65.73, 81.37, 58.61, 'fine-tuned on domain-specific datasets', 'MistralForCausalLM', 'Original', 'bfloat16', False, 'apache-2.0', 7.24, 0, False, '5c19bc74d2b01b36a96e1287103bf56be3e6ad03', False, False, 'RaduGabriel/MUZD']\n"
     ]
    },
    {
     "name": "stderr",
     "output_type": "stream",
     "text": [
      "1335it [05:35,  4.70it/s]"
     ]
    },
    {
     "name": "stdout",
     "output_type": "stream",
     "text": [
      "Failed to fetch: ['🔶', '<a target=\"_blank\" href=\"https://huggingface.co/Radu1999/MisterUkrainian\" style=\"color: var(--link-text-color); text-decoration: underline;text-decoration-style: dotted;\">Radu1999/MisterUkrainian</a>  <a target=\"_blank\" href=\"https://huggingface.co/datasets/open-llm-leaderboard/details_Radu1999__MisterUkrainian\" style=\"color: var(--link-text-color); text-decoration: underline;text-decoration-style: dotted;\">📑</a>', 70.23, 67.83, 86.32, 62.53, 67.26, 80.51, 56.94, 'fine-tuned on domain-specific datasets', 'MistralForCausalLM', 'Original', 'bfloat16', False, 'apache-2.0', 7.24, 0, False, 'c828c2831c162fa80a5faec73de6b87551bfb6fc', False, False, 'Radu1999/MisterUkrainian']\n"
     ]
    },
    {
     "name": "stderr",
     "output_type": "stream",
     "text": [
      "1346it [05:38,  4.10it/s]"
     ]
    },
    {
     "name": "stdout",
     "output_type": "stream",
     "text": [
      "Failed to fetch: ['💬', '<a target=\"_blank\" href=\"https://huggingface.co/rishiraj/oswald-7b\" style=\"color: var(--link-text-color); text-decoration: underline;text-decoration-style: dotted;\">rishiraj/oswald-7b</a>  <a target=\"_blank\" href=\"https://huggingface.co/datasets/open-llm-leaderboard/details_rishiraj__oswald-7b\" style=\"color: var(--link-text-color); text-decoration: underline;text-decoration-style: dotted;\">📑</a>', 70.19, 66.38, 85.18, 65.34, 54.07, 80.9, 69.29, 'chat models (RLHF, DPO, IFT, ...)', 'MistralForCausalLM', 'Original', 'float16', False, '?', 7.24, 0, False, '43326649a8b8b7a43cc4a6d15262625508a50dd2', False, False, 'rishiraj/oswald-7b']\n"
     ]
    },
    {
     "name": "stderr",
     "output_type": "stream",
     "text": [
      "1349it [05:39,  4.41it/s]"
     ]
    },
    {
     "name": "stdout",
     "output_type": "stream",
     "text": [
      "Failed to fetch: ['💬', '<a target=\"_blank\" href=\"https://huggingface.co/DreadPoor/ToppyLake-Bagel-7B-slerp\" style=\"color: var(--link-text-color); text-decoration: underline;text-decoration-style: dotted;\">DreadPoor/ToppyLake-Bagel-7B-slerp</a>  <a target=\"_blank\" href=\"https://huggingface.co/datasets/open-llm-leaderboard/details_DreadPoor__ToppyLake-Bagel-7B-slerp\" style=\"color: var(--link-text-color); text-decoration: underline;text-decoration-style: dotted;\">📑</a>', 70.14, 67.66, 85.7, 64.87, 61.74, 83.19, 57.7, 'chat models (RLHF, DPO, IFT, ...)', 'MistralForCausalLM', 'Original', 'bfloat16', False, 'apache-2.0', 7.24, 0, False, 'f827b067ce4bec3cecb4bf88fb8ec2c244af6803', False, False, 'DreadPoor/ToppyLake-Bagel-7B-slerp']\n"
     ]
    },
    {
     "name": "stderr",
     "output_type": "stream",
     "text": [
      "1351it [05:39,  4.48it/s]"
     ]
    },
    {
     "name": "stdout",
     "output_type": "stream",
     "text": [
      "Failed to fetch: ['🔶', '<a target=\"_blank\" href=\"https://huggingface.co/JaeyeonKang/CCK_Gony_v0.2\" style=\"color: var(--link-text-color); text-decoration: underline;text-decoration-style: dotted;\">JaeyeonKang/CCK_Gony_v0.2</a>  <a target=\"_blank\" href=\"https://huggingface.co/datasets/open-llm-leaderboard/details_JaeyeonKang__CCK_Gony_v0.2\" style=\"color: var(--link-text-color); text-decoration: underline;text-decoration-style: dotted;\">📑</a>', 70.13, 68.86, 86.61, 70.33, 59.46, 82.4, 53.15, 'fine-tuned on domain-specific datasets', 'MixtralForCausalLM', 'Original', 'float16', False, 'cc-by-nc-4.0', 46.7, 0, False, 'ec7ea7c16e1a8b5968cab37aab70d926c8ec341d', False, False, 'JaeyeonKang/CCK_Gony_v0.2']\n"
     ]
    },
    {
     "name": "stderr",
     "output_type": "stream",
     "text": [
      "1353it [05:40,  4.52it/s]"
     ]
    },
    {
     "name": "stdout",
     "output_type": "stream",
     "text": [
      "Failed to fetch: ['🔶', '<a target=\"_blank\" href=\"https://huggingface.co/Weyaxi/Newton-OpenHermes-2.5-neural-chat-v3-3-Slerp\" style=\"color: var(--link-text-color); text-decoration: underline;text-decoration-style: dotted;\">Weyaxi/Newton-OpenHermes-2.5-neural-chat-v3-3-Slerp</a>  <a target=\"_blank\" href=\"https://huggingface.co/datasets/open-llm-leaderboard/details_Weyaxi__Newton-OpenHermes-2.5-neural-chat-v3-3-Slerp\" style=\"color: var(--link-text-color); text-decoration: underline;text-decoration-style: dotted;\">📑</a>', 70.13, 68.77, 85, 65.06, 56.84, 80.11, 64.97, 'fine-tuned on domain-specific datasets', 'MistralForCausalLM', 'Original', 'bfloat16', False, 'other', 7.24, 0, False, '27d3bd02299580f326cc358d6d98e06a950d937e', False, False, 'Weyaxi/Newton-OpenHermes-2.5-neural-chat-v3-3-Slerp']\n"
     ]
    },
    {
     "name": "stderr",
     "output_type": "stream",
     "text": [
      "1360it [05:41,  4.36it/s]"
     ]
    },
    {
     "name": "stdout",
     "output_type": "stream",
     "text": [
      "Failed to fetch: ['🤝', '<a target=\"_blank\" href=\"https://huggingface.co/Test157t/Prima-LelantaclesV6.5-7b\" style=\"color: var(--link-text-color); text-decoration: underline;text-decoration-style: dotted;\">Test157t/Prima-LelantaclesV6.5-7b</a>  <a target=\"_blank\" href=\"https://huggingface.co/datasets/open-llm-leaderboard/details_Test157t__Prima-LelantaclesV6.5-7b\" style=\"color: var(--link-text-color); text-decoration: underline;text-decoration-style: dotted;\">📑</a>', 70.09, 67.75, 85.7, 63.12, 62.12, 82.48, 59.36, 'base merges and moerges', 'MistralForCausalLM', 'Original', 'bfloat16', False, '?', 7.24, 0, False, '0c7a9a7b9e86a8662660e76f30a63f10a7dae4ef', False, False, 'Test157t/Prima-LelantaclesV6.5-7b']\n"
     ]
    },
    {
     "name": "stderr",
     "output_type": "stream",
     "text": [
      "1361it [05:41,  4.40it/s]"
     ]
    },
    {
     "name": "stdout",
     "output_type": "stream",
     "text": [
      "Failed to fetch: ['💬', '<a target=\"_blank\" href=\"https://huggingface.co/DreadPoor/Westuccine-7B-slerp\" style=\"color: var(--link-text-color); text-decoration: underline;text-decoration-style: dotted;\">DreadPoor/Westuccine-7B-slerp</a>  <a target=\"_blank\" href=\"https://huggingface.co/datasets/open-llm-leaderboard/details_DreadPoor__Westuccine-7B-slerp\" style=\"color: var(--link-text-color); text-decoration: underline;text-decoration-style: dotted;\">📑</a>', 70.08, 69.37, 87.34, 63.8, 69.34, 82.08, 48.52, 'chat models (RLHF, DPO, IFT, ...)', 'MistralForCausalLM', 'Original', 'bfloat16', False, 'apache-2.0', 7.24, 0, False, '44bf54f7466a508e4e82883f0cbc8aba9aec85c6', False, False, 'DreadPoor/Westuccine-7B-slerp']\n"
     ]
    },
    {
     "name": "stderr",
     "output_type": "stream",
     "text": [
      "1372it [05:45,  3.77it/s]"
     ]
    },
    {
     "name": "stdout",
     "output_type": "stream",
     "text": [
      "Failed to fetch: ['🔶', '<a target=\"_blank\" href=\"https://huggingface.co/RaduGabriel/MUZ\" style=\"color: var(--link-text-color); text-decoration: underline;text-decoration-style: dotted;\">RaduGabriel/MUZ</a>  <a target=\"_blank\" href=\"https://huggingface.co/datasets/open-llm-leaderboard/details_RaduGabriel__MUZ\" style=\"color: var(--link-text-color); text-decoration: underline;text-decoration-style: dotted;\">📑</a>', 70.01, 66.38, 86.38, 63.03, 64.18, 81.77, 58.3, 'fine-tuned on domain-specific datasets', 'MistralForCausalLM', 'Original', 'bfloat16', False, 'apache-2.0', 7.24, 0, False, '56f4a9b2f7fcc6891536de338fdb4b302a1fbcfa', False, False, 'RaduGabriel/MUZ']\n"
     ]
    },
    {
     "name": "stderr",
     "output_type": "stream",
     "text": [
      "1374it [05:45,  4.16it/s]"
     ]
    },
    {
     "name": "stdout",
     "output_type": "stream",
     "text": [
      "Failed to fetch: ['🤝', '<a target=\"_blank\" href=\"https://huggingface.co/giraffe176/WestLake_Noromaid_OpenHermes_neural-chat\" style=\"color: var(--link-text-color); text-decoration: underline;text-decoration-style: dotted;\">giraffe176/WestLake_Noromaid_OpenHermes_neural-chat</a>  <a target=\"_blank\" href=\"https://huggingface.co/datasets/open-llm-leaderboard/details_giraffe176__WestLake_Noromaid_OpenHermes_neural-chat\" style=\"color: var(--link-text-color); text-decoration: underline;text-decoration-style: dotted;\">📑</a>', 70, 67.58, 86.13, 64.72, 55.47, 80.43, 65.66, 'base merges and moerges', 'MistralForCausalLM', 'Original', 'bfloat16', False, '?', 7.24, 0, False, 'f843090d889645a22e61fbb7bbae7a92fc76812f', False, False, 'giraffe176/WestLake_Noromaid_OpenHermes_neural-chat']\n"
     ]
    },
    {
     "name": "stderr",
     "output_type": "stream",
     "text": [
      "1375it [05:45,  4.24it/s]"
     ]
    },
    {
     "name": "stdout",
     "output_type": "stream",
     "text": [
      "Failed to fetch: ['🔶', '<a target=\"_blank\" href=\"https://huggingface.co/Inv/MoeMoE-2x7b\" style=\"color: var(--link-text-color); text-decoration: underline;text-decoration-style: dotted;\">Inv/MoeMoE-2x7b</a>  <a target=\"_blank\" href=\"https://huggingface.co/datasets/open-llm-leaderboard/details_Inv__MoeMoE-2x7b\" style=\"color: var(--link-text-color); text-decoration: underline;text-decoration-style: dotted;\">📑</a>', 69.98, 66.47, 84.31, 62.7, 61.65, 79.87, 64.9, 'fine-tuned on domain-specific datasets', 'MixtralForCausalLM', 'Original', 'bfloat16', False, 'apache-2.0', 12.88, 0, False, 'b245e28566d675a5b2d269aa4daba80ecb9bc548', False, True, 'Inv/MoeMoE-2x7b']\n"
     ]
    },
    {
     "name": "stderr",
     "output_type": "stream",
     "text": [
      "1397it [05:51,  4.60it/s]"
     ]
    },
    {
     "name": "stdout",
     "output_type": "stream",
     "text": [
      "Failed to fetch: ['🔶', '<a target=\"_blank\" href=\"https://huggingface.co/AA051611/A0119\" style=\"color: var(--link-text-color); text-decoration: underline;text-decoration-style: dotted;\">AA051611/A0119</a>  <a target=\"_blank\" href=\"https://huggingface.co/datasets/open-llm-leaderboard/details_AA051611__A0119\" style=\"color: var(--link-text-color); text-decoration: underline;text-decoration-style: dotted;\">📑</a>', 69.82, 64.25, 84.74, 73.1, 57.96, 81.45, 57.39, 'fine-tuned on domain-specific datasets', 'LlamaForCausalLM', 'Original', 'bfloat16', False, 'gpl', 34.39, 0, False, '33978688c6fa79679b2cafc504c4f9b9ddccd136', False, False, 'AA051611/A0119']\n",
      "Failed to fetch: ['🔶', '<a target=\"_blank\" href=\"https://huggingface.co/sumo43/SOLAR-10.7B-Instruct-DPO-v1.0\" style=\"color: var(--link-text-color); text-decoration: underline;text-decoration-style: dotted;\">sumo43/SOLAR-10.7B-Instruct-DPO-v1.0</a>  <a target=\"_blank\" href=\"https://huggingface.co/datasets/open-llm-leaderboard/details_sumo43__SOLAR-10.7B-Instruct-DPO-v1.0\" style=\"color: var(--link-text-color); text-decoration: underline;text-decoration-style: dotted;\">📑</a>', 69.81, 73.12, 89.77, 64.21, 73.27, 81.93, 36.54, 'fine-tuned on domain-specific datasets', 'Unknown', 'Adapter', 'float16', False, '?', 10.7, 0, False, '9e439597e3e788e3ff8a41df54e0dae0acda14a4', False, False, 'sumo43/SOLAR-10.7B-Instruct-DPO-v1.0']\n"
     ]
    },
    {
     "name": "stderr",
     "output_type": "stream",
     "text": [
      "1409it [05:53,  4.29it/s]"
     ]
    },
    {
     "name": "stdout",
     "output_type": "stream",
     "text": [
      "Failed to fetch: ['🔶', '<a target=\"_blank\" href=\"https://huggingface.co/FelixChao/MathDolphin-7B\" style=\"color: var(--link-text-color); text-decoration: underline;text-decoration-style: dotted;\">FelixChao/MathDolphin-7B</a>  <a target=\"_blank\" href=\"https://huggingface.co/datasets/open-llm-leaderboard/details_FelixChao__MathDolphin-7B\" style=\"color: var(--link-text-color); text-decoration: underline;text-decoration-style: dotted;\">📑</a>', 69.73, 65.87, 85.49, 65.02, 52.92, 81.22, 67.85, 'fine-tuned on domain-specific datasets', 'MistralForCausalLM', 'Original', 'bfloat16', False, '?', 7.24, 0, False, '6dcfc55a6e845fac45b8dbe3d8c2506fd1348834', False, False, 'FelixChao/MathDolphin-7B']\n"
     ]
    },
    {
     "name": "stderr",
     "output_type": "stream",
     "text": [
      "1411it [05:54,  4.43it/s]"
     ]
    },
    {
     "name": "stdout",
     "output_type": "stream",
     "text": [
      "Failed to fetch: ['🔶', '<a target=\"_blank\" href=\"https://huggingface.co/rishiraj/oswald-4x7b\" style=\"color: var(--link-text-color); text-decoration: underline;text-decoration-style: dotted;\">rishiraj/oswald-4x7b</a>  <a target=\"_blank\" href=\"https://huggingface.co/datasets/open-llm-leaderboard/details_rishiraj__oswald-4x7b\" style=\"color: var(--link-text-color); text-decoration: underline;text-decoration-style: dotted;\">📑</a>', 69.72, 65.78, 85.29, 64.49, 57.39, 79.16, 66.19, 'fine-tuned on domain-specific datasets', 'MixtralForCausalLM', 'Original', 'bfloat16', False, '?', 24.15, 0, False, '1a2a1c2a7cb0d18ae4af77f99a7adbe8d9718f92', False, False, 'rishiraj/oswald-4x7b']\n"
     ]
    },
    {
     "name": "stderr",
     "output_type": "stream",
     "text": [
      "1422it [05:57,  4.37it/s]"
     ]
    },
    {
     "name": "stdout",
     "output_type": "stream",
     "text": [
      "Failed to fetch: ['💬', '<a target=\"_blank\" href=\"https://huggingface.co/DreadPoor/Cerberus-7B-Model_Stock\" style=\"color: var(--link-text-color); text-decoration: underline;text-decoration-style: dotted;\">DreadPoor/Cerberus-7B-Model_Stock</a>  <a target=\"_blank\" href=\"https://huggingface.co/datasets/open-llm-leaderboard/details_DreadPoor__Cerberus-7B-Model_Stock\" style=\"color: var(--link-text-color); text-decoration: underline;text-decoration-style: dotted;\">📑</a>', 69.66, 67.92, 85.2, 64.52, 58.8, 79.72, 61.79, 'chat models (RLHF, DPO, IFT, ...)', 'MistralForCausalLM', 'Original', 'bfloat16', False, 'apache-2.0', 7.24, 0, False, '9c1f7e68e3f3810cd980cacc7036a458adbeb15d', False, False, 'DreadPoor/Cerberus-7B-Model_Stock']\n"
     ]
    },
    {
     "name": "stderr",
     "output_type": "stream",
     "text": [
      "1425it [05:58,  3.72it/s]"
     ]
    },
    {
     "name": "stdout",
     "output_type": "stream",
     "text": [
      "Failed to fetch: ['🔶', '<a target=\"_blank\" href=\"https://huggingface.co/andysalerno/openchat-nectar-0.6\" style=\"color: var(--link-text-color); text-decoration: underline;text-decoration-style: dotted;\">andysalerno/openchat-nectar-0.6</a>  <a target=\"_blank\" href=\"https://huggingface.co/datasets/open-llm-leaderboard/details_andysalerno__openchat-nectar-0.6\" style=\"color: var(--link-text-color); text-decoration: underline;text-decoration-style: dotted;\">📑</a>', 69.64, 66.55, 83.22, 65.19, 51.9, 81.22, 69.75, 'fine-tuned on domain-specific datasets', 'MistralForCausalLM', 'Original', 'float16', False, '?', 7.24, 0, False, '502b55ebd1ca3c159591a9d7e9d9a456ac067e8d', False, False, 'andysalerno/openchat-nectar-0.6']\n"
     ]
    },
    {
     "name": "stderr",
     "output_type": "stream",
     "text": [
      "1429it [05:58,  4.34it/s]"
     ]
    },
    {
     "name": "stdout",
     "output_type": "stream",
     "text": [
      "Failed to fetch: ['🔶', '<a target=\"_blank\" href=\"https://huggingface.co/JaeyeonKang/CCK_gony\" style=\"color: var(--link-text-color); text-decoration: underline;text-decoration-style: dotted;\">JaeyeonKang/CCK_gony</a>  <a target=\"_blank\" href=\"https://huggingface.co/datasets/open-llm-leaderboard/details_JaeyeonKang__CCK_gony\" style=\"color: var(--link-text-color); text-decoration: underline;text-decoration-style: dotted;\">📑</a>', 69.61, 69.11, 86.78, 69.43, 56.74, 81.53, 54.06, 'fine-tuned on domain-specific datasets', 'MixtralForCausalLM', 'Original', 'float16', False, 'cc-by-nc-4.0', 46.7, 0, False, 'cb62ef5613e162437a0803cddabc50e21437cd1b', False, False, 'JaeyeonKang/CCK_gony']\n"
     ]
    },
    {
     "name": "stderr",
     "output_type": "stream",
     "text": [
      "1430it [05:59,  4.39it/s]"
     ]
    },
    {
     "name": "stdout",
     "output_type": "stream",
     "text": [
      "Failed to fetch: ['🔶', '<a target=\"_blank\" href=\"https://huggingface.co/andysalerno/openchat-nectar-0.11\" style=\"color: var(--link-text-color); text-decoration: underline;text-decoration-style: dotted;\">andysalerno/openchat-nectar-0.11</a>  <a target=\"_blank\" href=\"https://huggingface.co/datasets/open-llm-leaderboard/details_andysalerno__openchat-nectar-0.11\" style=\"color: var(--link-text-color); text-decoration: underline;text-decoration-style: dotted;\">📑</a>', 69.59, 66.21, 83.28, 65.25, 52.92, 81.45, 68.46, 'fine-tuned on domain-specific datasets', 'MistralForCausalLM', 'Original', 'float16', False, 'apache-2.0', 7.24, 0, False, '311304dd45050345aea499c85ddd3af89411513d', False, False, 'andysalerno/openchat-nectar-0.11']\n"
     ]
    },
    {
     "name": "stderr",
     "output_type": "stream",
     "text": [
      "1436it [06:00,  4.50it/s]"
     ]
    },
    {
     "name": "stdout",
     "output_type": "stream",
     "text": [
      "Failed to fetch: ['🔶', '<a target=\"_blank\" href=\"https://huggingface.co/AA051615/A0306\" style=\"color: var(--link-text-color); text-decoration: underline;text-decoration-style: dotted;\">AA051615/A0306</a>  <a target=\"_blank\" href=\"https://huggingface.co/datasets/open-llm-leaderboard/details_AA051615__A0306\" style=\"color: var(--link-text-color); text-decoration: underline;text-decoration-style: dotted;\">📑</a>', 69.57, 66.04, 83.47, 80.04, 53.05, 78.22, 56.63, 'fine-tuned on domain-specific datasets', 'LlamaForCausalLM', 'Original', 'bfloat16', False, '?', 34.39, 0, False, 'd869c99f5b2b456a483bca7d6cc1ec7f797cdbf1', False, False, 'AA051615/A0306']\n"
     ]
    },
    {
     "name": "stderr",
     "output_type": "stream",
     "text": [
      "1443it [06:02,  4.61it/s]"
     ]
    },
    {
     "name": "stdout",
     "output_type": "stream",
     "text": [
      "Failed to fetch: ['🔶', '<a target=\"_blank\" href=\"https://huggingface.co/andysalerno/openchat-nectar-0.4\" style=\"color: var(--link-text-color); text-decoration: underline;text-decoration-style: dotted;\">andysalerno/openchat-nectar-0.4</a>  <a target=\"_blank\" href=\"https://huggingface.co/datasets/open-llm-leaderboard/details_andysalerno__openchat-nectar-0.4\" style=\"color: var(--link-text-color); text-decoration: underline;text-decoration-style: dotted;\">📑</a>', 69.52, 66.64, 83.23, 65.22, 51.71, 81.69, 68.61, 'fine-tuned on domain-specific datasets', 'MistralForCausalLM', 'Original', 'float16', False, '?', 7.24, 0, False, '25eaf0bb01b56d1ce515dd1aa972be468e04c3ed', False, False, 'andysalerno/openchat-nectar-0.4']\n"
     ]
    },
    {
     "name": "stderr",
     "output_type": "stream",
     "text": [
      "1452it [06:03,  4.56it/s]"
     ]
    },
    {
     "name": "stdout",
     "output_type": "stream",
     "text": [
      "Failed to fetch: ['🔶', '<a target=\"_blank\" href=\"https://huggingface.co/FelixChao/ExtremeDolphin-MoE\" style=\"color: var(--link-text-color); text-decoration: underline;text-decoration-style: dotted;\">FelixChao/ExtremeDolphin-MoE</a>  <a target=\"_blank\" href=\"https://huggingface.co/datasets/open-llm-leaderboard/details_FelixChao__ExtremeDolphin-MoE\" style=\"color: var(--link-text-color); text-decoration: underline;text-decoration-style: dotted;\">📑</a>', 69.46, 65.1, 86.07, 63.76, 57.28, 78.69, 65.88, 'fine-tuned on domain-specific datasets', 'MixtralForCausalLM', 'Original', 'float16', False, '?', 12.88, 0, False, '1983955d7a48548e196a7b725cae4ddccdd7e357', False, True, 'FelixChao/ExtremeDolphin-MoE']\n"
     ]
    },
    {
     "name": "stderr",
     "output_type": "stream",
     "text": [
      "1464it [06:06,  4.57it/s]"
     ]
    },
    {
     "name": "stdout",
     "output_type": "stream",
     "text": [
      "Failed to fetch: ['💬', '<a target=\"_blank\" href=\"https://huggingface.co/rishiraj/oswald-2x7b\" style=\"color: var(--link-text-color); text-decoration: underline;text-decoration-style: dotted;\">rishiraj/oswald-2x7b</a>  <a target=\"_blank\" href=\"https://huggingface.co/datasets/open-llm-leaderboard/details_rishiraj__oswald-2x7b\" style=\"color: var(--link-text-color); text-decoration: underline;text-decoration-style: dotted;\">📑</a>', 69.4, 66.47, 85.46, 65.2, 60.06, 79.4, 59.82, 'chat models (RLHF, DPO, IFT, ...)', 'MixtralForCausalLM', 'Original', 'float16', False, '?', 12.88, 0, False, '50fa192492461fdfcd8ce1c84e9081891141a5ac', False, False, 'rishiraj/oswald-2x7b']\n"
     ]
    },
    {
     "name": "stderr",
     "output_type": "stream",
     "text": [
      "1471it [06:08,  4.22it/s]"
     ]
    },
    {
     "name": "stdout",
     "output_type": "stream",
     "text": [
      "Failed to fetch: ['🔶', '<a target=\"_blank\" href=\"https://huggingface.co/andysalerno/openchat-nectar-0.3\" style=\"color: var(--link-text-color); text-decoration: underline;text-decoration-style: dotted;\">andysalerno/openchat-nectar-0.3</a>  <a target=\"_blank\" href=\"https://huggingface.co/datasets/open-llm-leaderboard/details_andysalerno__openchat-nectar-0.3\" style=\"color: var(--link-text-color); text-decoration: underline;text-decoration-style: dotted;\">📑</a>', 69.36, 65.96, 83.15, 65.46, 52.38, 81.53, 67.7, 'fine-tuned on domain-specific datasets', 'MistralForCausalLM', 'Original', 'float16', False, '?', 7.24, 0, False, 'cc29b95f9d0bee765206b07e4d9bba05a0fcafb2', False, False, 'andysalerno/openchat-nectar-0.3']\n"
     ]
    },
    {
     "name": "stderr",
     "output_type": "stream",
     "text": [
      "1474it [06:09,  4.80it/s]"
     ]
    },
    {
     "name": "stdout",
     "output_type": "stream",
     "text": [
      "Failed to fetch: ['🟢', '<a target=\"_blank\" href=\"https://huggingface.co/freecs/ThetaWave-7B\" style=\"color: var(--link-text-color); text-decoration: underline;text-decoration-style: dotted;\">freecs/ThetaWave-7B</a>  <a target=\"_blank\" href=\"https://huggingface.co/datasets/open-llm-leaderboard/details_freecs__ThetaWave-7B\" style=\"color: var(--link-text-color); text-decoration: underline;text-decoration-style: dotted;\">📑</a>', 69.35, 67.49, 86.01, 62.26, 65.26, 79.01, 56.1, 'pretrained', 'MistralForCausalLM', 'Original', 'bfloat16', False, '?', 7.24, 0, False, '21a306726dae52eee662b83fadc9657cef10dd02', False, False, 'freecs/ThetaWave-7B']\n"
     ]
    },
    {
     "name": "stderr",
     "output_type": "stream",
     "text": [
      "1475it [06:09,  4.72it/s]"
     ]
    },
    {
     "name": "stdout",
     "output_type": "stream",
     "text": [
      "Failed to fetch: ['🔶', '<a target=\"_blank\" href=\"https://huggingface.co/mahiatlinux/MasherAI-v6.1-7B-checkpoint6\" style=\"color: var(--link-text-color); text-decoration: underline;text-decoration-style: dotted;\">mahiatlinux/MasherAI-v6.1-7B-checkpoint6</a>  <a target=\"_blank\" href=\"https://huggingface.co/datasets/open-llm-leaderboard/details_mahiatlinux__MasherAI-v6.1-7B-checkpoint6\" style=\"color: var(--link-text-color); text-decoration: underline;text-decoration-style: dotted;\">📑</a>', 69.35, 63.05, 83.41, 63.07, 59.3, 81.06, 66.19, 'fine-tuned on domain-specific datasets', 'MistralForCausalLM', 'Original', 'float16', False, 'apache-2.0', 7, 0, False, '684c07aaebeba1e0dd5d3f94ff93a7e9082ca4fa', False, False, 'mahiatlinux/MasherAI-v6.1-7B-checkpoint6']\n"
     ]
    },
    {
     "name": "stderr",
     "output_type": "stream",
     "text": [
      "1478it [06:09,  4.57it/s]"
     ]
    },
    {
     "name": "stdout",
     "output_type": "stream",
     "text": [
      "Failed to fetch: ['🤝', '<a target=\"_blank\" href=\"https://huggingface.co/Stopwolf/Bumbar-7B-slerp\" style=\"color: var(--link-text-color); text-decoration: underline;text-decoration-style: dotted;\">Stopwolf/Bumbar-7B-slerp</a>  <a target=\"_blank\" href=\"https://huggingface.co/datasets/open-llm-leaderboard/details_Stopwolf__Bumbar-7B-slerp\" style=\"color: var(--link-text-color); text-decoration: underline;text-decoration-style: dotted;\">📑</a>', 69.34, 66.21, 83.96, 63.98, 57.81, 80.03, 64.06, 'base merges and moerges', 'MistralForCausalLM', 'Original', 'bfloat16', False, 'apache-2.0', 7.24, 0, False, '40cc5f6decc0c4ada02708123d1d2a15d8cdfd7b', False, False, 'Stopwolf/Bumbar-7B-slerp']\n"
     ]
    },
    {
     "name": "stderr",
     "output_type": "stream",
     "text": [
      "1484it [06:11,  4.61it/s]"
     ]
    },
    {
     "name": "stdout",
     "output_type": "stream",
     "text": [
      "Failed to fetch: ['💬', '<a target=\"_blank\" href=\"https://huggingface.co/Jaume/openchat-3.5-0106-mod-gpt5\" style=\"color: var(--link-text-color); text-decoration: underline;text-decoration-style: dotted;\">Jaume/openchat-3.5-0106-mod-gpt5</a>  <a target=\"_blank\" href=\"https://huggingface.co/datasets/open-llm-leaderboard/details_Jaume__openchat-3.5-0106-mod-gpt5\" style=\"color: var(--link-text-color); text-decoration: underline;text-decoration-style: dotted;\">📑</a>', 69.3, 66.04, 82.93, 65.04, 51.9, 81.77, 68.16, 'chat models (RLHF, DPO, IFT, ...)', 'MistralForCausalLM', 'Original', 'bfloat16', False, '?', 7.24, 0, False, 'e48411ee9b41210b2bf019e5b6e58a6cde3d04f3', False, False, 'Jaume/openchat-3.5-0106-mod-gpt5']\n"
     ]
    },
    {
     "name": "stderr",
     "output_type": "stream",
     "text": [
      "1491it [06:12,  4.81it/s]"
     ]
    },
    {
     "name": "stdout",
     "output_type": "stream",
     "text": [
      "Failed to fetch: ['🔶', '<a target=\"_blank\" href=\"https://huggingface.co/andysalerno/openchat-nectar-0.8\" style=\"color: var(--link-text-color); text-decoration: underline;text-decoration-style: dotted;\">andysalerno/openchat-nectar-0.8</a>  <a target=\"_blank\" href=\"https://huggingface.co/datasets/open-llm-leaderboard/details_andysalerno__openchat-nectar-0.8\" style=\"color: var(--link-text-color); text-decoration: underline;text-decoration-style: dotted;\">📑</a>', 69.26, 65.78, 83.05, 65.16, 52.26, 81.61, 67.7, 'fine-tuned on domain-specific datasets', 'MistralForCausalLM', 'Original', 'float16', False, 'apache-2.0', 7.24, 0, False, '639db94ac706d6964a3eed642b8de3a582bbffa8', False, False, 'andysalerno/openchat-nectar-0.8']\n"
     ]
    },
    {
     "name": "stderr",
     "output_type": "stream",
     "text": [
      "1500it [06:14,  4.09it/s]"
     ]
    },
    {
     "name": "stdout",
     "output_type": "stream",
     "text": [
      "Failed to fetch: ['💬', '<a target=\"_blank\" href=\"https://huggingface.co/DreadPoor/BagelToppyLake-7B-slerp\" style=\"color: var(--link-text-color); text-decoration: underline;text-decoration-style: dotted;\">DreadPoor/BagelToppyLake-7B-slerp</a>  <a target=\"_blank\" href=\"https://huggingface.co/datasets/open-llm-leaderboard/details_DreadPoor__BagelToppyLake-7B-slerp\" style=\"color: var(--link-text-color); text-decoration: underline;text-decoration-style: dotted;\">📑</a>', 69.22, 67.15, 84.79, 64.31, 62.15, 81.85, 55.04, 'chat models (RLHF, DPO, IFT, ...)', 'MistralForCausalLM', 'Original', 'bfloat16', False, '?', 7.24, 0, False, '291f0e17b1322c7fb10e770f0febc15216beab29', False, False, 'DreadPoor/BagelToppyLake-7B-slerp']\n"
     ]
    },
    {
     "name": "stderr",
     "output_type": "stream",
     "text": [
      "1502it [06:15,  3.36it/s]"
     ]
    },
    {
     "name": "stdout",
     "output_type": "stream",
     "text": [
      "Failed to fetch: ['🔶', '<a target=\"_blank\" href=\"https://huggingface.co/AGI-0/ThetaWave-7B-v0.1\" style=\"color: var(--link-text-color); text-decoration: underline;text-decoration-style: dotted;\">AGI-0/ThetaWave-7B-v0.1</a>  <a target=\"_blank\" href=\"https://huggingface.co/datasets/open-llm-leaderboard/details_AGI-0__ThetaWave-7B-v0.1\" style=\"color: var(--link-text-color); text-decoration: underline;text-decoration-style: dotted;\">📑</a>', 69.2, 65.96, 85.72, 63.07, 63.27, 81.53, 55.65, 'fine-tuned on domain-specific datasets', 'MistralForCausalLM', 'Original', 'float16', False, 'apache-2.0', 7.24, 0, False, '59b71b909b172d247b3bb27ed674172dd1302c44', False, False, 'AGI-0/ThetaWave-7B-v0.1']\n"
     ]
    },
    {
     "name": "stderr",
     "output_type": "stream",
     "text": [
      "1504it [06:16,  3.28it/s]"
     ]
    },
    {
     "name": "stdout",
     "output_type": "stream",
     "text": [
      "Failed to fetch: ['💬', '<a target=\"_blank\" href=\"https://huggingface.co/Jaume/openchat-3.5-0106-mod-gpt5\" style=\"color: var(--link-text-color); text-decoration: underline;text-decoration-style: dotted;\">Jaume/openchat-3.5-0106-mod-gpt5</a>  <a target=\"_blank\" href=\"https://huggingface.co/datasets/open-llm-leaderboard/details_Jaume__openchat-3.5-0106-mod-gpt5\" style=\"color: var(--link-text-color); text-decoration: underline;text-decoration-style: dotted;\">📑</a>', 69.19, 65.87, 82.93, 65.12, 51.93, 81.53, 67.78, 'chat models (RLHF, DPO, IFT, ...)', 'MistralForCausalLM', 'Original', 'float16', False, '?', 7.24, 0, False, 'e48411ee9b41210b2bf019e5b6e58a6cde3d04f3', False, False, 'Jaume/openchat-3.5-0106-mod-gpt5']\n"
     ]
    },
    {
     "name": "stderr",
     "output_type": "stream",
     "text": [
      "1506it [06:16,  3.84it/s]"
     ]
    },
    {
     "name": "stdout",
     "output_type": "stream",
     "text": [
      "Failed to fetch: ['🔶', '<a target=\"_blank\" href=\"https://huggingface.co/andysalerno/openchat-nectar-0.7\" style=\"color: var(--link-text-color); text-decoration: underline;text-decoration-style: dotted;\">andysalerno/openchat-nectar-0.7</a>  <a target=\"_blank\" href=\"https://huggingface.co/datasets/open-llm-leaderboard/details_andysalerno__openchat-nectar-0.7\" style=\"color: var(--link-text-color); text-decoration: underline;text-decoration-style: dotted;\">📑</a>', 69.19, 65.78, 83, 65.1, 52.05, 81.37, 67.85, 'fine-tuned on domain-specific datasets', 'MistralForCausalLM', 'Original', 'float16', False, 'apache-2.0', 7.24, 0, False, '082de25a339e1e8e5a64c9fc84429f1a4a0847ac', False, False, 'andysalerno/openchat-nectar-0.7']\n"
     ]
    },
    {
     "name": "stderr",
     "output_type": "stream",
     "text": [
      "1510it [06:17,  4.57it/s]"
     ]
    },
    {
     "name": "stdout",
     "output_type": "stream",
     "text": [
      "Failed to fetch: ['🔶', '<a target=\"_blank\" href=\"https://huggingface.co/freecs/ThetaWave-7B-v0.1\" style=\"color: var(--link-text-color); text-decoration: underline;text-decoration-style: dotted;\">freecs/ThetaWave-7B-v0.1</a>  <a target=\"_blank\" href=\"https://huggingface.co/datasets/open-llm-leaderboard/details_freecs__ThetaWave-7B-v0.1\" style=\"color: var(--link-text-color); text-decoration: underline;text-decoration-style: dotted;\">📑</a>', 69.17, 66.3, 85.4, 63.47, 60.24, 80.19, 59.44, 'fine-tuned on domain-specific datasets', 'MistralForCausalLM', 'Original', 'float16', False, 'apache-2.0', 7.24, 0, False, 'c2aea352e9697d0bbeb4e3e469f71ba691625c00', False, False, 'freecs/ThetaWave-7B-v0.1']\n"
     ]
    },
    {
     "name": "stderr",
     "output_type": "stream",
     "text": [
      "1525it [06:21,  4.33it/s]"
     ]
    },
    {
     "name": "stdout",
     "output_type": "stream",
     "text": [
      "Failed to fetch: ['💬', '<a target=\"_blank\" href=\"https://huggingface.co/DreadPoor/FettuccineLake-DPO-7B-slerp\" style=\"color: var(--link-text-color); text-decoration: underline;text-decoration-style: dotted;\">DreadPoor/FettuccineLake-DPO-7B-slerp</a>  <a target=\"_blank\" href=\"https://huggingface.co/datasets/open-llm-leaderboard/details_DreadPoor__FettuccineLake-DPO-7B-slerp\" style=\"color: var(--link-text-color); text-decoration: underline;text-decoration-style: dotted;\">📑</a>', 69.09, 67.92, 86.37, 63.24, 68.64, 80.58, 47.76, 'chat models (RLHF, DPO, IFT, ...)', 'MistralForCausalLM', 'Original', 'bfloat16', False, 'apache-2.0', 7.24, 0, False, 'fbbbda1a8c1c00f65768391f608bd922dd757bf6', False, False, 'DreadPoor/FettuccineLake-DPO-7B-slerp']\n"
     ]
    },
    {
     "name": "stderr",
     "output_type": "stream",
     "text": [
      "1528it [06:22,  3.72it/s]"
     ]
    },
    {
     "name": "stdout",
     "output_type": "stream",
     "text": [
      "Failed to fetch: ['🔶', '<a target=\"_blank\" href=\"https://huggingface.co/freeCS-dot-org/ThetaZero-7B-1\" style=\"color: var(--link-text-color); text-decoration: underline;text-decoration-style: dotted;\">freeCS-dot-org/ThetaZero-7B-1</a>  <a target=\"_blank\" href=\"https://huggingface.co/datasets/open-llm-leaderboard/details_freeCS-dot-org__ThetaZero-7B-1\" style=\"color: var(--link-text-color); text-decoration: underline;text-decoration-style: dotted;\">📑</a>', 69.07, 67.49, 85.69, 63.03, 62.48, 79.87, 55.88, 'fine-tuned on domain-specific datasets', 'MistralForCausalLM', 'Original', 'bfloat16', False, 'apache-2.0', 7.24, 0, False, '5af7656feb7c0f4f33aaca6984b4600c511613f2', False, False, 'freeCS-dot-org/ThetaZero-7B-1']\n"
     ]
    },
    {
     "name": "stderr",
     "output_type": "stream",
     "text": [
      "1542it [06:26,  3.96it/s]"
     ]
    },
    {
     "name": "stdout",
     "output_type": "stream",
     "text": [
      "Failed to fetch: ['🔶', '<a target=\"_blank\" href=\"https://huggingface.co/HanNayeoniee/LHK_44\" style=\"color: var(--link-text-color); text-decoration: underline;text-decoration-style: dotted;\">HanNayeoniee/LHK_44</a>  <a target=\"_blank\" href=\"https://huggingface.co/datasets/open-llm-leaderboard/details_HanNayeoniee__LHK_44\" style=\"color: var(--link-text-color); text-decoration: underline;text-decoration-style: dotted;\">📑</a>', 68.95, 66.55, 84.86, 65.37, 59.58, 80.9, 56.41, 'fine-tuned on domain-specific datasets', 'LlamaForCausalLM', 'Original', 'float16', False, 'mit', 10.73, 0, False, '89b6a3be6c3b6a2fa729de466ec20153665359dd', False, False, 'HanNayeoniee/LHK_44']\n"
     ]
    },
    {
     "name": "stderr",
     "output_type": "stream",
     "text": [
      "1556it [06:30,  3.99it/s]"
     ]
    },
    {
     "name": "stdout",
     "output_type": "stream",
     "text": [
      "Failed to fetch: ['🔶', '<a target=\"_blank\" href=\"https://huggingface.co/AA051610/FT\" style=\"color: var(--link-text-color); text-decoration: underline;text-decoration-style: dotted;\">AA051610/FT</a>  <a target=\"_blank\" href=\"https://huggingface.co/datasets/open-llm-leaderboard/details_AA051610__FT\" style=\"color: var(--link-text-color); text-decoration: underline;text-decoration-style: dotted;\">📑</a>', 68.85, 63.05, 82.78, 69.69, 59.88, 79.64, 58.07, 'fine-tuned on domain-specific datasets', 'Unknown', 'Original', 'float16', False, '?', 34.39, 0, False, '1b91227a0539deaf4dfb5b18d15c92316e0254c3', False, False, 'AA051610/FT']\n"
     ]
    },
    {
     "name": "stderr",
     "output_type": "stream",
     "text": [
      "1563it [06:32,  3.74it/s]"
     ]
    },
    {
     "name": "stdout",
     "output_type": "stream",
     "text": [
      "Failed to fetch: ['🔶', '<a target=\"_blank\" href=\"https://huggingface.co/AIDC-ai-business/Marcoroni-70B-v1\" style=\"color: var(--link-text-color); text-decoration: underline;text-decoration-style: dotted;\">AIDC-ai-business/Marcoroni-70B-v1</a>  <a target=\"_blank\" href=\"https://huggingface.co/datasets/open-llm-leaderboard/details_AIDC-ai-business__Marcoroni-70B-v1\" style=\"color: var(--link-text-color); text-decoration: underline;text-decoration-style: dotted;\">📑</a>', 68.83, 73.55, 87.62, 70.67, 64.41, 83.43, 33.28, 'fine-tuned on domain-specific datasets', 'Unknown', 'Original', 'bfloat16', False, '?', 68.72, 0, False, '55a30d29db194832c0b5de1392a6598a63582144', False, False, 'AIDC-ai-business/Marcoroni-70B-v1']\n"
     ]
    },
    {
     "name": "stderr",
     "output_type": "stream",
     "text": [
      "1567it [06:33,  4.34it/s]"
     ]
    },
    {
     "name": "stdout",
     "output_type": "stream",
     "text": [
      "Failed to fetch: ['🔶', '<a target=\"_blank\" href=\"https://huggingface.co/AiMavenAi/AiMaven-SmartDawg-7b\" style=\"color: var(--link-text-color); text-decoration: underline;text-decoration-style: dotted;\">AiMavenAi/AiMaven-SmartDawg-7b</a>  <a target=\"_blank\" href=\"https://huggingface.co/datasets/open-llm-leaderboard/details_AiMavenAi__AiMaven-SmartDawg-7b\" style=\"color: var(--link-text-color); text-decoration: underline;text-decoration-style: dotted;\">📑</a>', 68.81, 67.92, 87.16, 62.69, 58.86, 79.01, 57.24, 'fine-tuned on domain-specific datasets', 'MistralForCausalLM', 'Original', 'bfloat16', False, '?', 7.24, 0, False, 'b91cc33a1842344921dfd8ea9d7040277cafd8d6', False, False, 'AiMavenAi/AiMaven-SmartDawg-7b']\n"
     ]
    },
    {
     "name": "stderr",
     "output_type": "stream",
     "text": [
      "1568it [06:33,  4.41it/s]"
     ]
    },
    {
     "name": "stdout",
     "output_type": "stream",
     "text": [
      "Failed to fetch: ['🔶', '<a target=\"_blank\" href=\"https://huggingface.co/AA051610/FT\" style=\"color: var(--link-text-color); text-decoration: underline;text-decoration-style: dotted;\">AA051610/FT</a>  <a target=\"_blank\" href=\"https://huggingface.co/datasets/open-llm-leaderboard/details_AA051610__FT\" style=\"color: var(--link-text-color); text-decoration: underline;text-decoration-style: dotted;\">📑</a>', 68.81, 63.14, 82.78, 69.5, 59.8, 79.4, 58.23, 'fine-tuned on domain-specific datasets', 'Unknown', 'Original', 'bfloat16', False, '?', 34.39, 0, False, '1b91227a0539deaf4dfb5b18d15c92316e0254c3', False, False, 'AA051610/FT']\n"
     ]
    },
    {
     "name": "stderr",
     "output_type": "stream",
     "text": [
      "1577it [06:35,  3.10it/s]"
     ]
    },
    {
     "name": "stdout",
     "output_type": "stream",
     "text": [
      "Failed to fetch: ['💬', '<a target=\"_blank\" href=\"https://huggingface.co/HanNayeoniee/LHK\" style=\"color: var(--link-text-color); text-decoration: underline;text-decoration-style: dotted;\">HanNayeoniee/LHK</a>  <a target=\"_blank\" href=\"https://huggingface.co/datasets/open-llm-leaderboard/details_HanNayeoniee__LHK\" style=\"color: var(--link-text-color); text-decoration: underline;text-decoration-style: dotted;\">📑</a>', 68.74, 66.38, 84.49, 65.13, 59.12, 80.98, 56.33, 'chat models (RLHF, DPO, IFT, ...)', 'LlamaForCausalLM', 'Original', 'float16', False, 'mit', 10.73, 0, False, '0cf54af3c084e70b6e544326d63ecffccac30b47', False, False, 'HanNayeoniee/LHK']\n"
     ]
    },
    {
     "name": "stderr",
     "output_type": "stream",
     "text": [
      "1578it [06:36,  3.43it/s]"
     ]
    },
    {
     "name": "stdout",
     "output_type": "stream",
     "text": [
      "Failed to fetch: ['🔶', '<a target=\"_blank\" href=\"https://huggingface.co/AA051611/limb\" style=\"color: var(--link-text-color); text-decoration: underline;text-decoration-style: dotted;\">AA051611/limb</a>  <a target=\"_blank\" href=\"https://huggingface.co/datasets/open-llm-leaderboard/details_AA051611__limb\" style=\"color: var(--link-text-color); text-decoration: underline;text-decoration-style: dotted;\">📑</a>', 68.73, 63.48, 83.07, 72.25, 58.37, 79.79, 55.42, 'fine-tuned on domain-specific datasets', 'LlamaForCausalLM', 'Original', 'bfloat16', False, '?', 0, 0, False, '55473b7666b66e5b51bb3c4e6b5bc88d1bd00666', False, False, 'AA051611/limb']\n"
     ]
    },
    {
     "name": "stderr",
     "output_type": "stream",
     "text": [
      "1579it [06:36,  3.69it/s]"
     ]
    },
    {
     "name": "stdout",
     "output_type": "stream",
     "text": [
      "Failed to fetch: ['🔶', '<a target=\"_blank\" href=\"https://huggingface.co/AA051610/A11P\" style=\"color: var(--link-text-color); text-decoration: underline;text-decoration-style: dotted;\">AA051610/A11P</a>  <a target=\"_blank\" href=\"https://huggingface.co/datasets/open-llm-leaderboard/details_AA051610__A11P\" style=\"color: var(--link-text-color); text-decoration: underline;text-decoration-style: dotted;\">📑</a>', 68.73, 62.54, 82.53, 70.56, 56.44, 79.87, 60.42, 'fine-tuned on domain-specific datasets', 'Unknown', 'Original', 'bfloat16', False, '?', 0, 0, False, '0a14aa5fd9ae557d7dbd02e503deab50544d5a6f', False, False, 'AA051610/A11P']\n"
     ]
    },
    {
     "name": "stderr",
     "output_type": "stream",
     "text": [
      "1586it [06:38,  3.92it/s]"
     ]
    },
    {
     "name": "stdout",
     "output_type": "stream",
     "text": [
      "Failed to fetch: ['🔶', '<a target=\"_blank\" href=\"https://huggingface.co/twodgirl/Nimue-7B\" style=\"color: var(--link-text-color); text-decoration: underline;text-decoration-style: dotted;\">twodgirl/Nimue-7B</a>  <a target=\"_blank\" href=\"https://huggingface.co/datasets/open-llm-leaderboard/details_twodgirl__Nimue-7B\" style=\"color: var(--link-text-color); text-decoration: underline;text-decoration-style: dotted;\">📑</a>', 68.68, 63.74, 82.74, 64.64, 50.89, 83.27, 66.79, 'fine-tuned on domain-specific datasets', 'MistralForCausalLM', 'Original', 'float16', False, 'apache-2.0', 7.24, 0, False, '2d8ded1a612d3695200a6f57db70c32152afb935', False, False, 'twodgirl/Nimue-7B']\n"
     ]
    },
    {
     "name": "stderr",
     "output_type": "stream",
     "text": [
      "1594it [06:39,  5.52it/s]"
     ]
    },
    {
     "name": "stdout",
     "output_type": "stream",
     "text": [
      "Failed to fetch: ['🔶', '<a target=\"_blank\" href=\"https://huggingface.co/AA051610/A12P\" style=\"color: var(--link-text-color); text-decoration: underline;text-decoration-style: dotted;\">AA051610/A12P</a>  <a target=\"_blank\" href=\"https://huggingface.co/datasets/open-llm-leaderboard/details_AA051610__A12P\" style=\"color: var(--link-text-color); text-decoration: underline;text-decoration-style: dotted;\">📑</a>', 68.64, 64.42, 82.32, 69.97, 62.22, 79.64, 53.3, 'fine-tuned on domain-specific datasets', 'Unknown', 'Original', 'bfloat16', False, '?', 0, 0, False, 'e2eb6a36741dfc799fd13f67cba385f6e3992393', False, False, 'AA051610/A12P']\n"
     ]
    },
    {
     "name": "stderr",
     "output_type": "stream",
     "text": [
      "1622it [06:47,  4.24it/s]"
     ]
    },
    {
     "name": "stdout",
     "output_type": "stream",
     "text": [
      "Failed to fetch: ['🔶', '<a target=\"_blank\" href=\"https://huggingface.co/freecs/ThetaWave-7B-v0\" style=\"color: var(--link-text-color); text-decoration: underline;text-decoration-style: dotted;\">freecs/ThetaWave-7B-v0</a>  <a target=\"_blank\" href=\"https://huggingface.co/datasets/open-llm-leaderboard/details_freecs__ThetaWave-7B-v0\" style=\"color: var(--link-text-color); text-decoration: underline;text-decoration-style: dotted;\">📑</a>', 68.49, 68.52, 85.35, 61.07, 61.56, 79.64, 54.81, 'fine-tuned on domain-specific datasets', 'MistralForCausalLM', 'Original', 'bfloat16', False, 'apache-2.0', 7.24, 0, False, '89c74880ff1621a555374b2867f564131b3f4352', False, False, 'freecs/ThetaWave-7B-v0']\n"
     ]
    },
    {
     "name": "stderr",
     "output_type": "stream",
     "text": [
      "1629it [06:49,  3.86it/s]"
     ]
    },
    {
     "name": "stdout",
     "output_type": "stream",
     "text": [
      "Failed to fetch: ['🔶', '<a target=\"_blank\" href=\"https://huggingface.co/Nitral-AI/LNSM-RP-7B\" style=\"color: var(--link-text-color); text-decoration: underline;text-decoration-style: dotted;\">Nitral-AI/LNSM-RP-7B</a>  <a target=\"_blank\" href=\"https://huggingface.co/datasets/open-llm-leaderboard/details_Nitral-AI__LNSM-RP-7B\" style=\"color: var(--link-text-color); text-decoration: underline;text-decoration-style: dotted;\">📑</a>', 68.47, 66.21, 85.45, 64.55, 59.42, 78.77, 56.41, 'fine-tuned on domain-specific datasets', 'MistralForCausalLM', 'Original', 'bfloat16', False, 'other', 7.24, 0, False, '7317ae12ce44d9fe6aa179dc2ea559ff6eaa56ed', False, False, 'Nitral-AI/LNSM-RP-7B']\n"
     ]
    },
    {
     "name": "stderr",
     "output_type": "stream",
     "text": [
      "1633it [06:50,  3.84it/s]"
     ]
    },
    {
     "name": "stdout",
     "output_type": "stream",
     "text": [
      "Failed to fetch: ['🔶', '<a target=\"_blank\" href=\"https://huggingface.co/AA051611/V0202\" style=\"color: var(--link-text-color); text-decoration: underline;text-decoration-style: dotted;\">AA051611/V0202</a>  <a target=\"_blank\" href=\"https://huggingface.co/datasets/open-llm-leaderboard/details_AA051611__V0202\" style=\"color: var(--link-text-color); text-decoration: underline;text-decoration-style: dotted;\">📑</a>', 68.46, 66.55, 82.75, 86.32, 50.89, 78.37, 45.87, 'fine-tuned on domain-specific datasets', 'LlamaForCausalLM', 'Original', 'bfloat16', False, 'gpl', 34.39, 0, False, '6f115d4ae1b6015420558aa5684c530f41c0e7da', False, False, 'AA051611/V0202']\n"
     ]
    },
    {
     "name": "stderr",
     "output_type": "stream",
     "text": [
      "1635it [06:51,  3.49it/s]"
     ]
    },
    {
     "name": "stdout",
     "output_type": "stream",
     "text": [
      "Failed to fetch: ['🤝', '<a target=\"_blank\" href=\"https://huggingface.co/LeroyDyer/Mistral_AI_v2\" style=\"color: var(--link-text-color); text-decoration: underline;text-decoration-style: dotted;\">LeroyDyer/Mistral_AI_v2</a>  <a target=\"_blank\" href=\"https://huggingface.co/datasets/open-llm-leaderboard/details_LeroyDyer__Mistral_AI_v2\" style=\"color: var(--link-text-color); text-decoration: underline;text-decoration-style: dotted;\">📑</a>', 68.44, 65.44, 85.61, 63.44, 62.63, 80.35, 53.15, 'base merges and moerges', 'MistralForCausalLM', 'Original', 'float16', False, 'mit', 7.24, 0, False, 'bede68f5e1f2225c281fdd97cc58bf0e9389e311', False, False, 'LeroyDyer/Mistral_AI_v2']\n"
     ]
    },
    {
     "name": "stderr",
     "output_type": "stream",
     "text": [
      "1645it [06:53,  3.57it/s]"
     ]
    },
    {
     "name": "stdout",
     "output_type": "stream",
     "text": [
      "Failed to fetch: ['💬', '<a target=\"_blank\" href=\"https://huggingface.co/kyujinpy/PlatYi-34B-Llama\" style=\"color: var(--link-text-color); text-decoration: underline;text-decoration-style: dotted;\">kyujinpy/PlatYi-34B-Llama</a>  <a target=\"_blank\" href=\"https://huggingface.co/datasets/open-llm-leaderboard/details_kyujinpy__PlatYi-34B-Llama\" style=\"color: var(--link-text-color); text-decoration: underline;text-decoration-style: dotted;\">📑</a>', 68.37, 67.83, 85.35, 78.26, 53.46, 82.87, 42.46, 'chat models (RLHF, DPO, IFT, ...)', 'Unknown', 'Original', 'float16', False, '?', 34.39, 0, False, 'e641a44c60ddf1f31d898ca53810ccb1e7a30972', False, False, 'kyujinpy/PlatYi-34B-Llama']\n"
     ]
    },
    {
     "name": "stderr",
     "output_type": "stream",
     "text": [
      "1652it [06:55,  3.84it/s]"
     ]
    },
    {
     "name": "stdout",
     "output_type": "stream",
     "text": [
      "Failed to fetch: ['💬', '<a target=\"_blank\" href=\"https://huggingface.co/kyujinpy/PlatYi-34B-Llama-Q-FastChat\" style=\"color: var(--link-text-color); text-decoration: underline;text-decoration-style: dotted;\">kyujinpy/PlatYi-34B-Llama-Q-FastChat</a>  <a target=\"_blank\" href=\"https://huggingface.co/datasets/open-llm-leaderboard/details_kyujinpy__PlatYi-34B-Llama-Q-FastChat\" style=\"color: var(--link-text-color); text-decoration: underline;text-decoration-style: dotted;\">📑</a>', 68.31, 66.13, 85.25, 78.37, 53.62, 82.16, 44.35, 'chat models (RLHF, DPO, IFT, ...)', 'Unknown', 'Original', 'float16', False, '?', 34.39, 0, False, 'dab86ae57fe51dc5e993769ebb69a173637852bc', False, False, 'kyujinpy/PlatYi-34B-Llama-Q-FastChat']\n"
     ]
    },
    {
     "name": "stderr",
     "output_type": "stream",
     "text": [
      "1662it [06:58,  4.49it/s]"
     ]
    },
    {
     "name": "stdout",
     "output_type": "stream",
     "text": [
      "Failed to fetch: ['🔶', '<a target=\"_blank\" href=\"https://huggingface.co/decruz07/kellemar-DPO-7B\" style=\"color: var(--link-text-color); text-decoration: underline;text-decoration-style: dotted;\">decruz07/kellemar-DPO-7B</a>  <a target=\"_blank\" href=\"https://huggingface.co/datasets/open-llm-leaderboard/details_decruz07__kellemar-DPO-7B\" style=\"color: var(--link-text-color); text-decoration: underline;text-decoration-style: dotted;\">📑</a>', 68.26, 66.04, 85.21, 63.42, 55.55, 78.93, 60.42, 'fine-tuned on domain-specific datasets', 'MistralForCausalLM', 'Original', 'float16', False, '?', 7.24, 0, False, '860ee984db0e2830a969fc616128c4c7d2bca233', False, False, 'decruz07/kellemar-DPO-7B']\n"
     ]
    },
    {
     "name": "stderr",
     "output_type": "stream",
     "text": [
      "1671it [07:00,  4.62it/s]"
     ]
    },
    {
     "name": "stdout",
     "output_type": "stream",
     "text": [
      "Failed to fetch: ['🔶', '<a target=\"_blank\" href=\"https://huggingface.co/decruz07/kellemar-DPO-7B\" style=\"color: var(--link-text-color); text-decoration: underline;text-decoration-style: dotted;\">decruz07/kellemar-DPO-7B</a>  <a target=\"_blank\" href=\"https://huggingface.co/datasets/open-llm-leaderboard/details_decruz07__kellemar-DPO-7B\" style=\"color: var(--link-text-color); text-decoration: underline;text-decoration-style: dotted;\">📑</a>', 68.23, 66.21, 85.25, 63.38, 55.53, 78.37, 60.65, 'fine-tuned on domain-specific datasets', 'MistralForCausalLM', 'Original', 'bfloat16', False, '?', 7.24, 0, False, '860ee984db0e2830a969fc616128c4c7d2bca233', False, False, 'decruz07/kellemar-DPO-7B']\n"
     ]
    },
    {
     "name": "stderr",
     "output_type": "stream",
     "text": [
      "1674it [07:01,  3.89it/s]"
     ]
    },
    {
     "name": "stdout",
     "output_type": "stream",
     "text": [
      "Failed to fetch: ['🔶', '<a target=\"_blank\" href=\"https://huggingface.co/AA051610/C0322-reft\" style=\"color: var(--link-text-color); text-decoration: underline;text-decoration-style: dotted;\">AA051610/C0322-reft</a>  <a target=\"_blank\" href=\"https://huggingface.co/datasets/open-llm-leaderboard/details_AA051610__C0322-reft\" style=\"color: var(--link-text-color); text-decoration: underline;text-decoration-style: dotted;\">📑</a>', 68.2, 64.42, 83.74, 79.5, 59.77, 78.45, 43.29, 'fine-tuned on domain-specific datasets', 'CohereForCausalLM', 'Original', 'bfloat16', False, 'gpl', 34.98, 0, False, '153efc8ba5e9939536b2cab6d510e1762e11680d', False, False, 'AA051610/C0322-reft']\n"
     ]
    },
    {
     "name": "stderr",
     "output_type": "stream",
     "text": [
      "1684it [07:03,  4.59it/s]"
     ]
    },
    {
     "name": "stdout",
     "output_type": "stream",
     "text": [
      "Failed to fetch: ['🔶', '<a target=\"_blank\" href=\"https://huggingface.co/AA051610/AZG\" style=\"color: var(--link-text-color); text-decoration: underline;text-decoration-style: dotted;\">AA051610/AZG</a>  <a target=\"_blank\" href=\"https://huggingface.co/datasets/open-llm-leaderboard/details_AA051610__AZG\" style=\"color: var(--link-text-color); text-decoration: underline;text-decoration-style: dotted;\">📑</a>', 68.16, 62.88, 82.02, 70.29, 53.84, 79.95, 59.97, 'fine-tuned on domain-specific datasets', 'Unknown', 'Original', 'bfloat16', False, '?', 0, 0, False, '36c17124ff891121c39f2d5e4d203daad5350c48', False, False, 'AA051610/AZG']\n"
     ]
    },
    {
     "name": "stderr",
     "output_type": "stream",
     "text": [
      "1694it [07:06,  4.70it/s]"
     ]
    },
    {
     "name": "stdout",
     "output_type": "stream",
     "text": [
      "Failed to fetch: ['💬', '<a target=\"_blank\" href=\"https://huggingface.co/GreenNode/Merged-DPO-7B\" style=\"color: var(--link-text-color); text-decoration: underline;text-decoration-style: dotted;\">GreenNode/Merged-DPO-7B</a>  <a target=\"_blank\" href=\"https://huggingface.co/datasets/open-llm-leaderboard/details_GreenNode__Merged-DPO-7B\" style=\"color: var(--link-text-color); text-decoration: underline;text-decoration-style: dotted;\">📑</a>', 68.06, 68.94, 87.75, 55.35, 72.76, 78.37, 45.19, 'chat models (RLHF, DPO, IFT, ...)', 'Unknown', 'Original', 'float16', False, '?', 7, 0, False, '1c0e61c7da6839fe4cc34433b899c5416fadbe18', False, False, 'GreenNode/Merged-DPO-7B']\n"
     ]
    },
    {
     "name": "stderr",
     "output_type": "stream",
     "text": [
      "1709it [07:10,  4.06it/s]"
     ]
    },
    {
     "name": "stdout",
     "output_type": "stream",
     "text": [
      "Failed to fetch: ['🔶', '<a target=\"_blank\" href=\"https://huggingface.co/Walmart-the-bag/openchat-3.5-Infinity\" style=\"color: var(--link-text-color); text-decoration: underline;text-decoration-style: dotted;\">Walmart-the-bag/openchat-3.5-Infinity</a>  <a target=\"_blank\" href=\"https://huggingface.co/datasets/open-llm-leaderboard/details_Walmart-the-bag__openchat-3.5-Infinity\" style=\"color: var(--link-text-color); text-decoration: underline;text-decoration-style: dotted;\">📑</a>', 67.95, 62.63, 84.05, 64.65, 51.99, 80.11, 64.29, 'fine-tuned on domain-specific datasets', 'MistralForCausalLM', 'Original', 'bfloat16', False, '?', 7.24, 0, False, 'd117307b5b813186aa4707ff602f0fb056752d66', False, False, 'Walmart-the-bag/openchat-3.5-Infinity']\n"
     ]
    },
    {
     "name": "stderr",
     "output_type": "stream",
     "text": [
      "1716it [07:11,  4.12it/s]"
     ]
    },
    {
     "name": "stdout",
     "output_type": "stream",
     "text": [
      "Failed to fetch: ['🔶', '<a target=\"_blank\" href=\"https://huggingface.co/freecs/Zero-7B-test-2\" style=\"color: var(--link-text-color); text-decoration: underline;text-decoration-style: dotted;\">freecs/Zero-7B-test-2</a>  <a target=\"_blank\" href=\"https://huggingface.co/datasets/open-llm-leaderboard/details_freecs__Zero-7B-test-2\" style=\"color: var(--link-text-color); text-decoration: underline;text-decoration-style: dotted;\">📑</a>', 67.91, 66.13, 84.77, 62.98, 59.95, 80.03, 53.6, 'fine-tuned on domain-specific datasets', 'MistralForCausalLM', 'Original', 'bfloat16', False, 'apache-2.0', 7.24, 0, False, 'f84d973ccd63d8380994ce83a49b16ba7b4034db', False, False, 'freecs/Zero-7B-test-2']\n"
     ]
    },
    {
     "name": "stderr",
     "output_type": "stream",
     "text": [
      "1725it [07:14,  3.65it/s]"
     ]
    },
    {
     "name": "stdout",
     "output_type": "stream",
     "text": [
      "Failed to fetch: ['🟢', '<a target=\"_blank\" href=\"https://huggingface.co/meta-llama/Llama-2-70b-hf\" style=\"color: var(--link-text-color); text-decoration: underline;text-decoration-style: dotted;\">meta-llama/Llama-2-70b-hf</a>  <a target=\"_blank\" href=\"https://huggingface.co/datasets/open-llm-leaderboard/details_meta-llama__Llama-2-70b-hf\" style=\"color: var(--link-text-color); text-decoration: underline;text-decoration-style: dotted;\">📑</a>', 67.87, 67.32, 87.33, 69.83, 44.92, 83.74, 54.06, 'pretrained', 'LlamaForCausalLM', 'Original', 'float16', False, None, 68.98, 790, True, 'ed7b07231238f836b99bf45701b9a0063576b194', False, False, 'meta-llama/Llama-2-70b-hf']\n"
     ]
    },
    {
     "name": "stderr",
     "output_type": "stream",
     "text": [
      "1730it [07:15,  4.41it/s]"
     ]
    },
    {
     "name": "stdout",
     "output_type": "stream",
     "text": [
      "Failed to fetch: ['🟢', '<a target=\"_blank\" href=\"https://huggingface.co/tiiuae/falcon-180B\" style=\"color: var(--link-text-color); text-decoration: underline;text-decoration-style: dotted;\">tiiuae/falcon-180B</a>  <a target=\"_blank\" href=\"https://huggingface.co/datasets/open-llm-leaderboard/details_tiiuae__falcon-180B\" style=\"color: var(--link-text-color); text-decoration: underline;text-decoration-style: dotted;\">📑</a>', 67.85, 69.45, 88.86, 70.5, 45.47, 86.9, 45.94, 'pretrained', 'FalconForCausalLM', 'Original', '8bit', False, 'unknown', 179.52, 1078, True, '71a1a70b629e9963f7b4601e82f3f9079d48011e', False, False, 'tiiuae/falcon-180B']\n"
     ]
    },
    {
     "name": "stderr",
     "output_type": "stream",
     "text": [
      "1732it [07:15,  4.49it/s]"
     ]
    },
    {
     "name": "stdout",
     "output_type": "stream",
     "text": [
      "Failed to fetch: ['🔶', '<a target=\"_blank\" href=\"https://huggingface.co/AA051615/A0305a\" style=\"color: var(--link-text-color); text-decoration: underline;text-decoration-style: dotted;\">AA051615/A0305a</a>  <a target=\"_blank\" href=\"https://huggingface.co/datasets/open-llm-leaderboard/details_AA051615__A0305a\" style=\"color: var(--link-text-color); text-decoration: underline;text-decoration-style: dotted;\">📑</a>', 67.85, 61.35, 80.4, 75.66, 51.74, 77.66, 60.27, 'fine-tuned on domain-specific datasets', 'LlamaForCausalLM', 'Original', 'bfloat16', False, '?', 34.39, 0, False, 'f9770a953c3daa35590323746b1dd01620c6edd8', False, False, 'AA051615/A0305a']\n"
     ]
    },
    {
     "name": "stderr",
     "output_type": "stream",
     "text": [
      "1737it [07:17,  4.63it/s]"
     ]
    },
    {
     "name": "stdout",
     "output_type": "stream",
     "text": [
      "Failed to fetch: ['🔶', '<a target=\"_blank\" href=\"https://huggingface.co/freecs/Zero-7B-test-1\" style=\"color: var(--link-text-color); text-decoration: underline;text-decoration-style: dotted;\">freecs/Zero-7B-test-1</a>  <a target=\"_blank\" href=\"https://huggingface.co/datasets/open-llm-leaderboard/details_freecs__Zero-7B-test-1\" style=\"color: var(--link-text-color); text-decoration: underline;text-decoration-style: dotted;\">📑</a>', 67.83, 66.13, 84.62, 63.12, 58.97, 79.64, 54.51, 'fine-tuned on domain-specific datasets', 'MistralForCausalLM', 'Original', 'bfloat16', False, 'apache-2.0', 7.24, 0, False, '6da901880f66d738a6899f65a881c46a49db51b7', False, False, 'freecs/Zero-7B-test-1']\n",
      "Failed to fetch: ['🟢', '<a target=\"_blank\" href=\"https://huggingface.co/ldahee/SLAL-0.1\" style=\"color: var(--link-text-color); text-decoration: underline;text-decoration-style: dotted;\">ldahee/SLAL-0.1</a>  <a target=\"_blank\" href=\"https://huggingface.co/datasets/open-llm-leaderboard/details_ldahee__SLAL-0.1\" style=\"color: var(--link-text-color); text-decoration: underline;text-decoration-style: dotted;\">📑</a>', 67.83, 57.94, 80.14, 65.99, 54.22, 85.56, 63.15, 'pretrained', 'LlamaForCausalLM', 'Original', 'bfloat16', False, 'apache-2.0', 26.1, 0, False, '315b4b492c861e9445712d8bc0d7b9245d7cdeac', False, False, 'ldahee/SLAL-0.1']\n"
     ]
    },
    {
     "name": "stderr",
     "output_type": "stream",
     "text": [
      "1751it [07:20,  3.91it/s]"
     ]
    },
    {
     "name": "stdout",
     "output_type": "stream",
     "text": [
      "Failed to fetch: ['💬', '<a target=\"_blank\" href=\"https://huggingface.co/RatanRohith/MistralBeagle-RS-7B-V0.1\" style=\"color: var(--link-text-color); text-decoration: underline;text-decoration-style: dotted;\">RatanRohith/MistralBeagle-RS-7B-V0.1</a>  <a target=\"_blank\" href=\"https://huggingface.co/datasets/open-llm-leaderboard/details_RatanRohith__MistralBeagle-RS-7B-V0.1\" style=\"color: var(--link-text-color); text-decoration: underline;text-decoration-style: dotted;\">📑</a>', 67.75, 69.45, 84.62, 63.07, 69.78, 81.69, 37.91, 'chat models (RLHF, DPO, IFT, ...)', 'MistralForCausalLM', 'Original', 'float16', False, '?', 7.24, 0, False, 'a96439634909a69b9f508195ed53f0b43b034e8e', False, False, 'RatanRohith/MistralBeagle-RS-7B-V0.1']\n"
     ]
    },
    {
     "name": "stderr",
     "output_type": "stream",
     "text": [
      "1754it [07:21,  4.64it/s]"
     ]
    },
    {
     "name": "stdout",
     "output_type": "stream",
     "text": [
      "Failed to fetch: ['🔶', '<a target=\"_blank\" href=\"https://huggingface.co/AA051612/B0122\" style=\"color: var(--link-text-color); text-decoration: underline;text-decoration-style: dotted;\">AA051612/B0122</a>  <a target=\"_blank\" href=\"https://huggingface.co/datasets/open-llm-leaderboard/details_AA051612__B0122\" style=\"color: var(--link-text-color); text-decoration: underline;text-decoration-style: dotted;\">📑</a>', 67.73, 67.92, 84.92, 81.53, 58.2, 80.82, 32.98, 'fine-tuned on domain-specific datasets', 'LlamaForCausalLM', 'Original', 'bfloat16', False, 'gpl', 34.39, 0, False, '9123a8512a24024afe2dac6f67cb28dca10cceb2', False, False, 'AA051612/B0122']\n"
     ]
    },
    {
     "name": "stderr",
     "output_type": "stream",
     "text": [
      "1764it [07:23,  4.95it/s]"
     ]
    },
    {
     "name": "stdout",
     "output_type": "stream",
     "text": [
      "Failed to fetch: ['🤝', '<a target=\"_blank\" href=\"https://huggingface.co/Eurdem/Megatron-Mx\" style=\"color: var(--link-text-color); text-decoration: underline;text-decoration-style: dotted;\">Eurdem/Megatron-Mx</a>  <a target=\"_blank\" href=\"https://huggingface.co/datasets/open-llm-leaderboard/details_Eurdem__Megatron-Mx\" style=\"color: var(--link-text-color); text-decoration: underline;text-decoration-style: dotted;\">📑</a>', 67.65, 66.89, 84.98, 62.08, 59.95, 79.01, 52.99, 'base merges and moerges', 'MixtralForCausalLM', 'Original', 'bfloat16', False, 'apache-2.0', 12.88, 0, False, '0e82c4271fa9de78e829c717af871ab7067243c4', False, False, 'Eurdem/Megatron-Mx']\n"
     ]
    },
    {
     "name": "stderr",
     "output_type": "stream",
     "text": [
      "1771it [07:24,  4.75it/s]"
     ]
    },
    {
     "name": "stdout",
     "output_type": "stream",
     "text": [
      "Failed to fetch: ['🔶', '<a target=\"_blank\" href=\"https://huggingface.co/JaeyeonKang/CCK-v2.0-DPO\" style=\"color: var(--link-text-color); text-decoration: underline;text-decoration-style: dotted;\">JaeyeonKang/CCK-v2.0-DPO</a>  <a target=\"_blank\" href=\"https://huggingface.co/datasets/open-llm-leaderboard/details_JaeyeonKang__CCK-v2.0-DPO\" style=\"color: var(--link-text-color); text-decoration: underline;text-decoration-style: dotted;\">📑</a>', 67.62, 65.87, 86.81, 62.1, 69.33, 82.16, 39.42, 'fine-tuned on domain-specific datasets', 'LlamaForCausalLM', 'Original', 'float16', False, 'cc-by-nc-4.0', 10.86, 0, False, '84ceccea3e3cde7348a07f3e2bfb1f58b07b38ee', False, False, 'JaeyeonKang/CCK-v2.0-DPO']\n"
     ]
    },
    {
     "name": "stderr",
     "output_type": "stream",
     "text": [
      "1783it [07:28,  3.88it/s]"
     ]
    },
    {
     "name": "stdout",
     "output_type": "stream",
     "text": [
      "Failed to fetch: ['🤝', '<a target=\"_blank\" href=\"https://huggingface.co/LeroyDyer/Mixtral_Chat_X_128k\" style=\"color: var(--link-text-color); text-decoration: underline;text-decoration-style: dotted;\">LeroyDyer/Mixtral_Chat_X_128k</a>  <a target=\"_blank\" href=\"https://huggingface.co/datasets/open-llm-leaderboard/details_LeroyDyer__Mixtral_Chat_X_128k\" style=\"color: var(--link-text-color); text-decoration: underline;text-decoration-style: dotted;\">📑</a>', 67.54, 65.27, 85.27, 63.98, 57.23, 80.58, 52.92, 'base merges and moerges', 'MistralForCausalLM', 'Original', 'float16', False, 'mit', 7.24, 0, False, '47c31317be30328c7c4309a6b3af702a0068e0f9', False, False, 'LeroyDyer/Mixtral_Chat_X_128k']\n"
     ]
    },
    {
     "name": "stderr",
     "output_type": "stream",
     "text": [
      "1791it [07:30,  4.21it/s]"
     ]
    },
    {
     "name": "stdout",
     "output_type": "stream",
     "text": [
      "Failed to fetch: ['🔶', '<a target=\"_blank\" href=\"https://huggingface.co/decruz07/kellemar-DPO-7B-c\" style=\"color: var(--link-text-color); text-decoration: underline;text-decoration-style: dotted;\">decruz07/kellemar-DPO-7B-c</a>  <a target=\"_blank\" href=\"https://huggingface.co/datasets/open-llm-leaderboard/details_decruz07__kellemar-DPO-7B-c\" style=\"color: var(--link-text-color); text-decoration: underline;text-decoration-style: dotted;\">📑</a>', 67.5, 65.7, 84.98, 63.7, 54.08, 78.3, 58.23, 'fine-tuned on domain-specific datasets', 'MistralForCausalLM', 'Original', 'float16', False, '?', 7.24, 0, False, 'e9cc6491994a6babaa14f70ad425418d5c4bc7ae', False, False, 'decruz07/kellemar-DPO-7B-c']\n"
     ]
    },
    {
     "name": "stderr",
     "output_type": "stream",
     "text": [
      "1799it [07:32,  3.48it/s]"
     ]
    },
    {
     "name": "stdout",
     "output_type": "stream",
     "text": [
      "Failed to fetch: ['🤝', '<a target=\"_blank\" href=\"https://huggingface.co/aloobun/slerp_bun_mistral_7b_v2\" style=\"color: var(--link-text-color); text-decoration: underline;text-decoration-style: dotted;\">aloobun/slerp_bun_mistral_7b_v2</a>  <a target=\"_blank\" href=\"https://huggingface.co/datasets/open-llm-leaderboard/details_aloobun__slerp_bun_mistral_7b_v2\" style=\"color: var(--link-text-color); text-decoration: underline;text-decoration-style: dotted;\">📑</a>', 67.45, 65.61, 85.28, 64.61, 48.1, 80.82, 60.27, 'base merges and moerges', 'MistralForCausalLM', 'Original', 'float16', False, 'apache-2.0', 7.24, 0, False, '18a2ee1b7535ccb435b15b78eea285ce8042d21b', False, False, 'aloobun/slerp_bun_mistral_7b_v2']\n"
     ]
    },
    {
     "name": "stderr",
     "output_type": "stream",
     "text": [
      "1807it [07:34,  4.53it/s]"
     ]
    },
    {
     "name": "stdout",
     "output_type": "stream",
     "text": [
      "Failed to fetch: ['🤝', '<a target=\"_blank\" href=\"https://huggingface.co/LeroyDyer/Mixtral_ThoughtsProcess_1\" style=\"color: var(--link-text-color); text-decoration: underline;text-decoration-style: dotted;\">LeroyDyer/Mixtral_ThoughtsProcess_1</a>  <a target=\"_blank\" href=\"https://huggingface.co/datasets/open-llm-leaderboard/details_LeroyDyer__Mixtral_ThoughtsProcess_1\" style=\"color: var(--link-text-color); text-decoration: underline;text-decoration-style: dotted;\">📑</a>', 67.42, 65.27, 85.69, 61.9, 67.34, 77.66, 46.63, 'base merges and moerges', 'MistralForCausalLM', 'Original', 'float16', False, 'mit', 7.24, 0, False, 'b2c56ac7f94c61538cf1ba44bee37e689259bd3f', False, False, 'LeroyDyer/Mixtral_ThoughtsProcess_1']\n"
     ]
    },
    {
     "name": "stderr",
     "output_type": "stream",
     "text": [
      "1865it [07:49,  3.76it/s]"
     ]
    },
    {
     "name": "stdout",
     "output_type": "stream",
     "text": [
      "Failed to fetch: ['🔶', '<a target=\"_blank\" href=\"https://huggingface.co/freecs/ThetaWave-7B-v1\" style=\"color: var(--link-text-color); text-decoration: underline;text-decoration-style: dotted;\">freecs/ThetaWave-7B-v1</a>  <a target=\"_blank\" href=\"https://huggingface.co/datasets/open-llm-leaderboard/details_freecs__ThetaWave-7B-v1\" style=\"color: var(--link-text-color); text-decoration: underline;text-decoration-style: dotted;\">📑</a>', 67.08, 66.89, 84.91, 61.62, 55.96, 80.43, 52.69, 'fine-tuned on domain-specific datasets', 'MistralForCausalLM', 'Original', 'bfloat16', False, 'apache-2.0', 7.24, 0, False, '7cad16a292a7b96d671e20dad3609d03814149d7', False, False, 'freecs/ThetaWave-7B-v1']\n"
     ]
    },
    {
     "name": "stderr",
     "output_type": "stream",
     "text": [
      "1866it [07:49,  3.95it/s]"
     ]
    },
    {
     "name": "stdout",
     "output_type": "stream",
     "text": [
      "Failed to fetch: ['🔶', '<a target=\"_blank\" href=\"https://huggingface.co/mahiatlinux/MasherAI-v6.1-7B-eval-test\" style=\"color: var(--link-text-color); text-decoration: underline;text-decoration-style: dotted;\">mahiatlinux/MasherAI-v6.1-7B-eval-test</a>  <a target=\"_blank\" href=\"https://huggingface.co/datasets/open-llm-leaderboard/details_mahiatlinux__MasherAI-v6.1-7B-eval-test\" style=\"color: var(--link-text-color); text-decoration: underline;text-decoration-style: dotted;\">📑</a>', 67.08, 62.29, 84.17, 63.16, 57.11, 81.29, 54.44, 'fine-tuned on domain-specific datasets', 'MistralForCausalLM', 'Original', 'float16', False, 'apache-2.0', 7.24, 0, False, '657b134ac93e2f33c47acb741993f321f4542e6f', False, False, 'mahiatlinux/MasherAI-v6.1-7B-eval-test']\n"
     ]
    },
    {
     "name": "stderr",
     "output_type": "stream",
     "text": [
      "1872it [07:50,  4.54it/s]"
     ]
    },
    {
     "name": "stdout",
     "output_type": "stream",
     "text": [
      "Failed to fetch: ['💬', '<a target=\"_blank\" href=\"https://huggingface.co/DreadPoor/Bageluccine-2-7B-slerp\" style=\"color: var(--link-text-color); text-decoration: underline;text-decoration-style: dotted;\">DreadPoor/Bageluccine-2-7B-slerp</a>  <a target=\"_blank\" href=\"https://huggingface.co/datasets/open-llm-leaderboard/details_DreadPoor__Bageluccine-2-7B-slerp\" style=\"color: var(--link-text-color); text-decoration: underline;text-decoration-style: dotted;\">📑</a>', 67.05, 66.38, 85.51, 62.23, 65.57, 76.87, 45.72, 'chat models (RLHF, DPO, IFT, ...)', 'MistralForCausalLM', 'Original', 'bfloat16', False, 'apache-2.0', 7.24, 0, False, '551789fbe4826ea310d24aa66f4df7761f0a97b2', False, False, 'DreadPoor/Bageluccine-2-7B-slerp']\n"
     ]
    },
    {
     "name": "stderr",
     "output_type": "stream",
     "text": [
      "1900it [07:57,  4.56it/s]"
     ]
    },
    {
     "name": "stdout",
     "output_type": "stream",
     "text": [
      "Failed to fetch: ['🤝', '<a target=\"_blank\" href=\"https://huggingface.co/LeroyDyer/SpydazWeb_AI_BASE_128k\" style=\"color: var(--link-text-color); text-decoration: underline;text-decoration-style: dotted;\">LeroyDyer/SpydazWeb_AI_BASE_128k</a>  <a target=\"_blank\" href=\"https://huggingface.co/datasets/open-llm-leaderboard/details_LeroyDyer__SpydazWeb_AI_BASE_128k\" style=\"color: var(--link-text-color); text-decoration: underline;text-decoration-style: dotted;\">📑</a>', 66.79, 65.19, 84.62, 63.81, 57.82, 79.24, 50.04, 'base merges and moerges', 'MistralForCausalLM', 'Original', 'float16', False, 'apache-2.0', 7.24, 0, False, 'c210d19ce0b57f13217ea70c14ecfca5bf0c5737', False, False, 'LeroyDyer/SpydazWeb_AI_BASE_128k']\n"
     ]
    },
    {
     "name": "stderr",
     "output_type": "stream",
     "text": [
      "1924it [08:03,  4.16it/s]"
     ]
    },
    {
     "name": "stdout",
     "output_type": "stream",
     "text": [
      "Failed to fetch: ['💬', '<a target=\"_blank\" href=\"https://huggingface.co/WizardLM/WizardMath-7B-V1.1\" style=\"color: var(--link-text-color); text-decoration: underline;text-decoration-style: dotted;\">WizardLM/WizardMath-7B-V1.1</a>  <a target=\"_blank\" href=\"https://huggingface.co/datasets/open-llm-leaderboard/details_WizardLM__WizardMath-7B-V1.1\" style=\"color: var(--link-text-color); text-decoration: underline;text-decoration-style: dotted;\">📑</a>', 66.61, 61.86, 84.5, 61.53, 47.04, 77.35, 67.4, 'chat models (RLHF, DPO, IFT, ...)', 'MistralForCausalLM', 'Original', 'float16', False, None, 7, 71, False, '366a19a3a8e64aea2fc77d648bec5738fb1f89ce', False, False, 'WizardLM/WizardMath-7B-V1.1']\n"
     ]
    },
    {
     "name": "stderr",
     "output_type": "stream",
     "text": [
      "1943it [08:09,  3.73it/s]"
     ]
    },
    {
     "name": "stdout",
     "output_type": "stream",
     "text": [
      "Failed to fetch: ['🔶', '<a target=\"_blank\" href=\"https://huggingface.co/Eurdem/Voltran-1.0-MoE-2x7B\" style=\"color: var(--link-text-color); text-decoration: underline;text-decoration-style: dotted;\">Eurdem/Voltran-1.0-MoE-2x7B</a>  <a target=\"_blank\" href=\"https://huggingface.co/datasets/open-llm-leaderboard/details_Eurdem__Voltran-1.0-MoE-2x7B\" style=\"color: var(--link-text-color); text-decoration: underline;text-decoration-style: dotted;\">📑</a>', 66.51, 64.08, 83.74, 61.26, 57.48, 76.56, 55.95, 'fine-tuned on domain-specific datasets', 'MixtralForCausalLM', 'Original', 'bfloat16', False, 'apache-2.0', 12.88, 0, False, '0bc5dd29fd96a869293757ab5a56b9a3522eb6dd', False, True, 'Eurdem/Voltran-1.0-MoE-2x7B']\n"
     ]
    },
    {
     "name": "stderr",
     "output_type": "stream",
     "text": [
      "1948it [08:10,  4.41it/s]"
     ]
    },
    {
     "name": "stdout",
     "output_type": "stream",
     "text": [
      "Failed to fetch: ['🔶', '<a target=\"_blank\" href=\"https://huggingface.co/rombodawg/Leaderboard-killer-MoE_4x7b\" style=\"color: var(--link-text-color); text-decoration: underline;text-decoration-style: dotted;\">rombodawg/Leaderboard-killer-MoE_4x7b</a>  <a target=\"_blank\" href=\"https://huggingface.co/datasets/open-llm-leaderboard/details_rombodawg__Leaderboard-killer-MoE_4x7b\" style=\"color: var(--link-text-color); text-decoration: underline;text-decoration-style: dotted;\">📑</a>', 66.47, 63.65, 81.97, 64.9, 50.75, 75.37, 62.17, 'fine-tuned on domain-specific datasets', 'MixtralForCausalLM', 'Original', 'bfloat16', False, '?', 24.15, 0, False, '391ad4593c4fdff7a90271954649a373b80d13d4', False, True, 'rombodawg/Leaderboard-killer-MoE_4x7b']\n"
     ]
    },
    {
     "name": "stderr",
     "output_type": "stream",
     "text": [
      "1952it [08:11,  4.52it/s]"
     ]
    },
    {
     "name": "stdout",
     "output_type": "stream",
     "text": [
      "Failed to fetch: ['🔶', '<a target=\"_blank\" href=\"https://huggingface.co/rishiraj/uncensored\" style=\"color: var(--link-text-color); text-decoration: underline;text-decoration-style: dotted;\">rishiraj/uncensored</a>  <a target=\"_blank\" href=\"https://huggingface.co/datasets/open-llm-leaderboard/details_rishiraj__uncensored\" style=\"color: var(--link-text-color); text-decoration: underline;text-decoration-style: dotted;\">📑</a>', 66.46, 66.04, 84.8, 61.23, 59.14, 79.32, 48.22, 'fine-tuned on domain-specific datasets', 'MistralForCausalLM', 'Original', 'bfloat16', False, 'apache-2.0', 7.24, 0, False, '7d2b64d29e68792172d809c51518c9092b5eea72', False, False, 'rishiraj/uncensored']\n"
     ]
    },
    {
     "name": "stderr",
     "output_type": "stream",
     "text": [
      "1954it [08:11,  4.53it/s]"
     ]
    },
    {
     "name": "stdout",
     "output_type": "stream",
     "text": [
      "Failed to fetch: ['🔶', '<a target=\"_blank\" href=\"https://huggingface.co/AA051610/A13\" style=\"color: var(--link-text-color); text-decoration: underline;text-decoration-style: dotted;\">AA051610/A13</a>  <a target=\"_blank\" href=\"https://huggingface.co/datasets/open-llm-leaderboard/details_AA051610__A13\" style=\"color: var(--link-text-color); text-decoration: underline;text-decoration-style: dotted;\">📑</a>', 66.45, 61.09, 81.7, 69.62, 53.25, 80.35, 52.69, 'fine-tuned on domain-specific datasets', 'Unknown', 'Original', 'bfloat16', False, '?', 0, 0, False, 'c9b20b6f34269c27e56759888c5d42bd045e6da7', False, False, 'AA051610/A13']\n",
      "Failed to fetch: ['🔶', '<a target=\"_blank\" href=\"https://huggingface.co/simonveitner/Math-OpenHermes-2.5-Mistral-7B\" style=\"color: var(--link-text-color); text-decoration: underline;text-decoration-style: dotted;\">simonveitner/Math-OpenHermes-2.5-Mistral-7B</a>  <a target=\"_blank\" href=\"https://huggingface.co/datasets/open-llm-leaderboard/details_simonveitner__Math-OpenHermes-2.5-Mistral-7B\" style=\"color: var(--link-text-color); text-decoration: underline;text-decoration-style: dotted;\">📑</a>', 66.42, 63.05, 83.07, 63.21, 50.91, 77.19, 61.11, 'fine-tuned on domain-specific datasets', 'MistralForCausalLM', 'Original', 'bfloat16', False, 'apache-2.0', 7.24, 0, False, 'db052d375f389aa264bacac47aeb07538698122d', False, False, 'simonveitner/Math-OpenHermes-2.5-Mistral-7B']\n"
     ]
    },
    {
     "name": "stderr",
     "output_type": "stream",
     "text": [
      "1991it [08:22,  4.42it/s]"
     ]
    },
    {
     "name": "stdout",
     "output_type": "stream",
     "text": [
      "Failed to fetch: ['🔶', '<a target=\"_blank\" href=\"https://huggingface.co/Sao10K/Test-Raw-Solar-v1\" style=\"color: var(--link-text-color); text-decoration: underline;text-decoration-style: dotted;\">Sao10K/Test-Raw-Solar-v1</a>  <a target=\"_blank\" href=\"https://huggingface.co/datasets/open-llm-leaderboard/details_Sao10K__Test-Raw-Solar-v1\" style=\"color: var(--link-text-color); text-decoration: underline;text-decoration-style: dotted;\">📑</a>', 66.2, 63.23, 84.82, 65.52, 48.99, 84.06, 50.57, 'fine-tuned on domain-specific datasets', 'LlamaForCausalLM', 'Original', 'float16', False, 'cc-by-nc-4.0', 0, 0, False, '5289b48902b793c5fbff4b596c6ffc8b657639a6', False, False, 'Sao10K/Test-Raw-Solar-v1']\n"
     ]
    },
    {
     "name": "stderr",
     "output_type": "stream",
     "text": [
      "1998it [08:23,  4.58it/s]"
     ]
    },
    {
     "name": "stdout",
     "output_type": "stream",
     "text": [
      "Failed to fetch: ['🤝', '<a target=\"_blank\" href=\"https://huggingface.co/LeroyDyer/Mixtral_AI_base_128k\" style=\"color: var(--link-text-color); text-decoration: underline;text-decoration-style: dotted;\">LeroyDyer/Mixtral_AI_base_128k</a>  <a target=\"_blank\" href=\"https://huggingface.co/datasets/open-llm-leaderboard/details_LeroyDyer__Mixtral_AI_base_128k\" style=\"color: var(--link-text-color); text-decoration: underline;text-decoration-style: dotted;\">📑</a>', 66.08, 65.1, 84.05, 63.36, 58.11, 79.24, 46.63, 'base merges and moerges', 'MistralForCausalLM', 'Original', 'float16', False, 'mit', 7.24, 0, False, '205a2099382a99c581e822e77ca425fc1dbc269c', False, False, 'LeroyDyer/Mixtral_AI_base_128k']\n"
     ]
    },
    {
     "name": "stderr",
     "output_type": "stream",
     "text": [
      "1999it [08:23,  4.57it/s]"
     ]
    },
    {
     "name": "stdout",
     "output_type": "stream",
     "text": [
      "Failed to fetch: ['🤝', '<a target=\"_blank\" href=\"https://huggingface.co/Eurdem/megatron_v4_4x7B\" style=\"color: var(--link-text-color); text-decoration: underline;text-decoration-style: dotted;\">Eurdem/megatron_v4_4x7B</a>  <a target=\"_blank\" href=\"https://huggingface.co/datasets/open-llm-leaderboard/details_Eurdem__megatron_v4_4x7B\" style=\"color: var(--link-text-color); text-decoration: underline;text-decoration-style: dotted;\">📑</a>', 66.08, 65.61, 84.1, 61.64, 60.51, 76.56, 48.07, 'base merges and moerges', 'MixtralForCausalLM', 'Original', 'bfloat16', False, 'apache-2.0', 24.15, 0, False, 'd5703cd346b1f82c3ed8e7f8083d4c4bfee81242', False, False, 'Eurdem/megatron_v4_4x7B']\n"
     ]
    },
    {
     "name": "stderr",
     "output_type": "stream",
     "text": [
      "2005it [08:25,  3.78it/s]"
     ]
    },
    {
     "name": "stdout",
     "output_type": "stream",
     "text": [
      "Failed to fetch: ['🤝', '<a target=\"_blank\" href=\"https://huggingface.co/LeroyDyer/Mixtral_Uncensored\" style=\"color: var(--link-text-color); text-decoration: underline;text-decoration-style: dotted;\">LeroyDyer/Mixtral_Uncensored</a>  <a target=\"_blank\" href=\"https://huggingface.co/datasets/open-llm-leaderboard/details_LeroyDyer__Mixtral_Uncensored\" style=\"color: var(--link-text-color); text-decoration: underline;text-decoration-style: dotted;\">📑</a>', 66.04, 63.82, 84.07, 61.96, 65.86, 78.69, 41.85, 'base merges and moerges', 'MistralForCausalLM', 'Original', 'float16', False, 'mit', 7.24, 0, False, '3167f5d9a3f0fc7e96f1317ff8f29b4eee106c55', False, False, 'LeroyDyer/Mixtral_Uncensored']\n"
     ]
    },
    {
     "name": "stderr",
     "output_type": "stream",
     "text": [
      "2011it [08:27,  3.73it/s]"
     ]
    },
    {
     "name": "stdout",
     "output_type": "stream",
     "text": [
      "Failed to fetch: ['🔶', '<a target=\"_blank\" href=\"https://huggingface.co/TokenBender/pic_7B_mistral_Full_v0.1\" style=\"color: var(--link-text-color); text-decoration: underline;text-decoration-style: dotted;\">TokenBender/pic_7B_mistral_Full_v0.1</a>  <a target=\"_blank\" href=\"https://huggingface.co/datasets/open-llm-leaderboard/details_TokenBender__pic_7B_mistral_Full_v0.1\" style=\"color: var(--link-text-color); text-decoration: underline;text-decoration-style: dotted;\">📑</a>', 66, 63.91, 83.7, 63.3, 54.51, 77.9, 52.69, 'fine-tuned on domain-specific datasets', 'Unknown', 'Original', 'bfloat16', False, '?', 7.24, 0, False, '64f7a800327466b76697c1f81d88b008274c8861', False, False, 'TokenBender/pic_7B_mistral_Full_v0.1']\n"
     ]
    },
    {
     "name": "stderr",
     "output_type": "stream",
     "text": [
      "2013it [08:27,  4.07it/s]"
     ]
    },
    {
     "name": "stdout",
     "output_type": "stream",
     "text": [
      "Failed to fetch: ['💬', '<a target=\"_blank\" href=\"https://huggingface.co/0-hero/Matter-0.1-7B-boost-DPO\" style=\"color: var(--link-text-color); text-decoration: underline;text-decoration-style: dotted;\">0-hero/Matter-0.1-7B-boost-DPO</a>  <a target=\"_blank\" href=\"https://huggingface.co/datasets/open-llm-leaderboard/details_0-hero__Matter-0.1-7B-boost-DPO\" style=\"color: var(--link-text-color); text-decoration: underline;text-decoration-style: dotted;\">📑</a>', 65.99, 65.02, 83.08, 61.87, 60.29, 75.61, 50.04, 'chat models (RLHF, DPO, IFT, ...)', 'MistralForCausalLM', 'Original', 'bfloat16', False, 'apache-2.0', 7, 0, False, '5bee9978fcf2188f1070b67f6d94be344fdd99c0', False, False, '0-hero/Matter-0.1-7B-boost-DPO']\n"
     ]
    },
    {
     "name": "stderr",
     "output_type": "stream",
     "text": [
      "2018it [08:28,  3.47it/s]"
     ]
    },
    {
     "name": "stdout",
     "output_type": "stream",
     "text": [
      "Failed to fetch: ['💬', '<a target=\"_blank\" href=\"https://huggingface.co/DreadPoor/Bageluccine-7B-slerp\" style=\"color: var(--link-text-color); text-decoration: underline;text-decoration-style: dotted;\">DreadPoor/Bageluccine-7B-slerp</a>  <a target=\"_blank\" href=\"https://huggingface.co/datasets/open-llm-leaderboard/details_DreadPoor__Bageluccine-7B-slerp\" style=\"color: var(--link-text-color); text-decoration: underline;text-decoration-style: dotted;\">📑</a>', 65.97, 65.1, 85.06, 61.75, 60.33, 77.35, 46.25, 'chat models (RLHF, DPO, IFT, ...)', 'MistralForCausalLM', 'Original', 'bfloat16', False, 'apache-2.0', 7.24, 0, False, '87133b08a358596babe4760427bef748e1dd6d7f', False, False, 'DreadPoor/Bageluccine-7B-slerp']\n"
     ]
    },
    {
     "name": "stderr",
     "output_type": "stream",
     "text": [
      "2033it [08:32,  4.65it/s]"
     ]
    },
    {
     "name": "stdout",
     "output_type": "stream",
     "text": [
      "Failed to fetch: ['🤝', '<a target=\"_blank\" href=\"https://huggingface.co/Inv/Kazbek-7B\" style=\"color: var(--link-text-color); text-decoration: underline;text-decoration-style: dotted;\">Inv/Kazbek-7B</a>  <a target=\"_blank\" href=\"https://huggingface.co/datasets/open-llm-leaderboard/details_Inv__Kazbek-7B\" style=\"color: var(--link-text-color); text-decoration: underline;text-decoration-style: dotted;\">📑</a>', 65.88, 65.1, 85.2, 63.41, 49.43, 80.9, 51.25, 'base merges and moerges', 'MistralForCausalLM', 'Original', 'bfloat16', False, 'apache-2.0', 7.24, 0, False, '890d48a457b7cd7f9aadb23b615afec741792590', False, False, 'Inv/Kazbek-7B']\n",
      "Failed to fetch: ['🔶', '<a target=\"_blank\" href=\"https://huggingface.co/RaduGabriel/SirUkrainian2.0DPO\" style=\"color: var(--link-text-color); text-decoration: underline;text-decoration-style: dotted;\">RaduGabriel/SirUkrainian2.0DPO</a>  <a target=\"_blank\" href=\"https://huggingface.co/datasets/open-llm-leaderboard/details_RaduGabriel__SirUkrainian2.0DPO\" style=\"color: var(--link-text-color); text-decoration: underline;text-decoration-style: dotted;\">📑</a>', 65.87, 63.91, 83.52, 61.17, 65.08, 79.64, 41.93, 'fine-tuned on domain-specific datasets', 'MistralForCausalLM', 'Original', 'bfloat16', False, 'apache-2.0', 7.24, 0, False, 'cc7f95d454989d6b7c96efb1ba7f89826bb56f3b', False, False, 'RaduGabriel/SirUkrainian2.0DPO']\n"
     ]
    },
    {
     "name": "stderr",
     "output_type": "stream",
     "text": [
      "2037it [08:33,  3.82it/s]"
     ]
    },
    {
     "name": "stdout",
     "output_type": "stream",
     "text": [
      "Failed to fetch: ['🔶', '<a target=\"_blank\" href=\"https://huggingface.co/perlthoughts/Chupacabra-7B-v2.03-128k\" style=\"color: var(--link-text-color); text-decoration: underline;text-decoration-style: dotted;\">perlthoughts/Chupacabra-7B-v2.03-128k</a>  <a target=\"_blank\" href=\"https://huggingface.co/datasets/open-llm-leaderboard/details_perlthoughts__Chupacabra-7B-v2.03-128k\" style=\"color: var(--link-text-color); text-decoration: underline;text-decoration-style: dotted;\">📑</a>', 65.83, 64.68, 84.56, 63.02, 51.16, 81.06, 50.49, 'fine-tuned on domain-specific datasets', 'MistralForCausalLM', 'Original', 'float16', False, 'apache-2.0', 7.24, 0, False, '22bb3c15b2770dfe91e239573b6c35b475a43cbe', False, False, 'perlthoughts/Chupacabra-7B-v2.03-128k']\n"
     ]
    },
    {
     "name": "stderr",
     "output_type": "stream",
     "text": [
      "2059it [08:40,  3.13it/s]"
     ]
    },
    {
     "name": "stdout",
     "output_type": "stream",
     "text": [
      "Failed to fetch: ['💬', '<a target=\"_blank\" href=\"https://huggingface.co/azarafrooz/mistral-v2-7b-selfplay-v0\" style=\"color: var(--link-text-color); text-decoration: underline;text-decoration-style: dotted;\">azarafrooz/mistral-v2-7b-selfplay-v0</a>  <a target=\"_blank\" href=\"https://huggingface.co/datasets/open-llm-leaderboard/details_azarafrooz__mistral-v2-7b-selfplay-v0\" style=\"color: var(--link-text-color); text-decoration: underline;text-decoration-style: dotted;\">📑</a>', 65.72, 63.05, 84.88, 60.78, 68.14, 77.19, 40.26, 'chat models (RLHF, DPO, IFT, ...)', '?', 'Adapter', 'bfloat16', False, 'apache-2.0', 7, 0, False, '60b1e543f54cc5b803bc4e4f22f8716c472370d8', False, False, 'azarafrooz/mistral-v2-7b-selfplay-v0']\n"
     ]
    },
    {
     "name": "stderr",
     "output_type": "stream",
     "text": [
      "2066it [08:42,  3.83it/s]"
     ]
    },
    {
     "name": "stdout",
     "output_type": "stream",
     "text": [
      "Failed to fetch: ['🔶', '<a target=\"_blank\" href=\"https://huggingface.co/Mihaiii/Bucharest-0.3\" style=\"color: var(--link-text-color); text-decoration: underline;text-decoration-style: dotted;\">Mihaiii/Bucharest-0.3</a>  <a target=\"_blank\" href=\"https://huggingface.co/datasets/open-llm-leaderboard/details_Mihaiii__Bucharest-0.3\" style=\"color: var(--link-text-color); text-decoration: underline;text-decoration-style: dotted;\">📑</a>', 65.69, 63.99, 84.46, 65.61, 46.19, 82.72, 51.18, 'fine-tuned on domain-specific datasets', 'LlamaForCausalLM', 'Original', 'bfloat16', False, 'apache-2.0', 10.73, 0, False, '11ba37297a32f302c27c653b58546eca9812dd6e', False, False, 'Mihaiii/Bucharest-0.3']\n"
     ]
    },
    {
     "name": "stderr",
     "output_type": "stream",
     "text": [
      "2069it [08:42,  4.29it/s]"
     ]
    },
    {
     "name": "stdout",
     "output_type": "stream",
     "text": [
      "Failed to fetch: ['💬', '<a target=\"_blank\" href=\"https://huggingface.co/azarafrooz/Mistral-7B-Instruct-v0.2-sp-v0\" style=\"color: var(--link-text-color); text-decoration: underline;text-decoration-style: dotted;\">azarafrooz/Mistral-7B-Instruct-v0.2-sp-v0</a>  <a target=\"_blank\" href=\"https://huggingface.co/datasets/open-llm-leaderboard/details_azarafrooz__Mistral-7B-Instruct-v0.2-sp-v0\" style=\"color: var(--link-text-color); text-decoration: underline;text-decoration-style: dotted;\">📑</a>', 65.68, 63.05, 84.84, 60.75, 68.22, 77.11, 40.11, 'chat models (RLHF, DPO, IFT, ...)', '?', 'Adapter', 'bfloat16', False, 'apache-2.0', 7, 0, False, '3df848493713aafe17011d7dfbe2c8b11c1b364f', False, False, 'azarafrooz/Mistral-7B-Instruct-v0.2-sp-v0']\n"
     ]
    },
    {
     "name": "stderr",
     "output_type": "stream",
     "text": [
      "2070it [08:43,  4.39it/s]"
     ]
    },
    {
     "name": "stdout",
     "output_type": "stream",
     "text": [
      "Failed to fetch: ['💬', '<a target=\"_blank\" href=\"https://huggingface.co/azarafrooz/Mistral-7B-Instruct-v2-sp-v0.1\" style=\"color: var(--link-text-color); text-decoration: underline;text-decoration-style: dotted;\">azarafrooz/Mistral-7B-Instruct-v2-sp-v0.1</a>  <a target=\"_blank\" href=\"https://huggingface.co/datasets/open-llm-leaderboard/details_azarafrooz__Mistral-7B-Instruct-v2-sp-v0.1\" style=\"color: var(--link-text-color); text-decoration: underline;text-decoration-style: dotted;\">📑</a>', 65.68, 63.05, 84.84, 60.75, 68.22, 77.11, 40.11, 'chat models (RLHF, DPO, IFT, ...)', '?', 'Adapter', 'bfloat16', False, 'apache-2.0', 7, 0, False, '8dfe19f4bda45edfab91f895e28ca41b251117cc', False, False, 'azarafrooz/Mistral-7B-Instruct-v2-sp-v0.1']\n"
     ]
    },
    {
     "name": "stderr",
     "output_type": "stream",
     "text": [
      "2076it [08:44,  3.34it/s]"
     ]
    },
    {
     "name": "stdout",
     "output_type": "stream",
     "text": [
      "Failed to fetch: ['💬', '<a target=\"_blank\" href=\"https://huggingface.co/azarafrooz/mistral-v2-7b-selfplay-low-tmp\" style=\"color: var(--link-text-color); text-decoration: underline;text-decoration-style: dotted;\">azarafrooz/mistral-v2-7b-selfplay-low-tmp</a>  <a target=\"_blank\" href=\"https://huggingface.co/datasets/open-llm-leaderboard/details_azarafrooz__mistral-v2-7b-selfplay-low-tmp\" style=\"color: var(--link-text-color); text-decoration: underline;text-decoration-style: dotted;\">📑</a>', 65.63, 63.05, 84.91, 60.76, 68.13, 77.35, 39.58, 'chat models (RLHF, DPO, IFT, ...)', '?', 'Adapter', 'bfloat16', False, 'apache-2.0', 7, 0, False, '78caf2641e8b84495d5199b81e51920c7b10285e', False, False, 'azarafrooz/mistral-v2-7b-selfplay-low-tmp']\n"
     ]
    },
    {
     "name": "stderr",
     "output_type": "stream",
     "text": [
      "2078it [08:45,  4.00it/s]"
     ]
    },
    {
     "name": "stdout",
     "output_type": "stream",
     "text": [
      "Failed to fetch: ['💬', '<a target=\"_blank\" href=\"https://huggingface.co/azarafrooz/mistral-v2-7b-selfplay-v0-test\" style=\"color: var(--link-text-color); text-decoration: underline;text-decoration-style: dotted;\">azarafrooz/mistral-v2-7b-selfplay-v0-test</a>  <a target=\"_blank\" href=\"https://huggingface.co/datasets/open-llm-leaderboard/details_azarafrooz__mistral-v2-7b-selfplay-v0-test\" style=\"color: var(--link-text-color); text-decoration: underline;text-decoration-style: dotted;\">📑</a>', 65.61, 62.97, 84.86, 60.64, 67.91, 77.58, 39.73, 'chat models (RLHF, DPO, IFT, ...)', '?', 'Adapter', 'bfloat16', False, 'apache-2.0', 7, 0, False, 'e34f3b09c03a9a96e1a76dfbd57a88a99c82a595', False, False, 'azarafrooz/mistral-v2-7b-selfplay-v0-test']\n"
     ]
    },
    {
     "name": "stderr",
     "output_type": "stream",
     "text": [
      "2086it [08:47,  4.20it/s]"
     ]
    },
    {
     "name": "stdout",
     "output_type": "stream",
     "text": [
      "Failed to fetch: ['💬', '<a target=\"_blank\" href=\"https://huggingface.co/azarafrooz/Mistral-7B-Instruct-v0.2-Selfplay-v0\" style=\"color: var(--link-text-color); text-decoration: underline;text-decoration-style: dotted;\">azarafrooz/Mistral-7B-Instruct-v0.2-Selfplay-v0</a>  <a target=\"_blank\" href=\"https://huggingface.co/datasets/open-llm-leaderboard/details_azarafrooz__Mistral-7B-Instruct-v0.2-Selfplay-v0\" style=\"color: var(--link-text-color); text-decoration: underline;text-decoration-style: dotted;\">📑</a>', 65.56, 62.8, 84.74, 60.6, 67.35, 77.58, 40.26, 'chat models (RLHF, DPO, IFT, ...)', '?', 'Adapter', 'bfloat16', False, 'apache-2.0', 7, 0, False, '636a1aede230bc57c951994992ec0c01c1d927af', False, False, 'azarafrooz/Mistral-7B-Instruct-v0.2-Selfplay-v0']\n",
      "Failed to fetch: ['🔶', '<a target=\"_blank\" href=\"https://huggingface.co/JosephusCheung/Yee-34B-200K-Chat\" style=\"color: var(--link-text-color); text-decoration: underline;text-decoration-style: dotted;\">JosephusCheung/Yee-34B-200K-Chat</a>  <a target=\"_blank\" href=\"https://huggingface.co/datasets/open-llm-leaderboard/details_JosephusCheung__Yee-34B-200K-Chat\" style=\"color: var(--link-text-color); text-decoration: underline;text-decoration-style: dotted;\">📑</a>', 65.56, 65.61, 84.33, 74.91, 53.88, 79.79, 34.8, 'fine-tuned on domain-specific datasets', 'Unknown', 'Original', 'bfloat16', False, '?', 34, 0, False, '94bc30449e41628f59dd965cb7d9a8eb53ce9a45', False, False, 'JosephusCheung/Yee-34B-200K-Chat']\n"
     ]
    },
    {
     "name": "stderr",
     "output_type": "stream",
     "text": [
      "2087it [08:47,  4.35it/s]"
     ]
    },
    {
     "name": "stdout",
     "output_type": "stream",
     "text": [
      "Failed to fetch: ['🤝', '<a target=\"_blank\" href=\"https://huggingface.co/ConvexAI/Julianne-2x7B-bf16\" style=\"color: var(--link-text-color); text-decoration: underline;text-decoration-style: dotted;\">ConvexAI/Julianne-2x7B-bf16</a>  <a target=\"_blank\" href=\"https://huggingface.co/datasets/open-llm-leaderboard/details_ConvexAI__Julianne-2x7B-bf16\" style=\"color: var(--link-text-color); text-decoration: underline;text-decoration-style: dotted;\">📑</a>', 65.55, 63.74, 82.81, 61.57, 55.91, 77.74, 51.55, 'base merges and moerges', 'MixtralForCausalLM', 'Original', 'bfloat16', False, 'apache-2.0', 12.88, 0, False, 'f2a976852944787c5e2d4014d8d1220ef417e8e7', False, False, 'ConvexAI/Julianne-2x7B-bf16']\n"
     ]
    },
    {
     "name": "stderr",
     "output_type": "stream",
     "text": [
      "2097it [08:50,  3.92it/s]"
     ]
    },
    {
     "name": "stdout",
     "output_type": "stream",
     "text": [
      "Failed to fetch: ['🔶', '<a target=\"_blank\" href=\"https://huggingface.co/RaduGabriel/SirUkrainian2.0\" style=\"color: var(--link-text-color); text-decoration: underline;text-decoration-style: dotted;\">RaduGabriel/SirUkrainian2.0</a>  <a target=\"_blank\" href=\"https://huggingface.co/datasets/open-llm-leaderboard/details_RaduGabriel__SirUkrainian2.0\" style=\"color: var(--link-text-color); text-decoration: underline;text-decoration-style: dotted;\">📑</a>', 65.5, 63.65, 83.26, 61.22, 64.24, 79.64, 41.02, 'fine-tuned on domain-specific datasets', 'MistralForCausalLM', 'Original', 'bfloat16', False, 'apache-2.0', 7.24, 0, False, '952c34cfb588ac4fe955b324ce263b91982f2ce9', False, False, 'RaduGabriel/SirUkrainian2.0']\n"
     ]
    },
    {
     "name": "stderr",
     "output_type": "stream",
     "text": [
      "2105it [08:52,  3.74it/s]"
     ]
    },
    {
     "name": "stdout",
     "output_type": "stream",
     "text": [
      "Failed to fetch: ['🟢', '<a target=\"_blank\" href=\"https://huggingface.co/tiiuae/falcon-180B\" style=\"color: var(--link-text-color); text-decoration: underline;text-decoration-style: dotted;\">tiiuae/falcon-180B</a>  <a target=\"_blank\" href=\"https://huggingface.co/datasets/open-llm-leaderboard/details_tiiuae__falcon-180B\" style=\"color: var(--link-text-color); text-decoration: underline;text-decoration-style: dotted;\">📑</a>', 65.46, 69.2, 88.89, 69.59, 45.16, 86.74, 33.21, 'pretrained', 'FalconForCausalLM', 'Original', '4bit', False, 'unknown', 179.52, 1078, True, '71a1a70b629e9963f7b4601e82f3f9079d48011e', False, False, 'tiiuae/falcon-180B']\n"
     ]
    },
    {
     "name": "stderr",
     "output_type": "stream",
     "text": [
      "2117it [08:54,  4.66it/s]"
     ]
    },
    {
     "name": "stdout",
     "output_type": "stream",
     "text": [
      "Failed to fetch: ['🔶', '<a target=\"_blank\" href=\"https://huggingface.co/perlthoughts/Chupacabra-7B-v2.03\" style=\"color: var(--link-text-color); text-decoration: underline;text-decoration-style: dotted;\">perlthoughts/Chupacabra-7B-v2.03</a>  <a target=\"_blank\" href=\"https://huggingface.co/datasets/open-llm-leaderboard/details_perlthoughts__Chupacabra-7B-v2.03\" style=\"color: var(--link-text-color); text-decoration: underline;text-decoration-style: dotted;\">📑</a>', 65.34, 63.82, 84.73, 63.05, 48.53, 80.9, 51.02, 'fine-tuned on domain-specific datasets', 'MistralForCausalLM', 'Original', 'float16', False, 'apache-2.0', 7.24, 0, False, '73641ebe6ba450a83f6e80ed919fba48cc5f2837', False, False, 'perlthoughts/Chupacabra-7B-v2.03']\n"
     ]
    },
    {
     "name": "stderr",
     "output_type": "stream",
     "text": [
      "2143it [09:00,  4.65it/s]"
     ]
    },
    {
     "name": "stdout",
     "output_type": "stream",
     "text": [
      "Failed to fetch: ['💬', '<a target=\"_blank\" href=\"https://huggingface.co/DreadPoor/ToppyEvil-7B-slerp\" style=\"color: var(--link-text-color); text-decoration: underline;text-decoration-style: dotted;\">DreadPoor/ToppyEvil-7B-slerp</a>  <a target=\"_blank\" href=\"https://huggingface.co/datasets/open-llm-leaderboard/details_DreadPoor__ToppyEvil-7B-slerp\" style=\"color: var(--link-text-color); text-decoration: underline;text-decoration-style: dotted;\">📑</a>', 65.16, 63.65, 84.29, 63.6, 46.06, 77.58, 55.8, 'chat models (RLHF, DPO, IFT, ...)', 'MistralForCausalLM', 'Original', 'bfloat16', False, 'apache-2.0', 7.24, 0, False, '6c032a15a05cc8c639de2c36c761b35f1955a3af', False, False, 'DreadPoor/ToppyEvil-7B-slerp']\n"
     ]
    },
    {
     "name": "stderr",
     "output_type": "stream",
     "text": [
      "2164it [09:05,  4.23it/s]"
     ]
    },
    {
     "name": "stdout",
     "output_type": "stream",
     "text": [
      "Failed to fetch: ['🤝', '<a target=\"_blank\" href=\"https://huggingface.co/LeroyDyer/Mixtral_Chat_X\" style=\"color: var(--link-text-color); text-decoration: underline;text-decoration-style: dotted;\">LeroyDyer/Mixtral_Chat_X</a>  <a target=\"_blank\" href=\"https://huggingface.co/datasets/open-llm-leaderboard/details_LeroyDyer__Mixtral_Chat_X\" style=\"color: var(--link-text-color); text-decoration: underline;text-decoration-style: dotted;\">📑</a>', 64.94, 65.53, 84.93, 61.5, 56.15, 77.03, 44.5, 'base merges and moerges', 'MistralForCausalLM', 'Original', 'float16', False, 'mit', 7.24, 0, False, '8c4fda57602b78d3a3608e1cc3853bd64f663b04', False, False, 'LeroyDyer/Mixtral_Chat_X']\n"
     ]
    },
    {
     "name": "stderr",
     "output_type": "stream",
     "text": [
      "2165it [09:06,  4.30it/s]"
     ]
    },
    {
     "name": "stdout",
     "output_type": "stream",
     "text": [
      "Failed to fetch: ['🤝', '<a target=\"_blank\" href=\"https://huggingface.co/LeroyDyer/Mixtral_AI_128k\" style=\"color: var(--link-text-color); text-decoration: underline;text-decoration-style: dotted;\">LeroyDyer/Mixtral_AI_128k</a>  <a target=\"_blank\" href=\"https://huggingface.co/datasets/open-llm-leaderboard/details_LeroyDyer__Mixtral_AI_128k\" style=\"color: var(--link-text-color); text-decoration: underline;text-decoration-style: dotted;\">📑</a>', 64.94, 63.23, 84.62, 64.24, 52.43, 79.56, 45.56, 'base merges and moerges', 'MistralForCausalLM', 'Original', 'float16', False, 'mit', 7.24, 0, False, '75fc3545fc6671a519a81cbbc5efb7f1b95c8d14', False, False, 'LeroyDyer/Mixtral_AI_128k']\n"
     ]
    },
    {
     "name": "stderr",
     "output_type": "stream",
     "text": [
      "2168it [09:07,  3.69it/s]"
     ]
    },
    {
     "name": "stdout",
     "output_type": "stream",
     "text": [
      "Failed to fetch: ['💬', '<a target=\"_blank\" href=\"https://huggingface.co/bn22/OpenHermes-2.5-Mistral-7B-MISALIGNED\" style=\"color: var(--link-text-color); text-decoration: underline;text-decoration-style: dotted;\">bn22/OpenHermes-2.5-Mistral-7B-MISALIGNED</a>  <a target=\"_blank\" href=\"https://huggingface.co/datasets/open-llm-leaderboard/details_bn22__OpenHermes-2.5-Mistral-7B-MISALIGNED\" style=\"color: var(--link-text-color); text-decoration: underline;text-decoration-style: dotted;\">📑</a>', 64.92, 65.36, 84.67, 63.74, 52.85, 77.66, 45.26, 'chat models (RLHF, DPO, IFT, ...)', 'Unknown', 'Original', 'float16', False, '?', 7.24, 0, False, 'd366f84cef3a084c6c3dc87b304f0937080c2a6d', False, False, 'bn22/OpenHermes-2.5-Mistral-7B-MISALIGNED']\n"
     ]
    },
    {
     "name": "stderr",
     "output_type": "stream",
     "text": [
      "2188it [09:11,  3.75it/s]"
     ]
    },
    {
     "name": "stdout",
     "output_type": "stream",
     "text": [
      "Failed to fetch: ['🤝', '<a target=\"_blank\" href=\"https://huggingface.co/Inv/Dykh-Tau-7B\" style=\"color: var(--link-text-color); text-decoration: underline;text-decoration-style: dotted;\">Inv/Dykh-Tau-7B</a>  <a target=\"_blank\" href=\"https://huggingface.co/datasets/open-llm-leaderboard/details_Inv__Dykh-Tau-7B\" style=\"color: var(--link-text-color); text-decoration: underline;text-decoration-style: dotted;\">📑</a>', 64.76, 63.74, 84.67, 63.79, 47.25, 80.03, 49.05, 'base merges and moerges', 'MistralForCausalLM', 'Original', 'bfloat16', False, 'apache-2.0', 7.24, 0, False, 'f2036b05109e411e358253449b5a66f967d27ba4', False, False, 'Inv/Dykh-Tau-7B']\n"
     ]
    },
    {
     "name": "stderr",
     "output_type": "stream",
     "text": [
      "2195it [09:13,  4.61it/s]"
     ]
    },
    {
     "name": "stdout",
     "output_type": "stream",
     "text": [
      "Failed to fetch: ['🤝', '<a target=\"_blank\" href=\"https://huggingface.co/giraffe176/Open_Neural_Monarch_Maidv0.2\" style=\"color: var(--link-text-color); text-decoration: underline;text-decoration-style: dotted;\">giraffe176/Open_Neural_Monarch_Maidv0.2</a>  <a target=\"_blank\" href=\"https://huggingface.co/datasets/open-llm-leaderboard/details_giraffe176__Open_Neural_Monarch_Maidv0.2\" style=\"color: var(--link-text-color); text-decoration: underline;text-decoration-style: dotted;\">📑</a>', 64.72, 63.31, 82.6, 64.21, 43.04, 79.08, 56.1, 'base merges and moerges', 'MistralForCausalLM', 'Original', 'bfloat16', False, 'cc-by-nc-4.0', 7.24, 0, False, '608e14c72451900c353ad4cde064485c4b5d2490', False, False, 'giraffe176/Open_Neural_Monarch_Maidv0.2']\n"
     ]
    },
    {
     "name": "stderr",
     "output_type": "stream",
     "text": [
      "2209it [09:16,  4.60it/s]"
     ]
    },
    {
     "name": "stdout",
     "output_type": "stream",
     "text": [
      "Failed to fetch: ['🔶', '<a target=\"_blank\" href=\"https://huggingface.co/ConvexAI/Chop-7b\" style=\"color: var(--link-text-color); text-decoration: underline;text-decoration-style: dotted;\">ConvexAI/Chop-7b</a>  <a target=\"_blank\" href=\"https://huggingface.co/datasets/open-llm-leaderboard/details_ConvexAI__Chop-7b\" style=\"color: var(--link-text-color); text-decoration: underline;text-decoration-style: dotted;\">📑</a>', 64.59, 63.74, 83.04, 62.04, 62.19, 76.8, 39.73, 'fine-tuned on domain-specific datasets', 'MistralForCausalLM', 'Original', 'bfloat16', False, 'apache-2.0', 7.24, 0, False, '295b0a6dbe8f7cbbcebad706a4a0ee8681f2a0a6', False, False, 'ConvexAI/Chop-7b']\n"
     ]
    },
    {
     "name": "stderr",
     "output_type": "stream",
     "text": [
      "2213it [09:17,  3.79it/s]"
     ]
    },
    {
     "name": "stdout",
     "output_type": "stream",
     "text": [
      "Failed to fetch: ['🤝', '<a target=\"_blank\" href=\"https://huggingface.co/vishnukv/WestSeverusJaskier-dare-ties-7b-32k\" style=\"color: var(--link-text-color); text-decoration: underline;text-decoration-style: dotted;\">vishnukv/WestSeverusJaskier-dare-ties-7b-32k</a>  <a target=\"_blank\" href=\"https://huggingface.co/datasets/open-llm-leaderboard/details_vishnukv__WestSeverusJaskier-dare-ties-7b-32k\" style=\"color: var(--link-text-color); text-decoration: underline;text-decoration-style: dotted;\">📑</a>', 64.57, 67.75, 87.02, 61.18, 73.05, 82.4, 16, 'base merges and moerges', 'MistralForCausalLM', 'Original', 'float16', False, 'mit', 7.24, 0, False, '480c92aacda73c75bd1d4503c76e040952bed15f', False, False, 'vishnukv/WestSeverusJaskier-dare-ties-7b-32k']\n"
     ]
    },
    {
     "name": "stderr",
     "output_type": "stream",
     "text": [
      "2223it [09:20,  4.25it/s]"
     ]
    },
    {
     "name": "stdout",
     "output_type": "stream",
     "text": [
      "Failed to fetch: ['🔶', '<a target=\"_blank\" href=\"https://huggingface.co/AA051610/Q\" style=\"color: var(--link-text-color); text-decoration: underline;text-decoration-style: dotted;\">AA051610/Q</a>  <a target=\"_blank\" href=\"https://huggingface.co/datasets/open-llm-leaderboard/details_AA051610__Q\" style=\"color: var(--link-text-color); text-decoration: underline;text-decoration-style: dotted;\">📑</a>', 64.52, 66.98, 85.67, 75.13, 59.36, 80.03, 19.94, 'fine-tuned on domain-specific datasets', 'LlamaForCausalLM', 'Original', 'bfloat16', False, 'gpl', 34.39, 0, False, '5cae52b499bc74ee419426fccd935462c2635175', False, False, 'AA051610/Q']\n"
     ]
    },
    {
     "name": "stderr",
     "output_type": "stream",
     "text": [
      "2230it [09:21,  4.55it/s]"
     ]
    },
    {
     "name": "stdout",
     "output_type": "stream",
     "text": [
      "Failed to fetch: ['🔶', '<a target=\"_blank\" href=\"https://huggingface.co/perlthoughts/openchat-3.5-1210-32k-8x7b-MoE\" style=\"color: var(--link-text-color); text-decoration: underline;text-decoration-style: dotted;\">perlthoughts/openchat-3.5-1210-32k-8x7b-MoE</a>  <a target=\"_blank\" href=\"https://huggingface.co/datasets/open-llm-leaderboard/details_perlthoughts__openchat-3.5-1210-32k-8x7b-MoE\" style=\"color: var(--link-text-color); text-decoration: underline;text-decoration-style: dotted;\">📑</a>', 64.48, 64.59, 84.07, 61.6, 49.32, 79.16, 48.14, 'fine-tuned on domain-specific datasets', 'MixtralForCausalLM', 'Original', 'float16', False, 'apache-2.0', 46.7, 0, False, 'c24bf500da78e987197055e96dda0dcc496de9ed', False, True, 'perlthoughts/openchat-3.5-1210-32k-8x7b-MoE']\n"
     ]
    },
    {
     "name": "stderr",
     "output_type": "stream",
     "text": [
      "2239it [09:24,  3.95it/s]"
     ]
    },
    {
     "name": "stdout",
     "output_type": "stream",
     "text": [
      "Failed to fetch: ['🔶', '<a target=\"_blank\" href=\"https://huggingface.co/NurtureAI/Starling-LM-11B-alpha-v1\" style=\"color: var(--link-text-color); text-decoration: underline;text-decoration-style: dotted;\">NurtureAI/Starling-LM-11B-alpha-v1</a>  <a target=\"_blank\" href=\"https://huggingface.co/datasets/open-llm-leaderboard/details_NurtureAI__Starling-LM-11B-alpha-v1\" style=\"color: var(--link-text-color); text-decoration: underline;text-decoration-style: dotted;\">📑</a>', 64.44, 62.2, 83.24, 64.03, 45.7, 80.51, 50.95, 'fine-tuned on domain-specific datasets', 'Unknown', 'Original', 'float16', False, '?', 10.73, 0, False, 'b2b3b9fc069a8b5d8be82f68f0f578a6f23e9e5f', False, False, 'NurtureAI/Starling-LM-11B-alpha-v1']\n"
     ]
    },
    {
     "name": "stderr",
     "output_type": "stream",
     "text": [
      "2249it [09:26,  3.56it/s]"
     ]
    },
    {
     "name": "stdout",
     "output_type": "stream",
     "text": [
      "Failed to fetch: ['🔶', '<a target=\"_blank\" href=\"https://huggingface.co/xxyyy123/Mistral-dpo-v1\" style=\"color: var(--link-text-color); text-decoration: underline;text-decoration-style: dotted;\">xxyyy123/Mistral-dpo-v1</a>  <a target=\"_blank\" href=\"https://huggingface.co/datasets/open-llm-leaderboard/details_xxyyy123__Mistral-dpo-v1\" style=\"color: var(--link-text-color); text-decoration: underline;text-decoration-style: dotted;\">📑</a>', 64.39, 63.48, 83.59, 63.35, 50.49, 79.32, 46.1, 'fine-tuned on domain-specific datasets', 'Unknown', 'Original', 'bfloat16', False, '?', 0, 0, False, '3c677a659bffbccbd8cf5ea75d198541ea2ec990', False, False, 'xxyyy123/Mistral-dpo-v1']\n"
     ]
    },
    {
     "name": "stderr",
     "output_type": "stream",
     "text": [
      "2257it [09:28,  5.35it/s]"
     ]
    },
    {
     "name": "stdout",
     "output_type": "stream",
     "text": [
      "Failed to fetch: ['💬', '<a target=\"_blank\" href=\"https://huggingface.co/v1olet/v1olet_merged_dpo_7B_v4\" style=\"color: var(--link-text-color); text-decoration: underline;text-decoration-style: dotted;\">v1olet/v1olet_merged_dpo_7B_v4</a>  <a target=\"_blank\" href=\"https://huggingface.co/datasets/open-llm-leaderboard/details_v1olet__v1olet_merged_dpo_7B_v4\" style=\"color: var(--link-text-color); text-decoration: underline;text-decoration-style: dotted;\">📑</a>', 64.3, 66.98, 84.09, 59.02, 59.43, 81.06, 35.25, 'chat models (RLHF, DPO, IFT, ...)', 'Unknown', 'Original', 'float16', False, '?', 7, 0, False, 'aa1b6363990ed2f180b2a22986cecc3afa4d12c8', False, False, 'v1olet/v1olet_merged_dpo_7B_v4']\n",
      "Failed to fetch: ['🔶', '<a target=\"_blank\" href=\"https://huggingface.co/Weyaxi/Einstein-bagel-7B\" style=\"color: var(--link-text-color); text-decoration: underline;text-decoration-style: dotted;\">Weyaxi/Einstein-bagel-7B</a>  <a target=\"_blank\" href=\"https://huggingface.co/datasets/open-llm-leaderboard/details_Weyaxi__Einstein-bagel-7B\" style=\"color: var(--link-text-color); text-decoration: underline;text-decoration-style: dotted;\">📑</a>', 64.3, 66.89, 84.81, 63.48, 63.33, 79.16, 28.13, 'fine-tuned on domain-specific datasets', 'MistralForCausalLM', 'Original', 'bfloat16', False, 'other', 7.24, 0, False, 'd66c858c2f4f24ae867423e6d844b6dc3a1208b1', False, False, 'Weyaxi/Einstein-bagel-7B']\n"
     ]
    },
    {
     "name": "stderr",
     "output_type": "stream",
     "text": [
      "2260it [09:29,  5.21it/s]"
     ]
    },
    {
     "name": "stdout",
     "output_type": "stream",
     "text": [
      "Failed to fetch: ['🔶', '<a target=\"_blank\" href=\"https://huggingface.co/google/gemma-7b\" style=\"color: var(--link-text-color); text-decoration: underline;text-decoration-style: dotted;\">google/gemma-7b</a>  <a target=\"_blank\" href=\"https://huggingface.co/datasets/open-llm-leaderboard/details_google__gemma-7b\" style=\"color: var(--link-text-color); text-decoration: underline;text-decoration-style: dotted;\">📑</a>', 64.29, 61.09, 82.47, 66.03, 44.91, 78.45, 52.77, 'fine-tuned on domain-specific datasets', 'GemmaForCausalLM', 'Original', 'float16', False, 'gemma', 8.54, 2774, True, '7646584ed746494da9e1058b1be53d1be8b2ee73', False, False, 'google/gemma-7b']\n"
     ]
    },
    {
     "name": "stderr",
     "output_type": "stream",
     "text": [
      "2273it [09:32,  3.64it/s]"
     ]
    },
    {
     "name": "stdout",
     "output_type": "stream",
     "text": [
      "Failed to fetch: ['🔶', '<a target=\"_blank\" href=\"https://huggingface.co/222limin/Liph-36-imatwarwithmyself\" style=\"color: var(--link-text-color); text-decoration: underline;text-decoration-style: dotted;\">222limin/Liph-36-imatwarwithmyself</a>  <a target=\"_blank\" href=\"https://huggingface.co/datasets/open-llm-leaderboard/details_222limin__Liph-36-imatwarwithmyself\" style=\"color: var(--link-text-color); text-decoration: underline;text-decoration-style: dotted;\">📑</a>', 64.19, 62.37, 77.16, 58.14, 52.28, 75.3, 59.89, 'fine-tuned on domain-specific datasets', 'PhiForCausalLM', 'Original', 'float16', False, 'apache-2.0', 2.78, 0, False, '0ba0be5ca330c67a3a248372b7513b3b94441352', False, False, '222limin/Liph-36-imatwarwithmyself']\n"
     ]
    },
    {
     "name": "stderr",
     "output_type": "stream",
     "text": [
      "2281it [09:34,  4.55it/s]"
     ]
    },
    {
     "name": "stdout",
     "output_type": "stream",
     "text": [
      "Failed to fetch: ['🤝', '<a target=\"_blank\" href=\"https://huggingface.co/sethuiyer/Herculoid-2.0\" style=\"color: var(--link-text-color); text-decoration: underline;text-decoration-style: dotted;\">sethuiyer/Herculoid-2.0</a>  <a target=\"_blank\" href=\"https://huggingface.co/datasets/open-llm-leaderboard/details_sethuiyer__Herculoid-2.0\" style=\"color: var(--link-text-color); text-decoration: underline;text-decoration-style: dotted;\">📑</a>', 64.08, 62.88, 83.93, 64.03, 49.61, 80.03, 43.97, 'base merges and moerges', 'MistralForCausalLM', 'Original', 'bfloat16', False, 'apache-2.0', 7.24, 0, False, 'fd39739fa6569e7020bba9cb49c2920bbdcb7aba', False, False, 'sethuiyer/Herculoid-2.0']\n"
     ]
    },
    {
     "name": "stderr",
     "output_type": "stream",
     "text": [
      "2285it [09:35,  4.12it/s]"
     ]
    },
    {
     "name": "stdout",
     "output_type": "stream",
     "text": [
      "Failed to fetch: ['💬', '<a target=\"_blank\" href=\"https://huggingface.co/robinsmits/Mistral-Instruct-7B-v0.2-ChatAlpaca-DPO2\" style=\"color: var(--link-text-color); text-decoration: underline;text-decoration-style: dotted;\">robinsmits/Mistral-Instruct-7B-v0.2-ChatAlpaca-DPO2</a>  <a target=\"_blank\" href=\"https://huggingface.co/datasets/open-llm-leaderboard/details_robinsmits__Mistral-Instruct-7B-v0.2-ChatAlpaca-DPO2\" style=\"color: var(--link-text-color); text-decoration: underline;text-decoration-style: dotted;\">📑</a>', 64.05, 61.86, 83.71, 59.19, 64.08, 78.45, 37, 'chat models (RLHF, DPO, IFT, ...)', '?', 'Adapter', '4bit', False, '?', 7, 0, False, '32122f2efc944e3b88e502c6c310ce4c70fe1419', False, False, 'robinsmits/Mistral-Instruct-7B-v0.2-ChatAlpaca-DPO2']\n"
     ]
    },
    {
     "name": "stderr",
     "output_type": "stream",
     "text": [
      "2290it [09:36,  4.51it/s]"
     ]
    },
    {
     "name": "stdout",
     "output_type": "stream",
     "text": [
      "Failed to fetch: ['🔶', '<a target=\"_blank\" href=\"https://huggingface.co/Steelskull/Aurora_base_test\" style=\"color: var(--link-text-color); text-decoration: underline;text-decoration-style: dotted;\">Steelskull/Aurora_base_test</a>  <a target=\"_blank\" href=\"https://huggingface.co/datasets/open-llm-leaderboard/details_Steelskull__Aurora_base_test\" style=\"color: var(--link-text-color); text-decoration: underline;text-decoration-style: dotted;\">📑</a>', 63.98, 62.88, 83.99, 60.24, 67.84, 76.4, 32.52, 'fine-tuned on domain-specific datasets', 'MistralForCausalLM', 'Original', 'bfloat16', False, 'apache-2.0', 10.73, 0, False, '74c799e46cc89e6fdbd5bc88fe3c75a081768e70', False, False, 'Steelskull/Aurora_base_test']\n"
     ]
    },
    {
     "name": "stderr",
     "output_type": "stream",
     "text": [
      "2292it [09:36,  4.51it/s]"
     ]
    },
    {
     "name": "stdout",
     "output_type": "stream",
     "text": [
      "Failed to fetch: ['🔶', '<a target=\"_blank\" href=\"https://huggingface.co/abacusai/Fewshot-Metamath-Mistral\" style=\"color: var(--link-text-color); text-decoration: underline;text-decoration-style: dotted;\">abacusai/Fewshot-Metamath-Mistral</a>  <a target=\"_blank\" href=\"https://huggingface.co/datasets/open-llm-leaderboard/details_abacusai__Fewshot-Metamath-Mistral\" style=\"color: var(--link-text-color); text-decoration: underline;text-decoration-style: dotted;\">📑</a>', 63.96, 57.76, 80.59, 58.05, 43.04, 76.01, 68.31, 'fine-tuned on domain-specific datasets', 'MistralForCausalLM', 'Original', 'bfloat16', False, 'apache-2.0', 7.24, 0, False, '5c6d79d66a84efd6b6e879c2fe4f2e4a21df3a1e', False, False, 'abacusai/Fewshot-Metamath-Mistral']\n"
     ]
    },
    {
     "name": "stderr",
     "output_type": "stream",
     "text": [
      "2307it [09:40,  4.31it/s]"
     ]
    },
    {
     "name": "stdout",
     "output_type": "stream",
     "text": [
      "Failed to fetch: ['🔶', '<a target=\"_blank\" href=\"https://huggingface.co/Medilora/medilora-qwen-14b\" style=\"color: var(--link-text-color); text-decoration: underline;text-decoration-style: dotted;\">Medilora/medilora-qwen-14b</a>  <a target=\"_blank\" href=\"https://huggingface.co/datasets/open-llm-leaderboard/details_Medilora__medilora-qwen-14b\" style=\"color: var(--link-text-color); text-decoration: underline;text-decoration-style: dotted;\">📑</a>', 63.81, 56.66, 79.08, 65.86, 47.75, 74.9, 58.61, 'fine-tuned on domain-specific datasets', 'Unknown', 'Original', 'bfloat16', False, '?', 14.17, 0, False, '0649cf49b7a879fe837567a346a3ebbbac77614a', False, False, 'Medilora/medilora-qwen-14b']\n"
     ]
    },
    {
     "name": "stderr",
     "output_type": "stream",
     "text": [
      "2309it [09:40,  5.22it/s]"
     ]
    },
    {
     "name": "stdout",
     "output_type": "stream",
     "text": [
      "Failed to fetch: ['🔶', '<a target=\"_blank\" href=\"https://huggingface.co/ewqr2130/mistral-inst-ppo\" style=\"color: var(--link-text-color); text-decoration: underline;text-decoration-style: dotted;\">ewqr2130/mistral-inst-ppo</a>  <a target=\"_blank\" href=\"https://huggingface.co/datasets/open-llm-leaderboard/details_ewqr2130__mistral-inst-ppo\" style=\"color: var(--link-text-color); text-decoration: underline;text-decoration-style: dotted;\">📑</a>', 63.79, 62.37, 83.2, 60.86, 62.3, 76.95, 37.07, 'fine-tuned on domain-specific datasets', 'Unknown', 'Original', 'float16', False, '?', 7.24, 0, False, '600c429a86dcd6e18f0285d7cd9189540ccbdc50', False, False, 'ewqr2130/mistral-inst-ppo']\n"
     ]
    },
    {
     "name": "stderr",
     "output_type": "stream",
     "text": [
      "2315it [09:42,  4.57it/s]"
     ]
    },
    {
     "name": "stdout",
     "output_type": "stream",
     "text": [
      "Failed to fetch: ['🔶', '<a target=\"_blank\" href=\"https://huggingface.co/TheSkullery/Aurora_19e_Test\" style=\"color: var(--link-text-color); text-decoration: underline;text-decoration-style: dotted;\">TheSkullery/Aurora_19e_Test</a>  <a target=\"_blank\" href=\"https://huggingface.co/datasets/open-llm-leaderboard/details_TheSkullery__Aurora_19e_Test\" style=\"color: var(--link-text-color); text-decoration: underline;text-decoration-style: dotted;\">📑</a>', 63.76, 59.3, 83.74, 61.45, 47.46, 75.93, 54.66, 'fine-tuned on domain-specific datasets', 'MistralForCausalLM', 'Original', 'bfloat16', False, 'openrail', 10.3, 0, False, 'b85cfdd8abb892807059e2df97912abf3b7ee978', False, False, 'TheSkullery/Aurora_19e_Test']\n"
     ]
    },
    {
     "name": "stderr",
     "output_type": "stream",
     "text": [
      "2316it [09:42,  4.56it/s]"
     ]
    },
    {
     "name": "stdout",
     "output_type": "stream",
     "text": [
      "Failed to fetch: ['💬', '<a target=\"_blank\" href=\"https://huggingface.co/abhishekchohan/mistral-7B-med-merge\" style=\"color: var(--link-text-color); text-decoration: underline;text-decoration-style: dotted;\">abhishekchohan/mistral-7B-med-merge</a>  <a target=\"_blank\" href=\"https://huggingface.co/datasets/open-llm-leaderboard/details_abhishekchohan__mistral-7B-med-merge\" style=\"color: var(--link-text-color); text-decoration: underline;text-decoration-style: dotted;\">📑</a>', 63.75, 64.51, 82.96, 57.84, 53.65, 78.61, 44.96, 'chat models (RLHF, DPO, IFT, ...)', 'MistralForCausalLM', 'Original', 'bfloat16', False, 'apache-2.0', 7.24, 0, False, '120987e276831fe6916a86a80c0c39ac3aa5dfb7', False, False, 'abhishekchohan/mistral-7B-med-merge']\n"
     ]
    },
    {
     "name": "stderr",
     "output_type": "stream",
     "text": [
      "2317it [09:42,  4.56it/s]"
     ]
    },
    {
     "name": "stdout",
     "output_type": "stream",
     "text": [
      "Failed to fetch: ['🟢', '<a target=\"_blank\" href=\"https://huggingface.co/google/gemma-7b\" style=\"color: var(--link-text-color); text-decoration: underline;text-decoration-style: dotted;\">google/gemma-7b</a>  <a target=\"_blank\" href=\"https://huggingface.co/datasets/open-llm-leaderboard/details_google__gemma-7b\" style=\"color: var(--link-text-color); text-decoration: underline;text-decoration-style: dotted;\">📑</a>', 63.75, 61.09, 82.2, 64.56, 44.79, 79.01, 50.87, 'pretrained', 'Unknown', 'Original', 'bfloat16', False, 'gemma', 8.54, 2774, True, '1685d3c30e63630be55aa9a8730531732b3bd93c', False, False, 'google/gemma-7b']\n"
     ]
    },
    {
     "name": "stderr",
     "output_type": "stream",
     "text": [
      "2329it [09:46,  3.43it/s]"
     ]
    },
    {
     "name": "stdout",
     "output_type": "stream",
     "text": [
      "Failed to fetch: ['🔶', '<a target=\"_blank\" href=\"https://huggingface.co/TheSkullery/Aurora_25e_Test\" style=\"color: var(--link-text-color); text-decoration: underline;text-decoration-style: dotted;\">TheSkullery/Aurora_25e_Test</a>  <a target=\"_blank\" href=\"https://huggingface.co/datasets/open-llm-leaderboard/details_TheSkullery__Aurora_25e_Test\" style=\"color: var(--link-text-color); text-decoration: underline;text-decoration-style: dotted;\">📑</a>', 63.68, 59.64, 84.29, 61.7, 47.26, 76.64, 52.54, 'fine-tuned on domain-specific datasets', 'MistralForCausalLM', 'Original', 'bfloat16', False, 'openrail', 11.6, 0, False, '12145811d11dd6e7cd493cbe9a4add1e951bbc3b', False, False, 'TheSkullery/Aurora_25e_Test']\n"
     ]
    },
    {
     "name": "stderr",
     "output_type": "stream",
     "text": [
      "2333it [09:47,  4.37it/s]"
     ]
    },
    {
     "name": "stdout",
     "output_type": "stream",
     "text": [
      "Failed to fetch: ['🔶', '<a target=\"_blank\" href=\"https://huggingface.co/Radu1999/Mistral-Instruct-Ukrainian-SFT-DPO\" style=\"color: var(--link-text-color); text-decoration: underline;text-decoration-style: dotted;\">Radu1999/Mistral-Instruct-Ukrainian-SFT-DPO</a>  <a target=\"_blank\" href=\"https://huggingface.co/datasets/open-llm-leaderboard/details_Radu1999__Mistral-Instruct-Ukrainian-SFT-DPO\" style=\"color: var(--link-text-color); text-decoration: underline;text-decoration-style: dotted;\">📑</a>', 63.64, 60.49, 83.84, 60.9, 57.91, 76.95, 41.77, 'fine-tuned on domain-specific datasets', 'MistralForCausalLM', 'Original', 'bfloat16', False, 'apache-2.0', 7.24, 0, False, '317a3016054ccd9e90956a7ac587f004b9f64a45', False, False, 'Radu1999/Mistral-Instruct-Ukrainian-SFT-DPO']\n"
     ]
    },
    {
     "name": "stderr",
     "output_type": "stream",
     "text": [
      "2347it [09:50,  4.38it/s]"
     ]
    },
    {
     "name": "stdout",
     "output_type": "stream",
     "text": [
      "Failed to fetch: ['💬', '<a target=\"_blank\" href=\"https://huggingface.co/Azure99/blossom-v5-7b\" style=\"color: var(--link-text-color); text-decoration: underline;text-decoration-style: dotted;\">Azure99/blossom-v5-7b</a>  <a target=\"_blank\" href=\"https://huggingface.co/datasets/open-llm-leaderboard/details_Azure99__blossom-v5-7b\" style=\"color: var(--link-text-color); text-decoration: underline;text-decoration-style: dotted;\">📑</a>', 63.57, 56.06, 77.36, 61.29, 54.29, 72.38, 60.05, 'chat models (RLHF, DPO, IFT, ...)', 'Qwen2ForCausalLM', 'Original', 'bfloat16', False, 'apache-2.0', 7.72, 0, False, 'adac4d4172343ca5fa56c788615cb1a98f03794d', False, False, 'Azure99/blossom-v5-7b']\n"
     ]
    },
    {
     "name": "stderr",
     "output_type": "stream",
     "text": [
      "2353it [09:52,  3.81it/s]"
     ]
    },
    {
     "name": "stdout",
     "output_type": "stream",
     "text": [
      "Failed to fetch: ['🔶', '<a target=\"_blank\" href=\"https://huggingface.co/perlthoughts/Falkor-16b\" style=\"color: var(--link-text-color); text-decoration: underline;text-decoration-style: dotted;\">perlthoughts/Falkor-16b</a>  <a target=\"_blank\" href=\"https://huggingface.co/datasets/open-llm-leaderboard/details_perlthoughts__Falkor-16b\" style=\"color: var(--link-text-color); text-decoration: underline;text-decoration-style: dotted;\">📑</a>', 63.52, 65.96, 82.62, 63.58, 62.77, 77.9, 28.28, 'fine-tuned on domain-specific datasets', 'Unknown', 'Original', 'float16', False, '?', 14.22, 0, False, '2365c7af9eb60bfa946b566dadd6802befa122e8', False, False, 'perlthoughts/Falkor-16b']\n"
     ]
    },
    {
     "name": "stderr",
     "output_type": "stream",
     "text": [
      "2373it [09:57,  4.36it/s]"
     ]
    },
    {
     "name": "stdout",
     "output_type": "stream",
     "text": [
      "Failed to fetch: ['🔶', '<a target=\"_blank\" href=\"https://huggingface.co/xxyyy123/Mistral7B_adaptor_v1\" style=\"color: var(--link-text-color); text-decoration: underline;text-decoration-style: dotted;\">xxyyy123/Mistral7B_adaptor_v1</a>  <a target=\"_blank\" href=\"https://huggingface.co/datasets/open-llm-leaderboard/details_xxyyy123__Mistral7B_adaptor_v1\" style=\"color: var(--link-text-color); text-decoration: underline;text-decoration-style: dotted;\">📑</a>', 63.42, 62.97, 83.81, 63.56, 49.77, 79.16, 41.24, 'fine-tuned on domain-specific datasets', 'Unknown', 'Adapter', 'bfloat16', False, '?', 7, 0, False, '23e800094570c22fbaa4279ef7e7f27315ac61af', False, False, 'xxyyy123/Mistral7B_adaptor_v1']\n"
     ]
    },
    {
     "name": "stderr",
     "output_type": "stream",
     "text": [
      "2374it [09:57,  4.42it/s]"
     ]
    },
    {
     "name": "stdout",
     "output_type": "stream",
     "text": [
      "Failed to fetch: ['🔶', '<a target=\"_blank\" href=\"https://huggingface.co/perlthoughts/Chupacabra-16B-v2.01\" style=\"color: var(--link-text-color); text-decoration: underline;text-decoration-style: dotted;\">perlthoughts/Chupacabra-16B-v2.01</a>  <a target=\"_blank\" href=\"https://huggingface.co/datasets/open-llm-leaderboard/details_perlthoughts__Chupacabra-16B-v2.01\" style=\"color: var(--link-text-color); text-decoration: underline;text-decoration-style: dotted;\">📑</a>', 63.42, 65.36, 82.92, 63.27, 64.53, 79.08, 25.32, 'fine-tuned on domain-specific datasets', 'Unknown', 'Original', 'float16', False, '?', 14.22, 0, False, '3b723559b550a34e489cc41ec5414e00531ec2ae', False, False, 'perlthoughts/Chupacabra-16B-v2.01']\n"
     ]
    },
    {
     "name": "stderr",
     "output_type": "stream",
     "text": [
      "2380it [09:58,  5.75it/s]"
     ]
    },
    {
     "name": "stdout",
     "output_type": "stream",
     "text": [
      "Failed to fetch: ['🤝', '<a target=\"_blank\" href=\"https://huggingface.co/ozayezerceli/Threnystril-2x7B-moe\" style=\"color: var(--link-text-color); text-decoration: underline;text-decoration-style: dotted;\">ozayezerceli/Threnystril-2x7B-moe</a>  <a target=\"_blank\" href=\"https://huggingface.co/datasets/open-llm-leaderboard/details_ozayezerceli__Threnystril-2x7B-moe\" style=\"color: var(--link-text-color); text-decoration: underline;text-decoration-style: dotted;\">📑</a>', 63.37, 52.82, 73.36, 63.83, 52.71, 78.85, 58.68, 'base merges and moerges', 'MixtralForCausalLM', 'Original', 'float16', False, 'apache-2.0', 12.88, 0, False, 'fe2f1b6f3e3153ae1e3628644b8be77f17d3903e', False, True, 'ozayezerceli/Threnystril-2x7B-moe']\n"
     ]
    },
    {
     "name": "stderr",
     "output_type": "stream",
     "text": [
      "2382it [09:59,  4.14it/s]"
     ]
    },
    {
     "name": "stdout",
     "output_type": "stream",
     "text": [
      "Failed to fetch: ['🔶', '<a target=\"_blank\" href=\"https://huggingface.co/xDAN-AI/xDAN-L1Mix-DeepThinking-v2\" style=\"color: var(--link-text-color); text-decoration: underline;text-decoration-style: dotted;\">xDAN-AI/xDAN-L1Mix-DeepThinking-v2</a>  <a target=\"_blank\" href=\"https://huggingface.co/datasets/open-llm-leaderboard/details_xDAN-AI__xDAN-L1Mix-DeepThinking-v2\" style=\"color: var(--link-text-color); text-decoration: underline;text-decoration-style: dotted;\">📑</a>', 63.36, 62.37, 82.32, 59.69, 55.38, 76.4, 43.97, 'fine-tuned on domain-specific datasets', 'MistralForCausalLM', 'Original', 'bfloat16', False, 'cc-by-4.0', 0, 1, True, '47ca647c3bb26b647b1f66c3672b890803de46c8', False, False, 'xDAN-AI/xDAN-L1Mix-DeepThinking-v2']\n"
     ]
    },
    {
     "name": "stderr",
     "output_type": "stream",
     "text": [
      "2385it [10:00,  4.43it/s]"
     ]
    },
    {
     "name": "stdout",
     "output_type": "stream",
     "text": [
      "Failed to fetch: ['🔶', '<a target=\"_blank\" href=\"https://huggingface.co/itsliupeng/llama_9b_long\" style=\"color: var(--link-text-color); text-decoration: underline;text-decoration-style: dotted;\">itsliupeng/llama_9b_long</a>  <a target=\"_blank\" href=\"https://huggingface.co/datasets/open-llm-leaderboard/details_itsliupeng__llama_9b_long\" style=\"color: var(--link-text-color); text-decoration: underline;text-decoration-style: dotted;\">📑</a>', 63.33, 60.07, 78.67, 70.53, 45.95, 76.64, 48.14, 'fine-tuned on domain-specific datasets', 'LlamaForCausalLM', 'Original', 'bfloat16', False, '?', 9, 0, False, 'e927d0cf1a8ce240c2d4dd023c869a7c18bf9b1c', False, False, 'itsliupeng/llama_9b_long']\n"
     ]
    },
    {
     "name": "stderr",
     "output_type": "stream",
     "text": [
      "2389it [10:00,  4.45it/s]"
     ]
    },
    {
     "name": "stdout",
     "output_type": "stream",
     "text": [
      "Failed to fetch: ['🔶', '<a target=\"_blank\" href=\"https://huggingface.co/itsliupeng/llama_9b_long\" style=\"color: var(--link-text-color); text-decoration: underline;text-decoration-style: dotted;\">itsliupeng/llama_9b_long</a>  <a target=\"_blank\" href=\"https://huggingface.co/datasets/open-llm-leaderboard/details_itsliupeng__llama_9b_long\" style=\"color: var(--link-text-color); text-decoration: underline;text-decoration-style: dotted;\">📑</a>', 63.3, 60.32, 78.62, 70.5, 45.91, 76.48, 47.99, 'fine-tuned on domain-specific datasets', 'LlamaForCausalLM', 'Original', 'float16', False, '?', 9, 0, False, 'e927d0cf1a8ce240c2d4dd023c869a7c18bf9b1c', False, False, 'itsliupeng/llama_9b_long']\n"
     ]
    },
    {
     "name": "stderr",
     "output_type": "stream",
     "text": [
      "2397it [10:02,  4.57it/s]"
     ]
    },
    {
     "name": "stdout",
     "output_type": "stream",
     "text": [
      "Failed to fetch: ['🔶', '<a target=\"_blank\" href=\"https://huggingface.co/NeuralNovel/Aeryth-7B-v0.1\" style=\"color: var(--link-text-color); text-decoration: underline;text-decoration-style: dotted;\">NeuralNovel/Aeryth-7B-v0.1</a>  <a target=\"_blank\" href=\"https://huggingface.co/datasets/open-llm-leaderboard/details_NeuralNovel__Aeryth-7B-v0.1\" style=\"color: var(--link-text-color); text-decoration: underline;text-decoration-style: dotted;\">📑</a>', 63.19, 60.32, 83.53, 60.97, 63.57, 74.66, 36.09, 'fine-tuned on domain-specific datasets', 'MistralForCausalLM', 'Original', 'float16', False, 'apache-2.0', 7.24, 0, False, 'b7befcbc2e609356efc76c64cee1b1727727d815', False, False, 'NeuralNovel/Aeryth-7B-v0.1']\n"
     ]
    },
    {
     "name": "stderr",
     "output_type": "stream",
     "text": [
      "2421it [10:08,  4.28it/s]"
     ]
    },
    {
     "name": "stdout",
     "output_type": "stream",
     "text": [
      "Failed to fetch: ['💬', '<a target=\"_blank\" href=\"https://huggingface.co/vicgalleorg/OpenHermes-Yi-9B\" style=\"color: var(--link-text-color); text-decoration: underline;text-decoration-style: dotted;\">vicgalleorg/OpenHermes-Yi-9B</a>  <a target=\"_blank\" href=\"https://huggingface.co/datasets/open-llm-leaderboard/details_vicgalleorg__OpenHermes-Yi-9B\" style=\"color: var(--link-text-color); text-decoration: underline;text-decoration-style: dotted;\">📑</a>', 63.05, 60.67, 78.73, 69.67, 42.25, 77.19, 49.81, 'chat models (RLHF, DPO, IFT, ...)', 'LlamaForCausalLM', 'Original', 'float16', False, 'apache-2.0', 8.83, 0, False, '1e757a2c2c0f32983e6d360ee2ca62581a121ea7', False, False, 'vicgalleorg/OpenHermes-Yi-9B']\n"
     ]
    },
    {
     "name": "stderr",
     "output_type": "stream",
     "text": [
      "2434it [10:12,  3.98it/s]"
     ]
    },
    {
     "name": "stdout",
     "output_type": "stream",
     "text": [
      "Failed to fetch: ['🔶', '<a target=\"_blank\" href=\"https://huggingface.co/Inv/Elbrus-7B\" style=\"color: var(--link-text-color); text-decoration: underline;text-decoration-style: dotted;\">Inv/Elbrus-7B</a>  <a target=\"_blank\" href=\"https://huggingface.co/datasets/open-llm-leaderboard/details_Inv__Elbrus-7B\" style=\"color: var(--link-text-color); text-decoration: underline;text-decoration-style: dotted;\">📑</a>', 62.93, 63.99, 83.96, 63.06, 44.34, 79.72, 42.53, 'fine-tuned on domain-specific datasets', 'MistralForCausalLM', 'Original', 'bfloat16', False, 'apache-2.0', 7.24, 0, False, 'fbd9336495f86592d1c8532abd04be5da8895c57', False, False, 'Inv/Elbrus-7B']\n"
     ]
    },
    {
     "name": "stderr",
     "output_type": "stream",
     "text": [
      "2436it [10:13,  3.56it/s]"
     ]
    },
    {
     "name": "stdout",
     "output_type": "stream",
     "text": [
      "Failed to fetch: ['🔶', '<a target=\"_blank\" href=\"https://huggingface.co/jefferylovely/AthenaImaniMaven\" style=\"color: var(--link-text-color); text-decoration: underline;text-decoration-style: dotted;\">jefferylovely/AthenaImaniMaven</a>  <a target=\"_blank\" href=\"https://huggingface.co/datasets/open-llm-leaderboard/details_jefferylovely__AthenaImaniMaven\" style=\"color: var(--link-text-color); text-decoration: underline;text-decoration-style: dotted;\">📑</a>', 62.92, 62.8, 84.56, 59.1, 58.5, 77.43, 35.1, 'fine-tuned on domain-specific datasets', 'MistralForCausalLM', 'Original', 'float16', False, '?', 7.24, 0, False, 'f10a7d6055955eb40424dcac8a76658a11224c86', False, False, 'jefferylovely/AthenaImaniMaven']\n"
     ]
    },
    {
     "name": "stderr",
     "output_type": "stream",
     "text": [
      "2444it [10:15,  3.47it/s]"
     ]
    },
    {
     "name": "stdout",
     "output_type": "stream",
     "text": [
      "Failed to fetch: ['🔶', '<a target=\"_blank\" href=\"https://huggingface.co/jefferylovely/AthenaImaniMaven\" style=\"color: var(--link-text-color); text-decoration: underline;text-decoration-style: dotted;\">jefferylovely/AthenaImaniMaven</a>  <a target=\"_blank\" href=\"https://huggingface.co/datasets/open-llm-leaderboard/details_jefferylovely__AthenaImaniMaven\" style=\"color: var(--link-text-color); text-decoration: underline;text-decoration-style: dotted;\">📑</a>', 62.85, 62.63, 84.65, 59.05, 58.58, 77.19, 35.03, 'fine-tuned on domain-specific datasets', 'MistralForCausalLM', 'Original', 'bfloat16', False, '?', 7.24, 0, False, 'f10a7d6055955eb40424dcac8a76658a11224c86', False, False, 'jefferylovely/AthenaImaniMaven']\n"
     ]
    },
    {
     "name": "stderr",
     "output_type": "stream",
     "text": [
      "2448it [10:16,  4.23it/s]"
     ]
    },
    {
     "name": "stdout",
     "output_type": "stream",
     "text": [
      "Failed to fetch: ['🔶', '<a target=\"_blank\" href=\"https://huggingface.co/CorticalStack/travel-mistral-7B-16b-base\" style=\"color: var(--link-text-color); text-decoration: underline;text-decoration-style: dotted;\">CorticalStack/travel-mistral-7B-16b-base</a>  <a target=\"_blank\" href=\"https://huggingface.co/datasets/open-llm-leaderboard/details_CorticalStack__travel-mistral-7B-16b-base\" style=\"color: var(--link-text-color); text-decoration: underline;text-decoration-style: dotted;\">📑</a>', 62.82, 61.43, 83.51, 62.55, 53.23, 78.53, 37.68, 'fine-tuned on domain-specific datasets', 'MistralForCausalLM', 'Original', 'bfloat16', False, 'apache-2.0', 7.24, 0, False, 'ba3ff8d628f9c2039ce88a6f2c5c06ea35580230', False, False, 'CorticalStack/travel-mistral-7B-16b-base']\n"
     ]
    },
    {
     "name": "stderr",
     "output_type": "stream",
     "text": [
      "2510it [10:32,  3.48it/s]"
     ]
    },
    {
     "name": "stdout",
     "output_type": "stream",
     "text": [
      "Failed to fetch: ['💬', '<a target=\"_blank\" href=\"https://huggingface.co/meta-llama/Llama-2-70b-chat-hf\" style=\"color: var(--link-text-color); text-decoration: underline;text-decoration-style: dotted;\">meta-llama/Llama-2-70b-chat-hf</a>  <a target=\"_blank\" href=\"https://huggingface.co/datasets/open-llm-leaderboard/details_meta-llama__Llama-2-70b-chat-hf\" style=\"color: var(--link-text-color); text-decoration: underline;text-decoration-style: dotted;\">📑</a>', 62.4, 64.59, 85.88, 63.91, 52.8, 80.51, 26.69, 'chat models (RLHF, DPO, IFT, ...)', 'LlamaForCausalLM', 'Original', 'float16', False, None, 68.98, 2074, True, '7f54101c0fbb67a8143ca23eb8bd09b71f269c74', False, False, 'meta-llama/Llama-2-70b-chat-hf']\n"
     ]
    },
    {
     "name": "stderr",
     "output_type": "stream",
     "text": [
      "2527it [10:36,  4.31it/s]"
     ]
    },
    {
     "name": "stdout",
     "output_type": "stream",
     "text": [
      "Failed to fetch: ['💬', '<a target=\"_blank\" href=\"https://huggingface.co/pinkyponky/Mistral-7B-Instruct-sft-tuned-v0.2\" style=\"color: var(--link-text-color); text-decoration: underline;text-decoration-style: dotted;\">pinkyponky/Mistral-7B-Instruct-sft-tuned-v0.2</a>  <a target=\"_blank\" href=\"https://huggingface.co/datasets/open-llm-leaderboard/details_pinkyponky__Mistral-7B-Instruct-sft-tuned-v0.2\" style=\"color: var(--link-text-color); text-decoration: underline;text-decoration-style: dotted;\">📑</a>', 62.29, 58.02, 79.26, 58.78, 50.45, 76.87, 50.34, 'chat models (RLHF, DPO, IFT, ...)', 'MistralForCausalLM', 'Original', 'bfloat16', False, '?', 7.24, 0, False, '26b1b06ca6ee8db77d915e0ec685b3e999a226d0', False, False, 'pinkyponky/Mistral-7B-Instruct-sft-tuned-v0.2']\n"
     ]
    },
    {
     "name": "stderr",
     "output_type": "stream",
     "text": [
      "2530it [10:37,  3.91it/s]"
     ]
    },
    {
     "name": "stdout",
     "output_type": "stream",
     "text": [
      "Failed to fetch: ['🔶', '<a target=\"_blank\" href=\"https://huggingface.co/abdulrahman-nuzha/finetuned-Mistral-7B-Instruct-v0.2-5000-v2.0\" style=\"color: var(--link-text-color); text-decoration: underline;text-decoration-style: dotted;\">abdulrahman-nuzha/finetuned-Mistral-7B-Instruct-v0.2-5000-v2.0</a>  <a target=\"_blank\" href=\"https://huggingface.co/datasets/open-llm-leaderboard/details_abdulrahman-nuzha__finetuned-Mistral-7B-Instruct-v0.2-5000-v2.0\" style=\"color: var(--link-text-color); text-decoration: underline;text-decoration-style: dotted;\">📑</a>', 62.27, 59.3, 82.65, 58.45, 59.54, 77.66, 36.01, 'fine-tuned on domain-specific datasets', 'MistralForCausalLM', 'Original', '4bit', False, 'apache-2.0', 7.24, 0, True, 'b32cd037f8c83d08da8a5e593d3cc29de090af1a', False, False, 'abdulrahman-nuzha/finetuned-Mistral-7B-Instruct-v0.2-5000-v2.0']\n"
     ]
    },
    {
     "name": "stderr",
     "output_type": "stream",
     "text": [
      "2587it [10:50,  4.50it/s]"
     ]
    },
    {
     "name": "stdout",
     "output_type": "stream",
     "text": [
      "Failed to fetch: ['💬', '<a target=\"_blank\" href=\"https://huggingface.co/andysalerno/rainbowfish-7B-v10\" style=\"color: var(--link-text-color); text-decoration: underline;text-decoration-style: dotted;\">andysalerno/rainbowfish-7B-v10</a>  <a target=\"_blank\" href=\"https://huggingface.co/datasets/open-llm-leaderboard/details_andysalerno__rainbowfish-7B-v10\" style=\"color: var(--link-text-color); text-decoration: underline;text-decoration-style: dotted;\">📑</a>', 61.88, 61.18, 82.33, 63.26, 49.45, 78.06, 37, 'chat models (RLHF, DPO, IFT, ...)', 'MistralForCausalLM', 'Original', 'bfloat16', False, 'apache-2.0', 7.24, 0, False, '22a4cd7ecfdafb957ba2233b9c06fccd70663cfa', False, False, 'andysalerno/rainbowfish-7B-v10']\n"
     ]
    },
    {
     "name": "stderr",
     "output_type": "stream",
     "text": [
      "2595it [10:52,  4.33it/s]"
     ]
    },
    {
     "name": "stdout",
     "output_type": "stream",
     "text": [
      "Failed to fetch: ['🔶', '<a target=\"_blank\" href=\"https://huggingface.co/AA051611/A0118\" style=\"color: var(--link-text-color); text-decoration: underline;text-decoration-style: dotted;\">AA051611/A0118</a>  <a target=\"_blank\" href=\"https://huggingface.co/datasets/open-llm-leaderboard/details_AA051611__A0118\" style=\"color: var(--link-text-color); text-decoration: underline;text-decoration-style: dotted;\">📑</a>', 61.84, 59.22, 83.79, 68.28, 55.79, 77.58, 26.38, 'fine-tuned on domain-specific datasets', 'LlamaForCausalLM', 'Original', 'bfloat16', False, 'gpl', 34.39, 0, False, '6bc6bac459c7a8b679281db8663a96e2a1f3ce2a', False, False, 'AA051611/A0118']\n"
     ]
    },
    {
     "name": "stderr",
     "output_type": "stream",
     "text": [
      "2602it [10:53,  4.57it/s]"
     ]
    },
    {
     "name": "stdout",
     "output_type": "stream",
     "text": [
      "Failed to fetch: ['🔶', '<a target=\"_blank\" href=\"https://huggingface.co/jikaixuan/test_model\" style=\"color: var(--link-text-color); text-decoration: underline;text-decoration-style: dotted;\">jikaixuan/test_model</a>  <a target=\"_blank\" href=\"https://huggingface.co/datasets/open-llm-leaderboard/details_jikaixuan__test_model\" style=\"color: var(--link-text-color); text-decoration: underline;text-decoration-style: dotted;\">📑</a>', 61.76, 62.29, 84.42, 61.07, 57.51, 78.06, 27.22, 'fine-tuned on domain-specific datasets', 'Unknown', 'Adapter', 'bfloat16', False, '?', 0, 0, False, '2e9d6998ce40ffb43ba1d8636a84bf38bf922892', False, False, 'jikaixuan/test_model']\n"
     ]
    },
    {
     "name": "stderr",
     "output_type": "stream",
     "text": [
      "2603it [10:53,  4.56it/s]"
     ]
    },
    {
     "name": "stdout",
     "output_type": "stream",
     "text": [
      "Failed to fetch: ['🔶', '<a target=\"_blank\" href=\"https://huggingface.co/jikaixuan/test\" style=\"color: var(--link-text-color); text-decoration: underline;text-decoration-style: dotted;\">jikaixuan/test</a>  <a target=\"_blank\" href=\"https://huggingface.co/datasets/open-llm-leaderboard/details_jikaixuan__test\" style=\"color: var(--link-text-color); text-decoration: underline;text-decoration-style: dotted;\">📑</a>', 61.76, 62.29, 84.42, 61.07, 57.51, 78.06, 27.22, 'fine-tuned on domain-specific datasets', 'Unknown', 'Adapter', 'bfloat16', False, '?', 0, 0, False, 'e63792701d6136288b95c9c8f24c0030ff5698b0', False, False, 'jikaixuan/test']\n"
     ]
    },
    {
     "name": "stderr",
     "output_type": "stream",
     "text": [
      "2608it [10:55,  4.55it/s]"
     ]
    },
    {
     "name": "stdout",
     "output_type": "stream",
     "text": [
      "Failed to fetch: ['💬', '<a target=\"_blank\" href=\"https://huggingface.co/pansophic/new_model_test2\" style=\"color: var(--link-text-color); text-decoration: underline;text-decoration-style: dotted;\">pansophic/new_model_test2</a>  <a target=\"_blank\" href=\"https://huggingface.co/datasets/open-llm-leaderboard/details_pansophic__new_model_test2\" style=\"color: var(--link-text-color); text-decoration: underline;text-decoration-style: dotted;\">📑</a>', 61.7, 62.03, 75.36, 56.03, 46.54, 77.03, 53.22, 'chat models (RLHF, DPO, IFT, ...)', 'PhiForCausalLM', 'Original', 'bfloat16', False, 'other', 0, 0, False, 'f8b3ddd61dcf89f6ee6c5cac4185ff6c00f767a0', False, False, 'pansophic/new_model_test2']\n"
     ]
    },
    {
     "name": "stderr",
     "output_type": "stream",
     "text": [
      "2621it [10:58,  3.70it/s]"
     ]
    },
    {
     "name": "stdout",
     "output_type": "stream",
     "text": [
      "Failed to fetch: ['💬', '<a target=\"_blank\" href=\"https://huggingface.co/andysalerno/rainbowfish-v6\" style=\"color: var(--link-text-color); text-decoration: underline;text-decoration-style: dotted;\">andysalerno/rainbowfish-v6</a>  <a target=\"_blank\" href=\"https://huggingface.co/datasets/open-llm-leaderboard/details_andysalerno__rainbowfish-v6\" style=\"color: var(--link-text-color); text-decoration: underline;text-decoration-style: dotted;\">📑</a>', 61.64, 61.95, 82.51, 62.79, 48.37, 77.9, 36.32, 'chat models (RLHF, DPO, IFT, ...)', 'MistralForCausalLM', 'Original', 'bfloat16', False, 'apache-2.0', 7.24, 0, False, '2b62fc1c6f1105c21ec96f958f0d16d2197517cc', False, False, 'andysalerno/rainbowfish-v6']\n"
     ]
    },
    {
     "name": "stderr",
     "output_type": "stream",
     "text": [
      "2625it [10:59,  3.59it/s]"
     ]
    },
    {
     "name": "stdout",
     "output_type": "stream",
     "text": [
      "Failed to fetch: ['🔶', '<a target=\"_blank\" href=\"https://huggingface.co/aboros98/merlin1\" style=\"color: var(--link-text-color); text-decoration: underline;text-decoration-style: dotted;\">aboros98/merlin1</a>  <a target=\"_blank\" href=\"https://huggingface.co/datasets/open-llm-leaderboard/details_aboros98__merlin1\" style=\"color: var(--link-text-color); text-decoration: underline;text-decoration-style: dotted;\">📑</a>', 61.6, 60.67, 74.55, 57.86, 48.35, 74.98, 53.22, 'fine-tuned on domain-specific datasets', 'PhiForCausalLM', 'Original', 'bfloat16', False, 'mit', 0, 0, False, 'eb6ead2cd06e254435c9ea39070bbcefc42e21a1', False, False, 'aboros98/merlin1']\n"
     ]
    },
    {
     "name": "stderr",
     "output_type": "stream",
     "text": [
      "2643it [11:04,  3.95it/s]"
     ]
    },
    {
     "name": "stdout",
     "output_type": "stream",
     "text": [
      "Failed to fetch: ['🔶', '<a target=\"_blank\" href=\"https://huggingface.co/fhai50032/SamCoder-TxC\" style=\"color: var(--link-text-color); text-decoration: underline;text-decoration-style: dotted;\">fhai50032/SamCoder-TxC</a>  <a target=\"_blank\" href=\"https://huggingface.co/datasets/open-llm-leaderboard/details_fhai50032__SamCoder-TxC\" style=\"color: var(--link-text-color); text-decoration: underline;text-decoration-style: dotted;\">📑</a>', 61.52, 62.37, 81.93, 59.68, 52.37, 72.14, 40.64, 'fine-tuned on domain-specific datasets', 'MistralForCausalLM', 'Original', 'float16', False, 'apache-2.0', 7.24, 0, False, '17dcf2e98fa91317316b05f5ff27ae24b31139aa', False, False, 'fhai50032/SamCoder-TxC']\n"
     ]
    },
    {
     "name": "stderr",
     "output_type": "stream",
     "text": [
      "2657it [11:08,  3.51it/s]"
     ]
    },
    {
     "name": "stdout",
     "output_type": "stream",
     "text": [
      "Failed to fetch: ['🔶', '<a target=\"_blank\" href=\"https://huggingface.co/fhai50032/SamCoder-TxC\" style=\"color: var(--link-text-color); text-decoration: underline;text-decoration-style: dotted;\">fhai50032/SamCoder-TxC</a>  <a target=\"_blank\" href=\"https://huggingface.co/datasets/open-llm-leaderboard/details_fhai50032__SamCoder-TxC\" style=\"color: var(--link-text-color); text-decoration: underline;text-decoration-style: dotted;\">📑</a>', 61.44, 62.12, 81.85, 59.83, 52.39, 72.38, 40.11, 'fine-tuned on domain-specific datasets', 'MistralForCausalLM', 'Original', 'bfloat16', False, 'apache-2.0', 7.24, 0, False, '17dcf2e98fa91317316b05f5ff27ae24b31139aa', False, False, 'fhai50032/SamCoder-TxC']\n"
     ]
    },
    {
     "name": "stderr",
     "output_type": "stream",
     "text": [
      "2663it [11:10,  3.92it/s]"
     ]
    },
    {
     "name": "stdout",
     "output_type": "stream",
     "text": [
      "Failed to fetch: ['🔶', '<a target=\"_blank\" href=\"https://huggingface.co/NeuralNovel/Ember-7B-v0.1\" style=\"color: var(--link-text-color); text-decoration: underline;text-decoration-style: dotted;\">NeuralNovel/Ember-7B-v0.1</a>  <a target=\"_blank\" href=\"https://huggingface.co/datasets/open-llm-leaderboard/details_NeuralNovel__Ember-7B-v0.1\" style=\"color: var(--link-text-color); text-decoration: underline;text-decoration-style: dotted;\">📑</a>', 61.39, 68.43, 85.52, 64.1, 63.29, 82.32, 4.7, 'fine-tuned on domain-specific datasets', 'MistralForCausalLM', 'Original', 'bfloat16', False, 'apache-2.0', 7.24, 0, False, '49f578bccc5884c7e33b7e7ab3a47591373de76c', False, False, 'NeuralNovel/Ember-7B-v0.1']\n"
     ]
    },
    {
     "name": "stderr",
     "output_type": "stream",
     "text": [
      "2685it [11:15,  4.39it/s]"
     ]
    },
    {
     "name": "stdout",
     "output_type": "stream",
     "text": [
      "Failed to fetch: ['💬', '<a target=\"_blank\" href=\"https://huggingface.co/WizardLM/WizardLM-70B-V1.0\" style=\"color: var(--link-text-color); text-decoration: underline;text-decoration-style: dotted;\">WizardLM/WizardLM-70B-V1.0</a>  <a target=\"_blank\" href=\"https://huggingface.co/datasets/open-llm-leaderboard/details_WizardLM__WizardLM-70B-V1.0\" style=\"color: var(--link-text-color); text-decoration: underline;text-decoration-style: dotted;\">📑</a>', 61.25, 65.44, 84.41, 64.05, 54.81, 80.82, 17.97, 'chat models (RLHF, DPO, IFT, ...)', 'LlamaForCausalLM', 'Original', '4bit', False, 'llama2', 70, 225, True, '6dae38060d70b82dcfe787a612d04aaf0adf0738', False, False, 'WizardLM/WizardLM-70B-V1.0']\n"
     ]
    },
    {
     "name": "stderr",
     "output_type": "stream",
     "text": [
      "2695it [11:18,  4.23it/s]"
     ]
    },
    {
     "name": "stdout",
     "output_type": "stream",
     "text": [
      "Failed to fetch: ['🟢', '<a target=\"_blank\" href=\"https://huggingface.co/huggingface/llama-65b\" style=\"color: var(--link-text-color); text-decoration: underline;text-decoration-style: dotted;\">huggingface/llama-65b</a>  <a target=\"_blank\" href=\"https://huggingface.co/datasets/open-llm-leaderboard/details_huggingface__llama-65b\" style=\"color: var(--link-text-color); text-decoration: underline;text-decoration-style: dotted;\">📑</a>', 61.19, 63.48, 86.09, 63.93, 43.43, 82.56, 27.67, 'pretrained', 'LlamaForCausalLM', 'Original', 'float16', False, 'other', 65.29, 0, False, '4ae2e56610e8b9b9a78472708390668e9096b4f9', False, False, 'huggingface/llama-65b']\n"
     ]
    },
    {
     "name": "stderr",
     "output_type": "stream",
     "text": [
      "2711it [11:22,  3.75it/s]"
     ]
    },
    {
     "name": "stdout",
     "output_type": "stream",
     "text": [
      "Failed to fetch: ['🔶', '<a target=\"_blank\" href=\"https://huggingface.co/amu/spin-phi2-1.5\" style=\"color: var(--link-text-color); text-decoration: underline;text-decoration-style: dotted;\">amu/spin-phi2-1.5</a>  <a target=\"_blank\" href=\"https://huggingface.co/datasets/open-llm-leaderboard/details_amu__spin-phi2-1.5\" style=\"color: var(--link-text-color); text-decoration: underline;text-decoration-style: dotted;\">📑</a>', 61.11, 63.65, 75.79, 56.52, 46.4, 73.16, 51.1, 'fine-tuned on domain-specific datasets', 'PhiForCausalLM', 'Original', 'bfloat16', False, 'apache-2.0', 2.78, 0, False, '5c9c6b9819b1a1631ac4d6db1e93b011a318756c', False, False, 'amu/spin-phi2-1.5']\n"
     ]
    },
    {
     "name": "stderr",
     "output_type": "stream",
     "text": [
      "2712it [11:22,  3.86it/s]"
     ]
    },
    {
     "name": "stdout",
     "output_type": "stream",
     "text": [
      "Failed to fetch: ['🔶', '<a target=\"_blank\" href=\"https://huggingface.co/amu/spin-phi2-2\" style=\"color: var(--link-text-color); text-decoration: underline;text-decoration-style: dotted;\">amu/spin-phi2-2</a>  <a target=\"_blank\" href=\"https://huggingface.co/datasets/open-llm-leaderboard/details_amu__spin-phi2-2\" style=\"color: var(--link-text-color); text-decoration: underline;text-decoration-style: dotted;\">📑</a>', 61.11, 63.65, 75.79, 56.52, 46.4, 73.16, 51.1, 'fine-tuned on domain-specific datasets', 'PhiForCausalLM', 'Original', 'bfloat16', False, 'apache-2.0', 2.78, 0, False, '5c9c6b9819b1a1631ac4d6db1e93b011a318756c', False, False, 'amu/spin-phi2-2']\n"
     ]
    },
    {
     "name": "stderr",
     "output_type": "stream",
     "text": [
      "2715it [11:23,  4.35it/s]"
     ]
    },
    {
     "name": "stdout",
     "output_type": "stream",
     "text": [
      "Failed to fetch: ['💬', '<a target=\"_blank\" href=\"https://huggingface.co/pinkyponky/Mistral-7B-Instruct-Sft-Tuned-V0.2\" style=\"color: var(--link-text-color); text-decoration: underline;text-decoration-style: dotted;\">pinkyponky/Mistral-7B-Instruct-Sft-Tuned-V0.2</a>  <a target=\"_blank\" href=\"https://huggingface.co/datasets/open-llm-leaderboard/details_pinkyponky__Mistral-7B-Instruct-Sft-Tuned-V0.2\" style=\"color: var(--link-text-color); text-decoration: underline;text-decoration-style: dotted;\">📑</a>', 61.08, 57.34, 78.95, 57.9, 50.66, 76.16, 45.49, 'chat models (RLHF, DPO, IFT, ...)', 'MistralForCausalLM', 'Original', 'bfloat16', False, '?', 7.24, 0, False, '826783eb0e7f2fc471ab9dfeea59acd112a6ecc3', False, False, 'pinkyponky/Mistral-7B-Instruct-Sft-Tuned-V0.2']\n"
     ]
    },
    {
     "name": "stderr",
     "output_type": "stream",
     "text": [
      "2726it [11:26,  3.09it/s]"
     ]
    },
    {
     "name": "stdout",
     "output_type": "stream",
     "text": [
      "Failed to fetch: ['🔶', '<a target=\"_blank\" href=\"https://huggingface.co/venkycs/ZySec-7B-Adapter\" style=\"color: var(--link-text-color); text-decoration: underline;text-decoration-style: dotted;\">venkycs/ZySec-7B-Adapter</a>  <a target=\"_blank\" href=\"https://huggingface.co/datasets/open-llm-leaderboard/details_venkycs__ZySec-7B-Adapter\" style=\"color: var(--link-text-color); text-decoration: underline;text-decoration-style: dotted;\">📑</a>', 61.04, 63.48, 85, 60.22, 56.49, 78.14, 22.9, 'fine-tuned on domain-specific datasets', '?', 'Adapter', 'float16', False, 'apache-2.0', 7, 0, False, 'd8245dbd4ff60ff6ab9683eeec6b9c3f9aa9ba64', False, False, 'venkycs/ZySec-7B-Adapter']\n"
     ]
    },
    {
     "name": "stderr",
     "output_type": "stream",
     "text": [
      "2738it [11:29,  4.45it/s]"
     ]
    },
    {
     "name": "stdout",
     "output_type": "stream",
     "text": [
      "Failed to fetch: ['💬', '<a target=\"_blank\" href=\"https://huggingface.co/ddyuudd/mistral_dmbr03_32_sig\" style=\"color: var(--link-text-color); text-decoration: underline;text-decoration-style: dotted;\">ddyuudd/mistral_dmbr03_32_sig</a>  <a target=\"_blank\" href=\"https://huggingface.co/datasets/open-llm-leaderboard/details_ddyuudd__mistral_dmbr03_32_sig\" style=\"color: var(--link-text-color); text-decoration: underline;text-decoration-style: dotted;\">📑</a>', 60.95, 59.98, 83.22, 61.22, 47.9, 78.06, 35.33, 'chat models (RLHF, DPO, IFT, ...)', 'MistralForCausalLM', 'Original', 'float16', False, 'mit', 7.24, 0, False, '860f9cde13943b70bbea7d54975148005efa1b0a', False, False, 'ddyuudd/mistral_dmbr03_32_sig']\n"
     ]
    },
    {
     "name": "stderr",
     "output_type": "stream",
     "text": [
      "2747it [11:31,  4.45it/s]"
     ]
    },
    {
     "name": "stdout",
     "output_type": "stream",
     "text": [
      "Failed to fetch: ['💬', '<a target=\"_blank\" href=\"https://huggingface.co/ddyuudd/mistral_nucleus09_32_sig\" style=\"color: var(--link-text-color); text-decoration: underline;text-decoration-style: dotted;\">ddyuudd/mistral_nucleus09_32_sig</a>  <a target=\"_blank\" href=\"https://huggingface.co/datasets/open-llm-leaderboard/details_ddyuudd__mistral_nucleus09_32_sig\" style=\"color: var(--link-text-color); text-decoration: underline;text-decoration-style: dotted;\">📑</a>', 60.93, 59.73, 83.14, 61.42, 46.37, 78.06, 36.85, 'chat models (RLHF, DPO, IFT, ...)', 'MistralForCausalLM', 'Original', 'float16', False, 'mit', 7.24, 0, False, '49774a1df696b8c8c539f615422518233d21675d', False, False, 'ddyuudd/mistral_nucleus09_32_sig']\n"
     ]
    },
    {
     "name": "stderr",
     "output_type": "stream",
     "text": [
      "2757it [11:33,  4.56it/s]"
     ]
    },
    {
     "name": "stdout",
     "output_type": "stream",
     "text": [
      "Failed to fetch: ['💬', '<a target=\"_blank\" href=\"https://huggingface.co/ddyuudd/mistral_dmbr05_32_sig\" style=\"color: var(--link-text-color); text-decoration: underline;text-decoration-style: dotted;\">ddyuudd/mistral_dmbr05_32_sig</a>  <a target=\"_blank\" href=\"https://huggingface.co/datasets/open-llm-leaderboard/details_ddyuudd__mistral_dmbr05_32_sig\" style=\"color: var(--link-text-color); text-decoration: underline;text-decoration-style: dotted;\">📑</a>', 60.85, 59.9, 83.28, 60.86, 49.69, 77.19, 34.19, 'chat models (RLHF, DPO, IFT, ...)', 'MistralForCausalLM', 'Original', 'float16', False, 'mit', 7.24, 0, False, 'c09c32edf2cfc817d3aeb010e5a43a530ad5cd62', False, False, 'ddyuudd/mistral_dmbr05_32_sig']\n"
     ]
    },
    {
     "name": "stderr",
     "output_type": "stream",
     "text": [
      "2770it [11:36,  3.78it/s]"
     ]
    },
    {
     "name": "stdout",
     "output_type": "stream",
     "text": [
      "Failed to fetch: ['💬', '<a target=\"_blank\" href=\"https://huggingface.co/ddyuudd/mistral_mbr_32_sig\" style=\"color: var(--link-text-color); text-decoration: underline;text-decoration-style: dotted;\">ddyuudd/mistral_mbr_32_sig</a>  <a target=\"_blank\" href=\"https://huggingface.co/datasets/open-llm-leaderboard/details_ddyuudd__mistral_mbr_32_sig\" style=\"color: var(--link-text-color); text-decoration: underline;text-decoration-style: dotted;\">📑</a>', 60.79, 59.64, 83.1, 61.43, 46.31, 78.14, 36.09, 'chat models (RLHF, DPO, IFT, ...)', 'MistralForCausalLM', 'Original', 'float16', False, 'mit', 7.24, 0, False, '4dcd4403589a336c689164613576b83860f4602c', False, False, 'ddyuudd/mistral_mbr_32_sig']\n"
     ]
    },
    {
     "name": "stderr",
     "output_type": "stream",
     "text": [
      "2771it [11:37,  3.98it/s]"
     ]
    },
    {
     "name": "stdout",
     "output_type": "stream",
     "text": [
      "Failed to fetch: ['💬', '<a target=\"_blank\" href=\"https://huggingface.co/ddyuudd/mistral_kmmbr_32_sig\" style=\"color: var(--link-text-color); text-decoration: underline;text-decoration-style: dotted;\">ddyuudd/mistral_kmmbr_32_sig</a>  <a target=\"_blank\" href=\"https://huggingface.co/datasets/open-llm-leaderboard/details_ddyuudd__mistral_kmmbr_32_sig\" style=\"color: var(--link-text-color); text-decoration: underline;text-decoration-style: dotted;\">📑</a>', 60.78, 58.96, 82.84, 61.39, 46.2, 77.74, 37.53, 'chat models (RLHF, DPO, IFT, ...)', 'MistralForCausalLM', 'Original', 'float16', False, 'mit', 7.24, 0, False, '257fbb05778a72079d3ef3b881335c24bc37c3f7', False, False, 'ddyuudd/mistral_kmmbr_32_sig']\n"
     ]
    },
    {
     "name": "stderr",
     "output_type": "stream",
     "text": [
      "2791it [11:42,  3.74it/s]"
     ]
    },
    {
     "name": "stdout",
     "output_type": "stream",
     "text": [
      "Failed to fetch: ['🤝', '<a target=\"_blank\" href=\"https://huggingface.co/paulilioaica/Collin-7B-dare\" style=\"color: var(--link-text-color); text-decoration: underline;text-decoration-style: dotted;\">paulilioaica/Collin-7B-dare</a>  <a target=\"_blank\" href=\"https://huggingface.co/datasets/open-llm-leaderboard/details_paulilioaica__Collin-7B-dare\" style=\"color: var(--link-text-color); text-decoration: underline;text-decoration-style: dotted;\">📑</a>', 60.65, 65.87, 82.08, 51.86, 65.2, 77.9, 21, 'base merges and moerges', 'MistralForCausalLM', 'Original', 'float16', False, 'apache-2.0', 7.24, 0, False, 'c8cc55a64ad062fe5ea9b6268c4affadc0975219', False, False, 'paulilioaica/Collin-7B-dare']\n"
     ]
    },
    {
     "name": "stderr",
     "output_type": "stream",
     "text": [
      "2792it [11:42,  3.95it/s]"
     ]
    },
    {
     "name": "stdout",
     "output_type": "stream",
     "text": [
      "Failed to fetch: ['🔶', '<a target=\"_blank\" href=\"https://huggingface.co/CorticalStack/mistral-7b-slimorca-sft\" style=\"color: var(--link-text-color); text-decoration: underline;text-decoration-style: dotted;\">CorticalStack/mistral-7b-slimorca-sft</a>  <a target=\"_blank\" href=\"https://huggingface.co/datasets/open-llm-leaderboard/details_CorticalStack__mistral-7b-slimorca-sft\" style=\"color: var(--link-text-color); text-decoration: underline;text-decoration-style: dotted;\">📑</a>', 60.63, 58.53, 83.16, 60.71, 50.18, 78.93, 32.3, 'fine-tuned on domain-specific datasets', 'MistralForCausalLM', 'Original', 'bfloat16', False, 'apache-2.0', 7.24, 0, False, '45c7963f6177f7fa1e07987264817b50611650e9', False, False, 'CorticalStack/mistral-7b-slimorca-sft']\n"
     ]
    },
    {
     "name": "stderr",
     "output_type": "stream",
     "text": [
      "2794it [11:42,  4.27it/s]"
     ]
    },
    {
     "name": "stdout",
     "output_type": "stream",
     "text": [
      "Failed to fetch: ['🔶', '<a target=\"_blank\" href=\"https://huggingface.co/jisukim8873/mistralai-case-2-0\" style=\"color: var(--link-text-color); text-decoration: underline;text-decoration-style: dotted;\">jisukim8873/mistralai-case-2-0</a>  <a target=\"_blank\" href=\"https://huggingface.co/datasets/open-llm-leaderboard/details_jisukim8873__mistralai-case-2-0\" style=\"color: var(--link-text-color); text-decoration: underline;text-decoration-style: dotted;\">📑</a>', 60.63, 60.41, 83.08, 62.94, 41.82, 78.69, 36.85, 'fine-tuned on domain-specific datasets', 'MistralForCausalLM', 'Original', 'float16', False, 'apache-2.0', 7.24, 0, False, '5721e98796e26536d9df830647cc46cc2b34c0a5', False, False, 'jisukim8873/mistralai-case-2-0']\n",
      "Failed to fetch: ['🔶', '<a target=\"_blank\" href=\"https://huggingface.co/jisukim8873/mistralai-case-1-0\" style=\"color: var(--link-text-color); text-decoration: underline;text-decoration-style: dotted;\">jisukim8873/mistralai-case-1-0</a>  <a target=\"_blank\" href=\"https://huggingface.co/datasets/open-llm-leaderboard/details_jisukim8873__mistralai-case-1-0\" style=\"color: var(--link-text-color); text-decoration: underline;text-decoration-style: dotted;\">📑</a>', 60.63, 60.41, 83.08, 62.94, 41.82, 78.69, 36.85, 'fine-tuned on domain-specific datasets', 'MistralForCausalLM', 'Original', 'float16', False, 'apache-2.0', 7.24, 0, False, 'c2ce0cb3094b8eb6b33cf08247d50a16204dd894', False, False, 'jisukim8873/mistralai-case-1-0']\n"
     ]
    },
    {
     "name": "stderr",
     "output_type": "stream",
     "text": [
      "2795it [11:43,  4.36it/s]"
     ]
    },
    {
     "name": "stdout",
     "output_type": "stream",
     "text": [
      "Failed to fetch: ['🔶', '<a target=\"_blank\" href=\"https://huggingface.co/jisukim8873/mistralai-case-0-0\" style=\"color: var(--link-text-color); text-decoration: underline;text-decoration-style: dotted;\">jisukim8873/mistralai-case-0-0</a>  <a target=\"_blank\" href=\"https://huggingface.co/datasets/open-llm-leaderboard/details_jisukim8873__mistralai-case-0-0\" style=\"color: var(--link-text-color); text-decoration: underline;text-decoration-style: dotted;\">📑</a>', 60.63, 60.41, 83.08, 62.94, 41.82, 78.69, 36.85, 'fine-tuned on domain-specific datasets', 'MistralForCausalLM', 'Original', 'float16', False, 'apache-2.0', 7.24, 0, False, '15ba501a51a1404a440b2db715695efc9154027a', False, False, 'jisukim8873/mistralai-case-0-0']\n"
     ]
    },
    {
     "name": "stderr",
     "output_type": "stream",
     "text": [
      "2804it [11:45,  4.18it/s]"
     ]
    },
    {
     "name": "stdout",
     "output_type": "stream",
     "text": [
      "Failed to fetch: ['🤝', '<a target=\"_blank\" href=\"https://huggingface.co/Walmart-the-bag/Influxient-4x13B\" style=\"color: var(--link-text-color); text-decoration: underline;text-decoration-style: dotted;\">Walmart-the-bag/Influxient-4x13B</a>  <a target=\"_blank\" href=\"https://huggingface.co/datasets/open-llm-leaderboard/details_Walmart-the-bag__Influxient-4x13B\" style=\"color: var(--link-text-color); text-decoration: underline;text-decoration-style: dotted;\">📑</a>', 60.57, 61.26, 83.42, 57.25, 54.1, 74.35, 33.06, 'base merges and moerges', 'MixtralForCausalLM', 'Original', 'float16', False, '?', 38.5, 0, False, 'a06acd48979617eb1af25ede71b937767889218b', False, False, 'Walmart-the-bag/Influxient-4x13B']\n"
     ]
    },
    {
     "name": "stderr",
     "output_type": "stream",
     "text": [
      "2811it [11:47,  3.25it/s]Invalid model-index. Not loading eval results into CardData.\n",
      "2824it [11:51,  3.78it/s]"
     ]
    },
    {
     "name": "stdout",
     "output_type": "stream",
     "text": [
      "Failed to fetch: ['💬', '<a target=\"_blank\" href=\"https://huggingface.co/ddyuudd/mistral_dmbr10_32_sig\" style=\"color: var(--link-text-color); text-decoration: underline;text-decoration-style: dotted;\">ddyuudd/mistral_dmbr10_32_sig</a>  <a target=\"_blank\" href=\"https://huggingface.co/datasets/open-llm-leaderboard/details_ddyuudd__mistral_dmbr10_32_sig\" style=\"color: var(--link-text-color); text-decoration: underline;text-decoration-style: dotted;\">📑</a>', 60.43, 58.62, 82.57, 61.35, 44.34, 77.9, 37.83, 'chat models (RLHF, DPO, IFT, ...)', 'MistralForCausalLM', 'Original', 'float16', False, 'mit', 7.24, 0, False, 'd028c5bfc34a205d9cb215bbf66371765408283d', False, False, 'ddyuudd/mistral_dmbr10_32_sig']\n"
     ]
    },
    {
     "name": "stderr",
     "output_type": "stream",
     "text": [
      "2825it [11:51,  3.98it/s]"
     ]
    },
    {
     "name": "stdout",
     "output_type": "stream",
     "text": [
      "Failed to fetch: ['💬', '<a target=\"_blank\" href=\"https://huggingface.co/ddyuudd/mistral_dmbr20_32_sig\" style=\"color: var(--link-text-color); text-decoration: underline;text-decoration-style: dotted;\">ddyuudd/mistral_dmbr20_32_sig</a>  <a target=\"_blank\" href=\"https://huggingface.co/datasets/open-llm-leaderboard/details_ddyuudd__mistral_dmbr20_32_sig\" style=\"color: var(--link-text-color); text-decoration: underline;text-decoration-style: dotted;\">📑</a>', 60.43, 58.7, 82.54, 61.41, 44.75, 77.58, 37.6, 'chat models (RLHF, DPO, IFT, ...)', 'MistralForCausalLM', 'Original', 'float16', False, 'mit', 7.24, 0, False, '2f6b2e47ddcde6ae6d7b690c2c2ff1d7be9d3e1b', False, False, 'ddyuudd/mistral_dmbr20_32_sig']\n"
     ]
    },
    {
     "name": "stderr",
     "output_type": "stream",
     "text": [
      "2827it [11:52,  3.49it/s]"
     ]
    },
    {
     "name": "stdout",
     "output_type": "stream",
     "text": [
      "Failed to fetch: ['🔶', '<a target=\"_blank\" href=\"https://huggingface.co/pansophic/m17\" style=\"color: var(--link-text-color); text-decoration: underline;text-decoration-style: dotted;\">pansophic/m17</a>  <a target=\"_blank\" href=\"https://huggingface.co/datasets/open-llm-leaderboard/details_pansophic__m17\" style=\"color: var(--link-text-color); text-decoration: underline;text-decoration-style: dotted;\">📑</a>', 60.42, 59.64, 74.41, 56.12, 46.62, 75.93, 49.81, 'fine-tuned on domain-specific datasets', 'PhiForCausalLM', 'Original', 'bfloat16', False, 'mit', 0, 0, False, 'af805fe99130a741b4d688f9e048b6f69362522f', False, False, 'pansophic/m17']\n"
     ]
    },
    {
     "name": "stderr",
     "output_type": "stream",
     "text": [
      "2828it [11:52,  3.76it/s]"
     ]
    },
    {
     "name": "stdout",
     "output_type": "stream",
     "text": [
      "Failed to fetch: ['💬', '<a target=\"_blank\" href=\"https://huggingface.co/WizardLM/WizardMath-70B-V1.0\" style=\"color: var(--link-text-color); text-decoration: underline;text-decoration-style: dotted;\">WizardLM/WizardMath-70B-V1.0</a>  <a target=\"_blank\" href=\"https://huggingface.co/datasets/open-llm-leaderboard/details_WizardLM__WizardMath-70B-V1.0\" style=\"color: var(--link-text-color); text-decoration: underline;text-decoration-style: dotted;\">📑</a>', 60.42, 68.17, 86.49, 68.89, 52.69, 82.32, 3.94, 'chat models (RLHF, DPO, IFT, ...)', 'LlamaForCausalLM', 'Original', 'bfloat16', False, 'llama2', 70, 116, True, 'e85b43e53c5379e35393b970c66d76c2d1060381', False, True, 'WizardLM/WizardMath-70B-V1.0']\n"
     ]
    },
    {
     "name": "stderr",
     "output_type": "stream",
     "text": [
      "2830it [11:52,  3.51it/s]"
     ]
    },
    {
     "name": "stdout",
     "output_type": "stream",
     "text": [
      "Failed to fetch: ['💬', '<a target=\"_blank\" href=\"https://huggingface.co/WizardLM/WizardMath-70B-V1.0\" style=\"color: var(--link-text-color); text-decoration: underline;text-decoration-style: dotted;\">WizardLM/WizardMath-70B-V1.0</a>  <a target=\"_blank\" href=\"https://huggingface.co/datasets/open-llm-leaderboard/details_WizardLM__WizardMath-70B-V1.0\" style=\"color: var(--link-text-color); text-decoration: underline;text-decoration-style: dotted;\">📑</a>', 60.41, 67.92, 86.46, 68.92, 52.77, 82.32, 4.09, 'chat models (RLHF, DPO, IFT, ...)', 'LlamaForCausalLM', 'Original', 'float16', False, 'llama2', 70, 116, True, 'e85b43e53c5379e35393b970c66d76c2d1060381', False, True, 'WizardLM/WizardMath-70B-V1.0']\n"
     ]
    },
    {
     "name": "stderr",
     "output_type": "stream",
     "text": [
      "2835it [11:54,  4.09it/s]"
     ]
    },
    {
     "name": "stdout",
     "output_type": "stream",
     "text": [
      "Failed to fetch: ['🔶', '<a target=\"_blank\" href=\"https://huggingface.co/pansophic/m2\" style=\"color: var(--link-text-color); text-decoration: underline;text-decoration-style: dotted;\">pansophic/m2</a>  <a target=\"_blank\" href=\"https://huggingface.co/datasets/open-llm-leaderboard/details_pansophic__m2\" style=\"color: var(--link-text-color); text-decoration: underline;text-decoration-style: dotted;\">📑</a>', 60.39, 61.26, 75.28, 54.73, 48.17, 74.19, 48.67, 'fine-tuned on domain-specific datasets', 'PhiForCausalLM', 'Original', 'bfloat16', False, 'mit', 0, 0, False, '1be3a323f2d735eb6aad1905c5bfb2bec4475d6f', False, False, 'pansophic/m2']\n"
     ]
    },
    {
     "name": "stderr",
     "output_type": "stream",
     "text": [
      "2847it [11:57,  3.70it/s]"
     ]
    },
    {
     "name": "stdout",
     "output_type": "stream",
     "text": [
      "Failed to fetch: ['🟩', '<a target=\"_blank\" href=\"https://huggingface.co/Weyaxi/Mistral-7B-v0.2-hf-duplicate\" style=\"color: var(--link-text-color); text-decoration: underline;text-decoration-style: dotted;\">Weyaxi/Mistral-7B-v0.2-hf-duplicate</a>  <a target=\"_blank\" href=\"https://huggingface.co/datasets/open-llm-leaderboard/details_Weyaxi__Mistral-7B-v0.2-hf-duplicate\" style=\"color: var(--link-text-color); text-decoration: underline;text-decoration-style: dotted;\">📑</a>', 60.34, 60.49, 82.94, 63.42, 41.8, 78.69, 34.72, 'continuously pretrained', 'MistralForCausalLM', 'Original', 'bfloat16', False, 'apache-2.0', 7, 0, False, '835d752a28c1d458d9fcc8f98beb878c4f35a06f', False, False, 'Weyaxi/Mistral-7B-v0.2-hf-duplicate']\n"
     ]
    },
    {
     "name": "stderr",
     "output_type": "stream",
     "text": [
      "2856it [11:59,  4.72it/s]"
     ]
    },
    {
     "name": "stdout",
     "output_type": "stream",
     "text": [
      "Failed to fetch: ['🔶', '<a target=\"_blank\" href=\"https://huggingface.co/jisukim8873/mistralai-case-0-1\" style=\"color: var(--link-text-color); text-decoration: underline;text-decoration-style: dotted;\">jisukim8873/mistralai-case-0-1</a>  <a target=\"_blank\" href=\"https://huggingface.co/datasets/open-llm-leaderboard/details_jisukim8873__mistralai-case-0-1\" style=\"color: var(--link-text-color); text-decoration: underline;text-decoration-style: dotted;\">📑</a>', 60.26, 60.84, 83.05, 62.72, 41.43, 78.85, 34.65, 'fine-tuned on domain-specific datasets', 'MistralForCausalLM', 'Original', 'float16', False, 'apache-2.0', 7.24, 0, False, 'a0386ced06a6282843b950fb549a28dd96b9fd20', False, False, 'jisukim8873/mistralai-case-0-1']\n"
     ]
    },
    {
     "name": "stderr",
     "output_type": "stream",
     "text": [
      "2858it [12:00,  2.18it/s]Invalid model-index. Not loading eval results into CardData.\n",
      "2861it [12:01,  3.29it/s]"
     ]
    },
    {
     "name": "stdout",
     "output_type": "stream",
     "text": [
      "Failed to fetch: ['🔶', '<a target=\"_blank\" href=\"https://huggingface.co/pansophic/m16\" style=\"color: var(--link-text-color); text-decoration: underline;text-decoration-style: dotted;\">pansophic/m16</a>  <a target=\"_blank\" href=\"https://huggingface.co/datasets/open-llm-leaderboard/details_pansophic__m16\" style=\"color: var(--link-text-color); text-decoration: underline;text-decoration-style: dotted;\">📑</a>', 60.25, 59.81, 74.82, 56.31, 47.11, 75.14, 48.29, 'fine-tuned on domain-specific datasets', 'PhiForCausalLM', 'Original', 'bfloat16', False, 'mit', 0, 0, False, '61b76c29f02a6b27f17b3e73ce50c218dfc6b7ff', False, False, 'pansophic/m16']\n"
     ]
    },
    {
     "name": "stderr",
     "output_type": "stream",
     "text": [
      "2863it [12:01,  3.83it/s]"
     ]
    },
    {
     "name": "stdout",
     "output_type": "stream",
     "text": [
      "Failed to fetch: ['🔶', '<a target=\"_blank\" href=\"https://huggingface.co/pansophic/m3\" style=\"color: var(--link-text-color); text-decoration: underline;text-decoration-style: dotted;\">pansophic/m3</a>  <a target=\"_blank\" href=\"https://huggingface.co/datasets/open-llm-leaderboard/details_pansophic__m3\" style=\"color: var(--link-text-color); text-decoration: underline;text-decoration-style: dotted;\">📑</a>', 60.23, 60.41, 74.49, 56.51, 44.98, 76.72, 48.29, 'fine-tuned on domain-specific datasets', 'PhiForCausalLM', 'Original', 'bfloat16', False, 'mit', 0, 0, False, 'c55ddfa2a2e72141f5cf6ddefb5596d79efcfd72', False, False, 'pansophic/m3']\n"
     ]
    },
    {
     "name": "stderr",
     "output_type": "stream",
     "text": [
      "2865it [12:02,  3.44it/s]"
     ]
    },
    {
     "name": "stdout",
     "output_type": "stream",
     "text": [
      "Failed to fetch: ['🔶', '<a target=\"_blank\" href=\"https://huggingface.co/aboros98/form1\" style=\"color: var(--link-text-color); text-decoration: underline;text-decoration-style: dotted;\">aboros98/form1</a>  <a target=\"_blank\" href=\"https://huggingface.co/datasets/open-llm-leaderboard/details_aboros98__form1\" style=\"color: var(--link-text-color); text-decoration: underline;text-decoration-style: dotted;\">📑</a>', 60.23, 58.79, 75.25, 56.83, 45.85, 74.9, 49.73, 'fine-tuned on domain-specific datasets', 'PhiForCausalLM', 'Original', 'bfloat16', False, 'mit', 0, 0, False, '7dceb14eec7636fd7da57fad984333f4e7c07c60', False, False, 'aboros98/form1']\n"
     ]
    },
    {
     "name": "stderr",
     "output_type": "stream",
     "text": [
      "2873it [12:04,  4.48it/s]"
     ]
    },
    {
     "name": "stdout",
     "output_type": "stream",
     "text": [
      "Failed to fetch: ['🔶', '<a target=\"_blank\" href=\"https://huggingface.co/YeungNLP/firefly-zephyr-6x7b-lora\" style=\"color: var(--link-text-color); text-decoration: underline;text-decoration-style: dotted;\">YeungNLP/firefly-zephyr-6x7b-lora</a>  <a target=\"_blank\" href=\"https://huggingface.co/datasets/open-llm-leaderboard/details_YeungNLP__firefly-zephyr-6x7b-lora\" style=\"color: var(--link-text-color); text-decoration: underline;text-decoration-style: dotted;\">📑</a>', 60.13, 61.01, 82.8, 60.09, 48.84, 77.03, 31.01, 'fine-tuned on domain-specific datasets', 'Unknown', 'Adapter', 'float16', False, '?', 7, 0, False, 'ebf239f263dc1bfb7cf2030c96f0e967683e5946', False, False, 'YeungNLP/firefly-zephyr-6x7b-lora']\n"
     ]
    },
    {
     "name": "stderr",
     "output_type": "stream",
     "text": [
      "2874it [12:04,  4.50it/s]"
     ]
    },
    {
     "name": "stdout",
     "output_type": "stream",
     "text": [
      "Failed to fetch: ['🔶', '<a target=\"_blank\" href=\"https://huggingface.co/MisterRid/wendigo-14b-alpha3\" style=\"color: var(--link-text-color); text-decoration: underline;text-decoration-style: dotted;\">MisterRid/wendigo-14b-alpha3</a>  <a target=\"_blank\" href=\"https://huggingface.co/datasets/open-llm-leaderboard/details_MisterRid__wendigo-14b-alpha3\" style=\"color: var(--link-text-color); text-decoration: underline;text-decoration-style: dotted;\">📑</a>', 60.1, 59.39, 79.51, 59.72, 55.12, 74.74, 32.15, 'fine-tuned on domain-specific datasets', 'Unknown', 'Original', 'bfloat16', False, '?', 14.22, 0, False, '01c9ec549ddc830eaa6639e7e89b6337c51586e3', False, False, 'MisterRid/wendigo-14b-alpha3']\n"
     ]
    },
    {
     "name": "stderr",
     "output_type": "stream",
     "text": [
      "2881it [12:05,  4.68it/s]"
     ]
    },
    {
     "name": "stdout",
     "output_type": "stream",
     "text": [
      "Failed to fetch: ['🔶', '<a target=\"_blank\" href=\"https://huggingface.co/YeungNLP/firefly-zephyr-6x7b\" style=\"color: var(--link-text-color); text-decoration: underline;text-decoration-style: dotted;\">YeungNLP/firefly-zephyr-6x7b</a>  <a target=\"_blank\" href=\"https://huggingface.co/datasets/open-llm-leaderboard/details_YeungNLP__firefly-zephyr-6x7b\" style=\"color: var(--link-text-color); text-decoration: underline;text-decoration-style: dotted;\">📑</a>', 60.06, 60.75, 82.8, 60.03, 48.84, 77.03, 30.93, 'fine-tuned on domain-specific datasets', 'MixtralForCausalLM', 'Original', 'float16', False, 'apache-2.0', 35.43, 0, False, '8d7ffe152c8dd278fbd8f29a80dfa13b024f3e52', False, False, 'YeungNLP/firefly-zephyr-6x7b']\n"
     ]
    },
    {
     "name": "stderr",
     "output_type": "stream",
     "text": [
      "2882it [12:06,  4.52it/s]"
     ]
    },
    {
     "name": "stdout",
     "output_type": "stream",
     "text": [
      "Failed to fetch: ['🔶', '<a target=\"_blank\" href=\"https://huggingface.co/jisukim8873/mistralai-case-1-1\" style=\"color: var(--link-text-color); text-decoration: underline;text-decoration-style: dotted;\">jisukim8873/mistralai-case-1-1</a>  <a target=\"_blank\" href=\"https://huggingface.co/datasets/open-llm-leaderboard/details_jisukim8873__mistralai-case-1-1\" style=\"color: var(--link-text-color); text-decoration: underline;text-decoration-style: dotted;\">📑</a>', 60.06, 60.92, 82.87, 62.87, 41.1, 78.37, 34.19, 'fine-tuned on domain-specific datasets', 'MistralForCausalLM', 'Original', 'float16', False, 'apache-2.0', 7.24, 0, False, 'e7b1b13c3618dc97d3562984447af3772d3c76a0', False, False, 'jisukim8873/mistralai-case-1-1']\n"
     ]
    },
    {
     "name": "stderr",
     "output_type": "stream",
     "text": [
      "2885it [12:06,  4.54it/s]"
     ]
    },
    {
     "name": "stdout",
     "output_type": "stream",
     "text": [
      "Failed to fetch: ['🔶', '<a target=\"_blank\" href=\"https://huggingface.co/aboros98/groot2\" style=\"color: var(--link-text-color); text-decoration: underline;text-decoration-style: dotted;\">aboros98/groot2</a>  <a target=\"_blank\" href=\"https://huggingface.co/datasets/open-llm-leaderboard/details_aboros98__groot2\" style=\"color: var(--link-text-color); text-decoration: underline;text-decoration-style: dotted;\">📑</a>', 60.02, 59.04, 73.88, 56.38, 47.41, 75.93, 47.46, 'fine-tuned on domain-specific datasets', 'PhiForCausalLM', 'Original', 'bfloat16', False, 'mit', 0, 0, False, 'b357f5929c8d1919525ed021de639f3059b14d93', False, False, 'aboros98/groot2']\n"
     ]
    },
    {
     "name": "stderr",
     "output_type": "stream",
     "text": [
      "2893it [12:08,  4.41it/s]"
     ]
    },
    {
     "name": "stdout",
     "output_type": "stream",
     "text": [
      "Failed to fetch: ['🔶', '<a target=\"_blank\" href=\"https://huggingface.co/NovoCode/Novocode7b\" style=\"color: var(--link-text-color); text-decoration: underline;text-decoration-style: dotted;\">NovoCode/Novocode7b</a>  <a target=\"_blank\" href=\"https://huggingface.co/datasets/open-llm-leaderboard/details_NovoCode__Novocode7b\" style=\"color: var(--link-text-color); text-decoration: underline;text-decoration-style: dotted;\">📑</a>', 59.96, 58.79, 80.51, 56.5, 62.77, 78.14, 23.05, 'fine-tuned on domain-specific datasets', 'MistralForCausalLM', 'Original', 'float16', False, '?', 7.24, 0, False, 'a4cf91cc879937c3a45ca0f10aecd335c3919063', False, False, 'NovoCode/Novocode7b']\n"
     ]
    },
    {
     "name": "stderr",
     "output_type": "stream",
     "text": [
      "2907it [12:12,  3.64it/s]"
     ]
    },
    {
     "name": "stdout",
     "output_type": "stream",
     "text": [
      "Failed to fetch: ['💬', '<a target=\"_blank\" href=\"https://huggingface.co/WizardLM/WizardMath-70B-V1.0\" style=\"color: var(--link-text-color); text-decoration: underline;text-decoration-style: dotted;\">WizardLM/WizardMath-70B-V1.0</a>  <a target=\"_blank\" href=\"https://huggingface.co/datasets/open-llm-leaderboard/details_WizardLM__WizardMath-70B-V1.0\" style=\"color: var(--link-text-color); text-decoration: underline;text-decoration-style: dotted;\">📑</a>', 59.81, 67.49, 86.03, 68.44, 52.23, 81.77, 2.88, 'chat models (RLHF, DPO, IFT, ...)', 'LlamaForCausalLM', 'Original', '8bit', False, 'llama2', 70, 116, True, '97e5913edd2c593c3eef12070024674e7ee4e16c', False, True, 'WizardLM/WizardMath-70B-V1.0']\n"
     ]
    },
    {
     "name": "stderr",
     "output_type": "stream",
     "text": [
      "2937it [12:19,  3.89it/s]"
     ]
    },
    {
     "name": "stdout",
     "output_type": "stream",
     "text": [
      "Failed to fetch: ['🔶', '<a target=\"_blank\" href=\"https://huggingface.co/jisukim8873/mistralai-case-2-1\" style=\"color: var(--link-text-color); text-decoration: underline;text-decoration-style: dotted;\">jisukim8873/mistralai-case-2-1</a>  <a target=\"_blank\" href=\"https://huggingface.co/datasets/open-llm-leaderboard/details_jisukim8873__mistralai-case-2-1\" style=\"color: var(--link-text-color); text-decoration: underline;text-decoration-style: dotted;\">📑</a>', 59.57, 60.92, 82.54, 62.54, 41.49, 78.3, 31.61, 'fine-tuned on domain-specific datasets', 'MistralForCausalLM', 'Original', 'float16', False, 'apache-2.0', 7.24, 0, False, '8c1a2a752a63904e81061a7e65920d92fba01929', False, False, 'jisukim8873/mistralai-case-2-1']\n"
     ]
    },
    {
     "name": "stderr",
     "output_type": "stream",
     "text": [
      "2946it [12:21,  3.72it/s]"
     ]
    },
    {
     "name": "stdout",
     "output_type": "stream",
     "text": [
      "Failed to fetch: ['🔶', '<a target=\"_blank\" href=\"https://huggingface.co/andysalerno/cloudymixtral7Bx2-nectar-0.2\" style=\"color: var(--link-text-color); text-decoration: underline;text-decoration-style: dotted;\">andysalerno/cloudymixtral7Bx2-nectar-0.2</a>  <a target=\"_blank\" href=\"https://huggingface.co/datasets/open-llm-leaderboard/details_andysalerno__cloudymixtral7Bx2-nectar-0.2\" style=\"color: var(--link-text-color); text-decoration: underline;text-decoration-style: dotted;\">📑</a>', 59.54, 67.49, 80.83, 65.14, 68.7, 73.88, 1.21, 'fine-tuned on domain-specific datasets', 'MixtralForCausalLM', 'Original', 'float16', False, 'cc-by-nc-4.0', 12.88, 0, False, '56b640240f1aca4a91ccf66de041c86102dfe2c9', False, False, 'andysalerno/cloudymixtral7Bx2-nectar-0.2']\n"
     ]
    },
    {
     "name": "stderr",
     "output_type": "stream",
     "text": [
      "2948it [12:22,  4.13it/s]"
     ]
    },
    {
     "name": "stdout",
     "output_type": "stream",
     "text": [
      "Failed to fetch: ['🔶', '<a target=\"_blank\" href=\"https://huggingface.co/andysalerno/cloudymixtral7Bx2-nectar-0.2\" style=\"color: var(--link-text-color); text-decoration: underline;text-decoration-style: dotted;\">andysalerno/cloudymixtral7Bx2-nectar-0.2</a>  <a target=\"_blank\" href=\"https://huggingface.co/datasets/open-llm-leaderboard/details_andysalerno__cloudymixtral7Bx2-nectar-0.2\" style=\"color: var(--link-text-color); text-decoration: underline;text-decoration-style: dotted;\">📑</a>', 59.53, 67.49, 80.77, 65.09, 68.73, 73.95, 1.14, 'fine-tuned on domain-specific datasets', 'MixtralForCausalLM', 'Original', 'bfloat16', False, 'cc-by-nc-4.0', 12.88, 0, False, '56b640240f1aca4a91ccf66de041c86102dfe2c9', False, False, 'andysalerno/cloudymixtral7Bx2-nectar-0.2']\n"
     ]
    },
    {
     "name": "stderr",
     "output_type": "stream",
     "text": [
      "2949it [12:22,  4.25it/s]"
     ]
    },
    {
     "name": "stdout",
     "output_type": "stream",
     "text": [
      "Failed to fetch: ['🔶', '<a target=\"_blank\" href=\"https://huggingface.co/perlthoughts/Chupacabra-v3\" style=\"color: var(--link-text-color); text-decoration: underline;text-decoration-style: dotted;\">perlthoughts/Chupacabra-v3</a>  <a target=\"_blank\" href=\"https://huggingface.co/datasets/open-llm-leaderboard/details_perlthoughts__Chupacabra-v3\" style=\"color: var(--link-text-color); text-decoration: underline;text-decoration-style: dotted;\">📑</a>', 59.52, 66.21, 81.29, 59.36, 57.85, 77.43, 15.01, 'fine-tuned on domain-specific datasets', 'Unknown', 'Original', 'float16', False, '?', 7.24, 0, False, '1dfa5e16d4be646b496d657d86554482ad48b3c9', False, False, 'perlthoughts/Chupacabra-v3']\n"
     ]
    },
    {
     "name": "stderr",
     "output_type": "stream",
     "text": [
      "2968it [12:27,  4.39it/s]"
     ]
    },
    {
     "name": "stdout",
     "output_type": "stream",
     "text": [
      "Failed to fetch: ['🔶', '<a target=\"_blank\" href=\"https://huggingface.co/aboros98/motans1\" style=\"color: var(--link-text-color); text-decoration: underline;text-decoration-style: dotted;\">aboros98/motans1</a>  <a target=\"_blank\" href=\"https://huggingface.co/datasets/open-llm-leaderboard/details_aboros98__motans1\" style=\"color: var(--link-text-color); text-decoration: underline;text-decoration-style: dotted;\">📑</a>', 59.37, 58.62, 73.42, 56.94, 46.1, 74.11, 47.01, 'fine-tuned on domain-specific datasets', 'PhiForCausalLM', 'Original', 'bfloat16', False, 'mit', 0, 0, False, '8e66c7f8c142a1eb4786469a68a414cdb2d2b26a', False, False, 'aboros98/motans1']\n"
     ]
    },
    {
     "name": "stderr",
     "output_type": "stream",
     "text": [
      "2984it [12:31,  4.36it/s]"
     ]
    },
    {
     "name": "stdout",
     "output_type": "stream",
     "text": [
      "Failed to fetch: ['💬', '<a target=\"_blank\" href=\"https://huggingface.co/mergedlm/zephyrnotus-11b-alpha\" style=\"color: var(--link-text-color); text-decoration: underline;text-decoration-style: dotted;\">mergedlm/zephyrnotus-11b-alpha</a>  <a target=\"_blank\" href=\"https://huggingface.co/datasets/open-llm-leaderboard/details_mergedlm__zephyrnotus-11b-alpha\" style=\"color: var(--link-text-color); text-decoration: underline;text-decoration-style: dotted;\">📑</a>', 59.26, 61.35, 82.8, 60.67, 57.22, 76.4, 17.13, 'chat models (RLHF, DPO, IFT, ...)', 'MistralForCausalLM', 'Original', 'bfloat16', False, 'other', 10.73, 0, False, 'a6f74e800b6c77261a1d212bb3e6b2752cbedef9', False, False, 'mergedlm/zephyrnotus-11b-alpha']\n"
     ]
    },
    {
     "name": "stderr",
     "output_type": "stream",
     "text": [
      "3000it [12:34,  4.67it/s]"
     ]
    },
    {
     "name": "stdout",
     "output_type": "stream",
     "text": [
      "Failed to fetch: ['💬', '<a target=\"_blank\" href=\"https://huggingface.co/PeanutJar/Mistral-v0.1-PeanutButter-v0.0.0-7B\" style=\"color: var(--link-text-color); text-decoration: underline;text-decoration-style: dotted;\">PeanutJar/Mistral-v0.1-PeanutButter-v0.0.0-7B</a>  <a target=\"_blank\" href=\"https://huggingface.co/datasets/open-llm-leaderboard/details_PeanutJar__Mistral-v0.1-PeanutButter-v0.0.0-7B\" style=\"color: var(--link-text-color); text-decoration: underline;text-decoration-style: dotted;\">📑</a>', 59.09, 62.2, 84.1, 64.14, 46.94, 78.69, 18.5, 'chat models (RLHF, DPO, IFT, ...)', 'Unknown', 'Original', 'float16', False, '?', 7.24, 0, False, '9609a969ba6429b84e538d96afac55eb133a9983', False, False, 'PeanutJar/Mistral-v0.1-PeanutButter-v0.0.0-7B']\n"
     ]
    },
    {
     "name": "stderr",
     "output_type": "stream",
     "text": [
      "3003it [12:35,  4.55it/s]"
     ]
    },
    {
     "name": "stdout",
     "output_type": "stream",
     "text": [
      "Failed to fetch: ['🔶', '<a target=\"_blank\" href=\"https://huggingface.co/abdulrahman-nuzha/finetuned-Mistral-5000-v1.0\" style=\"color: var(--link-text-color); text-decoration: underline;text-decoration-style: dotted;\">abdulrahman-nuzha/finetuned-Mistral-5000-v1.0</a>  <a target=\"_blank\" href=\"https://huggingface.co/datasets/open-llm-leaderboard/details_abdulrahman-nuzha__finetuned-Mistral-5000-v1.0\" style=\"color: var(--link-text-color); text-decoration: underline;text-decoration-style: dotted;\">📑</a>', 59.08, 59.9, 82.37, 61.68, 41.17, 78.3, 31.08, 'fine-tuned on domain-specific datasets', 'MistralForCausalLM', 'Original', '4bit', False, 'apache-2.0', 0, 0, True, 'e8050c54d484d7e0a885b9d97a0781f0dd2e745e', False, False, 'abdulrahman-nuzha/finetuned-Mistral-5000-v1.0']\n"
     ]
    },
    {
     "name": "stderr",
     "output_type": "stream",
     "text": [
      "3013it [12:38,  3.55it/s]"
     ]
    },
    {
     "name": "stdout",
     "output_type": "stream",
     "text": [
      "Failed to fetch: ['💬', '<a target=\"_blank\" href=\"https://huggingface.co/raincandy-u/Rain-7B-v0.2\" style=\"color: var(--link-text-color); text-decoration: underline;text-decoration-style: dotted;\">raincandy-u/Rain-7B-v0.2</a>  <a target=\"_blank\" href=\"https://huggingface.co/datasets/open-llm-leaderboard/details_raincandy-u__Rain-7B-v0.2\" style=\"color: var(--link-text-color); text-decoration: underline;text-decoration-style: dotted;\">📑</a>', 59.01, 51.54, 75.11, 61.51, 46.44, 70.72, 48.75, 'chat models (RLHF, DPO, IFT, ...)', 'Qwen2ForCausalLM', 'Original', 'float16', False, 'other', 7.72, 0, False, '8631780a787c22ce081414bfea2a5270922d96b8', False, False, 'raincandy-u/Rain-7B-v0.2']\n"
     ]
    },
    {
     "name": "stderr",
     "output_type": "stream",
     "text": [
      "3014it [12:38,  3.66it/s]"
     ]
    },
    {
     "name": "stdout",
     "output_type": "stream",
     "text": [
      "Failed to fetch: ['💬', '<a target=\"_blank\" href=\"https://huggingface.co/ShenaoZ/0001_dpo_iter_2\" style=\"color: var(--link-text-color); text-decoration: underline;text-decoration-style: dotted;\">ShenaoZ/0001_dpo_iter_2</a>  <a target=\"_blank\" href=\"https://huggingface.co/datasets/open-llm-leaderboard/details_ShenaoZ__0001_dpo_iter_2\" style=\"color: var(--link-text-color); text-decoration: underline;text-decoration-style: dotted;\">📑</a>', 59.01, 60.41, 84.52, 60.02, 53.11, 77.19, 18.8, 'chat models (RLHF, DPO, IFT, ...)', 'MistralForCausalLM', 'Original', 'float16', False, 'apache-2.0', 7.24, 0, False, 'd9b4ce3898d7e95949fea0ebb846cc255e19df12', False, False, 'ShenaoZ/0001_dpo_iter_2']\n"
     ]
    },
    {
     "name": "stderr",
     "output_type": "stream",
     "text": [
      "3047it [12:46,  4.12it/s]"
     ]
    },
    {
     "name": "stdout",
     "output_type": "stream",
     "text": [
      "Failed to fetch: ['🔶', '<a target=\"_blank\" href=\"https://huggingface.co/freeCS-dot-org/Zero-7B-test-3\" style=\"color: var(--link-text-color); text-decoration: underline;text-decoration-style: dotted;\">freeCS-dot-org/Zero-7B-test-3</a>  <a target=\"_blank\" href=\"https://huggingface.co/datasets/open-llm-leaderboard/details_freeCS-dot-org__Zero-7B-test-3\" style=\"color: var(--link-text-color); text-decoration: underline;text-decoration-style: dotted;\">📑</a>', 58.77, 64.25, 79.85, 53.49, 58.3, 76.32, 20.39, 'fine-tuned on domain-specific datasets', 'MistralForCausalLM', 'Original', 'bfloat16', False, 'apache-2.0', 7.24, 0, False, 'ddcd86b0ef66dd8b7d7b9418b88f3fbc1cfdc828', False, False, 'freeCS-dot-org/Zero-7B-test-3']\n"
     ]
    },
    {
     "name": "stderr",
     "output_type": "stream",
     "text": [
      "3062it [12:50,  4.44it/s]"
     ]
    },
    {
     "name": "stdout",
     "output_type": "stream",
     "text": [
      "Failed to fetch: ['🔶', '<a target=\"_blank\" href=\"https://huggingface.co/jilp00/Nous-Hermes-2-SOLAR-10.7B-v1.1\" style=\"color: var(--link-text-color); text-decoration: underline;text-decoration-style: dotted;\">jilp00/Nous-Hermes-2-SOLAR-10.7B-v1.1</a>  <a target=\"_blank\" href=\"https://huggingface.co/datasets/open-llm-leaderboard/details_jilp00__Nous-Hermes-2-SOLAR-10.7B-v1.1\" style=\"color: var(--link-text-color); text-decoration: underline;text-decoration-style: dotted;\">📑</a>', 58.69, 63.99, 82.72, 65.85, 56.97, 81.22, 1.36, 'fine-tuned on domain-specific datasets', 'Unknown', 'Original', 'float16', False, '?', 10.73, 0, False, '8e1cbfa67643f49be67a6021db933cdd941a6d2f', False, False, 'jilp00/Nous-Hermes-2-SOLAR-10.7B-v1.1']\n"
     ]
    },
    {
     "name": "stderr",
     "output_type": "stream",
     "text": [
      "3065it [12:51,  3.49it/s]"
     ]
    },
    {
     "name": "stdout",
     "output_type": "stream",
     "text": [
      "Failed to fetch: ['🔶', '<a target=\"_blank\" href=\"https://huggingface.co/CausalLM/72B-preview-canary-llamafied-qwen-llamafy-unbias-qkv\" style=\"color: var(--link-text-color); text-decoration: underline;text-decoration-style: dotted;\">CausalLM/72B-preview-canary-llamafied-qwen-llamafy-unbias-qkv</a>  <a target=\"_blank\" href=\"https://huggingface.co/datasets/open-llm-leaderboard/details_CausalLM__72B-preview-canary-llamafied-qwen-llamafy-unbias-qkv\" style=\"color: var(--link-text-color); text-decoration: underline;text-decoration-style: dotted;\">📑</a>', 58.67, 53.07, 63.13, 67.39, 57.62, 75.14, 35.63, 'fine-tuned on domain-specific datasets', 'LlamaForCausalLM', 'Original', 'bfloat16', False, 'gpl-3.0', 72, 0, False, 'dc66cf314292f3bfd5a2eed74018671effac6405', False, False, 'CausalLM/72B-preview-canary-llamafied-qwen-llamafy-unbias-qkv']\n"
     ]
    },
    {
     "name": "stderr",
     "output_type": "stream",
     "text": [
      "3066it [12:51,  3.68it/s]"
     ]
    },
    {
     "name": "stdout",
     "output_type": "stream",
     "text": [
      "Failed to fetch: ['💬', '<a target=\"_blank\" href=\"https://huggingface.co/PeanutJar/Mistral-v0.1-PeanutButter-v0.0.2-7B\" style=\"color: var(--link-text-color); text-decoration: underline;text-decoration-style: dotted;\">PeanutJar/Mistral-v0.1-PeanutButter-v0.0.2-7B</a>  <a target=\"_blank\" href=\"https://huggingface.co/datasets/open-llm-leaderboard/details_PeanutJar__Mistral-v0.1-PeanutButter-v0.0.2-7B\" style=\"color: var(--link-text-color); text-decoration: underline;text-decoration-style: dotted;\">📑</a>', 58.66, 61.77, 84.11, 64.38, 45.92, 78.37, 17.44, 'chat models (RLHF, DPO, IFT, ...)', 'Unknown', 'Original', 'float16', False, '?', 7.24, 0, False, 'f4d471d7a9447d0969a58d5b3146d50cfa3005b3', False, False, 'PeanutJar/Mistral-v0.1-PeanutButter-v0.0.2-7B']\n"
     ]
    },
    {
     "name": "stderr",
     "output_type": "stream",
     "text": [
      "3082it [12:55,  4.26it/s]"
     ]
    },
    {
     "name": "stdout",
     "output_type": "stream",
     "text": [
      "Failed to fetch: ['🔶', '<a target=\"_blank\" href=\"https://huggingface.co/CausalLM/72B-preview-canary-llamafied-qwen-llamafy-unbias-qkv\" style=\"color: var(--link-text-color); text-decoration: underline;text-decoration-style: dotted;\">CausalLM/72B-preview-canary-llamafied-qwen-llamafy-unbias-qkv</a>  <a target=\"_blank\" href=\"https://huggingface.co/datasets/open-llm-leaderboard/details_CausalLM__72B-preview-canary-llamafied-qwen-llamafy-unbias-qkv\" style=\"color: var(--link-text-color); text-decoration: underline;text-decoration-style: dotted;\">📑</a>', 58.54, 52.56, 62.99, 67.45, 57.61, 75.14, 35.48, 'fine-tuned on domain-specific datasets', 'LlamaForCausalLM', 'Original', 'float16', False, 'gpl-3.0', 72, 0, False, 'dc66cf314292f3bfd5a2eed74018671effac6405', False, False, 'CausalLM/72B-preview-canary-llamafied-qwen-llamafy-unbias-qkv']\n"
     ]
    },
    {
     "name": "stderr",
     "output_type": "stream",
     "text": [
      "3087it [12:56,  4.21it/s]"
     ]
    },
    {
     "name": "stdout",
     "output_type": "stream",
     "text": [
      "Failed to fetch: ['🔶', '<a target=\"_blank\" href=\"https://huggingface.co/maldv/dragonwar-7b-s1\" style=\"color: var(--link-text-color); text-decoration: underline;text-decoration-style: dotted;\">maldv/dragonwar-7b-s1</a>  <a target=\"_blank\" href=\"https://huggingface.co/datasets/open-llm-leaderboard/details_maldv__dragonwar-7b-s1\" style=\"color: var(--link-text-color); text-decoration: underline;text-decoration-style: dotted;\">📑</a>', 58.48, 59.73, 83.45, 60.57, 43.44, 75.06, 28.66, 'fine-tuned on domain-specific datasets', 'MistralForCausalLM', 'Original', 'bfloat16', False, 'cc-by-nc-4.0', 7.24, 0, False, 'bd8536007b039f745bac5fe73ad750e419d8bcfe', False, False, 'maldv/dragonwar-7b-s1']\n"
     ]
    },
    {
     "name": "stderr",
     "output_type": "stream",
     "text": [
      "3096it [12:58,  4.59it/s]"
     ]
    },
    {
     "name": "stdout",
     "output_type": "stream",
     "text": [
      "Failed to fetch: ['🔶', '<a target=\"_blank\" href=\"https://huggingface.co/maldv/dragonwar-7b-s1\" style=\"color: var(--link-text-color); text-decoration: underline;text-decoration-style: dotted;\">maldv/dragonwar-7b-s1</a>  <a target=\"_blank\" href=\"https://huggingface.co/datasets/open-llm-leaderboard/details_maldv__dragonwar-7b-s1\" style=\"color: var(--link-text-color); text-decoration: underline;text-decoration-style: dotted;\">📑</a>', 58.4, 59.39, 83.5, 60.49, 43.53, 75.14, 28.35, 'fine-tuned on domain-specific datasets', 'MistralForCausalLM', 'Original', 'float16', False, 'cc-by-nc-4.0', 7.24, 0, False, 'bd8536007b039f745bac5fe73ad750e419d8bcfe', False, False, 'maldv/dragonwar-7b-s1']\n"
     ]
    },
    {
     "name": "stderr",
     "output_type": "stream",
     "text": [
      "3113it [13:02,  4.56it/s]"
     ]
    },
    {
     "name": "stdout",
     "output_type": "stream",
     "text": [
      "Failed to fetch: ['💬', '<a target=\"_blank\" href=\"https://huggingface.co/PeanutJar/Mistral-v0.1-PeanutButter-v0.0.5-SFT-7B-QLoRA\" style=\"color: var(--link-text-color); text-decoration: underline;text-decoration-style: dotted;\">PeanutJar/Mistral-v0.1-PeanutButter-v0.0.5-SFT-7B-QLoRA</a>  <a target=\"_blank\" href=\"https://huggingface.co/datasets/open-llm-leaderboard/details_PeanutJar__Mistral-v0.1-PeanutButter-v0.0.5-SFT-7B-QLoRA\" style=\"color: var(--link-text-color); text-decoration: underline;text-decoration-style: dotted;\">📑</a>', 58.24, 60.75, 84.24, 63.66, 44.94, 78.69, 17.13, 'chat models (RLHF, DPO, IFT, ...)', 'Unknown', 'Adapter', 'float16', False, '?', 7, 0, False, '2609363766acf308877a71aba352e60d7c044b49', False, False, 'PeanutJar/Mistral-v0.1-PeanutButter-v0.0.5-SFT-7B-QLoRA']\n"
     ]
    },
    {
     "name": "stderr",
     "output_type": "stream",
     "text": [
      "3150it [13:13,  3.32it/s]"
     ]
    },
    {
     "name": "stdout",
     "output_type": "stream",
     "text": [
      "Failed to fetch: ['🔶', '<a target=\"_blank\" href=\"https://huggingface.co/Weyaxi/Stellaris-internlm2-20b-r256\" style=\"color: var(--link-text-color); text-decoration: underline;text-decoration-style: dotted;\">Weyaxi/Stellaris-internlm2-20b-r256</a>  <a target=\"_blank\" href=\"https://huggingface.co/datasets/open-llm-leaderboard/details_Weyaxi__Stellaris-internlm2-20b-r256\" style=\"color: var(--link-text-color); text-decoration: underline;text-decoration-style: dotted;\">📑</a>', 57.93, 61.09, 82.22, 66.01, 51.81, 85.24, 1.21, 'fine-tuned on domain-specific datasets', 'LlamaForCausalLM', 'Original', 'bfloat16', False, 'other', 20, 0, False, 'd137609421ccbe34f0275a469e33dae3e931adf7', False, False, 'Weyaxi/Stellaris-internlm2-20b-r256']\n"
     ]
    },
    {
     "name": "stderr",
     "output_type": "stream",
     "text": [
      "3151it [13:13,  3.56it/s]"
     ]
    },
    {
     "name": "stdout",
     "output_type": "stream",
     "text": [
      "Failed to fetch: ['🔶', '<a target=\"_blank\" href=\"https://huggingface.co/Undi95/Llamix2-Xwin-MoE-4x13B\" style=\"color: var(--link-text-color); text-decoration: underline;text-decoration-style: dotted;\">Undi95/Llamix2-Xwin-MoE-4x13B</a>  <a target=\"_blank\" href=\"https://huggingface.co/datasets/open-llm-leaderboard/details_Undi95__Llamix2-Xwin-MoE-4x13B\" style=\"color: var(--link-text-color); text-decoration: underline;text-decoration-style: dotted;\">📑</a>', 57.93, 60.41, 82.96, 56.24, 39.63, 75.14, 33.21, 'fine-tuned on domain-specific datasets', 'Unknown', 'Original', 'float16', False, '?', 38.5, 0, False, '220833f87c233684e8a4b0e03126ffcdffce5229', False, True, 'Undi95/Llamix2-Xwin-MoE-4x13B']\n"
     ]
    },
    {
     "name": "stderr",
     "output_type": "stream",
     "text": [
      "3174it [13:20,  3.94it/s]"
     ]
    },
    {
     "name": "stdout",
     "output_type": "stream",
     "text": [
      "Failed to fetch: ['🔶', '<a target=\"_blank\" href=\"https://huggingface.co/Weyaxi/Stellaris-internlm2-20b-r128\" style=\"color: var(--link-text-color); text-decoration: underline;text-decoration-style: dotted;\">Weyaxi/Stellaris-internlm2-20b-r128</a>  <a target=\"_blank\" href=\"https://huggingface.co/datasets/open-llm-leaderboard/details_Weyaxi__Stellaris-internlm2-20b-r128\" style=\"color: var(--link-text-color); text-decoration: underline;text-decoration-style: dotted;\">📑</a>', 57.76, 61.26, 81.75, 65.67, 52.5, 85.24, 0.15, 'fine-tuned on domain-specific datasets', 'LlamaForCausalLM', 'Original', 'bfloat16', False, 'other', 20, 0, False, 'b63187a2a0489f0b6768efe4b8e28381c3bcf025', False, False, 'Weyaxi/Stellaris-internlm2-20b-r128']\n"
     ]
    },
    {
     "name": "stderr",
     "output_type": "stream",
     "text": [
      "3180it [13:21,  3.70it/s]"
     ]
    },
    {
     "name": "stdout",
     "output_type": "stream",
     "text": [
      "Failed to fetch: ['🔶', '<a target=\"_blank\" href=\"https://huggingface.co/ai-business/Luban-13B\" style=\"color: var(--link-text-color); text-decoration: underline;text-decoration-style: dotted;\">ai-business/Luban-13B</a>  <a target=\"_blank\" href=\"https://huggingface.co/datasets/open-llm-leaderboard/details_ai-business__Luban-13B\" style=\"color: var(--link-text-color); text-decoration: underline;text-decoration-style: dotted;\">📑</a>', 57.73, 63.05, 82.8, 58.73, 55.53, 76.56, 9.7, 'fine-tuned on domain-specific datasets', 'Unknown', 'Original', 'float16', False, '?', 12.85, 0, False, '01b0f2046083dd8d9d8f9e626d78d83eaa1d57dd', False, False, 'ai-business/Luban-13B']\n"
     ]
    },
    {
     "name": "stderr",
     "output_type": "stream",
     "text": [
      "3194it [13:25,  3.95it/s]"
     ]
    },
    {
     "name": "stdout",
     "output_type": "stream",
     "text": [
      "Failed to fetch: ['🔶', '<a target=\"_blank\" href=\"https://huggingface.co/ab24g21/LaterLlamaV2\" style=\"color: var(--link-text-color); text-decoration: underline;text-decoration-style: dotted;\">ab24g21/LaterLlamaV2</a>  <a target=\"_blank\" href=\"https://huggingface.co/datasets/open-llm-leaderboard/details_ab24g21__LaterLlamaV2\" style=\"color: var(--link-text-color); text-decoration: underline;text-decoration-style: dotted;\">📑</a>', 57.6, 59.04, 81.82, 54.53, 44.15, 76.09, 29.95, 'fine-tuned on domain-specific datasets', 'LlamaForCausalLM', 'Original', 'float16', False, 'apache-2.0', 13.02, 0, False, '66f0995de46d9407f1aa6baa185c6d03e7542ca1', False, False, 'ab24g21/LaterLlamaV2']\n"
     ]
    },
    {
     "name": "stderr",
     "output_type": "stream",
     "text": [
      "3202it [13:27,  4.49it/s]"
     ]
    },
    {
     "name": "stdout",
     "output_type": "stream",
     "text": [
      "Failed to fetch: ['🔶', '<a target=\"_blank\" href=\"https://huggingface.co/ab24g21/llama-2-new\" style=\"color: var(--link-text-color); text-decoration: underline;text-decoration-style: dotted;\">ab24g21/llama-2-new</a>  <a target=\"_blank\" href=\"https://huggingface.co/datasets/open-llm-leaderboard/details_ab24g21__llama-2-new\" style=\"color: var(--link-text-color); text-decoration: underline;text-decoration-style: dotted;\">📑</a>', 57.54, 58.7, 81.54, 54.59, 44.58, 76.09, 29.72, 'fine-tuned on domain-specific datasets', 'LlamaForCausalLM', 'Original', 'float16', False, 'apache-2.0', 0, 0, False, '663384b17e7156a858e2f8fdfd7e3ea4bdce105f', False, False, 'ab24g21/llama-2-new']\n"
     ]
    },
    {
     "name": "stderr",
     "output_type": "stream",
     "text": [
      "3209it [13:29,  4.51it/s]"
     ]
    },
    {
     "name": "stdout",
     "output_type": "stream",
     "text": [
      "Failed to fetch: ['🔶', '<a target=\"_blank\" href=\"https://huggingface.co/jilp00/SOLAR-10.7B-tutored\" style=\"color: var(--link-text-color); text-decoration: underline;text-decoration-style: dotted;\">jilp00/SOLAR-10.7B-tutored</a>  <a target=\"_blank\" href=\"https://huggingface.co/datasets/open-llm-leaderboard/details_jilp00__SOLAR-10.7B-tutored\" style=\"color: var(--link-text-color); text-decoration: underline;text-decoration-style: dotted;\">📑</a>', 57.49, 62.29, 82.24, 65.09, 55.13, 80.19, 0, 'fine-tuned on domain-specific datasets', 'Unknown', 'Original', 'float16', False, '?', 10.73, 0, False, '40e46542b4ec136c76f61008a942000ff030cddc', False, False, 'jilp00/SOLAR-10.7B-tutored']\n"
     ]
    },
    {
     "name": "stderr",
     "output_type": "stream",
     "text": [
      "3262it [13:42,  4.50it/s]"
     ]
    },
    {
     "name": "stdout",
     "output_type": "stream",
     "text": [
      "Failed to fetch: ['🔶', '<a target=\"_blank\" href=\"https://huggingface.co/DangFutures/BIG_DANG_BOT\" style=\"color: var(--link-text-color); text-decoration: underline;text-decoration-style: dotted;\">DangFutures/BIG_DANG_BOT</a>  <a target=\"_blank\" href=\"https://huggingface.co/datasets/open-llm-leaderboard/details_DangFutures__BIG_DANG_BOT\" style=\"color: var(--link-text-color); text-decoration: underline;text-decoration-style: dotted;\">📑</a>', 57.06, 60.32, 82.02, 70.02, 49.07, 80.9, 0, 'fine-tuned on domain-specific datasets', 'MixtralForCausalLM', 'Original', 'float16', False, 'apache-2.0', 46.7, 0, False, 'b97d945f17c9e41dbe1809210c8f818b1cecca7c', False, False, 'DangFutures/BIG_DANG_BOT']\n"
     ]
    },
    {
     "name": "stderr",
     "output_type": "stream",
     "text": [
      "3271it [13:45,  3.34it/s]"
     ]
    },
    {
     "name": "stdout",
     "output_type": "stream",
     "text": [
      "Failed to fetch: ['🔶', '<a target=\"_blank\" href=\"https://huggingface.co/MisterRid/wendigo-14b-alpha2\" style=\"color: var(--link-text-color); text-decoration: underline;text-decoration-style: dotted;\">MisterRid/wendigo-14b-alpha2</a>  <a target=\"_blank\" href=\"https://huggingface.co/datasets/open-llm-leaderboard/details_MisterRid__wendigo-14b-alpha2\" style=\"color: var(--link-text-color); text-decoration: underline;text-decoration-style: dotted;\">📑</a>', 57.02, 56.66, 77.19, 58, 53.71, 73.64, 22.9, 'fine-tuned on domain-specific datasets', 'Unknown', 'Original', 'bfloat16', False, '?', 14.22, 0, False, 'f8332eddcb7f8ab2b5195486d4b508c4628992f6', False, False, 'MisterRid/wendigo-14b-alpha2']\n"
     ]
    },
    {
     "name": "stderr",
     "output_type": "stream",
     "text": [
      "3273it [13:45,  3.86it/s]"
     ]
    },
    {
     "name": "stdout",
     "output_type": "stream",
     "text": [
      "Failed to fetch: ['🔶', '<a target=\"_blank\" href=\"https://huggingface.co/MisterRid/wendigo-14b-alpha1\" style=\"color: var(--link-text-color); text-decoration: underline;text-decoration-style: dotted;\">MisterRid/wendigo-14b-alpha1</a>  <a target=\"_blank\" href=\"https://huggingface.co/datasets/open-llm-leaderboard/details_MisterRid__wendigo-14b-alpha1\" style=\"color: var(--link-text-color); text-decoration: underline;text-decoration-style: dotted;\">📑</a>', 57.01, 56.48, 77.2, 57.83, 53.76, 73.01, 23.81, 'fine-tuned on domain-specific datasets', 'Unknown', 'Original', 'bfloat16', False, '?', 14.22, 0, False, '0024ee75d8ed5d9373ff42df72c21f3217ba9d2e', False, False, 'MisterRid/wendigo-14b-alpha1']\n"
     ]
    },
    {
     "name": "stderr",
     "output_type": "stream",
     "text": [
      "3284it [13:48,  3.99it/s]"
     ]
    },
    {
     "name": "stdout",
     "output_type": "stream",
     "text": [
      "Failed to fetch: ['🟢', '<a target=\"_blank\" href=\"https://huggingface.co/huggingface/llama-30b\" style=\"color: var(--link-text-color); text-decoration: underline;text-decoration-style: dotted;\">huggingface/llama-30b</a>  <a target=\"_blank\" href=\"https://huggingface.co/datasets/open-llm-leaderboard/details_huggingface__llama-30b\" style=\"color: var(--link-text-color); text-decoration: underline;text-decoration-style: dotted;\">📑</a>', 56.94, 61.26, 84.73, 58.47, 42.27, 80.03, 14.86, 'pretrained', 'LlamaForCausalLM', 'Original', 'float16', False, 'other', 32.53, 0, False, '13c77caa472bfa79d4f3f0ec82cbdc9dd88e5d22', False, False, 'huggingface/llama-30b']\n"
     ]
    },
    {
     "name": "stderr",
     "output_type": "stream",
     "text": [
      "3294it [13:51,  3.57it/s]"
     ]
    },
    {
     "name": "stdout",
     "output_type": "stream",
     "text": [
      "Failed to fetch: ['🔶', '<a target=\"_blank\" href=\"https://huggingface.co/Undi95/ReMM-Mistral-13B\" style=\"color: var(--link-text-color); text-decoration: underline;text-decoration-style: dotted;\">Undi95/ReMM-Mistral-13B</a>  <a target=\"_blank\" href=\"https://huggingface.co/datasets/open-llm-leaderboard/details_Undi95__ReMM-Mistral-13B\" style=\"color: var(--link-text-color); text-decoration: underline;text-decoration-style: dotted;\">📑</a>', 56.89, 62.2, 83.82, 55.43, 53.32, 74.51, 12.05, 'fine-tuned on domain-specific datasets', 'Unknown', 'Original', 'float16', False, '?', 12.85, 0, False, 'a5ef9385d9430a81778183d71b58eb2b869d6a7e', False, False, 'Undi95/ReMM-Mistral-13B']\n"
     ]
    },
    {
     "name": "stderr",
     "output_type": "stream",
     "text": [
      "3320it [13:58,  3.44it/s]"
     ]
    },
    {
     "name": "stdout",
     "output_type": "stream",
     "text": [
      "Failed to fetch: ['🔶', '<a target=\"_blank\" href=\"https://huggingface.co/Undi95/Amethyst-13B-Mistral\" style=\"color: var(--link-text-color); text-decoration: underline;text-decoration-style: dotted;\">Undi95/Amethyst-13B-Mistral</a>  <a target=\"_blank\" href=\"https://huggingface.co/datasets/open-llm-leaderboard/details_Undi95__Amethyst-13B-Mistral\" style=\"color: var(--link-text-color); text-decoration: underline;text-decoration-style: dotted;\">📑</a>', 56.62, 62.63, 83.17, 55.91, 52.43, 74.74, 10.84, 'fine-tuned on domain-specific datasets', 'Unknown', 'Original', 'float16', False, '?', 12.85, 0, False, '4328809e568f01e3f0a05764e3bb58e901310415', False, False, 'Undi95/Amethyst-13B-Mistral']\n"
     ]
    },
    {
     "name": "stderr",
     "output_type": "stream",
     "text": [
      "3334it [14:02,  4.43it/s]"
     ]
    },
    {
     "name": "stdout",
     "output_type": "stream",
     "text": [
      "Failed to fetch: ['🔶', '<a target=\"_blank\" href=\"https://huggingface.co/bn22/DolphinMini-Mistral-7B\" style=\"color: var(--link-text-color); text-decoration: underline;text-decoration-style: dotted;\">bn22/DolphinMini-Mistral-7B</a>  <a target=\"_blank\" href=\"https://huggingface.co/datasets/open-llm-leaderboard/details_bn22__DolphinMini-Mistral-7B\" style=\"color: var(--link-text-color); text-decoration: underline;text-decoration-style: dotted;\">📑</a>', 56.53, 61.18, 84.25, 61.94, 52.34, 79.32, 0.15, 'fine-tuned on domain-specific datasets', 'MistralForCausalLM', 'Original', 'float16', False, 'apache-2.0', 7.24, 0, False, '16ddf12ee58e71664f7e76551294ba54794c7903', False, False, 'bn22/DolphinMini-Mistral-7B']\n"
     ]
    },
    {
     "name": "stderr",
     "output_type": "stream",
     "text": [
      "3335it [14:02,  3.37it/s]"
     ]
    },
    {
     "name": "stdout",
     "output_type": "stream",
     "text": [
      "Failed to fetch: ['💬', '<a target=\"_blank\" href=\"https://huggingface.co/pansophic/new_model_test3\" style=\"color: var(--link-text-color); text-decoration: underline;text-decoration-style: dotted;\">pansophic/new_model_test3</a>  <a target=\"_blank\" href=\"https://huggingface.co/datasets/open-llm-leaderboard/details_pansophic__new_model_test3\" style=\"color: var(--link-text-color); text-decoration: underline;text-decoration-style: dotted;\">📑</a>', 56.52, 51.79, 78.61, 49.14, 46.89, 70.48, 42.23, 'chat models (RLHF, DPO, IFT, ...)', 'StableLmForCausalLM', 'Original', 'bfloat16', False, 'other', 0, 0, False, '5fc0394d59ea72784285eeb2252411b88e9b6d9d', False, False, 'pansophic/new_model_test3']\n"
     ]
    },
    {
     "name": "stderr",
     "output_type": "stream",
     "text": [
      "3346it [14:06,  2.87it/s]"
     ]
    },
    {
     "name": "stdout",
     "output_type": "stream",
     "text": [
      "Failed to fetch: ['🔶', '<a target=\"_blank\" href=\"https://huggingface.co/jefferylovely/AiMaven-Orca2\" style=\"color: var(--link-text-color); text-decoration: underline;text-decoration-style: dotted;\">jefferylovely/AiMaven-Orca2</a>  <a target=\"_blank\" href=\"https://huggingface.co/datasets/open-llm-leaderboard/details_jefferylovely__AiMaven-Orca2\" style=\"color: var(--link-text-color); text-decoration: underline;text-decoration-style: dotted;\">📑</a>', 56.45, 54.69, 79, 54.61, 53.43, 74.35, 22.59, 'fine-tuned on domain-specific datasets', 'LlamaForCausalLM', 'Original', 'float16', False, '?', 13.02, 0, False, 'fbba65dad747e1461c2b024fe6cc690a3b20db24', False, False, 'jefferylovely/AiMaven-Orca2']\n"
     ]
    },
    {
     "name": "stderr",
     "output_type": "stream",
     "text": [
      "3363it [14:10,  4.42it/s]"
     ]
    },
    {
     "name": "stdout",
     "output_type": "stream",
     "text": [
      "Failed to fetch: ['🔶', '<a target=\"_blank\" href=\"https://huggingface.co/iGenius-AI-Team/LLAMA-13B-test-finetuning\" style=\"color: var(--link-text-color); text-decoration: underline;text-decoration-style: dotted;\">iGenius-AI-Team/LLAMA-13B-test-finetuning</a>  <a target=\"_blank\" href=\"https://huggingface.co/datasets/open-llm-leaderboard/details_iGenius-AI-Team__LLAMA-13B-test-finetuning\" style=\"color: var(--link-text-color); text-decoration: underline;text-decoration-style: dotted;\">📑</a>', 56.34, 58.02, 82.36, 54.27, 44.14, 76.72, 22.52, 'fine-tuned on domain-specific datasets', 'Unknown', 'Original', 'bfloat16', False, '?', 13.02, 0, False, '5bd0eb026b12c59fd198f307c0c17188af69744c', False, False, 'iGenius-AI-Team/LLAMA-13B-test-finetuning']\n"
     ]
    },
    {
     "name": "stderr",
     "output_type": "stream",
     "text": [
      "3371it [14:12,  4.55it/s]"
     ]
    },
    {
     "name": "stdout",
     "output_type": "stream",
     "text": [
      "Failed to fetch: ['🔶', '<a target=\"_blank\" href=\"https://huggingface.co/BFauber/lora_llama2-13b_10e5_r8_a16\" style=\"color: var(--link-text-color); text-decoration: underline;text-decoration-style: dotted;\">BFauber/lora_llama2-13b_10e5_r8_a16</a>  <a target=\"_blank\" href=\"https://huggingface.co/datasets/open-llm-leaderboard/details_BFauber__lora_llama2-13b_10e5_r8_a16\" style=\"color: var(--link-text-color); text-decoration: underline;text-decoration-style: dotted;\">📑</a>', 56.23, 59.73, 82.3, 55.73, 37.95, 77.11, 24.56, 'fine-tuned on domain-specific datasets', '?', 'Adapter', 'float16', False, 'apache-2.0', 13, 0, False, 'afa40d22d578e631c90017ae0cc67734d6f0b5d8', False, False, 'BFauber/lora_llama2-13b_10e5_r8_a16']\n"
     ]
    },
    {
     "name": "stderr",
     "output_type": "stream",
     "text": [
      "3376it [14:13,  4.61it/s]"
     ]
    },
    {
     "name": "stdout",
     "output_type": "stream",
     "text": [
      "Failed to fetch: ['💬', '<a target=\"_blank\" href=\"https://huggingface.co/maywell/Synatra-11B-Testbench\" style=\"color: var(--link-text-color); text-decoration: underline;text-decoration-style: dotted;\">maywell/Synatra-11B-Testbench</a>  <a target=\"_blank\" href=\"https://huggingface.co/datasets/open-llm-leaderboard/details_maywell__Synatra-11B-Testbench\" style=\"color: var(--link-text-color); text-decoration: underline;text-decoration-style: dotted;\">📑</a>', 56.17, 57.34, 78.66, 55.56, 51.97, 75.77, 17.74, 'chat models (RLHF, DPO, IFT, ...)', 'Unknown', 'Original', 'float16', False, '?', 11, 0, False, '9399ea6c2a1d955e31d6b4d68b2b86115aea0e59', False, False, 'maywell/Synatra-11B-Testbench']\n"
     ]
    },
    {
     "name": "stderr",
     "output_type": "stream",
     "text": [
      "3380it [14:14,  4.02it/s]"
     ]
    },
    {
     "name": "stdout",
     "output_type": "stream",
     "text": [
      "Failed to fetch: ['🔶', '<a target=\"_blank\" href=\"https://huggingface.co/BFauber/lora_llama2-13b_10e5_r128_a16\" style=\"color: var(--link-text-color); text-decoration: underline;text-decoration-style: dotted;\">BFauber/lora_llama2-13b_10e5_r128_a16</a>  <a target=\"_blank\" href=\"https://huggingface.co/datasets/open-llm-leaderboard/details_BFauber__lora_llama2-13b_10e5_r128_a16\" style=\"color: var(--link-text-color); text-decoration: underline;text-decoration-style: dotted;\">📑</a>', 56.16, 59.9, 82.31, 55.59, 38.22, 77.03, 23.88, 'fine-tuned on domain-specific datasets', '?', 'Adapter', 'float16', False, 'apache-2.0', 13, 0, False, '6e8f872757721020c2ae983b6e186fe36105ef2d', False, False, 'BFauber/lora_llama2-13b_10e5_r128_a16']\n"
     ]
    },
    {
     "name": "stderr",
     "output_type": "stream",
     "text": [
      "3386it [14:16,  4.06it/s]"
     ]
    },
    {
     "name": "stdout",
     "output_type": "stream",
     "text": [
      "Failed to fetch: ['🔶', '<a target=\"_blank\" href=\"https://huggingface.co/BFauber/lora_llama2-13b_10e5_r32_a16\" style=\"color: var(--link-text-color); text-decoration: underline;text-decoration-style: dotted;\">BFauber/lora_llama2-13b_10e5_r32_a16</a>  <a target=\"_blank\" href=\"https://huggingface.co/datasets/open-llm-leaderboard/details_BFauber__lora_llama2-13b_10e5_r32_a16\" style=\"color: var(--link-text-color); text-decoration: underline;text-decoration-style: dotted;\">📑</a>', 56.14, 59.9, 82.33, 55.67, 38.3, 77.03, 23.58, 'fine-tuned on domain-specific datasets', '?', 'Adapter', 'float16', False, 'apache-2.0', 13, 0, False, '5cae6af3eb89c28c8cd90322685dd4d0235d9946', False, False, 'BFauber/lora_llama2-13b_10e5_r32_a16']\n"
     ]
    },
    {
     "name": "stderr",
     "output_type": "stream",
     "text": [
      "3390it [14:17,  3.19it/s]"
     ]
    },
    {
     "name": "stdout",
     "output_type": "stream",
     "text": [
      "Failed to fetch: ['🔶', '<a target=\"_blank\" href=\"https://huggingface.co/BFauber/lora_llama2-13b_10e5_r8_a4\" style=\"color: var(--link-text-color); text-decoration: underline;text-decoration-style: dotted;\">BFauber/lora_llama2-13b_10e5_r8_a4</a>  <a target=\"_blank\" href=\"https://huggingface.co/datasets/open-llm-leaderboard/details_BFauber__lora_llama2-13b_10e5_r8_a4\" style=\"color: var(--link-text-color); text-decoration: underline;text-decoration-style: dotted;\">📑</a>', 56.1, 59.9, 82.47, 55.47, 38.04, 77.03, 23.65, 'fine-tuned on domain-specific datasets', '?', 'Adapter', 'float16', False, 'apache-2.0', 13, 0, False, '8793eb75fb25d1cbbcd2811cbbe8f571291f2bdd', False, False, 'BFauber/lora_llama2-13b_10e5_r8_a4']\n"
     ]
    },
    {
     "name": "stderr",
     "output_type": "stream",
     "text": [
      "3392it [14:17,  3.33it/s]"
     ]
    },
    {
     "name": "stdout",
     "output_type": "stream",
     "text": [
      "Failed to fetch: ['🔶', '<a target=\"_blank\" href=\"https://huggingface.co/BFauber/lora_llama2-13b_10e4\" style=\"color: var(--link-text-color); text-decoration: underline;text-decoration-style: dotted;\">BFauber/lora_llama2-13b_10e4</a>  <a target=\"_blank\" href=\"https://huggingface.co/datasets/open-llm-leaderboard/details_BFauber__lora_llama2-13b_10e4\" style=\"color: var(--link-text-color); text-decoration: underline;text-decoration-style: dotted;\">📑</a>', 56.08, 60.07, 82.45, 55.37, 38.52, 76.95, 23.12, 'fine-tuned on domain-specific datasets', '?', 'Adapter', 'float16', False, 'apache-2.0', 13, 0, False, 'dbe93078c2e3b8744ca4fc6fbba9fa1f43dd6dcd', False, False, 'BFauber/lora_llama2-13b_10e4']\n"
     ]
    },
    {
     "name": "stderr",
     "output_type": "stream",
     "text": [
      "3395it [14:18,  4.03it/s]"
     ]
    },
    {
     "name": "stdout",
     "output_type": "stream",
     "text": [
      "Failed to fetch: ['🔶', '<a target=\"_blank\" href=\"https://huggingface.co/aboros98/g8s-preview\" style=\"color: var(--link-text-color); text-decoration: underline;text-decoration-style: dotted;\">aboros98/g8s-preview</a>  <a target=\"_blank\" href=\"https://huggingface.co/datasets/open-llm-leaderboard/details_aboros98__g8s-preview\" style=\"color: var(--link-text-color); text-decoration: underline;text-decoration-style: dotted;\">📑</a>', 56.04, 49.74, 72.27, 54.85, 52.49, 67.48, 39.42, 'fine-tuned on domain-specific datasets', 'Qwen2ForCausalLM', 'Original', 'bfloat16', False, 'other', 0, 0, False, '64f2e6fd94015d09f6a0e9e5b791cac76828aa2a', False, False, 'aboros98/g8s-preview']\n"
     ]
    },
    {
     "name": "stderr",
     "output_type": "stream",
     "text": [
      "3396it [14:18,  4.14it/s]"
     ]
    },
    {
     "name": "stdout",
     "output_type": "stream",
     "text": [
      "Failed to fetch: ['🔶', '<a target=\"_blank\" href=\"https://huggingface.co/BFauber/lora_llama2-13b_10e5_r2_a4\" style=\"color: var(--link-text-color); text-decoration: underline;text-decoration-style: dotted;\">BFauber/lora_llama2-13b_10e5_r2_a4</a>  <a target=\"_blank\" href=\"https://huggingface.co/datasets/open-llm-leaderboard/details_BFauber__lora_llama2-13b_10e5_r2_a4\" style=\"color: var(--link-text-color); text-decoration: underline;text-decoration-style: dotted;\">📑</a>', 56.03, 59.98, 82.37, 55.42, 38.14, 76.56, 23.73, 'fine-tuned on domain-specific datasets', '?', 'Adapter', 'float16', False, 'apache-2.0', 13, 0, False, '7253a71f780be10eb6c3590bf484cfe0975c3a4c', False, False, 'BFauber/lora_llama2-13b_10e5_r2_a4']\n"
     ]
    },
    {
     "name": "stderr",
     "output_type": "stream",
     "text": [
      "3411it [14:23,  4.03it/s]"
     ]
    },
    {
     "name": "stdout",
     "output_type": "stream",
     "text": [
      "Failed to fetch: ['🔶', '<a target=\"_blank\" href=\"https://huggingface.co/BFauber/lora_llama2-13b_10e5_r2_a64\" style=\"color: var(--link-text-color); text-decoration: underline;text-decoration-style: dotted;\">BFauber/lora_llama2-13b_10e5_r2_a64</a>  <a target=\"_blank\" href=\"https://huggingface.co/datasets/open-llm-leaderboard/details_BFauber__lora_llama2-13b_10e5_r2_a64\" style=\"color: var(--link-text-color); text-decoration: underline;text-decoration-style: dotted;\">📑</a>', 55.95, 60.07, 82, 55.18, 37.41, 76.87, 24.18, 'fine-tuned on domain-specific datasets', '?', 'Adapter', 'float16', False, 'apache-2.0', 13, 0, False, '5249d8dde98eccf4671d89a8e1fd7504edb1464e', False, False, 'BFauber/lora_llama2-13b_10e5_r2_a64']\n"
     ]
    },
    {
     "name": "stderr",
     "output_type": "stream",
     "text": [
      "3418it [14:26,  2.75it/s]"
     ]
    },
    {
     "name": "stdout",
     "output_type": "stream",
     "text": [
      "Failed to fetch: ['🔶', '<a target=\"_blank\" href=\"https://huggingface.co/BFauber/lora_llama2-13b_10e5_r2_a16\" style=\"color: var(--link-text-color); text-decoration: underline;text-decoration-style: dotted;\">BFauber/lora_llama2-13b_10e5_r2_a16</a>  <a target=\"_blank\" href=\"https://huggingface.co/datasets/open-llm-leaderboard/details_BFauber__lora_llama2-13b_10e5_r2_a16\" style=\"color: var(--link-text-color); text-decoration: underline;text-decoration-style: dotted;\">📑</a>', 55.92, 59.73, 82.38, 55.27, 38.66, 76.64, 22.82, 'fine-tuned on domain-specific datasets', '?', 'Adapter', 'float16', False, 'apache-2.0', 13, 0, False, 'f470726821c72a58bb400e2dc3a5571f8f650a79', False, False, 'BFauber/lora_llama2-13b_10e5_r2_a16']\n"
     ]
    },
    {
     "name": "stderr",
     "output_type": "stream",
     "text": [
      "3419it [14:26,  3.13it/s]"
     ]
    },
    {
     "name": "stdout",
     "output_type": "stream",
     "text": [
      "Failed to fetch: ['🔶', '<a target=\"_blank\" href=\"https://huggingface.co/BFauber/lora_llama2-13b_10e5_r32_a4\" style=\"color: var(--link-text-color); text-decoration: underline;text-decoration-style: dotted;\">BFauber/lora_llama2-13b_10e5_r32_a4</a>  <a target=\"_blank\" href=\"https://huggingface.co/datasets/open-llm-leaderboard/details_BFauber__lora_llama2-13b_10e5_r32_a4\" style=\"color: var(--link-text-color); text-decoration: underline;text-decoration-style: dotted;\">📑</a>', 55.91, 59.81, 82.42, 55.56, 38.13, 76.87, 22.67, 'fine-tuned on domain-specific datasets', '?', 'Adapter', 'float16', False, 'apache-2.0', 13, 0, False, 'd4d0d9ed2124d79d9e5cbda8ebf45528c4f1e32d', False, False, 'BFauber/lora_llama2-13b_10e5_r32_a4']\n"
     ]
    },
    {
     "name": "stderr",
     "output_type": "stream",
     "text": [
      "3420it [14:26,  3.51it/s]"
     ]
    },
    {
     "name": "stdout",
     "output_type": "stream",
     "text": [
      "Failed to fetch: ['🔶', '<a target=\"_blank\" href=\"https://huggingface.co/BFauber/lora_llama2-13b_10e5_r128_a4\" style=\"color: var(--link-text-color); text-decoration: underline;text-decoration-style: dotted;\">BFauber/lora_llama2-13b_10e5_r128_a4</a>  <a target=\"_blank\" href=\"https://huggingface.co/datasets/open-llm-leaderboard/details_BFauber__lora_llama2-13b_10e5_r128_a4\" style=\"color: var(--link-text-color); text-decoration: underline;text-decoration-style: dotted;\">📑</a>', 55.91, 59.9, 82.43, 55.44, 38.05, 76.8, 22.82, 'fine-tuned on domain-specific datasets', '?', 'Adapter', 'float16', False, 'apache-2.0', 13, 0, False, '029666001d8c6be175e42206969a593a4a3f4cb5', False, False, 'BFauber/lora_llama2-13b_10e5_r128_a4']\n"
     ]
    },
    {
     "name": "stderr",
     "output_type": "stream",
     "text": [
      "3427it [14:28,  3.20it/s]"
     ]
    },
    {
     "name": "stdout",
     "output_type": "stream",
     "text": [
      "Failed to fetch: ['🔶', '<a target=\"_blank\" href=\"https://huggingface.co/namirocks/tutor-model-13b-ep3\" style=\"color: var(--link-text-color); text-decoration: underline;text-decoration-style: dotted;\">namirocks/tutor-model-13b-ep3</a>  <a target=\"_blank\" href=\"https://huggingface.co/datasets/open-llm-leaderboard/details_namirocks__tutor-model-13b-ep3\" style=\"color: var(--link-text-color); text-decoration: underline;text-decoration-style: dotted;\">📑</a>', 55.88, 57.34, 81.51, 57.02, 52.99, 74.35, 12.05, 'fine-tuned on domain-specific datasets', 'LlamaForCausalLM', 'Original', 'float16', False, 'mit', 13, 0, False, '714f04010ca1c3d72bbeead4a14695576ad36a88', False, False, 'namirocks/tutor-model-13b-ep3']\n"
     ]
    },
    {
     "name": "stderr",
     "output_type": "stream",
     "text": [
      "3434it [14:30,  4.07it/s]"
     ]
    },
    {
     "name": "stdout",
     "output_type": "stream",
     "text": [
      "Failed to fetch: ['🔶', '<a target=\"_blank\" href=\"https://huggingface.co/BFauber/lora_llama2-13b_10e5_attn_only\" style=\"color: var(--link-text-color); text-decoration: underline;text-decoration-style: dotted;\">BFauber/lora_llama2-13b_10e5_attn_only</a>  <a target=\"_blank\" href=\"https://huggingface.co/datasets/open-llm-leaderboard/details_BFauber__lora_llama2-13b_10e5_attn_only\" style=\"color: var(--link-text-color); text-decoration: underline;text-decoration-style: dotted;\">📑</a>', 55.85, 60.75, 82.09, 55.52, 38.16, 75.85, 22.74, 'fine-tuned on domain-specific datasets', '?', 'Adapter', 'float16', False, 'apache-2.0', 13, 0, False, '0ecc726751e2e07255ac4cab41040bbf24321042', False, False, 'BFauber/lora_llama2-13b_10e5_attn_only']\n"
     ]
    },
    {
     "name": "stderr",
     "output_type": "stream",
     "text": [
      "3438it [14:31,  4.13it/s]"
     ]
    },
    {
     "name": "stdout",
     "output_type": "stream",
     "text": [
      "Failed to fetch: ['🔶', '<a target=\"_blank\" href=\"https://huggingface.co/Weyaxi/very-test\" style=\"color: var(--link-text-color); text-decoration: underline;text-decoration-style: dotted;\">Weyaxi/very-test</a>  <a target=\"_blank\" href=\"https://huggingface.co/datasets/open-llm-leaderboard/details_Weyaxi__very-test\" style=\"color: var(--link-text-color); text-decoration: underline;text-decoration-style: dotted;\">📑</a>', 55.8, 63.91, 81.71, 62.89, 44.28, 78.69, 3.34, 'fine-tuned on domain-specific datasets', 'MistralForCausalLM', 'Original', 'bfloat16', False, 'other', 7.24, 0, False, '198a56764da3541778771d7882b6facf3debb107', False, False, 'Weyaxi/very-test']\n"
     ]
    },
    {
     "name": "stderr",
     "output_type": "stream",
     "text": [
      "3447it [14:33,  4.48it/s]"
     ]
    },
    {
     "name": "stdout",
     "output_type": "stream",
     "text": [
      "Failed to fetch: ['🔶', '<a target=\"_blank\" href=\"https://huggingface.co/Abhaykoul/vortex2\" style=\"color: var(--link-text-color); text-decoration: underline;text-decoration-style: dotted;\">Abhaykoul/vortex2</a>  <a target=\"_blank\" href=\"https://huggingface.co/datasets/open-llm-leaderboard/details_Abhaykoul__vortex2\" style=\"color: var(--link-text-color); text-decoration: underline;text-decoration-style: dotted;\">📑</a>', 55.74, 50.68, 76.72, 47.11, 55.83, 67.64, 36.47, 'fine-tuned on domain-specific datasets', 'StableLmForCausalLM', 'Original', 'float16', False, 'other', 2.8, 0, False, '7521183a05815492532f1da972657f06912e406c', False, False, 'Abhaykoul/vortex2']\n"
     ]
    },
    {
     "name": "stderr",
     "output_type": "stream",
     "text": [
      "3452it [14:35,  3.94it/s]"
     ]
    },
    {
     "name": "stdout",
     "output_type": "stream",
     "text": [
      "Failed to fetch: ['🔶', '<a target=\"_blank\" href=\"https://huggingface.co/BFauber/lora_llama2-13b_10e5_r128_a64\" style=\"color: var(--link-text-color); text-decoration: underline;text-decoration-style: dotted;\">BFauber/lora_llama2-13b_10e5_r128_a64</a>  <a target=\"_blank\" href=\"https://huggingface.co/datasets/open-llm-leaderboard/details_BFauber__lora_llama2-13b_10e5_r128_a64\" style=\"color: var(--link-text-color); text-decoration: underline;text-decoration-style: dotted;\">📑</a>', 55.69, 59.04, 82.27, 55.54, 37.2, 76.72, 23.35, 'fine-tuned on domain-specific datasets', '?', 'Adapter', 'float16', False, 'apache-2.0', 13, 0, False, '6446e661b63b07af1c57b623de637ca1c6fcb7b5', False, False, 'BFauber/lora_llama2-13b_10e5_r128_a64']\n"
     ]
    },
    {
     "name": "stderr",
     "output_type": "stream",
     "text": [
      "3453it [14:35,  4.09it/s]"
     ]
    },
    {
     "name": "stdout",
     "output_type": "stream",
     "text": [
      "Failed to fetch: ['🟢', '<a target=\"_blank\" href=\"https://huggingface.co/meta-llama/Llama-2-13b-hf\" style=\"color: var(--link-text-color); text-decoration: underline;text-decoration-style: dotted;\">meta-llama/Llama-2-13b-hf</a>  <a target=\"_blank\" href=\"https://huggingface.co/datasets/open-llm-leaderboard/details_meta-llama__Llama-2-13b-hf\" style=\"color: var(--link-text-color); text-decoration: underline;text-decoration-style: dotted;\">📑</a>', 55.69, 59.39, 82.13, 55.77, 37.38, 76.64, 22.82, 'pretrained', 'LlamaForCausalLM', 'Original', 'float16', False, None, 13.02, 529, True, '7da18fb10421c3ae2a1eb92815bad75e84816e35', False, False, 'meta-llama/Llama-2-13b-hf']\n"
     ]
    },
    {
     "name": "stderr",
     "output_type": "stream",
     "text": [
      "3456it [14:36,  2.94it/s]"
     ]
    },
    {
     "name": "stdout",
     "output_type": "stream",
     "text": [
      "Failed to fetch: ['🔶', '<a target=\"_blank\" href=\"https://huggingface.co/BFauber/lora_llama2-13b_10e5\" style=\"color: var(--link-text-color); text-decoration: underline;text-decoration-style: dotted;\">BFauber/lora_llama2-13b_10e5</a>  <a target=\"_blank\" href=\"https://huggingface.co/datasets/open-llm-leaderboard/details_BFauber__lora_llama2-13b_10e5\" style=\"color: var(--link-text-color); text-decoration: underline;text-decoration-style: dotted;\">📑</a>', 55.67, 59.22, 82.41, 55.67, 37.65, 76.95, 22.14, 'fine-tuned on domain-specific datasets', '?', 'Adapter', 'float16', False, 'apache-2.0', 13, 0, False, 'e3ba7c482d57dfe65e52a27b21d75a1da59230f5', False, False, 'BFauber/lora_llama2-13b_10e5']\n"
     ]
    },
    {
     "name": "stderr",
     "output_type": "stream",
     "text": [
      "3463it [14:38,  3.38it/s]"
     ]
    },
    {
     "name": "stdout",
     "output_type": "stream",
     "text": [
      "Failed to fetch: ['🔶', '<a target=\"_blank\" href=\"https://huggingface.co/Weyaxi/a\" style=\"color: var(--link-text-color); text-decoration: underline;text-decoration-style: dotted;\">Weyaxi/a</a>  <a target=\"_blank\" href=\"https://huggingface.co/datasets/open-llm-leaderboard/details_Weyaxi__a\" style=\"color: var(--link-text-color); text-decoration: underline;text-decoration-style: dotted;\">📑</a>', 55.61, 63.48, 86.49, 56.76, 44.55, 82.4, 0, 'fine-tuned on domain-specific datasets', 'LlamaForCausalLM', 'Original', 'bfloat16', False, 'cc-by-nc-4.0', 10.73, 0, False, 'dc60deab5bfc4c39904c23e6a5fd545b38301d5f', False, False, 'Weyaxi/a']\n"
     ]
    },
    {
     "name": "stderr",
     "output_type": "stream",
     "text": [
      "3464it [14:38,  3.64it/s]"
     ]
    },
    {
     "name": "stdout",
     "output_type": "stream",
     "text": [
      "Failed to fetch: ['🔶', '<a target=\"_blank\" href=\"https://huggingface.co/BFauber/lora_llama2-13b_10e5_r32_a64\" style=\"color: var(--link-text-color); text-decoration: underline;text-decoration-style: dotted;\">BFauber/lora_llama2-13b_10e5_r32_a64</a>  <a target=\"_blank\" href=\"https://huggingface.co/datasets/open-llm-leaderboard/details_BFauber__lora_llama2-13b_10e5_r32_a64\" style=\"color: var(--link-text-color); text-decoration: underline;text-decoration-style: dotted;\">📑</a>', 55.61, 58.96, 82.31, 55.23, 37.41, 76.72, 23.05, 'fine-tuned on domain-specific datasets', '?', 'Adapter', 'float16', False, 'apache-2.0', 13, 0, False, 'a2f587f367c78e478713c2eedeb99b2d343ad9f1', False, False, 'BFauber/lora_llama2-13b_10e5_r32_a64']\n"
     ]
    },
    {
     "name": "stderr",
     "output_type": "stream",
     "text": [
      "3467it [14:39,  3.07it/s]"
     ]
    },
    {
     "name": "stdout",
     "output_type": "stream",
     "text": [
      "Failed to fetch: ['🟢', '<a target=\"_blank\" href=\"https://huggingface.co/Abhaykoul/HelpingAI-3B\" style=\"color: var(--link-text-color); text-decoration: underline;text-decoration-style: dotted;\">Abhaykoul/HelpingAI-3B</a>  <a target=\"_blank\" href=\"https://huggingface.co/datasets/open-llm-leaderboard/details_Abhaykoul__HelpingAI-3B\" style=\"color: var(--link-text-color); text-decoration: underline;text-decoration-style: dotted;\">📑</a>', 55.59, 50.6, 76.64, 46.82, 55.62, 67.8, 36.09, 'pretrained', 'StableLmForCausalLM', 'Original', 'float16', False, 'mit', 2.8, 0, False, '945820ba0c6e153601f477d29eb70661f2af58b1', False, False, 'Abhaykoul/HelpingAI-3B']\n"
     ]
    },
    {
     "name": "stderr",
     "output_type": "stream",
     "text": [
      "3482it [14:43,  4.40it/s]"
     ]
    },
    {
     "name": "stdout",
     "output_type": "stream",
     "text": [
      "Failed to fetch: ['🔶', '<a target=\"_blank\" href=\"https://huggingface.co/BFauber/lora_llama2-13b_10e5_r8_a64\" style=\"color: var(--link-text-color); text-decoration: underline;text-decoration-style: dotted;\">BFauber/lora_llama2-13b_10e5_r8_a64</a>  <a target=\"_blank\" href=\"https://huggingface.co/datasets/open-llm-leaderboard/details_BFauber__lora_llama2-13b_10e5_r8_a64\" style=\"color: var(--link-text-color); text-decoration: underline;text-decoration-style: dotted;\">📑</a>', 55.45, 59.56, 82.18, 55.32, 37.08, 76.16, 22.37, 'fine-tuned on domain-specific datasets', '?', 'Adapter', 'float16', False, 'apache-2.0', 13, 0, False, '337b96d91b5323b1e4dc0775bccb08f5ae6928ea', False, False, 'BFauber/lora_llama2-13b_10e5_r8_a64']\n"
     ]
    },
    {
     "name": "stderr",
     "output_type": "stream",
     "text": [
      "3505it [14:49,  3.82it/s]"
     ]
    },
    {
     "name": "stdout",
     "output_type": "stream",
     "text": [
      "Failed to fetch: ['🔶', '<a target=\"_blank\" href=\"https://huggingface.co/BFauber/lora_llama2-13b_10e5_r128_a256\" style=\"color: var(--link-text-color); text-decoration: underline;text-decoration-style: dotted;\">BFauber/lora_llama2-13b_10e5_r128_a256</a>  <a target=\"_blank\" href=\"https://huggingface.co/datasets/open-llm-leaderboard/details_BFauber__lora_llama2-13b_10e5_r128_a256\" style=\"color: var(--link-text-color); text-decoration: underline;text-decoration-style: dotted;\">📑</a>', 55.31, 59.73, 82.08, 54.81, 37.82, 76.32, 21.08, 'fine-tuned on domain-specific datasets', '?', 'Adapter', 'float16', False, 'apache-2.0', 13, 0, False, '3cc31d64036d6abf160c13adf4645a8980280c7f', False, False, 'BFauber/lora_llama2-13b_10e5_r128_a256']\n"
     ]
    },
    {
     "name": "stderr",
     "output_type": "stream",
     "text": [
      "3506it [14:50,  4.06it/s]"
     ]
    },
    {
     "name": "stdout",
     "output_type": "stream",
     "text": [
      "Failed to fetch: ['🔶', '<a target=\"_blank\" href=\"https://huggingface.co/ResplendentAI/Obscura_32k_7B\" style=\"color: var(--link-text-color); text-decoration: underline;text-decoration-style: dotted;\">ResplendentAI/Obscura_32k_7B</a>  <a target=\"_blank\" href=\"https://huggingface.co/datasets/open-llm-leaderboard/details_ResplendentAI__Obscura_32k_7B\" style=\"color: var(--link-text-color); text-decoration: underline;text-decoration-style: dotted;\">📑</a>', 55.3, 55.29, 78, 49.13, 63.03, 69.06, 17.29, 'fine-tuned on domain-specific datasets', 'MistralForCausalLM', 'Original', 'bfloat16', False, 'apache-2.0', 7.24, 0, False, 'd4a17e943e5e358a9ff3a932bbc237814719590d', False, False, 'ResplendentAI/Obscura_32k_7B']\n"
     ]
    },
    {
     "name": "stderr",
     "output_type": "stream",
     "text": [
      "3507it [14:50,  4.20it/s]"
     ]
    },
    {
     "name": "stdout",
     "output_type": "stream",
     "text": [
      "Failed to fetch: ['🔶', '<a target=\"_blank\" href=\"https://huggingface.co/ewqr2130/mistral-se-inst-ppo\" style=\"color: var(--link-text-color); text-decoration: underline;text-decoration-style: dotted;\">ewqr2130/mistral-se-inst-ppo</a>  <a target=\"_blank\" href=\"https://huggingface.co/datasets/open-llm-leaderboard/details_ewqr2130__mistral-se-inst-ppo\" style=\"color: var(--link-text-color); text-decoration: underline;text-decoration-style: dotted;\">📑</a>', 55.3, 56.31, 79.49, 60.91, 51.34, 78.14, 5.61, 'fine-tuned on domain-specific datasets', 'Unknown', 'Original', 'float16', False, '?', 7.24, 0, False, 'f9d25d717f3972f80336fd15450329e2d8ee3ed4', False, False, 'ewqr2130/mistral-se-inst-ppo']\n"
     ]
    },
    {
     "name": "stderr",
     "output_type": "stream",
     "text": [
      "3522it [14:54,  3.85it/s]"
     ]
    },
    {
     "name": "stdout",
     "output_type": "stream",
     "text": [
      "Failed to fetch: ['🔶', '<a target=\"_blank\" href=\"https://huggingface.co/maldv/dragonwar-7b-s2\" style=\"color: var(--link-text-color); text-decoration: underline;text-decoration-style: dotted;\">maldv/dragonwar-7b-s2</a>  <a target=\"_blank\" href=\"https://huggingface.co/datasets/open-llm-leaderboard/details_maldv__dragonwar-7b-s2\" style=\"color: var(--link-text-color); text-decoration: underline;text-decoration-style: dotted;\">📑</a>', 55.21, 58.19, 81.63, 57.54, 41.76, 71.19, 20.92, 'fine-tuned on domain-specific datasets', 'MistralForCausalLM', 'Original', 'bfloat16', False, 'cc-by-nc-4.0', 7.24, 0, False, '03f30f9e36e51831b467c1f9eb854d95eb4df678', False, False, 'maldv/dragonwar-7b-s2']\n"
     ]
    },
    {
     "name": "stderr",
     "output_type": "stream",
     "text": [
      "3526it [14:55,  4.44it/s]"
     ]
    },
    {
     "name": "stdout",
     "output_type": "stream",
     "text": [
      "Failed to fetch: ['🔶', '<a target=\"_blank\" href=\"https://huggingface.co/decem/Dionysus-Mistral-n1-v1\" style=\"color: var(--link-text-color); text-decoration: underline;text-decoration-style: dotted;\">decem/Dionysus-Mistral-n1-v1</a>  <a target=\"_blank\" href=\"https://huggingface.co/datasets/open-llm-leaderboard/details_decem__Dionysus-Mistral-n1-v1\" style=\"color: var(--link-text-color); text-decoration: underline;text-decoration-style: dotted;\">📑</a>', 55.18, 60.24, 81.6, 59.32, 47.94, 71.35, 10.61, 'fine-tuned on domain-specific datasets', 'Unknown', 'Original', 'bfloat16', False, '?', 7.24, 0, False, 'd60ffacb4671aa412dde58d6c58173296cb0d566', False, False, 'decem/Dionysus-Mistral-n1-v1']\n"
     ]
    },
    {
     "name": "stderr",
     "output_type": "stream",
     "text": [
      "3551it [15:02,  4.04it/s]"
     ]
    },
    {
     "name": "stdout",
     "output_type": "stream",
     "text": [
      "Failed to fetch: ['🔶', '<a target=\"_blank\" href=\"https://huggingface.co/WizardLM/WizardLM-13B-V1.1\" style=\"color: var(--link-text-color); text-decoration: underline;text-decoration-style: dotted;\">WizardLM/WizardLM-13B-V1.1</a>  <a target=\"_blank\" href=\"https://huggingface.co/datasets/open-llm-leaderboard/details_WizardLM__WizardLM-13B-V1.1\" style=\"color: var(--link-text-color); text-decoration: underline;text-decoration-style: dotted;\">📑</a>', 55.05, 60.24, 81.39, 50.92, 54.56, 75.06, 8.11, 'fine-tuned on domain-specific datasets', 'LlamaForCausalLM', 'Original', 'float16', False, '', 13, 73, False, 'badd80f8a6f46fb15310fedf6d4db54959854897', False, False, 'WizardLM/WizardLM-13B-V1.1']\n"
     ]
    },
    {
     "name": "stderr",
     "output_type": "stream",
     "text": [
      "3554it [15:02,  4.37it/s]"
     ]
    },
    {
     "name": "stdout",
     "output_type": "stream",
     "text": [
      "Failed to fetch: ['🔶', '<a target=\"_blank\" href=\"https://huggingface.co/BFauber/lora_llama2-13b_10e5_r32_a256\" style=\"color: var(--link-text-color); text-decoration: underline;text-decoration-style: dotted;\">BFauber/lora_llama2-13b_10e5_r32_a256</a>  <a target=\"_blank\" href=\"https://huggingface.co/datasets/open-llm-leaderboard/details_BFauber__lora_llama2-13b_10e5_r32_a256\" style=\"color: var(--link-text-color); text-decoration: underline;text-decoration-style: dotted;\">📑</a>', 55.04, 60.15, 81.98, 54.99, 36.75, 76.48, 19.86, 'fine-tuned on domain-specific datasets', '?', 'Adapter', 'float16', False, 'apache-2.0', 13, 0, False, 'f3192de7e37e861a697c0741dd4e641724b6fdbc', False, False, 'BFauber/lora_llama2-13b_10e5_r32_a256']\n"
     ]
    },
    {
     "name": "stderr",
     "output_type": "stream",
     "text": [
      "3562it [15:05,  3.46it/s]"
     ]
    },
    {
     "name": "stdout",
     "output_type": "stream",
     "text": [
      "Failed to fetch: ['🔶', '<a target=\"_blank\" href=\"https://huggingface.co/BFauber/lora_llama2-13b_10e6\" style=\"color: var(--link-text-color); text-decoration: underline;text-decoration-style: dotted;\">BFauber/lora_llama2-13b_10e6</a>  <a target=\"_blank\" href=\"https://huggingface.co/datasets/open-llm-leaderboard/details_BFauber__lora_llama2-13b_10e6\" style=\"color: var(--link-text-color); text-decoration: underline;text-decoration-style: dotted;\">📑</a>', 54.98, 58.87, 81.9, 55.03, 36.03, 76.72, 21.3, 'fine-tuned on domain-specific datasets', '?', 'Adapter', 'float16', False, 'apache-2.0', 13, 0, False, '701562febb55ca9660f3c4d7be2249f3dbd5f0b3', False, False, 'BFauber/lora_llama2-13b_10e6']\n"
     ]
    },
    {
     "name": "stderr",
     "output_type": "stream",
     "text": [
      "3576it [15:08,  3.92it/s]"
     ]
    },
    {
     "name": "stdout",
     "output_type": "stream",
     "text": [
      "Failed to fetch: ['💬', '<a target=\"_blank\" href=\"https://huggingface.co/meta-llama/Llama-2-13b-chat-hf\" style=\"color: var(--link-text-color); text-decoration: underline;text-decoration-style: dotted;\">meta-llama/Llama-2-13b-chat-hf</a>  <a target=\"_blank\" href=\"https://huggingface.co/datasets/open-llm-leaderboard/details_meta-llama__Llama-2-13b-chat-hf\" style=\"color: var(--link-text-color); text-decoration: underline;text-decoration-style: dotted;\">📑</a>', 54.91, 59.04, 81.94, 54.64, 44.12, 74.51, 15.24, 'chat models (RLHF, DPO, IFT, ...)', 'LlamaForCausalLM', 'Original', 'float16', False, None, 13.02, 939, True, 'f848cf15ab9a51ae5735ab28120a9a0773eeb541', False, False, 'meta-llama/Llama-2-13b-chat-hf']\n"
     ]
    },
    {
     "name": "stderr",
     "output_type": "stream",
     "text": [
      "3585it [15:11,  3.46it/s]"
     ]
    },
    {
     "name": "stdout",
     "output_type": "stream",
     "text": [
      "Failed to fetch: ['🔶', '<a target=\"_blank\" href=\"https://huggingface.co/aboros98/lilo2\" style=\"color: var(--link-text-color); text-decoration: underline;text-decoration-style: dotted;\">aboros98/lilo2</a>  <a target=\"_blank\" href=\"https://huggingface.co/datasets/open-llm-leaderboard/details_aboros98__lilo2\" style=\"color: var(--link-text-color); text-decoration: underline;text-decoration-style: dotted;\">📑</a>', 54.87, 51.88, 72.2, 46.15, 47.02, 66.06, 45.94, 'fine-tuned on domain-specific datasets', 'GemmaForCausalLM', 'Original', 'bfloat16', False, 'other', 0, 0, False, '1e5b27a424bc9372174b76b30a532ee73f392fdb', False, False, 'aboros98/lilo2']\n"
     ]
    },
    {
     "name": "stderr",
     "output_type": "stream",
     "text": [
      "3592it [15:12,  4.62it/s]"
     ]
    },
    {
     "name": "stdout",
     "output_type": "stream",
     "text": [
      "Failed to fetch: ['🔶', '<a target=\"_blank\" href=\"https://huggingface.co/BFauber/lora_llama2-13b_10e5_r8_a256\" style=\"color: var(--link-text-color); text-decoration: underline;text-decoration-style: dotted;\">BFauber/lora_llama2-13b_10e5_r8_a256</a>  <a target=\"_blank\" href=\"https://huggingface.co/datasets/open-llm-leaderboard/details_BFauber__lora_llama2-13b_10e5_r8_a256\" style=\"color: var(--link-text-color); text-decoration: underline;text-decoration-style: dotted;\">📑</a>', 54.85, 59.81, 81.79, 53.22, 38.04, 76.09, 20.17, 'fine-tuned on domain-specific datasets', '?', 'Adapter', 'float16', False, 'apache-2.0', 13, 0, False, 'c7fedbbc9bad7326196826cd290f9928e6e7342e', False, False, 'BFauber/lora_llama2-13b_10e5_r8_a256']\n"
     ]
    },
    {
     "name": "stderr",
     "output_type": "stream",
     "text": [
      "3600it [15:14,  3.81it/s]"
     ]
    },
    {
     "name": "stdout",
     "output_type": "stream",
     "text": [
      "Failed to fetch: ['🔶', '<a target=\"_blank\" href=\"https://huggingface.co/WizardLM/WizardLM-13B-V1.2\" style=\"color: var(--link-text-color); text-decoration: underline;text-decoration-style: dotted;\">WizardLM/WizardLM-13B-V1.2</a>  <a target=\"_blank\" href=\"https://huggingface.co/datasets/open-llm-leaderboard/details_WizardLM__WizardLM-13B-V1.2\" style=\"color: var(--link-text-color); text-decoration: underline;text-decoration-style: dotted;\">📑</a>', 54.76, 59.04, 82.21, 54.64, 47.27, 71.9, 13.5, 'fine-tuned on domain-specific datasets', 'LlamaForCausalLM', 'Original', 'float16', False, 'llama2', 13, 217, True, '6760d0c07ffdc2405295ed7a29437cf4dc414bac', False, False, 'WizardLM/WizardLM-13B-V1.2']\n"
     ]
    },
    {
     "name": "stderr",
     "output_type": "stream",
     "text": [
      "3608it [15:16,  4.19it/s]"
     ]
    },
    {
     "name": "stdout",
     "output_type": "stream",
     "text": [
      "Failed to fetch: ['💬', '<a target=\"_blank\" href=\"https://huggingface.co/abacusai/Giraffe-beta-13b-32k\" style=\"color: var(--link-text-color); text-decoration: underline;text-decoration-style: dotted;\">abacusai/Giraffe-beta-13b-32k</a>  <a target=\"_blank\" href=\"https://huggingface.co/datasets/open-llm-leaderboard/details_abacusai__Giraffe-beta-13b-32k\" style=\"color: var(--link-text-color); text-decoration: underline;text-decoration-style: dotted;\">📑</a>', 54.69, 55.63, 80.42, 53.61, 42.58, 74.59, 21.3, 'chat models (RLHF, DPO, IFT, ...)', 'LlamaForCausalLM', 'Original', 'float16', False, 'llama2', 13.02, 0, False, '259f3fe9ebbff7532498f44286f253d56699da6f', False, False, 'abacusai/Giraffe-beta-13b-32k']\n"
     ]
    },
    {
     "name": "stderr",
     "output_type": "stream",
     "text": [
      "3616it [15:18,  3.74it/s]"
     ]
    },
    {
     "name": "stdout",
     "output_type": "stream",
     "text": [
      "Failed to fetch: ['🟢', '<a target=\"_blank\" href=\"https://huggingface.co/ZySec-AI/ZySec-7B-v2\" style=\"color: var(--link-text-color); text-decoration: underline;text-decoration-style: dotted;\">ZySec-AI/ZySec-7B-v2</a>  <a target=\"_blank\" href=\"https://huggingface.co/datasets/open-llm-leaderboard/details_ZySec-AI__ZySec-7B-v2\" style=\"color: var(--link-text-color); text-decoration: underline;text-decoration-style: dotted;\">📑</a>', 54.63, 53.07, 76.3, 54.55, 47.05, 68.75, 28.05, 'pretrained', 'GemmaForCausalLM', 'Original', 'float16', False, 'other', 8.54, 0, False, '9554702bbe26b1d1515e75ccb0b3549096622440', False, False, 'ZySec-AI/ZySec-7B-v2']\n"
     ]
    },
    {
     "name": "stderr",
     "output_type": "stream",
     "text": [
      "3617it [15:18,  3.94it/s]"
     ]
    },
    {
     "name": "stdout",
     "output_type": "stream",
     "text": [
      "Failed to fetch: ['🟢', '<a target=\"_blank\" href=\"https://huggingface.co/aihub-app/ZySec-8B-v2\" style=\"color: var(--link-text-color); text-decoration: underline;text-decoration-style: dotted;\">aihub-app/ZySec-8B-v2</a>  <a target=\"_blank\" href=\"https://huggingface.co/datasets/open-llm-leaderboard/details_aihub-app__ZySec-8B-v2\" style=\"color: var(--link-text-color); text-decoration: underline;text-decoration-style: dotted;\">📑</a>', 54.63, 53.07, 76.3, 54.55, 47.05, 68.75, 28.05, 'pretrained', 'GemmaForCausalLM', 'Original', 'float16', False, 'other', 8.54, 0, False, '9554702bbe26b1d1515e75ccb0b3549096622440', False, False, 'aihub-app/ZySec-8B-v2']\n"
     ]
    },
    {
     "name": "stderr",
     "output_type": "stream",
     "text": [
      "3640it [15:25,  3.39it/s]"
     ]
    },
    {
     "name": "stdout",
     "output_type": "stream",
     "text": [
      "Failed to fetch: ['🔶', '<a target=\"_blank\" href=\"https://huggingface.co/Radu1999/Mister\" style=\"color: var(--link-text-color); text-decoration: underline;text-decoration-style: dotted;\">Radu1999/Mister</a>  <a target=\"_blank\" href=\"https://huggingface.co/datasets/open-llm-leaderboard/details_Radu1999__Mister\" style=\"color: var(--link-text-color); text-decoration: underline;text-decoration-style: dotted;\">📑</a>', 54.46, 61.69, 71.74, 43.53, 65.85, 75.22, 8.72, 'fine-tuned on domain-specific datasets', 'MistralForCausalLM', 'Original', 'bfloat16', False, 'apache-2.0', 7.24, 0, False, '36cc93cd7bc754a5b23b2d47760ee7ed814d84f3', False, False, 'Radu1999/Mister']\n"
     ]
    },
    {
     "name": "stderr",
     "output_type": "stream",
     "text": [
      "3656it [15:29,  3.42it/s]"
     ]
    },
    {
     "name": "stdout",
     "output_type": "stream",
     "text": [
      "Failed to fetch: ['🔶', '<a target=\"_blank\" href=\"https://huggingface.co/anhnv125/llama-op-v4\" style=\"color: var(--link-text-color); text-decoration: underline;text-decoration-style: dotted;\">anhnv125/llama-op-v4</a>  <a target=\"_blank\" href=\"https://huggingface.co/datasets/open-llm-leaderboard/details_anhnv125__llama-op-v4\" style=\"color: var(--link-text-color); text-decoration: underline;text-decoration-style: dotted;\">📑</a>', 54.34, 61.52, 79.21, 57.01, 42.72, 75.93, 9.63, 'fine-tuned on domain-specific datasets', 'Unknown', 'Original', 'float16', False, '?', 12.85, 0, False, '6cd644049de2b944beaefcc6aa34965c00e08529', False, False, 'anhnv125/llama-op-v4']\n"
     ]
    },
    {
     "name": "stderr",
     "output_type": "stream",
     "text": [
      "3726it [15:48,  4.17it/s]"
     ]
    },
    {
     "name": "stdout",
     "output_type": "stream",
     "text": [
      "Failed to fetch: ['💬', '<a target=\"_blank\" href=\"https://huggingface.co/WizardLM/WizardMath-13B-V1.0\" style=\"color: var(--link-text-color); text-decoration: underline;text-decoration-style: dotted;\">WizardLM/WizardMath-13B-V1.0</a>  <a target=\"_blank\" href=\"https://huggingface.co/datasets/open-llm-leaderboard/details_WizardLM__WizardMath-13B-V1.0\" style=\"color: var(--link-text-color); text-decoration: underline;text-decoration-style: dotted;\">📑</a>', 53.97, 60.07, 82.01, 54.8, 42.7, 71.9, 12.36, 'chat models (RLHF, DPO, IFT, ...)', 'LlamaForCausalLM', 'Original', 'float16', False, 'llama2', 13, 22, True, '209316bea6eab73d8b18fca2a730b1dff3dcf999', False, False, 'WizardLM/WizardMath-13B-V1.0']\n"
     ]
    },
    {
     "name": "stderr",
     "output_type": "stream",
     "text": [
      "3730it [15:49,  4.47it/s]"
     ]
    },
    {
     "name": "stdout",
     "output_type": "stream",
     "text": [
      "Failed to fetch: ['🔶', '<a target=\"_blank\" href=\"https://huggingface.co/Technoculture/MT7Bi-alpha-dpo\" style=\"color: var(--link-text-color); text-decoration: underline;text-decoration-style: dotted;\">Technoculture/MT7Bi-alpha-dpo</a>  <a target=\"_blank\" href=\"https://huggingface.co/datasets/open-llm-leaderboard/details_Technoculture__MT7Bi-alpha-dpo\" style=\"color: var(--link-text-color); text-decoration: underline;text-decoration-style: dotted;\">📑</a>', 53.96, 55.03, 75.45, 52.63, 43.81, 71.03, 25.78, 'fine-tuned on domain-specific datasets', '?', 'Adapter', 'bfloat16', False, 'mit', 7, 0, False, '395626f9971b41065264e9c98c4daa53cdf609cd', False, False, 'Technoculture/MT7Bi-alpha-dpo']\n"
     ]
    },
    {
     "name": "stderr",
     "output_type": "stream",
     "text": [
      "3817it [16:12,  3.03it/s]"
     ]
    },
    {
     "name": "stdout",
     "output_type": "stream",
     "text": [
      "Failed to fetch: ['🔶', '<a target=\"_blank\" href=\"https://huggingface.co/google/gemma-7b-it\" style=\"color: var(--link-text-color); text-decoration: underline;text-decoration-style: dotted;\">google/gemma-7b-it</a>  <a target=\"_blank\" href=\"https://huggingface.co/datasets/open-llm-leaderboard/details_google__gemma-7b-it\" style=\"color: var(--link-text-color); text-decoration: underline;text-decoration-style: dotted;\">📑</a>', 53.56, 51.45, 71.96, 53.52, 47.29, 67.96, 29.19, 'fine-tuned on domain-specific datasets', 'GemmaForCausalLM', 'Original', 'float16', False, 'gemma', 8.54, 1043, True, 'dec4b13d574762bd36f0a1b75541439bd852b2e8', False, False, 'google/gemma-7b-it']\n"
     ]
    },
    {
     "name": "stderr",
     "output_type": "stream",
     "text": [
      "3824it [16:14,  3.35it/s]"
     ]
    },
    {
     "name": "stdout",
     "output_type": "stream",
     "text": [
      "Failed to fetch: ['🔶', '<a target=\"_blank\" href=\"https://huggingface.co/s3nh/poorx32124\" style=\"color: var(--link-text-color); text-decoration: underline;text-decoration-style: dotted;\">s3nh/poorx32124</a>  <a target=\"_blank\" href=\"https://huggingface.co/datasets/open-llm-leaderboard/details_s3nh__poorx32124\" style=\"color: var(--link-text-color); text-decoration: underline;text-decoration-style: dotted;\">📑</a>', 53.53, 53.16, 73.58, 52.88, 50.26, 69.38, 21.91, 'fine-tuned on domain-specific datasets', 'LlamaForCausalLM', 'Original', 'float16', False, 'mit', 7.24, 0, False, '6062703b527da6fa7ede85ba17a5fba20524c042', False, False, 's3nh/poorx32124']\n"
     ]
    },
    {
     "name": "stderr",
     "output_type": "stream",
     "text": [
      "3831it [16:15,  4.04it/s]"
     ]
    },
    {
     "name": "stdout",
     "output_type": "stream",
     "text": [
      "Failed to fetch: ['🔶', '<a target=\"_blank\" href=\"https://huggingface.co/IGeniusDev/llama13B-quant8-testv1-openorca-customdataset\" style=\"color: var(--link-text-color); text-decoration: underline;text-decoration-style: dotted;\">IGeniusDev/llama13B-quant8-testv1-openorca-customdataset</a>  <a target=\"_blank\" href=\"https://huggingface.co/datasets/open-llm-leaderboard/details_IGeniusDev__llama13B-quant8-testv1-openorca-customdataset\" style=\"color: var(--link-text-color); text-decoration: underline;text-decoration-style: dotted;\">📑</a>', 53.5, 60.49, 82.97, 54.44, 37.34, 75.69, 10.08, 'fine-tuned on domain-specific datasets', 'Unknown', 'Original', 'float16', False, '?', 13.02, 0, False, 'f364d000bedac80e72aa103c08b77aee1b61b7da', False, False, 'IGeniusDev/llama13B-quant8-testv1-openorca-customdataset']\n"
     ]
    },
    {
     "name": "stderr",
     "output_type": "stream",
     "text": [
      "3866it [16:25,  3.63it/s]"
     ]
    },
    {
     "name": "stdout",
     "output_type": "stream",
     "text": [
      "Failed to fetch: ['🔶', '<a target=\"_blank\" href=\"https://huggingface.co/gmonsoon/MiniCPM-2B-Base-v2\" style=\"color: var(--link-text-color); text-decoration: underline;text-decoration-style: dotted;\">gmonsoon/MiniCPM-2B-Base-v2</a>  <a target=\"_blank\" href=\"https://huggingface.co/datasets/open-llm-leaderboard/details_gmonsoon__MiniCPM-2B-Base-v2\" style=\"color: var(--link-text-color); text-decoration: underline;text-decoration-style: dotted;\">📑</a>', 53.24, 45.99, 72.22, 52.63, 40.27, 66.38, 41.93, 'fine-tuned on domain-specific datasets', 'LlamaForCausalLM', 'Original', 'bfloat16', False, 'apache-2.0', 3.01, 0, False, 'c9865131d0c5a530d04b9aa3f2d678ee6fbc8cb9', False, False, 'gmonsoon/MiniCPM-2B-Base-v2']\n"
     ]
    },
    {
     "name": "stderr",
     "output_type": "stream",
     "text": [
      "3867it [16:25,  3.86it/s]"
     ]
    },
    {
     "name": "stdout",
     "output_type": "stream",
     "text": [
      "Failed to fetch: ['🔶', '<a target=\"_blank\" href=\"https://huggingface.co/gmonsoon/MiniCPM-2B-Base-v3\" style=\"color: var(--link-text-color); text-decoration: underline;text-decoration-style: dotted;\">gmonsoon/MiniCPM-2B-Base-v3</a>  <a target=\"_blank\" href=\"https://huggingface.co/datasets/open-llm-leaderboard/details_gmonsoon__MiniCPM-2B-Base-v3\" style=\"color: var(--link-text-color); text-decoration: underline;text-decoration-style: dotted;\">📑</a>', 53.24, 47.01, 73.12, 52.42, 41.82, 66.14, 38.89, 'fine-tuned on domain-specific datasets', 'LlamaForCausalLM', 'Original', 'bfloat16', False, 'apache-2.0', 2, 0, False, '114ef55021443ac68a51fc131156a5796e72541d', False, False, 'gmonsoon/MiniCPM-2B-Base-v3']\n"
     ]
    },
    {
     "name": "stderr",
     "output_type": "stream",
     "text": [
      "3875it [16:27,  2.97it/s]"
     ]
    },
    {
     "name": "stdout",
     "output_type": "stream",
     "text": [
      "Failed to fetch: ['🔶', '<a target=\"_blank\" href=\"https://huggingface.co/BFauber/lora_llama2-13b_10e5_r2_a256\" style=\"color: var(--link-text-color); text-decoration: underline;text-decoration-style: dotted;\">BFauber/lora_llama2-13b_10e5_r2_a256</a>  <a target=\"_blank\" href=\"https://huggingface.co/datasets/open-llm-leaderboard/details_BFauber__lora_llama2-13b_10e5_r2_a256\" style=\"color: var(--link-text-color); text-decoration: underline;text-decoration-style: dotted;\">📑</a>', 53.2, 58.02, 80.99, 52.71, 36.36, 74.74, 16.38, 'fine-tuned on domain-specific datasets', '?', 'Adapter', 'float16', False, 'apache-2.0', 13, 0, False, 'd897ec2c64828ddf05ca0f51c4839a34060b2cef', False, False, 'BFauber/lora_llama2-13b_10e5_r2_a256']\n"
     ]
    },
    {
     "name": "stderr",
     "output_type": "stream",
     "text": [
      "3911it [16:36,  4.22it/s]"
     ]
    },
    {
     "name": "stdout",
     "output_type": "stream",
     "text": [
      "Failed to fetch: ['💬', '<a target=\"_blank\" href=\"https://huggingface.co/The-Face-Of-Goonery/Huginn-19b-prototype\" style=\"color: var(--link-text-color); text-decoration: underline;text-decoration-style: dotted;\">The-Face-Of-Goonery/Huginn-19b-prototype</a>  <a target=\"_blank\" href=\"https://huggingface.co/datasets/open-llm-leaderboard/details_The-Face-Of-Goonery__Huginn-19b-prototype\" style=\"color: var(--link-text-color); text-decoration: underline;text-decoration-style: dotted;\">📑</a>', 52.99, 59.22, 81.03, 55.73, 41.15, 76.4, 4.4, 'chat models (RLHF, DPO, IFT, ...)', 'LlamaForCausalLM', 'Original', 'float16', False, '', 19.36, 0, False, 'd2c8cc15c57da217ff29ebaaae4bc4f57d6b21b0', False, False, 'The-Face-Of-Goonery/Huginn-19b-prototype']\n"
     ]
    },
    {
     "name": "stderr",
     "output_type": "stream",
     "text": [
      "3936it [16:42,  4.53it/s]"
     ]
    },
    {
     "name": "stdout",
     "output_type": "stream",
     "text": [
      "Failed to fetch: ['💬', '<a target=\"_blank\" href=\"https://huggingface.co/DrNicefellow/Mixtral-6x7B-Instruct-v0.1\" style=\"color: var(--link-text-color); text-decoration: underline;text-decoration-style: dotted;\">DrNicefellow/Mixtral-6x7B-Instruct-v0.1</a>  <a target=\"_blank\" href=\"https://huggingface.co/datasets/open-llm-leaderboard/details_DrNicefellow__Mixtral-6x7B-Instruct-v0.1\" style=\"color: var(--link-text-color); text-decoration: underline;text-decoration-style: dotted;\">📑</a>', 52.87, 56.66, 78.85, 52.88, 51.55, 71.19, 6.07, 'chat models (RLHF, DPO, IFT, ...)', 'MixtralForCausalLM', 'Original', 'bfloat16', False, 'apache-2.0', 35.43, 0, False, '157129cff6331566ca91dd4e8ce8aaf73a1f7516', False, False, 'DrNicefellow/Mixtral-6x7B-Instruct-v0.1']\n"
     ]
    },
    {
     "name": "stderr",
     "output_type": "stream",
     "text": [
      "3937it [16:43,  4.54it/s]"
     ]
    },
    {
     "name": "stdout",
     "output_type": "stream",
     "text": [
      "Failed to fetch: ['🔶', '<a target=\"_blank\" href=\"https://huggingface.co/DrNicefellow/Mixtral-6x7B-Instruct-v0.1-Trimmed024567\" style=\"color: var(--link-text-color); text-decoration: underline;text-decoration-style: dotted;\">DrNicefellow/Mixtral-6x7B-Instruct-v0.1-Trimmed024567</a>  <a target=\"_blank\" href=\"https://huggingface.co/datasets/open-llm-leaderboard/details_DrNicefellow__Mixtral-6x7B-Instruct-v0.1-Trimmed024567\" style=\"color: var(--link-text-color); text-decoration: underline;text-decoration-style: dotted;\">📑</a>', 52.87, 56.66, 78.85, 52.88, 51.55, 71.19, 6.07, 'fine-tuned on domain-specific datasets', 'MixtralForCausalLM', 'Original', 'bfloat16', False, 'apache-2.0', 35.43, 0, False, '09afb17f594554c04eb35201a91544f4076498e2', False, False, 'DrNicefellow/Mixtral-6x7B-Instruct-v0.1-Trimmed024567']\n"
     ]
    },
    {
     "name": "stderr",
     "output_type": "stream",
     "text": [
      "3956it [16:47,  4.48it/s]"
     ]
    },
    {
     "name": "stdout",
     "output_type": "stream",
     "text": [
      "Failed to fetch: ['💬', '<a target=\"_blank\" href=\"https://huggingface.co/nnethercott/orca-open_hermes-llava-v1.5-7b-dpo\" style=\"color: var(--link-text-color); text-decoration: underline;text-decoration-style: dotted;\">nnethercott/orca-open_hermes-llava-v1.5-7b-dpo</a>  <a target=\"_blank\" href=\"https://huggingface.co/datasets/open-llm-leaderboard/details_nnethercott__orca-open_hermes-llava-v1.5-7b-dpo\" style=\"color: var(--link-text-color); text-decoration: underline;text-decoration-style: dotted;\">📑</a>', 52.71, 53.07, 77.11, 51.03, 47.6, 71.9, 15.54, 'chat models (RLHF, DPO, IFT, ...)', 'LlamaForCausalLM', 'Original', 'float16', False, 'llama2', 6.74, 0, False, '3e40fa364e9071af5000bc6fe15ae89b0a7da87c', False, False, 'nnethercott/orca-open_hermes-llava-v1.5-7b-dpo']\n"
     ]
    },
    {
     "name": "stderr",
     "output_type": "stream",
     "text": [
      "3976it [16:53,  3.92it/s]"
     ]
    },
    {
     "name": "stdout",
     "output_type": "stream",
     "text": [
      "Failed to fetch: ['🔶', '<a target=\"_blank\" href=\"https://huggingface.co/gmonsoon/MiniCPM-2B-Base\" style=\"color: var(--link-text-color); text-decoration: underline;text-decoration-style: dotted;\">gmonsoon/MiniCPM-2B-Base</a>  <a target=\"_blank\" href=\"https://huggingface.co/datasets/open-llm-leaderboard/details_gmonsoon__MiniCPM-2B-Base\" style=\"color: var(--link-text-color); text-decoration: underline;text-decoration-style: dotted;\">📑</a>', 52.56, 46.08, 70.52, 52.61, 41.39, 65.9, 38.89, 'fine-tuned on domain-specific datasets', 'LlamaForCausalLM', 'Original', 'bfloat16', False, 'apache-2.0', 3.01, 0, False, 'cecd6b3d629a72aec5a21858ca043fa1e737522d', False, False, 'gmonsoon/MiniCPM-2B-Base']\n"
     ]
    },
    {
     "name": "stderr",
     "output_type": "stream",
     "text": [
      "4006it [17:00,  4.07it/s]"
     ]
    },
    {
     "name": "stdout",
     "output_type": "stream",
     "text": [
      "Failed to fetch: ['💬', '<a target=\"_blank\" href=\"https://huggingface.co/The-Face-Of-Goonery/Huginn-22b-Prototype\" style=\"color: var(--link-text-color); text-decoration: underline;text-decoration-style: dotted;\">The-Face-Of-Goonery/Huginn-22b-Prototype</a>  <a target=\"_blank\" href=\"https://huggingface.co/datasets/open-llm-leaderboard/details_The-Face-Of-Goonery__Huginn-22b-Prototype\" style=\"color: var(--link-text-color); text-decoration: underline;text-decoration-style: dotted;\">📑</a>', 52.36, 57.68, 80.69, 49.81, 52.11, 71.59, 2.27, 'chat models (RLHF, DPO, IFT, ...)', 'LlamaForCausalLM', 'Original', 'float16', False, '', 21.83, 0, False, '29222b05794abb862ad0aaaf3020696c9f599810', False, False, 'The-Face-Of-Goonery/Huginn-22b-Prototype']\n"
     ]
    },
    {
     "name": "stderr",
     "output_type": "stream",
     "text": [
      "4035it [17:07,  4.38it/s]"
     ]
    },
    {
     "name": "stdout",
     "output_type": "stream",
     "text": [
      "Failed to fetch: ['💬', '<a target=\"_blank\" href=\"https://huggingface.co/xxyyy123/mc_data_30k_from_platpus_orca_7b_10k_v1_lora_qkvo_rank14_v2\" style=\"color: var(--link-text-color); text-decoration: underline;text-decoration-style: dotted;\">xxyyy123/mc_data_30k_from_platpus_orca_7b_10k_v1_lora_qkvo_rank14_v2</a>  <a target=\"_blank\" href=\"https://huggingface.co/datasets/open-llm-leaderboard/details_xxyyy123__mc_data_30k_from_platpus_orca_7b_10k_v1_lora_qkvo_rank14_v2\" style=\"color: var(--link-text-color); text-decoration: underline;text-decoration-style: dotted;\">📑</a>', 52.13, 57.17, 79.57, 50.24, 52.51, 72.93, 0.38, 'chat models (RLHF, DPO, IFT, ...)', 'Unknown', 'Adapter', 'float16', False, '?', 7, 0, False, '9c4a7444d6fb12931e50f111053e016531fe60b7', False, False, 'xxyyy123/mc_data_30k_from_platpus_orca_7b_10k_v1_lora_qkvo_rank14_v2']\n"
     ]
    },
    {
     "name": "stderr",
     "output_type": "stream",
     "text": [
      "4054it [17:13,  2.61it/s]"
     ]
    },
    {
     "name": "stdout",
     "output_type": "stream",
     "text": [
      "Failed to fetch: ['🔶', '<a target=\"_blank\" href=\"https://huggingface.co/xxyyy123/10k_v1_lora_qkvo_rank28_v2\" style=\"color: var(--link-text-color); text-decoration: underline;text-decoration-style: dotted;\">xxyyy123/10k_v1_lora_qkvo_rank28_v2</a>  <a target=\"_blank\" href=\"https://huggingface.co/datasets/open-llm-leaderboard/details_xxyyy123__10k_v1_lora_qkvo_rank28_v2\" style=\"color: var(--link-text-color); text-decoration: underline;text-decoration-style: dotted;\">📑</a>', 51.95, 55.38, 79.21, 50.5, 52.75, 73.24, 0.61, 'fine-tuned on domain-specific datasets', 'Unknown', 'Adapter', 'float16', False, '?', 0, 0, False, '70e38a7424544193f0ad6a93ae26a5bfd15e4e90', False, False, 'xxyyy123/10k_v1_lora_qkvo_rank28_v2']\n"
     ]
    },
    {
     "name": "stderr",
     "output_type": "stream",
     "text": [
      "4075it [17:20,  2.63it/s]"
     ]
    },
    {
     "name": "stdout",
     "output_type": "stream",
     "text": [
      "Failed to fetch: ['🤝', '<a target=\"_blank\" href=\"https://huggingface.co/TheSkullery/Aurora_22e_Test\" style=\"color: var(--link-text-color); text-decoration: underline;text-decoration-style: dotted;\">TheSkullery/Aurora_22e_Test</a>  <a target=\"_blank\" href=\"https://huggingface.co/datasets/open-llm-leaderboard/details_TheSkullery__Aurora_22e_Test\" style=\"color: var(--link-text-color); text-decoration: underline;text-decoration-style: dotted;\">📑</a>', 51.71, 44.8, 64.97, 62.27, 50.91, 77.9, 9.4, 'base merges and moerges', 'MistralForCausalLM', 'Original', 'bfloat16', False, '?', 12.04, 0, False, 'fc3d8910521ddb84053f0be970467b30da2cbe9d', False, False, 'TheSkullery/Aurora_22e_Test']\n"
     ]
    },
    {
     "name": "stderr",
     "output_type": "stream",
     "text": [
      "4107it [17:28,  3.06it/s]"
     ]
    },
    {
     "name": "stdout",
     "output_type": "stream",
     "text": [
      "Failed to fetch: ['🔶', '<a target=\"_blank\" href=\"https://huggingface.co/itsliupeng/llama2_7b_zh\" style=\"color: var(--link-text-color); text-decoration: underline;text-decoration-style: dotted;\">itsliupeng/llama2_7b_zh</a>  <a target=\"_blank\" href=\"https://huggingface.co/datasets/open-llm-leaderboard/details_itsliupeng__llama2_7b_zh\" style=\"color: var(--link-text-color); text-decoration: underline;text-decoration-style: dotted;\">📑</a>', 51.44, 52.05, 74.88, 60.69, 42.86, 71.74, 6.44, 'fine-tuned on domain-specific datasets', 'LlamaForCausalLM', 'Original', 'bfloat16', False, 'mit', 7, 1, True, '410711781d2e24226c0d62959e4990d1de851c3c', False, False, 'itsliupeng/llama2_7b_zh']\n"
     ]
    },
    {
     "name": "stderr",
     "output_type": "stream",
     "text": [
      "4116it [17:30,  4.35it/s]"
     ]
    },
    {
     "name": "stdout",
     "output_type": "stream",
     "text": [
      "Failed to fetch: ['🟢', '<a target=\"_blank\" href=\"https://huggingface.co/huggingface/llama-13b\" style=\"color: var(--link-text-color); text-decoration: underline;text-decoration-style: dotted;\">huggingface/llama-13b</a>  <a target=\"_blank\" href=\"https://huggingface.co/datasets/open-llm-leaderboard/details_huggingface__llama-13b\" style=\"color: var(--link-text-color); text-decoration: underline;text-decoration-style: dotted;\">📑</a>', 51.36, 56.23, 80.93, 47.67, 39.48, 76.24, 7.58, 'pretrained', 'LlamaForCausalLM', 'Original', 'float16', False, 'other', 13.02, 0, False, '4022c52fcc7473ce7364bb5ac166195903ea1efb', False, False, 'huggingface/llama-13b']\n"
     ]
    },
    {
     "name": "stderr",
     "output_type": "stream",
     "text": [
      "4122it [17:31,  4.54it/s]"
     ]
    },
    {
     "name": "stdout",
     "output_type": "stream",
     "text": [
      "Failed to fetch: ['🟢', '<a target=\"_blank\" href=\"https://huggingface.co/leonarad/hope_for\" style=\"color: var(--link-text-color); text-decoration: underline;text-decoration-style: dotted;\">leonarad/hope_for</a>  <a target=\"_blank\" href=\"https://huggingface.co/datasets/open-llm-leaderboard/details_leonarad__hope_for\" style=\"color: var(--link-text-color); text-decoration: underline;text-decoration-style: dotted;\">📑</a>', 51.3, 51.28, 74.74, 51.56, 40.73, 72.61, 16.91, 'pretrained', 'MixtralForCausalLM', 'Original', 'float16', False, 'unknown', 46.7, 0, False, '8a5c594dbd9b000a00ed26c96e5cda964afe5935', False, False, 'leonarad/hope_for']\n"
     ]
    },
    {
     "name": "stderr",
     "output_type": "stream",
     "text": [
      "4125it [17:32,  4.65it/s]"
     ]
    },
    {
     "name": "stdout",
     "output_type": "stream",
     "text": [
      "Failed to fetch: ['🔶', '<a target=\"_blank\" href=\"https://huggingface.co/abdulrahman-nuzha/finetuned-llama2-chat-5000-v2.0\" style=\"color: var(--link-text-color); text-decoration: underline;text-decoration-style: dotted;\">abdulrahman-nuzha/finetuned-llama2-chat-5000-v2.0</a>  <a target=\"_blank\" href=\"https://huggingface.co/datasets/open-llm-leaderboard/details_abdulrahman-nuzha__finetuned-llama2-chat-5000-v2.0\" style=\"color: var(--link-text-color); text-decoration: underline;text-decoration-style: dotted;\">📑</a>', 51.28, 52.05, 76.13, 46.33, 45.18, 72.3, 15.69, 'fine-tuned on domain-specific datasets', 'LlamaForCausalLM', 'Original', '4bit', False, 'apache-2.0', 0, 0, True, '3e740254650b5f41e77d04c66806e6a0d3145195', False, False, 'abdulrahman-nuzha/finetuned-llama2-chat-5000-v2.0']\n"
     ]
    },
    {
     "name": "stderr",
     "output_type": "stream",
     "text": [
      "4141it [17:36,  4.31it/s]"
     ]
    },
    {
     "name": "stdout",
     "output_type": "stream",
     "text": [
      "Failed to fetch: ['🟢', '<a target=\"_blank\" href=\"https://huggingface.co/leonarad/hope_for_7b_1.0v\" style=\"color: var(--link-text-color); text-decoration: underline;text-decoration-style: dotted;\">leonarad/hope_for_7b_1.0v</a>  <a target=\"_blank\" href=\"https://huggingface.co/datasets/open-llm-leaderboard/details_leonarad__hope_for_7b_1.0v\" style=\"color: var(--link-text-color); text-decoration: underline;text-decoration-style: dotted;\">📑</a>', 51.16, 50.43, 76.44, 49.68, 38.66, 75.22, 16.53, 'pretrained', 'MistralForCausalLM', 'Original', 'float16', False, '?', 7.24, 0, False, 'c5382de58d8be5d79689b9a1f0dcdea72e8b45ef', False, False, 'leonarad/hope_for_7b_1.0v']\n"
     ]
    },
    {
     "name": "stderr",
     "output_type": "stream",
     "text": [
      "4152it [17:38,  4.51it/s]"
     ]
    },
    {
     "name": "stdout",
     "output_type": "stream",
     "text": [
      "Failed to fetch: ['🔶', '<a target=\"_blank\" href=\"https://huggingface.co/abdulrahman-nuzha/finetuned-llama2-chat-5000-v1.0-squad\" style=\"color: var(--link-text-color); text-decoration: underline;text-decoration-style: dotted;\">abdulrahman-nuzha/finetuned-llama2-chat-5000-v1.0-squad</a>  <a target=\"_blank\" href=\"https://huggingface.co/datasets/open-llm-leaderboard/details_abdulrahman-nuzha__finetuned-llama2-chat-5000-v1.0-squad\" style=\"color: var(--link-text-color); text-decoration: underline;text-decoration-style: dotted;\">📑</a>', 51.09, 50.94, 76.61, 46.43, 44.45, 71.98, 16.15, 'fine-tuned on domain-specific datasets', 'LlamaForCausalLM', 'Original', '4bit', False, 'apache-2.0', 0, 0, True, '67c1301cb8a9ea7eb6e2b2c1829719ef746465d3', False, False, 'abdulrahman-nuzha/finetuned-llama2-chat-5000-v1.0-squad']\n"
     ]
    },
    {
     "name": "stderr",
     "output_type": "stream",
     "text": [
      "4173it [17:43,  4.51it/s]"
     ]
    },
    {
     "name": "stdout",
     "output_type": "stream",
     "text": [
      "Failed to fetch: ['🟢', '<a target=\"_blank\" href=\"https://huggingface.co/meta-llama/Llama-2-7b-hf\" style=\"color: var(--link-text-color); text-decoration: underline;text-decoration-style: dotted;\">meta-llama/Llama-2-7b-hf</a>  <a target=\"_blank\" href=\"https://huggingface.co/datasets/open-llm-leaderboard/details_meta-llama__Llama-2-7b-hf\" style=\"color: var(--link-text-color); text-decoration: underline;text-decoration-style: dotted;\">📑</a>', 50.97, 53.07, 78.59, 46.87, 38.76, 74.03, 14.48, 'pretrained', 'LlamaForCausalLM', 'Original', 'float16', False, None, 6.74, 1303, True, 'e8f058fa738b6b308540024e9aa12e274e291f75', False, False, 'meta-llama/Llama-2-7b-hf']\n"
     ]
    },
    {
     "name": "stderr",
     "output_type": "stream",
     "text": [
      "4175it [17:44,  3.75it/s]"
     ]
    },
    {
     "name": "stdout",
     "output_type": "stream",
     "text": [
      "Failed to fetch: ['🔶', '<a target=\"_blank\" href=\"https://huggingface.co/BFauber/base_7b\" style=\"color: var(--link-text-color); text-decoration: underline;text-decoration-style: dotted;\">BFauber/base_7b</a>  <a target=\"_blank\" href=\"https://huggingface.co/datasets/open-llm-leaderboard/details_BFauber__base_7b\" style=\"color: var(--link-text-color); text-decoration: underline;text-decoration-style: dotted;\">📑</a>', 50.95, 53.16, 78.59, 46.78, 38.74, 73.88, 14.56, 'fine-tuned on domain-specific datasets', '?', 'Adapter', 'float16', False, 'apache-2.0', 7, 0, False, '7971b900b2e0b2b3657bc70f7cc2e1251b7ac155', False, False, 'BFauber/base_7b']\n"
     ]
    },
    {
     "name": "stderr",
     "output_type": "stream",
     "text": [
      "4178it [17:45,  3.63it/s]"
     ]
    },
    {
     "name": "stdout",
     "output_type": "stream",
     "text": [
      "Failed to fetch: ['💬', '<a target=\"_blank\" href=\"https://huggingface.co/PeanutJar/LLaMa-2-PeanutButter_v18_B-7B\" style=\"color: var(--link-text-color); text-decoration: underline;text-decoration-style: dotted;\">PeanutJar/LLaMa-2-PeanutButter_v18_B-7B</a>  <a target=\"_blank\" href=\"https://huggingface.co/datasets/open-llm-leaderboard/details_PeanutJar__LLaMa-2-PeanutButter_v18_B-7B\" style=\"color: var(--link-text-color); text-decoration: underline;text-decoration-style: dotted;\">📑</a>', 50.94, 54.61, 81, 47.07, 41.93, 74.51, 6.52, 'chat models (RLHF, DPO, IFT, ...)', 'Unknown', 'Original', 'float16', False, '?', 7, 0, False, 'bc8c239cacf1e3211f05e27be67a74d84c12aea9', False, False, 'PeanutJar/LLaMa-2-PeanutButter_v18_B-7B']\n"
     ]
    },
    {
     "name": "stderr",
     "output_type": "stream",
     "text": [
      "4190it [17:48,  4.31it/s]"
     ]
    },
    {
     "name": "stdout",
     "output_type": "stream",
     "text": [
      "Failed to fetch: ['💬', '<a target=\"_blank\" href=\"https://huggingface.co/PeanutJar/LLaMa-2-PeanutButter_v10-7B\" style=\"color: var(--link-text-color); text-decoration: underline;text-decoration-style: dotted;\">PeanutJar/LLaMa-2-PeanutButter_v10-7B</a>  <a target=\"_blank\" href=\"https://huggingface.co/datasets/open-llm-leaderboard/details_PeanutJar__LLaMa-2-PeanutButter_v10-7B\" style=\"color: var(--link-text-color); text-decoration: underline;text-decoration-style: dotted;\">📑</a>', 50.75, 55.29, 81.69, 46.97, 43.78, 70.88, 5.91, 'chat models (RLHF, DPO, IFT, ...)', 'Unknown', 'Original', 'float16', False, '?', 7, 0, False, 'f98bb987216448aa3aa89e575a7494fae8b68066', False, False, 'PeanutJar/LLaMa-2-PeanutButter_v10-7B']\n"
     ]
    },
    {
     "name": "stderr",
     "output_type": "stream",
     "text": [
      "4191it [17:48,  4.44it/s]"
     ]
    },
    {
     "name": "stdout",
     "output_type": "stream",
     "text": [
      "Failed to fetch: ['💬', '<a target=\"_blank\" href=\"https://huggingface.co/meta-llama/Llama-2-7b-chat-hf\" style=\"color: var(--link-text-color); text-decoration: underline;text-decoration-style: dotted;\">meta-llama/Llama-2-7b-chat-hf</a>  <a target=\"_blank\" href=\"https://huggingface.co/datasets/open-llm-leaderboard/details_meta-llama__Llama-2-7b-chat-hf\" style=\"color: var(--link-text-color); text-decoration: underline;text-decoration-style: dotted;\">📑</a>', 50.74, 52.9, 78.55, 48.32, 45.57, 71.74, 7.35, 'chat models (RLHF, DPO, IFT, ...)', 'LlamaForCausalLM', 'Original', 'float16', False, None, 6.74, 3350, True, 'b7701a9e825e79a5ab18b5801be113c2160cc627', False, False, 'meta-llama/Llama-2-7b-chat-hf']\n"
     ]
    },
    {
     "name": "stderr",
     "output_type": "stream",
     "text": [
      "4206it [17:51,  4.48it/s]"
     ]
    },
    {
     "name": "stdout",
     "output_type": "stream",
     "text": [
      "Failed to fetch: ['🔶', '<a target=\"_blank\" href=\"https://huggingface.co/BFauber/lora_llama2-7b_10e4\" style=\"color: var(--link-text-color); text-decoration: underline;text-decoration-style: dotted;\">BFauber/lora_llama2-7b_10e4</a>  <a target=\"_blank\" href=\"https://huggingface.co/datasets/open-llm-leaderboard/details_BFauber__lora_llama2-7b_10e4\" style=\"color: var(--link-text-color); text-decoration: underline;text-decoration-style: dotted;\">📑</a>', 50.63, 53.84, 78.46, 46.76, 38.29, 73.48, 12.96, 'fine-tuned on domain-specific datasets', '?', 'Adapter', 'float16', False, 'apache-2.0', 7, 0, False, '770088da097d9fe992d0847071d92e3af1923d90', False, False, 'BFauber/lora_llama2-7b_10e4']\n"
     ]
    },
    {
     "name": "stderr",
     "output_type": "stream",
     "text": [
      "4213it [17:53,  3.88it/s]"
     ]
    },
    {
     "name": "stdout",
     "output_type": "stream",
     "text": [
      "Failed to fetch: ['🔶', '<a target=\"_blank\" href=\"https://huggingface.co/vikash06/doctorLLM5k\" style=\"color: var(--link-text-color); text-decoration: underline;text-decoration-style: dotted;\">vikash06/doctorLLM5k</a>  <a target=\"_blank\" href=\"https://huggingface.co/datasets/open-llm-leaderboard/details_vikash06__doctorLLM5k\" style=\"color: var(--link-text-color); text-decoration: underline;text-decoration-style: dotted;\">📑</a>', 50.6, 52.47, 79.66, 44.68, 43.14, 69.53, 14.1, 'fine-tuned on domain-specific datasets', 'LlamaForCausalLM', 'Original', 'float16', False, 'mit', 6.74, 0, False, 'e7b7ac695d46be0832e404a932f6e9a60159333a', False, False, 'vikash06/doctorLLM5k']\n"
     ]
    },
    {
     "name": "stderr",
     "output_type": "stream",
     "text": [
      "4223it [17:56,  4.06it/s]"
     ]
    },
    {
     "name": "stdout",
     "output_type": "stream",
     "text": [
      "Failed to fetch: ['🤝', '<a target=\"_blank\" href=\"https://huggingface.co/Technoculture/mtor-2x7b\" style=\"color: var(--link-text-color); text-decoration: underline;text-decoration-style: dotted;\">Technoculture/mtor-2x7b</a>  <a target=\"_blank\" href=\"https://huggingface.co/datasets/open-llm-leaderboard/details_Technoculture__mtor-2x7b\" style=\"color: var(--link-text-color); text-decoration: underline;text-decoration-style: dotted;\">📑</a>', 50.5, 55.2, 73.6, 51.83, 48.06, 70.64, 3.64, 'base merges and moerges', 'MixtralForCausalLM', 'Original', 'bfloat16', False, 'apache-2.0', 11.07, 0, False, 'fbc4cdb251bf62307529a45f5ad267eb259761cc', False, False, 'Technoculture/mtor-2x7b']\n"
     ]
    },
    {
     "name": "stderr",
     "output_type": "stream",
     "text": [
      "4225it [17:56,  3.32it/s]"
     ]
    },
    {
     "name": "stdout",
     "output_type": "stream",
     "text": [
      "Failed to fetch: ['🔶', '<a target=\"_blank\" href=\"https://huggingface.co/jilp00/OpenHermes-Symbolic-Mistral-7B\" style=\"color: var(--link-text-color); text-decoration: underline;text-decoration-style: dotted;\">jilp00/OpenHermes-Symbolic-Mistral-7B</a>  <a target=\"_blank\" href=\"https://huggingface.co/datasets/open-llm-leaderboard/details_jilp00__OpenHermes-Symbolic-Mistral-7B\" style=\"color: var(--link-text-color); text-decoration: underline;text-decoration-style: dotted;\">📑</a>', 50.46, 54.86, 72.55, 61.8, 45.35, 66.22, 1.97, 'fine-tuned on domain-specific datasets', 'MistralForCausalLM', 'Original', 'bfloat16', False, 'apache-2.0', 14.22, 0, False, 'd231c07fea44298a7fa33f84a0179fb1d683a94d', False, False, 'jilp00/OpenHermes-Symbolic-Mistral-7B']\n"
     ]
    },
    {
     "name": "stderr",
     "output_type": "stream",
     "text": [
      "4227it [17:57,  3.89it/s]"
     ]
    },
    {
     "name": "stdout",
     "output_type": "stream",
     "text": [
      "Failed to fetch: ['💬', '<a target=\"_blank\" href=\"https://huggingface.co/WizardLM/WizardCoder-Python-34B-V1.0\" style=\"color: var(--link-text-color); text-decoration: underline;text-decoration-style: dotted;\">WizardLM/WizardCoder-Python-34B-V1.0</a>  <a target=\"_blank\" href=\"https://huggingface.co/datasets/open-llm-leaderboard/details_WizardLM__WizardCoder-Python-34B-V1.0\" style=\"color: var(--link-text-color); text-decoration: underline;text-decoration-style: dotted;\">📑</a>', 50.46, 52.13, 74.78, 49.15, 48.85, 68.35, 9.48, 'chat models (RLHF, DPO, IFT, ...)', 'LlamaForCausalLM', 'Original', '4bit', False, 'llama2', 34, 750, True, '5cdc34e4a81d202f1d4a3b5d60e028aab895dfeb', False, False, 'WizardLM/WizardCoder-Python-34B-V1.0']\n"
     ]
    },
    {
     "name": "stderr",
     "output_type": "stream",
     "text": [
      "4228it [17:57,  4.06it/s]"
     ]
    },
    {
     "name": "stdout",
     "output_type": "stream",
     "text": [
      "Failed to fetch: ['🔶', '<a target=\"_blank\" href=\"https://huggingface.co/jilp00/OpenHermes-Symbolic-Mistral-7B\" style=\"color: var(--link-text-color); text-decoration: underline;text-decoration-style: dotted;\">jilp00/OpenHermes-Symbolic-Mistral-7B</a>  <a target=\"_blank\" href=\"https://huggingface.co/datasets/open-llm-leaderboard/details_jilp00__OpenHermes-Symbolic-Mistral-7B\" style=\"color: var(--link-text-color); text-decoration: underline;text-decoration-style: dotted;\">📑</a>', 50.45, 54.78, 72.56, 61.96, 45.28, 66.22, 1.9, 'fine-tuned on domain-specific datasets', 'MistralForCausalLM', 'Original', 'float16', False, 'apache-2.0', 14.22, 0, False, 'd231c07fea44298a7fa33f84a0179fb1d683a94d', False, False, 'jilp00/OpenHermes-Symbolic-Mistral-7B']\n"
     ]
    },
    {
     "name": "stderr",
     "output_type": "stream",
     "text": [
      "4254it [18:03,  4.43it/s]"
     ]
    },
    {
     "name": "stdout",
     "output_type": "stream",
     "text": [
      "Failed to fetch: ['🤝', '<a target=\"_blank\" href=\"https://huggingface.co/TheSkullery/Aurora-V2-DLEC\" style=\"color: var(--link-text-color); text-decoration: underline;text-decoration-style: dotted;\">TheSkullery/Aurora-V2-DLEC</a>  <a target=\"_blank\" href=\"https://huggingface.co/datasets/open-llm-leaderboard/details_TheSkullery__Aurora-V2-DLEC\" style=\"color: var(--link-text-color); text-decoration: underline;text-decoration-style: dotted;\">📑</a>', 50.23, 47.7, 69.46, 52.68, 51.99, 69.61, 9.93, 'base merges and moerges', 'MistralForCausalLM', 'Original', 'float16', False, 'apache-2.0', 13.13, 0, False, 'af67dd0bf327bbf687a024d47095bc9dac6f6b58', False, False, 'TheSkullery/Aurora-V2-DLEC']\n"
     ]
    },
    {
     "name": "stderr",
     "output_type": "stream",
     "text": [
      "4256it [18:04,  3.70it/s]"
     ]
    },
    {
     "name": "stdout",
     "output_type": "stream",
     "text": [
      "Failed to fetch: ['🔶', '<a target=\"_blank\" href=\"https://huggingface.co/conceptofmind/LLongMA-2-13b-16k\" style=\"color: var(--link-text-color); text-decoration: underline;text-decoration-style: dotted;\">conceptofmind/LLongMA-2-13b-16k</a>  <a target=\"_blank\" href=\"https://huggingface.co/datasets/open-llm-leaderboard/details_conceptofmind__LLongMA-2-13b-16k\" style=\"color: var(--link-text-color); text-decoration: underline;text-decoration-style: dotted;\">📑</a>', 50.22, 54.27, 79.63, 50.97, 37.71, 72.77, 5.99, 'fine-tuned on domain-specific datasets', 'Unknown', 'Original', 'float16', False, '?', 13, 0, False, 'c2defe28e2f3f10460baf8f778b00986a53aa7a2', False, False, 'conceptofmind/LLongMA-2-13b-16k']\n"
     ]
    },
    {
     "name": "stderr",
     "output_type": "stream",
     "text": [
      "4262it [18:05,  4.58it/s]"
     ]
    },
    {
     "name": "stdout",
     "output_type": "stream",
     "text": [
      "Failed to fetch: ['🟢', '<a target=\"_blank\" href=\"https://huggingface.co/leonarad/hope_for_7b_1.1v\" style=\"color: var(--link-text-color); text-decoration: underline;text-decoration-style: dotted;\">leonarad/hope_for_7b_1.1v</a>  <a target=\"_blank\" href=\"https://huggingface.co/datasets/open-llm-leaderboard/details_leonarad__hope_for_7b_1.1v\" style=\"color: var(--link-text-color); text-decoration: underline;text-decoration-style: dotted;\">📑</a>', 50.19, 49.49, 75.08, 48.49, 40.26, 73.64, 14.18, 'pretrained', 'MistralForCausalLM', 'Original', 'float16', False, 'unknown', 7.24, 0, False, '30361b72ced8acd7cf96ddd136f70407d66ab92e', False, False, 'leonarad/hope_for_7b_1.1v']\n",
      "Failed to fetch: ['💬', '<a target=\"_blank\" href=\"https://huggingface.co/RatanRohith/SRBOSGPT-7B-slerp\" style=\"color: var(--link-text-color); text-decoration: underline;text-decoration-style: dotted;\">RatanRohith/SRBOSGPT-7B-slerp</a>  <a target=\"_blank\" href=\"https://huggingface.co/datasets/open-llm-leaderboard/details_RatanRohith__SRBOSGPT-7B-slerp\" style=\"color: var(--link-text-color); text-decoration: underline;text-decoration-style: dotted;\">📑</a>', 50.19, 49.15, 62.28, 61.95, 60.23, 66.54, 0.99, 'chat models (RLHF, DPO, IFT, ...)', 'MistralForCausalLM', 'Original', 'float16', False, '?', 7.24, 0, False, '037f68c68da7ff3f981534f6deec3c85e86a9a86', False, False, 'RatanRohith/SRBOSGPT-7B-slerp']\n"
     ]
    },
    {
     "name": "stderr",
     "output_type": "stream",
     "text": [
      "4265it [18:06,  4.55it/s]"
     ]
    },
    {
     "name": "stdout",
     "output_type": "stream",
     "text": [
      "Failed to fetch: ['🔶', '<a target=\"_blank\" href=\"https://huggingface.co/BFauber/lora_llama2-7b_10e5\" style=\"color: var(--link-text-color); text-decoration: underline;text-decoration-style: dotted;\">BFauber/lora_llama2-7b_10e5</a>  <a target=\"_blank\" href=\"https://huggingface.co/datasets/open-llm-leaderboard/details_BFauber__lora_llama2-7b_10e5\" style=\"color: var(--link-text-color); text-decoration: underline;text-decoration-style: dotted;\">📑</a>', 50.17, 53.84, 78.32, 46.16, 38.97, 73.16, 10.54, 'fine-tuned on domain-specific datasets', '?', 'Adapter', 'float16', False, 'apache-2.0', 7, 0, False, '43d9d3339870dfcce7a8775a2b4284c25dbeba66', False, False, 'BFauber/lora_llama2-7b_10e5']\n"
     ]
    },
    {
     "name": "stderr",
     "output_type": "stream",
     "text": [
      "4270it [18:07,  3.97it/s]"
     ]
    },
    {
     "name": "stdout",
     "output_type": "stream",
     "text": [
      "Failed to fetch: ['🔶', '<a target=\"_blank\" href=\"https://huggingface.co/conceptofmind/LLongMA-2-13b-16k\" style=\"color: var(--link-text-color); text-decoration: underline;text-decoration-style: dotted;\">conceptofmind/LLongMA-2-13b-16k</a>  <a target=\"_blank\" href=\"https://huggingface.co/datasets/open-llm-leaderboard/details_conceptofmind__LLongMA-2-13b-16k\" style=\"color: var(--link-text-color); text-decoration: underline;text-decoration-style: dotted;\">📑</a>', 50.09, 54.27, 79.66, 50.86, 37.68, 72.61, 5.46, 'fine-tuned on domain-specific datasets', 'Unknown', 'Original', 'bfloat16', False, '?', 13, 0, False, 'c2defe28e2f3f10460baf8f778b00986a53aa7a2', False, False, 'conceptofmind/LLongMA-2-13b-16k']\n"
     ]
    },
    {
     "name": "stderr",
     "output_type": "stream",
     "text": [
      "4282it [18:10,  3.88it/s]"
     ]
    },
    {
     "name": "stdout",
     "output_type": "stream",
     "text": [
      "Failed to fetch: ['🔶', '<a target=\"_blank\" href=\"https://huggingface.co/abdulrahman-nuzha/belal-finetuned-llama2-1024-v2.2\" style=\"color: var(--link-text-color); text-decoration: underline;text-decoration-style: dotted;\">abdulrahman-nuzha/belal-finetuned-llama2-1024-v2.2</a>  <a target=\"_blank\" href=\"https://huggingface.co/datasets/open-llm-leaderboard/details_abdulrahman-nuzha__belal-finetuned-llama2-1024-v2.2\" style=\"color: var(--link-text-color); text-decoration: underline;text-decoration-style: dotted;\">📑</a>', 49.96, 52.65, 77.81, 44.65, 40.02, 74.11, 10.54, 'fine-tuned on domain-specific datasets', 'LlamaForCausalLM', 'Original', '4bit', False, 'apache-2.0', 6.74, 0, True, '9981b2c54d1cbf0d7d11b0855e27dada1e99434c', False, False, 'abdulrahman-nuzha/belal-finetuned-llama2-1024-v2.2']\n"
     ]
    },
    {
     "name": "stderr",
     "output_type": "stream",
     "text": [
      "4287it [18:12,  4.44it/s]"
     ]
    },
    {
     "name": "stdout",
     "output_type": "stream",
     "text": [
      "Failed to fetch: ['🔶', '<a target=\"_blank\" href=\"https://huggingface.co/BFauber/lora_llama2-7b_10e6\" style=\"color: var(--link-text-color); text-decoration: underline;text-decoration-style: dotted;\">BFauber/lora_llama2-7b_10e6</a>  <a target=\"_blank\" href=\"https://huggingface.co/datasets/open-llm-leaderboard/details_BFauber__lora_llama2-7b_10e6\" style=\"color: var(--link-text-color); text-decoration: underline;text-decoration-style: dotted;\">📑</a>', 49.92, 53.41, 78.03, 46.07, 38.78, 73.01, 10.24, 'fine-tuned on domain-specific datasets', '?', 'Adapter', 'float16', False, 'apache-2.0', 7, 0, False, 'd355af2ca568135fe1a7fc403ac334345949f0d3', False, False, 'BFauber/lora_llama2-7b_10e6']\n"
     ]
    },
    {
     "name": "stderr",
     "output_type": "stream",
     "text": [
      "4292it [18:13,  4.13it/s]"
     ]
    },
    {
     "name": "stdout",
     "output_type": "stream",
     "text": [
      "Failed to fetch: ['💬', '<a target=\"_blank\" href=\"https://huggingface.co/PeanutJar/LLaMa-2-PeanutButter_v18_A-7B\" style=\"color: var(--link-text-color); text-decoration: underline;text-decoration-style: dotted;\">PeanutJar/LLaMa-2-PeanutButter_v18_A-7B</a>  <a target=\"_blank\" href=\"https://huggingface.co/datasets/open-llm-leaderboard/details_PeanutJar__LLaMa-2-PeanutButter_v18_A-7B\" style=\"color: var(--link-text-color); text-decoration: underline;text-decoration-style: dotted;\">📑</a>', 49.88, 53.16, 78.11, 45.54, 40.37, 74.9, 7.2, 'chat models (RLHF, DPO, IFT, ...)', 'Unknown', 'Original', 'float16', False, '?', 7, 0, False, '15b2fa81418792841014f589e61d1d9e30457040', False, False, 'PeanutJar/LLaMa-2-PeanutButter_v18_A-7B']\n"
     ]
    },
    {
     "name": "stderr",
     "output_type": "stream",
     "text": [
      "4301it [18:15,  4.47it/s]"
     ]
    },
    {
     "name": "stdout",
     "output_type": "stream",
     "text": [
      "Failed to fetch: ['🔶', '<a target=\"_blank\" href=\"https://huggingface.co/WizardLM/WizardMath-7B-V1.0\" style=\"color: var(--link-text-color); text-decoration: underline;text-decoration-style: dotted;\">WizardLM/WizardMath-7B-V1.0</a>  <a target=\"_blank\" href=\"https://huggingface.co/datasets/open-llm-leaderboard/details_WizardLM__WizardMath-7B-V1.0\" style=\"color: var(--link-text-color); text-decoration: underline;text-decoration-style: dotted;\">📑</a>', 49.78, 54.1, 79.55, 45.97, 43.65, 72.69, 2.73, 'fine-tuned on domain-specific datasets', 'LlamaForCausalLM', 'Original', 'float16', False, 'llama2', 7, 48, True, '06dbd3e0da08255c575e585cb82e0554c1d2707a', False, False, 'WizardLM/WizardMath-7B-V1.0']\n"
     ]
    },
    {
     "name": "stderr",
     "output_type": "stream",
     "text": [
      "4305it [18:16,  3.73it/s]"
     ]
    },
    {
     "name": "stdout",
     "output_type": "stream",
     "text": [
      "Failed to fetch: ['🔶', '<a target=\"_blank\" href=\"https://huggingface.co/undi95/llama2-to-mistral-diff\" style=\"color: var(--link-text-color); text-decoration: underline;text-decoration-style: dotted;\">undi95/llama2-to-mistral-diff</a>  <a target=\"_blank\" href=\"https://huggingface.co/datasets/open-llm-leaderboard/details_undi95__llama2-to-mistral-diff\" style=\"color: var(--link-text-color); text-decoration: underline;text-decoration-style: dotted;\">📑</a>', 49.78, 53.41, 78.56, 46.43, 38.71, 74.03, 7.51, 'fine-tuned on domain-specific datasets', 'Unknown', 'Adapter', 'bfloat16', False, '?', 0, 0, False, '16c279c5e7d12b8a6ff7771881808ef253a406b9', False, False, 'undi95/llama2-to-mistral-diff']\n"
     ]
    },
    {
     "name": "stderr",
     "output_type": "stream",
     "text": [
      "4312it [18:18,  4.10it/s]"
     ]
    },
    {
     "name": "stdout",
     "output_type": "stream",
     "text": [
      "Failed to fetch: ['🔶', '<a target=\"_blank\" href=\"https://huggingface.co/bongchoi/test-llama2-7b\" style=\"color: var(--link-text-color); text-decoration: underline;text-decoration-style: dotted;\">bongchoi/test-llama2-7b</a>  <a target=\"_blank\" href=\"https://huggingface.co/datasets/open-llm-leaderboard/details_bongchoi__test-llama2-7b\" style=\"color: var(--link-text-color); text-decoration: underline;text-decoration-style: dotted;\">📑</a>', 49.73, 53.07, 78.57, 46.86, 38.75, 74.03, 7.13, 'fine-tuned on domain-specific datasets', 'Unknown', 'Original', 'float16', False, '?', 7, 0, False, 'ebe2e68699cb7ab6bb22688f265c89be2ac0fa6d', False, False, 'bongchoi/test-llama2-7b']\n"
     ]
    },
    {
     "name": "stderr",
     "output_type": "stream",
     "text": [
      "4325it [18:21,  4.29it/s]"
     ]
    },
    {
     "name": "stdout",
     "output_type": "stream",
     "text": [
      "Failed to fetch: ['🔶', '<a target=\"_blank\" href=\"https://huggingface.co/abdulrahman-nuzha/finetuned-llama-v2.0\" style=\"color: var(--link-text-color); text-decoration: underline;text-decoration-style: dotted;\">abdulrahman-nuzha/finetuned-llama-v2.0</a>  <a target=\"_blank\" href=\"https://huggingface.co/datasets/open-llm-leaderboard/details_abdulrahman-nuzha__finetuned-llama-v2.0\" style=\"color: var(--link-text-color); text-decoration: underline;text-decoration-style: dotted;\">📑</a>', 49.67, 53.16, 77.75, 43.69, 39.08, 74.43, 9.93, 'fine-tuned on domain-specific datasets', 'LlamaForCausalLM', 'Original', '4bit', False, 'apache-2.0', 0, 0, True, '9ffa847a1a0b229ea9c218e865bcf20f78556a8e', False, False, 'abdulrahman-nuzha/finetuned-llama-v2.0']\n"
     ]
    },
    {
     "name": "stderr",
     "output_type": "stream",
     "text": [
      "4363it [18:30,  4.57it/s]"
     ]
    },
    {
     "name": "stdout",
     "output_type": "stream",
     "text": [
      "Failed to fetch: ['🔶', '<a target=\"_blank\" href=\"https://huggingface.co/namirocks/mistral-tutor-model-7b-ep3\" style=\"color: var(--link-text-color); text-decoration: underline;text-decoration-style: dotted;\">namirocks/mistral-tutor-model-7b-ep3</a>  <a target=\"_blank\" href=\"https://huggingface.co/datasets/open-llm-leaderboard/details_namirocks__mistral-tutor-model-7b-ep3\" style=\"color: var(--link-text-color); text-decoration: underline;text-decoration-style: dotted;\">📑</a>', 49.29, 49.32, 76.93, 49.07, 47.73, 72.69, 0, 'fine-tuned on domain-specific datasets', 'MistralForCausalLM', 'Original', 'bfloat16', False, 'llama2', 7.24, 0, False, '17fd803a0b6a2d94e0467882728b4df35c294abb', False, False, 'namirocks/mistral-tutor-model-7b-ep3']\n"
     ]
    },
    {
     "name": "stderr",
     "output_type": "stream",
     "text": [
      "4370it [18:32,  4.57it/s]"
     ]
    },
    {
     "name": "stdout",
     "output_type": "stream",
     "text": [
      "Failed to fetch: ['🔶', '<a target=\"_blank\" href=\"https://huggingface.co/KnutJaegersberg/YaYi-30b-EverythingLM\" style=\"color: var(--link-text-color); text-decoration: underline;text-decoration-style: dotted;\">KnutJaegersberg/YaYi-30b-EverythingLM</a>  <a target=\"_blank\" href=\"https://huggingface.co/datasets/open-llm-leaderboard/details_KnutJaegersberg__YaYi-30b-EverythingLM\" style=\"color: var(--link-text-color); text-decoration: underline;text-decoration-style: dotted;\">📑</a>', 49.19, 37.97, 61.05, 69.63, 49.74, 62.83, 13.95, 'fine-tuned on domain-specific datasets', 'LlamaForCausalLM', 'Original', 'float16', False, 'other', 30.4, 0, False, '5e1c06e0d4c54df59355b6d2fb4e868bf8922346', False, False, 'KnutJaegersberg/YaYi-30b-EverythingLM']\n"
     ]
    },
    {
     "name": "stderr",
     "output_type": "stream",
     "text": [
      "4407it [18:41,  3.90it/s]"
     ]
    },
    {
     "name": "stdout",
     "output_type": "stream",
     "text": [
      "Failed to fetch: ['🔶', '<a target=\"_blank\" href=\"https://huggingface.co/namirocks/student-model-13b-ep3\" style=\"color: var(--link-text-color); text-decoration: underline;text-decoration-style: dotted;\">namirocks/student-model-13b-ep3</a>  <a target=\"_blank\" href=\"https://huggingface.co/datasets/open-llm-leaderboard/details_namirocks__student-model-13b-ep3\" style=\"color: var(--link-text-color); text-decoration: underline;text-decoration-style: dotted;\">📑</a>', 48.52, 46.5, 80.36, 57.06, 35, 72.22, 0, 'fine-tuned on domain-specific datasets', 'LlamaForCausalLM', 'Original', 'float16', False, 'mit', 13, 0, False, '1f21e9d0506e908a10d5e611d5f1c022fdee6585', False, False, 'namirocks/student-model-13b-ep3']\n"
     ]
    },
    {
     "name": "stderr",
     "output_type": "stream",
     "text": [
      "4427it [18:47,  3.23it/s]"
     ]
    },
    {
     "name": "stdout",
     "output_type": "stream",
     "text": [
      "Failed to fetch: ['🔶', '<a target=\"_blank\" href=\"https://huggingface.co/mayacinka/frankencup-dpo\" style=\"color: var(--link-text-color); text-decoration: underline;text-decoration-style: dotted;\">mayacinka/frankencup-dpo</a>  <a target=\"_blank\" href=\"https://huggingface.co/datasets/open-llm-leaderboard/details_mayacinka__frankencup-dpo\" style=\"color: var(--link-text-color); text-decoration: underline;text-decoration-style: dotted;\">📑</a>', 48.26, 42.66, 60.55, 62.21, 50.72, 73.4, 0, 'fine-tuned on domain-specific datasets', 'MistralForCausalLM', 'Original', 'bfloat16', False, 'apache-2.0', 14.22, 0, False, '9248c7340053361655743f40acd4b9c1b5d0815d', False, False, 'mayacinka/frankencup-dpo']\n"
     ]
    },
    {
     "name": "stderr",
     "output_type": "stream",
     "text": [
      "4467it [18:56,  4.57it/s]"
     ]
    },
    {
     "name": "stdout",
     "output_type": "stream",
     "text": [
      "Failed to fetch: ['🔶', '<a target=\"_blank\" href=\"https://huggingface.co/bigcode/starcoderplus\" style=\"color: var(--link-text-color); text-decoration: underline;text-decoration-style: dotted;\">bigcode/starcoderplus</a>  <a target=\"_blank\" href=\"https://huggingface.co/datasets/open-llm-leaderboard/details_bigcode__starcoderplus\" style=\"color: var(--link-text-color); text-decoration: underline;text-decoration-style: dotted;\">📑</a>', 47.61, 48.72, 77.3, 43.72, 37.85, 70.01, 8.04, 'fine-tuned on domain-specific datasets', 'GPTBigCodeForCausalLM', 'Original', 'float16', False, None, 0, 211, False, '95be82087c33f14ee9941c812a154a9dd66efe72', False, False, 'bigcode/starcoderplus']\n"
     ]
    },
    {
     "name": "stderr",
     "output_type": "stream",
     "text": [
      "4469it [18:57,  4.73it/s]"
     ]
    },
    {
     "name": "stdout",
     "output_type": "stream",
     "text": [
      "Failed to fetch: ['🔶', '<a target=\"_blank\" href=\"https://huggingface.co/Tensoic/Kan-Llama-SFT-v0.5\" style=\"color: var(--link-text-color); text-decoration: underline;text-decoration-style: dotted;\">Tensoic/Kan-Llama-SFT-v0.5</a>  <a target=\"_blank\" href=\"https://huggingface.co/datasets/open-llm-leaderboard/details_Tensoic__Kan-Llama-SFT-v0.5\" style=\"color: var(--link-text-color); text-decoration: underline;text-decoration-style: dotted;\">📑</a>', 47.56, 47.44, 72.71, 42.71, 47.44, 69.69, 5.38, 'fine-tuned on domain-specific datasets', 'LlamaForCausalLM', 'Original', 'float16', False, 'cc-by-nc-4.0', 6.88, 0, False, '6307576da2b462571e804356a4b96803f56197d7', False, False, 'Tensoic/Kan-Llama-SFT-v0.5']\n"
     ]
    },
    {
     "name": "stderr",
     "output_type": "stream",
     "text": [
      "4477it [18:59,  3.02it/s]"
     ]
    },
    {
     "name": "stdout",
     "output_type": "stream",
     "text": [
      "Failed to fetch: ['🔶', '<a target=\"_blank\" href=\"https://huggingface.co/luffycodes/vicuna-shishya-7b-ep3-v1\" style=\"color: var(--link-text-color); text-decoration: underline;text-decoration-style: dotted;\">luffycodes/vicuna-shishya-7b-ep3-v1</a>  <a target=\"_blank\" href=\"https://huggingface.co/datasets/open-llm-leaderboard/details_luffycodes__vicuna-shishya-7b-ep3-v1\" style=\"color: var(--link-text-color); text-decoration: underline;text-decoration-style: dotted;\">📑</a>', 47.4, 45.9, 76.36, 50.04, 40.32, 71.74, 0, 'fine-tuned on domain-specific datasets', 'Unknown', 'Original', 'bfloat16', False, '?', 6.61, 0, False, '082cf758aa3f6d8f956056003b5b3b6cde447d88', False, False, 'luffycodes/vicuna-shishya-7b-ep3-v1']\n"
     ]
    },
    {
     "name": "stderr",
     "output_type": "stream",
     "text": [
      "4478it [18:59,  3.36it/s]"
     ]
    },
    {
     "name": "stdout",
     "output_type": "stream",
     "text": [
      "Failed to fetch: ['🔶', '<a target=\"_blank\" href=\"https://huggingface.co/jxhong/CAlign-alpaca-7b\" style=\"color: var(--link-text-color); text-decoration: underline;text-decoration-style: dotted;\">jxhong/CAlign-alpaca-7b</a>  <a target=\"_blank\" href=\"https://huggingface.co/datasets/open-llm-leaderboard/details_jxhong__CAlign-alpaca-7b\" style=\"color: var(--link-text-color); text-decoration: underline;text-decoration-style: dotted;\">📑</a>', 47.39, 50.94, 74.55, 38.56, 46.89, 72.06, 1.36, 'fine-tuned on domain-specific datasets', 'LlamaForCausalLM', 'Original', 'bfloat16', False, 'cc-by-nc-4.0', 7, 0, False, 'f5cc642a10160a014e2afeefcd57d4781994c51e', False, False, 'jxhong/CAlign-alpaca-7b']\n"
     ]
    },
    {
     "name": "stderr",
     "output_type": "stream",
     "text": [
      "4482it [19:00,  4.26it/s]"
     ]
    },
    {
     "name": "stdout",
     "output_type": "stream",
     "text": [
      "Failed to fetch: ['🔶', '<a target=\"_blank\" href=\"https://huggingface.co/BarraHome/LLaMarada-7B-v0.1-16bit\" style=\"color: var(--link-text-color); text-decoration: underline;text-decoration-style: dotted;\">BarraHome/LLaMarada-7B-v0.1-16bit</a>  <a target=\"_blank\" href=\"https://huggingface.co/datasets/open-llm-leaderboard/details_BarraHome__LLaMarada-7B-v0.1-16bit\" style=\"color: var(--link-text-color); text-decoration: underline;text-decoration-style: dotted;\">📑</a>', 47.35, 53.33, 76.02, 39.68, 37.13, 70.96, 6.97, 'fine-tuned on domain-specific datasets', 'LlamaForCausalLM', 'Original', 'float16', False, 'apache-2.0', 6.74, 0, False, '3ad8fb00e2646d606fe53989de8d7449b6c542b3', False, False, 'BarraHome/LLaMarada-7B-v0.1-16bit']\n"
     ]
    },
    {
     "name": "stderr",
     "output_type": "stream",
     "text": [
      "4490it [19:03,  3.75it/s]"
     ]
    },
    {
     "name": "stdout",
     "output_type": "stream",
     "text": [
      "Failed to fetch: ['🔶', '<a target=\"_blank\" href=\"https://huggingface.co/Sao10K/Shiki-v2-m7\" style=\"color: var(--link-text-color); text-decoration: underline;text-decoration-style: dotted;\">Sao10K/Shiki-v2-m7</a>  <a target=\"_blank\" href=\"https://huggingface.co/datasets/open-llm-leaderboard/details_Sao10K__Shiki-v2-m7\" style=\"color: var(--link-text-color); text-decoration: underline;text-decoration-style: dotted;\">📑</a>', 47.21, 47.35, 51.71, 62.62, 61.98, 59.27, 0.3, 'fine-tuned on domain-specific datasets', 'MistralForCausalLM', 'Original', 'bfloat16', False, 'cc-by-nc-4.0', 7.24, 0, False, '4a635851e435669456ef761b134f53a6accee259', False, False, 'Sao10K/Shiki-v2-m7']\n"
     ]
    },
    {
     "name": "stderr",
     "output_type": "stream",
     "text": [
      "4501it [19:06,  3.62it/s]"
     ]
    },
    {
     "name": "stdout",
     "output_type": "stream",
     "text": [
      "Failed to fetch: ['🔶', '<a target=\"_blank\" href=\"https://huggingface.co/notstoic/PygmalionCoT-7b\" style=\"color: var(--link-text-color); text-decoration: underline;text-decoration-style: dotted;\">notstoic/PygmalionCoT-7b</a>  <a target=\"_blank\" href=\"https://huggingface.co/datasets/open-llm-leaderboard/details_notstoic__PygmalionCoT-7b\" style=\"color: var(--link-text-color); text-decoration: underline;text-decoration-style: dotted;\">📑</a>', 47, 51.45, 76.92, 33.35, 48.13, 68.9, 3.26, 'fine-tuned on domain-specific datasets', 'LlamaForCausalLM', 'Original', 'float16', False, 'other', 6.74, 0, False, 'c03ac527360663d17bb142405251028eec843ed9', False, False, 'notstoic/PygmalionCoT-7b']\n"
     ]
    },
    {
     "name": "stderr",
     "output_type": "stream",
     "text": [
      "4527it [19:12,  4.37it/s]"
     ]
    },
    {
     "name": "stdout",
     "output_type": "stream",
     "text": [
      "Failed to fetch: ['🟢', '<a target=\"_blank\" href=\"https://huggingface.co/google/gemma-2b\" style=\"color: var(--link-text-color); text-decoration: underline;text-decoration-style: dotted;\">google/gemma-2b</a>  <a target=\"_blank\" href=\"https://huggingface.co/datasets/open-llm-leaderboard/details_google__gemma-2b\" style=\"color: var(--link-text-color); text-decoration: underline;text-decoration-style: dotted;\">📑</a>', 46.51, 48.46, 71.65, 41.68, 33.13, 66.77, 17.36, 'pretrained', 'Unknown', 'Original', 'bfloat16', False, 'gemma', 2.51, 653, True, 'b903623f4be99493dba7e415a6f6c7c609ecf674', False, False, 'google/gemma-2b']\n"
     ]
    },
    {
     "name": "stderr",
     "output_type": "stream",
     "text": [
      "4538it [19:16,  2.92it/s]"
     ]
    },
    {
     "name": "stdout",
     "output_type": "stream",
     "text": [
      "Failed to fetch: ['🟢', '<a target=\"_blank\" href=\"https://huggingface.co/google/gemma-2b\" style=\"color: var(--link-text-color); text-decoration: underline;text-decoration-style: dotted;\">google/gemma-2b</a>  <a target=\"_blank\" href=\"https://huggingface.co/datasets/open-llm-leaderboard/details_google__gemma-2b\" style=\"color: var(--link-text-color); text-decoration: underline;text-decoration-style: dotted;\">📑</a>', 46.37, 48.38, 71.77, 41.77, 33.08, 66.3, 16.91, 'pretrained', 'GemmaForCausalLM', 'Original', 'float16', False, 'gemma', 2.51, 653, True, '9d067f00def958594aaa16b39a65b07d69ca655b', False, False, 'google/gemma-2b']\n"
     ]
    },
    {
     "name": "stderr",
     "output_type": "stream",
     "text": [
      "4585it [19:28,  4.46it/s]"
     ]
    },
    {
     "name": "stdout",
     "output_type": "stream",
     "text": [
      "Failed to fetch: ['🟢', '<a target=\"_blank\" href=\"https://huggingface.co/huggingface/llama-7b\" style=\"color: var(--link-text-color); text-decoration: underline;text-decoration-style: dotted;\">huggingface/llama-7b</a>  <a target=\"_blank\" href=\"https://huggingface.co/datasets/open-llm-leaderboard/details_huggingface__llama-7b\" style=\"color: var(--link-text-color); text-decoration: underline;text-decoration-style: dotted;\">📑</a>', 45.65, 51.02, 77.82, 35.71, 34.33, 71.43, 3.56, 'pretrained', 'LlamaForCausalLM', 'Original', 'float16', False, 'other', 6.74, 0, False, 'f356572651e58fb337d610470d4b36976e7fb802', False, False, 'huggingface/llama-7b']\n"
     ]
    },
    {
     "name": "stderr",
     "output_type": "stream",
     "text": [
      "4595it [19:31,  3.36it/s]"
     ]
    },
    {
     "name": "stdout",
     "output_type": "stream",
     "text": [
      "Failed to fetch: ['🔶', '<a target=\"_blank\" href=\"https://huggingface.co/namirocks/mistral-shishya-model-7b-ep3\" style=\"color: var(--link-text-color); text-decoration: underline;text-decoration-style: dotted;\">namirocks/mistral-shishya-model-7b-ep3</a>  <a target=\"_blank\" href=\"https://huggingface.co/datasets/open-llm-leaderboard/details_namirocks__mistral-shishya-model-7b-ep3\" style=\"color: var(--link-text-color); text-decoration: underline;text-decoration-style: dotted;\">📑</a>', 45.53, 44.71, 76.81, 46.77, 33.87, 71.03, 0, 'fine-tuned on domain-specific datasets', 'MistralForCausalLM', 'Original', 'bfloat16', False, 'llama2', 7.24, 0, False, 'ff7ee1544ff0d270c81146e9c9b681202bcf59be', False, False, 'namirocks/mistral-shishya-model-7b-ep3']\n"
     ]
    },
    {
     "name": "stderr",
     "output_type": "stream",
     "text": [
      "4598it [19:32,  3.48it/s]"
     ]
    },
    {
     "name": "stdout",
     "output_type": "stream",
     "text": [
      "Failed to fetch: ['🔶', '<a target=\"_blank\" href=\"https://huggingface.co/jisukim8873/falcon-7B-case-5\" style=\"color: var(--link-text-color); text-decoration: underline;text-decoration-style: dotted;\">jisukim8873/falcon-7B-case-5</a>  <a target=\"_blank\" href=\"https://huggingface.co/datasets/open-llm-leaderboard/details_jisukim8873__falcon-7B-case-5\" style=\"color: var(--link-text-color); text-decoration: underline;text-decoration-style: dotted;\">📑</a>', 45.46, 48.38, 78.51, 29.52, 36.03, 71.82, 8.49, 'fine-tuned on domain-specific datasets', 'FalconForCausalLM', 'Original', 'float16', False, 'apache-2.0', 6.92, 0, True, '7dc60a92b8836324e45efe6e6a769bdf5b964539', False, False, 'jisukim8873/falcon-7B-case-5']\n"
     ]
    },
    {
     "name": "stderr",
     "output_type": "stream",
     "text": [
      "4635it [19:40,  4.53it/s]"
     ]
    },
    {
     "name": "stdout",
     "output_type": "stream",
     "text": [
      "Failed to fetch: ['🔶', '<a target=\"_blank\" href=\"https://huggingface.co/gmonsoon/Qwenchana-4B-restart-OH\" style=\"color: var(--link-text-color); text-decoration: underline;text-decoration-style: dotted;\">gmonsoon/Qwenchana-4B-restart-OH</a>  <a target=\"_blank\" href=\"https://huggingface.co/datasets/open-llm-leaderboard/details_gmonsoon__Qwenchana-4B-restart-OH\" style=\"color: var(--link-text-color); text-decoration: underline;text-decoration-style: dotted;\">📑</a>', 44.96, 45.31, 70.42, 37.93, 37.68, 66.85, 11.6, 'fine-tuned on domain-specific datasets', 'Qwen2ForCausalLM', 'Original', 'bfloat16', False, 'other', 3.95, 0, False, '335319112c7100f8a8b7d54986859157e477b129', False, False, 'gmonsoon/Qwenchana-4B-restart-OH']\n"
     ]
    },
    {
     "name": "stderr",
     "output_type": "stream",
     "text": [
      "4646it [19:43,  4.45it/s]"
     ]
    },
    {
     "name": "stderr",
     "output_type": "stream",
     "text": [
      "4649it [19:44,  4.57it/s]"
     ]
    }
   ],
   "source": [
    "repo_data = {\n",
    "    \"name\": [],\n",
    "    \"author\": [],\n",
    "    \"created_at\": [],\n",
    "    \"last_modified\": [],\n",
    "    \"downloads\": [],\n",
    "    \"library_name\": [],\n",
    "    \"tags\": [],\n",
    "    \"language\": [],\n",
    "    \"datasets\": [],\n",
    "    \"base_model\": [],\n",
    "}\n",
    "for (index, model) in tqdm(enumerate(model_data), total=len(model_data)):\n",
    "    try:\n",
    "      repo = api.repo_info(model_data[index][-1])\n",
    "    except:\n",
    "        print(f\"Failed to fetch: {model_data[index][-1]}\")\n",
    "    \n",
    "    if repo.private or repo.gated:\n",
    "        print(f\"Repo {model_data[index][-1]} is private or gated, skipping...\")\n",
    "        continue\n",
    "\n",
    "    repo_data[\"created_at\"].append(getattr(repo, 'created_at', 'unknown'))\n",
    "    repo_data[\"last_modified\"].append(getattr(repo, 'last_modified', 'unknown'))\n",
    "    repo_data[\"downloads\"].append(getattr(repo, 'downloads', 'unknown'))\n",
    "    repo_data[\"library_name\"].append(getattr(repo, 'library_name', 'unknown'))\n",
    "    repo_data[\"tags\"].append(getattr(repo, 'tags', 'unknown'))\n",
    "    \n",
    "    # Accessing nested attributes in 'card_data'\n",
    "    repo_data[\"language\"].append(getattr(repo.card_data, 'language', 'unknown') if hasattr(repo, 'card_data') else 'unknown')\n",
    "    repo_data[\"datasets\"].append(getattr(repo.card_data, 'datasets', 'unknown') if hasattr(repo, 'card_data') else 'unknown')\n",
    "    repo_data[\"base_model\"].append(getattr(repo.card_data, 'base_model', 'unknown') if hasattr(repo, 'card_data') else 'unknown')\n",
    "\n",
    "    time.sleep(0.5)\n",
    "\n",
    "\n",
    "\n",
    "\n",
    "df = pd.DataFrame.from_dict(repo_data)"
   ]
  }
 ],
 "metadata": {
  "kernelspec": {
   "display_name": "Python 3",
   "language": "python",
   "name": "python3"
  },
  "language_info": {
   "codemirror_mode": {
    "name": "ipython",
    "version": 3
   },
   "file_extension": ".py",
   "mimetype": "text/x-python",
   "name": "python",
   "nbconvert_exporter": "python",
   "pygments_lexer": "ipython3",
   "version": "3.10.12"
  },
  "orig_nbformat": 4
 },
 "nbformat": 4,
 "nbformat_minor": 2
}
